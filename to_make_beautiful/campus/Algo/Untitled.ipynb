{
 "cells": [
  {
   "cell_type": "code",
   "execution_count": 1,
   "id": "39c780ad-0662-4265-9333-03a596d905a2",
   "metadata": {
    "tags": []
   },
   "outputs": [
    {
     "name": "stdout",
     "output_type": "stream",
     "text": [
      "59.1 µs ± 29.5 ns per loop (mean ± std. dev. of 7 runs, 10,000 loops each)\n",
      "Execution time in microseconds: 59.06582289971993\n",
      "Timing results list: [59.06582289971993]\n"
     ]
    }
   ],
   "source": [
    "def example_function():\n",
    "    total = 0\n",
    "    for i in range(1000):\n",
    "        total += i\n",
    "    return total\n",
    "\n",
    "# List to store the output times in microseconds\n",
    "timing_results = []\n",
    "\n",
    "# Measure the execution time using %timeit and store the result object\n",
    "result = %timeit -o example_function()\n",
    "\n",
    "# Convert the best time to microseconds and save it to the list\n",
    "best_time_microseconds = result.best * 1e6\n",
    "timing_results.append(best_time_microseconds)\n",
    "\n",
    "print(f\"Execution time in microseconds: {best_time_microseconds}\")\n",
    "print(f\"Timing results list: {timing_results}\")"
   ]
  },
  {
   "cell_type": "code",
   "execution_count": null,
   "id": "225bf465-804e-49bc-837c-c7d3976d58cf",
   "metadata": {},
   "outputs": [],
   "source": []
  }
 ],
 "metadata": {
  "kernelspec": {
   "display_name": "Python 3 (ipykernel)",
   "language": "python",
   "name": "python3"
  },
  "language_info": {
   "codemirror_mode": {
    "name": "ipython",
    "version": 3
   },
   "file_extension": ".py",
   "mimetype": "text/x-python",
   "name": "python",
   "nbconvert_exporter": "python",
   "pygments_lexer": "ipython3",
   "version": "3.11.7"
  }
 },
 "nbformat": 4,
 "nbformat_minor": 5
}
