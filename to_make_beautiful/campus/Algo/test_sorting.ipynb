{
 "cells": [
  {
   "cell_type": "code",
   "execution_count": 10,
   "id": "e9358b96-05c5-4aed-8236-2dc1d6fb2c4e",
   "metadata": {
    "tags": []
   },
   "outputs": [],
   "source": [
    "import sorting"
   ]
  },
  {
   "cell_type": "code",
   "execution_count": 11,
   "id": "4409f0d4-fd95-41d1-b8ed-b7b8b45ec5fa",
   "metadata": {
    "tags": []
   },
   "outputs": [],
   "source": [
    "import random\n",
    "\n",
    "def generate_random_array(debug=False, N=21):\n",
    "    if debug:\n",
    "        return [3, 9, 7, 1, 6, 2, 8, 4, 5, 0]\n",
    "        # return[0,3, 7, 1, 6, 2, 8, 4, 5, 9]\n",
    "        # return [49, 37, 0, 1, 34, 27, 43, 41, 13, 23, 42, 36, 40, 19, 47, 45, 17, 32, 2, 44, 3, 9, 4, 39, 46, 48, 22, 30, 11, 10, 15, 33, 16, 5, 24, 12, 29, 14, 26, 7, 20, 6, 28, 8, 21, 35, 25, 38, 31, 18]\n",
    "\n",
    "\n",
    "    array = list(range(0, N))\n",
    "    random.shuffle(array)\n",
    "\n",
    "    return array"
   ]
  },
  {
   "cell_type": "code",
   "execution_count": 12,
   "id": "a117b268-7baa-4313-beeb-0b2f020cd392",
   "metadata": {
    "tags": []
   },
   "outputs": [
    {
     "data": {
      "text/plain": [
       "[13, 0, 3, 6, 2, 18, 10, 15, 20, 11, 4, 12, 19, 1, 7, 8, 17, 16, 9, 14, 5]"
      ]
     },
     "execution_count": 12,
     "metadata": {},
     "output_type": "execute_result"
    }
   ],
   "source": [
    "lst = generate_random_array()\n",
    "lst"
   ]
  },
  {
   "cell_type": "code",
   "execution_count": 13,
   "id": "a8b84d6e-2425-4c00-ba13-ee1544ac94bd",
   "metadata": {
    "tags": []
   },
   "outputs": [
    {
     "data": {
      "text/plain": [
       "[0, 1, 2, 3, 4, 5, 6, 7, 8, 9, 10, 11, 12, 13, 14, 15, 16, 17, 18, 19, 20]"
      ]
     },
     "execution_count": 13,
     "metadata": {},
     "output_type": "execute_result"
    }
   ],
   "source": [
    "sorting.merge_sort(lst)\n",
    "lst"
   ]
  },
  {
   "cell_type": "code",
   "execution_count": 101,
   "id": "9e85d467-213c-4d98-9983-c53e9d76f128",
   "metadata": {},
   "outputs": [],
   "source": [
    "list_of_lists = [generate_random_array(N=i) for i in range(10,10000,10)]"
   ]
  },
  {
   "cell_type": "code",
   "execution_count": null,
   "id": "d332ca4c-28a6-40c1-b96d-2a7a6183613c",
   "metadata": {
    "tags": []
   },
   "outputs": [],
   "source": []
  },
  {
   "cell_type": "code",
   "execution_count": 55,
   "id": "69b855a3-5378-462d-a655-3308217a355c",
   "metadata": {
    "tags": []
   },
   "outputs": [],
   "source": [
    "import copy\n",
    "\n",
    "list_of_lists_copy = copy.deepcopy(list_of_lists)"
   ]
  },
  {
   "cell_type": "code",
   "execution_count": null,
   "id": "57b9bc55-12fe-4cff-a58d-076ca6442069",
   "metadata": {
    "tags": []
   },
   "outputs": [],
   "source": []
  },
  {
   "cell_type": "code",
   "execution_count": 56,
   "id": "fd521bb3-815b-4e90-8c28-7c3bc08c6c1c",
   "metadata": {
    "tags": []
   },
   "outputs": [],
   "source": [
    "def calc_time(lst_lst, method):\n",
    "    result = []\n",
    "    # print(lst_lst)\n",
    "    for i in lst_lst:\n",
    "        to_append = %timeit -n 1 -r 1 -q -o -p 6 method(i) \n",
    "        result.append(to_append.best * 1e6)\n",
    "    return result"
   ]
  },
  {
   "cell_type": "code",
   "execution_count": 57,
   "id": "224cda71-7166-4a06-98a7-83762dff6f8b",
   "metadata": {
    "tags": []
   },
   "outputs": [],
   "source": [
    "result_merge = calc_time(list_of_lists, sorting.merge_sort)\n",
    "list_of_lists = copy.deepcopy(list_of_lists_copy)"
   ]
  },
  {
   "cell_type": "code",
   "execution_count": 103,
   "id": "1e0db628-9aaa-49b5-bdc3-f8b25dd189b3",
   "metadata": {
    "tags": []
   },
   "outputs": [],
   "source": [
    "result_quick = calc_time(list_of_lists, sorting.quick_sort)\n",
    "list_of_lists = copy.deepcopy(list_of_lists_copy)"
   ]
  },
  {
   "cell_type": "code",
   "execution_count": 59,
   "id": "d519d9fe-cb4a-4664-8ff3-f34372d72b53",
   "metadata": {
    "tags": []
   },
   "outputs": [],
   "source": [
    "result_bubble = calc_time(list_of_lists, sorting.bubble_sort)\n",
    "list_of_lists = copy.deepcopy(list_of_lists_copy)"
   ]
  },
  {
   "cell_type": "code",
   "execution_count": 60,
   "id": "db623dc4-db43-4e27-91f5-be55271ddbc3",
   "metadata": {},
   "outputs": [],
   "source": [
    "result_selection = calc_time(list_of_lists, sorting.selection_sort)\n",
    "list_of_lists = copy.deepcopy(list_of_lists_copy)"
   ]
  },
  {
   "cell_type": "code",
   "execution_count": null,
   "id": "af341d94-c8c1-4bc2-b194-7ea39b0c0e6d",
   "metadata": {},
   "outputs": [],
   "source": [
    "result_insertion = calc_time(list_of_lists, sorting.insertion_sort)\n",
    "list_of_lists = copy.deepcopy(list_of_lists_copy)"
   ]
  },
  {
   "cell_type": "code",
   "execution_count": 62,
   "id": "a00faf7e-53e4-496f-846b-f159d5ecc7c1",
   "metadata": {
    "tags": []
   },
   "outputs": [],
   "source": [
    "def remove_non_numeric(string):\n",
    "    # Define the regex pattern to match anything that's not a digit or a decimal point\n",
    "    pattern = r'[^0-9.]'\n",
    "    # Use re.sub() to replace all matching characters with an empty string\n",
    "    result = re.sub(pattern, '', string)\n",
    "    return result"
   ]
  },
  {
   "cell_type": "code",
   "execution_count": 63,
   "id": "ddf82cf1-116f-46fa-9fa5-2c518cf48723",
   "metadata": {
    "tags": []
   },
   "outputs": [],
   "source": [
    "import re"
   ]
  },
  {
   "cell_type": "code",
   "execution_count": 64,
   "id": "f94f77a7-f8db-4373-9fba-9feaf251bd95",
   "metadata": {
    "tags": []
   },
   "outputs": [
    {
     "data": {
      "image/png": "[encoded data removed]",
      "text/plain": [
       "<Figure size 640x480 with 1 Axes>"
      ]
     },
     "metadata": {},
     "output_type": "display_data"
    }
   ],
   "source": [
    "import matplotlib.pyplot as plt\n",
    "\n",
    "y = [result_merge[i] for i in range(len(result_merge))]\n",
    "x = [len(i) for i in list_of_lists]\n",
    "\n",
    "y_quick = [result_quick[i] for i in range(len(result_quick))]\n",
    "y_bubble = [result_bubble[i] for i in range(len(result_bubble))]\n",
    "y_selection = [result_selection[i] for i in range(len(result_selection))]\n",
    "y_insertion = [result_insertion[i] for i in range(len(result_insertion))]\n",
    "\n",
    "plt.scatter(x,y,marker=\".\")\n",
    "plt.scatter(x,y_quick,marker='+')\n",
    "plt.scatter(x,y_bubble,marker=\"x\")\n",
    "plt.scatter(x,y_selection,marker=\"2\")\n",
    "plt.scatter(x,y_insertion,marker=\"*\")\n",
    "# plt.xticks(rotation=45)\n",
    "plt.xlabel('List size')\n",
    "plt.ylabel('Microseconds')\n",
    "# plt.xlim(0,10)\n",
    "# plt.ylim(0,200)\n",
    "plt.legend(['Merge','Quick', 'Bubble', 'Selection', 'Insertion'])\n",
    "plt.title('Run_8f')\n",
    "plt.savefig('result_time_listsize_8_fixed.jpg',dpi=600)"
   ]
  },
  {
   "cell_type": "code",
   "execution_count": null,
   "id": "f20a6ceb-2115-46ac-950a-02be626ff139",
   "metadata": {
    "tags": []
   },
   "outputs": [],
   "source": []
  },
  {
   "cell_type": "code",
   "execution_count": null,
   "id": "7107ac7c-e4a1-4785-94cb-2bdb08dd7d21",
   "metadata": {
    "tags": []
   },
   "outputs": [],
   "source": []
  },
  {
   "cell_type": "code",
   "execution_count": null,
   "id": "77fc30fd-d734-493a-b1e7-0b3ee3608b6e",
   "metadata": {},
   "outputs": [],
   "source": []
  }
 ],
 "metadata": {
  "kernelspec": {
   "display_name": "Python 3 (ipykernel)",
   "language": "python",
   "name": "python3"
  },
  "language_info": {
   "codemirror_mode": {
    "name": "ipython",
    "version": 3
   },
   "file_extension": ".py",
   "mimetype": "text/x-python",
   "name": "python",
   "nbconvert_exporter": "python",
   "pygments_lexer": "ipython3",
   "version": "3.11.7"
  }
 },
 "nbformat": 4,
 "nbformat_minor": 5
}
