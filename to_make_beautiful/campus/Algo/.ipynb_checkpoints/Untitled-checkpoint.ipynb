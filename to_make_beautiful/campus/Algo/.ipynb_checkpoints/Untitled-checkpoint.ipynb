{
 "cells": [
  {
   "cell_type": "code",
   "execution_count": 1,
   "id": "e9358b96-05c5-4aed-8236-2dc1d6fb2c4e",
   "metadata": {
    "tags": []
   },
   "outputs": [],
   "source": [
    "from sorting import merge_sort"
   ]
  },
  {
   "cell_type": "code",
   "execution_count": 4,
   "id": "4409f0d4-fd95-41d1-b8ed-b7b8b45ec5fa",
   "metadata": {
    "tags": []
   },
   "outputs": [],
   "source": [
    "import random\n",
    "\n",
    "def generate_random_array(debug=False, N=21):\n",
    "    if debug:\n",
    "        return [3, 9, 7, 1, 6, 2, 8, 4, 5, 0]\n",
    "        # return[0,3, 7, 1, 6, 2, 8, 4, 5, 9]\n",
    "        # return [49, 37, 0, 1, 34, 27, 43, 41, 13, 23, 42, 36, 40, 19, 47, 45, 17, 32, 2, 44, 3, 9, 4, 39, 46, 48, 22, 30, 11, 10, 15, 33, 16, 5, 24, 12, 29, 14, 26, 7, 20, 6, 28, 8, 21, 35, 25, 38, 31, 18]\n",
    "\n",
    "\n",
    "    array = list(range(0, N))\n",
    "    random.shuffle(array)\n",
    "\n",
    "    return array"
   ]
  },
  {
   "cell_type": "code",
   "execution_count": 14,
   "id": "a117b268-7baa-4313-beeb-0b2f020cd392",
   "metadata": {
    "tags": []
   },
   "outputs": [
    {
     "data": {
      "text/plain": [
       "[4, 18, 6, 17, 2, 13, 0, 19, 7, 12, 14, 5, 8, 3, 16, 9, 1, 20, 11, 15, 10]"
      ]
     },
     "execution_count": 14,
     "metadata": {},
     "output_type": "execute_result"
    }
   ],
   "source": [
    "lst = generate_random_array()\n",
    "lst"
   ]
  },
  {
   "cell_type": "code",
   "execution_count": 10,
   "id": "a8b84d6e-2425-4c00-ba13-ee1544ac94bd",
   "metadata": {
    "tags": []
   },
   "outputs": [],
   "source": [
    "merge_sort(generate_random_array())"
   ]
  },
  {
   "cell_type": "code",
   "execution_count": null,
   "id": "9e85d467-213c-4d98-9983-c53e9d76f128",
   "metadata": {},
   "outputs": [],
   "source": []
  }
 ],
 "metadata": {
  "kernelspec": {
   "display_name": "Python 3 (ipykernel)",
   "language": "python",
   "name": "python3"
  },
  "language_info": {
   "codemirror_mode": {
    "name": "ipython",
    "version": 3
   },
   "file_extension": ".py",
   "mimetype": "text/x-python",
   "name": "python",
   "nbconvert_exporter": "python",
   "pygments_lexer": "ipython3",
   "version": "3.11.7"
  }
 },
 "nbformat": 4,
 "nbformat_minor": 5
}
