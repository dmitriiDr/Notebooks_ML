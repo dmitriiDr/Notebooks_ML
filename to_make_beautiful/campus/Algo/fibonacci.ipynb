{
 "cells": [
  {
   "cell_type": "code",
   "execution_count": 221,
   "id": "b0e30ac2-19a7-448e-813e-ce7364c64ddd",
   "metadata": {},
   "outputs": [],
   "source": [
    "def fibonacci(n):\n",
    "    '''fibonacci using recursion, takes time'''\n",
    "    if n >= 0:\n",
    "        if n == 0:\n",
    "            return 1\n",
    "        if n == 1:\n",
    "            return 1\n",
    "        return fibonacci(n-2) + fibonacci(n-1)  "
   ]
  },
  {
   "cell_type": "code",
   "execution_count": 222,
   "id": "2044af48-53c6-4c1e-b914-ee97a8fdb353",
   "metadata": {
    "tags": []
   },
   "outputs": [],
   "source": [
    "def fibonacci_iter(n):\n",
    "    '''fibonacci but instead of recursion it uses exchange of naighbor elements and their sum'''\n",
    "    \n",
    "    if n >= 0:\n",
    "        if n == 0:\n",
    "            return 1\n",
    "        if n == 1:\n",
    "            return 1\n",
    "        a, b = 0, 1\n",
    "        for i in range(1, n+1):\n",
    "            a, b = b, a+b\n",
    "        return b     "
   ]
  },
  {
   "cell_type": "code",
   "execution_count": 223,
   "id": "7b33b403-dddf-402e-a357-4d3bbe377534",
   "metadata": {
    "tags": []
   },
   "outputs": [],
   "source": [
    "def fibonacci_back(n, memo={}):\n",
    "    '''fibonacci but instead of recursion it uses a backtrack of the last fibonacci'''\n",
    "    \n",
    "    if n >= 0:\n",
    "        if n == 0:\n",
    "            return 1\n",
    "        if n == 1:\n",
    "            return 1\n",
    "        elif n in memo:\n",
    "            return memo[n]\n",
    "        else:\n",
    "            memo[n] = fibonacci_back(n-1) + fibonacci_back(n-2)\n",
    "            return memo[n]"
   ]
  },
  {
   "cell_type": "code",
   "execution_count": 224,
   "id": "97eb8b64-7fdc-479b-90dd-454bbb1cea9b",
   "metadata": {
    "tags": []
   },
   "outputs": [
    {
     "data": {
      "text/plain": [
       "5"
      ]
     },
     "execution_count": 224,
     "metadata": {},
     "output_type": "execute_result"
    }
   ],
   "source": [
    "fibonacci(4)"
   ]
  },
  {
   "cell_type": "code",
   "execution_count": 225,
   "id": "69dcce77-e4f9-4c85-a6af-f7e577ffe5ae",
   "metadata": {
    "tags": []
   },
   "outputs": [
    {
     "data": {
      "text/plain": [
       "5"
      ]
     },
     "execution_count": 225,
     "metadata": {},
     "output_type": "execute_result"
    }
   ],
   "source": [
    "fibonacci_iter(4)"
   ]
  },
  {
   "cell_type": "code",
   "execution_count": 270,
   "id": "0e9ab526-f113-4cba-b84e-7ea1ab813c9c",
   "metadata": {
    "tags": []
   },
   "outputs": [
    {
     "data": {
      "text/plain": [
       "1836311903"
      ]
     },
     "execution_count": 270,
     "metadata": {},
     "output_type": "execute_result"
    }
   ],
   "source": [
    "fibonacci_back(45)"
   ]
  },
  {
   "cell_type": "code",
   "execution_count": 264,
   "id": "b4cf469a-c52b-48f8-a019-5ec70026b39b",
   "metadata": {
    "tags": []
   },
   "outputs": [],
   "source": [
    "def calc_time(func,n=10):\n",
    "    \n",
    "    result = []\n",
    "    for i in range(n+1):\n",
    "        to_append = %timeit -n 1 -r 1 -q -o -p 6 func(i) \n",
    "        result.append(to_append.best * 1e6)\n",
    "    return result"
   ]
  },
  {
   "cell_type": "code",
   "execution_count": 228,
   "id": "3f8ebaa7-9207-4053-a811-af38df3254f9",
   "metadata": {
    "tags": []
   },
   "outputs": [],
   "source": [
    "import pandas as pd"
   ]
  },
  {
   "cell_type": "code",
   "execution_count": 229,
   "id": "af19c629-ce3a-4770-ad3a-63fd4fca0571",
   "metadata": {
    "tags": []
   },
   "outputs": [],
   "source": [
    "def create_data(n):\n",
    "    data = pd.DataFrame()\n",
    "    for func in [fibonacci, fibonacci_iter, fibonacci_back]:\n",
    "        data[str(func)] = calc_time(func,n)\n",
    "    data.columns = ['recursive','iterative','memorizing']\n",
    "    return data"
   ]
  },
  {
   "cell_type": "code",
   "execution_count": 230,
   "id": "6270edfa-c1b8-453d-a72e-731298da0596",
   "metadata": {
    "tags": []
   },
   "outputs": [],
   "source": [
    "import seaborn as sns\n",
    "import matplotlib.pyplot as plt"
   ]
  },
  {
   "cell_type": "code",
   "execution_count": 266,
   "id": "c1a7c4af-b939-49da-9f7a-827c4b05b139",
   "metadata": {
    "tags": []
   },
   "outputs": [],
   "source": [
    "data = create_data(30)"
   ]
  },
  {
   "cell_type": "code",
   "execution_count": 260,
   "id": "dd411b9f-ae1d-46a4-87f0-732df59397d7",
   "metadata": {
    "tags": []
   },
   "outputs": [
    {
     "data": {
      "text/html": [
       "<div>\n",
       "<style scoped>\n",
       "    .dataframe tbody tr th:only-of-type {\n",
       "        vertical-align: middle;\n",
       "    }\n",
       "\n",
       "    .dataframe tbody tr th {\n",
       "        vertical-align: top;\n",
       "    }\n",
       "\n",
       "    .dataframe thead th {\n",
       "        text-align: right;\n",
       "    }\n",
       "</style>\n",
       "<table border=\"1\" class=\"dataframe\">\n",
       "  <thead>\n",
       "    <tr style=\"text-align: right;\">\n",
       "      <th></th>\n",
       "      <th>recursive</th>\n",
       "      <th>iterative</th>\n",
       "      <th>memorizing</th>\n",
       "    </tr>\n",
       "  </thead>\n",
       "  <tbody>\n",
       "    <tr>\n",
       "      <th>0</th>\n",
       "      <td>0.01626</td>\n",
       "      <td>0.01844</td>\n",
       "      <td>0.01759</td>\n",
       "    </tr>\n",
       "    <tr>\n",
       "      <th>1</th>\n",
       "      <td>0.01569</td>\n",
       "      <td>0.01546</td>\n",
       "      <td>0.01665</td>\n",
       "    </tr>\n",
       "    <tr>\n",
       "      <th>2</th>\n",
       "      <td>0.02087</td>\n",
       "      <td>0.03680</td>\n",
       "      <td>0.02442</td>\n",
       "    </tr>\n",
       "    <tr>\n",
       "      <th>3</th>\n",
       "      <td>0.02546</td>\n",
       "      <td>0.03592</td>\n",
       "      <td>0.02162</td>\n",
       "    </tr>\n",
       "    <tr>\n",
       "      <th>4</th>\n",
       "      <td>0.03198</td>\n",
       "      <td>0.03335</td>\n",
       "      <td>0.02204</td>\n",
       "    </tr>\n",
       "  </tbody>\n",
       "</table>\n",
       "</div>"
      ],
      "text/plain": [
       "   recursive  iterative  memorizing\n",
       "0    0.01626    0.01844     0.01759\n",
       "1    0.01569    0.01546     0.01665\n",
       "2    0.02087    0.03680     0.02442\n",
       "3    0.02546    0.03592     0.02162\n",
       "4    0.03198    0.03335     0.02204"
      ]
     },
     "execution_count": 260,
     "metadata": {},
     "output_type": "execute_result"
    }
   ],
   "source": [
    "data.head()"
   ]
  },
  {
   "cell_type": "code",
   "execution_count": 268,
   "id": "65fb5321-8765-467c-9c11-bc6eeceb7c11",
   "metadata": {
    "tags": []
   },
   "outputs": [
    {
     "data": {
      "image/png": "[encoded data removed]",
      "text/plain": [
       "<Figure size 640x480 with 1 Axes>"
      ]
     },
     "metadata": {},
     "output_type": "display_data"
    }
   ],
   "source": [
    "sns.set_style('ticks')\n",
    "ax = sns.scatterplot(data, x = data.index, y = 'recursive', marker = 'P')\n",
    "sns.scatterplot(data, x = data.index, y = 'iterative', marker = 'X', ax = ax)\n",
    "sns.scatterplot(data, x = data.index, y = 'memorizing', marker = '*', ax = ax)\n",
    "plt.ylabel('Microseconds')\n",
    "plt.xlabel('Fibonacci seq length')\n",
    "plt.legend(['recursive','iterative','memorizing'])\n",
    "plt.savefig('fibonacci_30.jpg',dpi=600)"
   ]
  },
  {
   "cell_type": "code",
   "execution_count": null,
   "id": "91ecc7f4-6656-4287-812e-3b381411a07b",
   "metadata": {},
   "outputs": [],
   "source": []
  }
 ],
 "metadata": {
  "kernelspec": {
   "display_name": "Python 3 (ipykernel)",
   "language": "python",
   "name": "python3"
  },
  "language_info": {
   "codemirror_mode": {
    "name": "ipython",
    "version": 3
   },
   "file_extension": ".py",
   "mimetype": "text/x-python",
   "name": "python",
   "nbconvert_exporter": "python",
   "pygments_lexer": "ipython3",
   "version": "3.11.7"
  }
 },
 "nbformat": 4,
 "nbformat_minor": 5
}
