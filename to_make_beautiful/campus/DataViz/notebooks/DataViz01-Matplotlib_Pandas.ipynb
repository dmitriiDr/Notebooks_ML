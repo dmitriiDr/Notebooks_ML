{
 "cells": [
  {
   "cell_type": "markdown",
   "metadata": {},
   "source": [
    "# Plotting with pandas\n",
    "\n",
    "It is time to learn how to plot with our favorite data wrangling tool : pandas 🐼.\n",
    "\n",
    "We will be using the open data powering https://www.rte-france.com/eco2mix website. \n",
    "\n",
    "The pre-processing of the data has been already done for you. All you need is to learn how read pickles from pandas!\n",
    "\n",
    "![pickles](https://static.wikia.nocookie.net/rickandmorty/images/4/41/Pickle_rick_transparent_edgetrimmed.png)\n"
   ]
  },
  {
   "cell_type": "markdown",
   "metadata": {},
   "source": [
    "## Exercise - setting up our (plotting) environment"
   ]
  },
  {
   "cell_type": "code",
   "execution_count": 3,
   "metadata": {
    "tags": []
   },
   "outputs": [],
   "source": [
    "# load pandas, matplotlib and setup your environment for bigger figures by default (check matplotlib's \"rcParams\")\n",
    "import pandas as pd\n",
    "import matplotlib as mpl\n",
    "import matplotlib.pyplot as plt\n",
    "\n",
    "#ToDo"
   ]
  },
  {
   "cell_type": "code",
   "execution_count": 4,
   "metadata": {
    "tags": []
   },
   "outputs": [],
   "source": [
    "mpl.rcParams['figure.figsize'] = (8,8)"
   ]
  },
  {
   "cell_type": "markdown",
   "metadata": {},
   "source": [
    "## Exercise : loading the data from a pickle file"
   ]
  },
  {
   "cell_type": "code",
   "execution_count": 6,
   "metadata": {
    "tags": []
   },
   "outputs": [
    {
     "data": {
      "text/html": [
       "<div>\n",
       "<style scoped>\n",
       "    .dataframe tbody tr th:only-of-type {\n",
       "        vertical-align: middle;\n",
       "    }\n",
       "\n",
       "    .dataframe tbody tr th {\n",
       "        vertical-align: top;\n",
       "    }\n",
       "\n",
       "    .dataframe thead th {\n",
       "        text-align: right;\n",
       "    }\n",
       "</style>\n",
       "<table border=\"1\" class=\"dataframe\">\n",
       "  <thead>\n",
       "    <tr style=\"text-align: right;\">\n",
       "      <th></th>\n",
       "      <th>Périmètre</th>\n",
       "      <th>Consommation</th>\n",
       "      <th>Thermique</th>\n",
       "      <th>Nucléaire</th>\n",
       "      <th>Eolien</th>\n",
       "      <th>Solaire</th>\n",
       "      <th>Hydraulique</th>\n",
       "      <th>Pompage</th>\n",
       "      <th>Bioénergies</th>\n",
       "      <th>Ech. physiques</th>\n",
       "    </tr>\n",
       "    <tr>\n",
       "      <th>DateTime</th>\n",
       "      <th></th>\n",
       "      <th></th>\n",
       "      <th></th>\n",
       "      <th></th>\n",
       "      <th></th>\n",
       "      <th></th>\n",
       "      <th></th>\n",
       "      <th></th>\n",
       "      <th></th>\n",
       "      <th></th>\n",
       "    </tr>\n",
       "  </thead>\n",
       "  <tbody>\n",
       "    <tr>\n",
       "      <th>2016-01-01 00:00:00</th>\n",
       "      <td>Ile-de-France</td>\n",
       "      <td>8885.0</td>\n",
       "      <td>293.0</td>\n",
       "      <td>NaN</td>\n",
       "      <td>18.0</td>\n",
       "      <td>0.0</td>\n",
       "      <td>10.0</td>\n",
       "      <td>NaN</td>\n",
       "      <td>137.0</td>\n",
       "      <td>8428.0</td>\n",
       "    </tr>\n",
       "    <tr>\n",
       "      <th>2016-01-01 00:15:00</th>\n",
       "      <td>Ile-de-France</td>\n",
       "      <td>NaN</td>\n",
       "      <td>NaN</td>\n",
       "      <td>NaN</td>\n",
       "      <td>NaN</td>\n",
       "      <td>NaN</td>\n",
       "      <td>NaN</td>\n",
       "      <td>NaN</td>\n",
       "      <td>NaN</td>\n",
       "      <td>NaN</td>\n",
       "    </tr>\n",
       "    <tr>\n",
       "      <th>2016-01-01 00:30:00</th>\n",
       "      <td>Ile-de-France</td>\n",
       "      <td>8709.0</td>\n",
       "      <td>309.0</td>\n",
       "      <td>NaN</td>\n",
       "      <td>16.0</td>\n",
       "      <td>0.0</td>\n",
       "      <td>10.0</td>\n",
       "      <td>NaN</td>\n",
       "      <td>148.0</td>\n",
       "      <td>8226.0</td>\n",
       "    </tr>\n",
       "    <tr>\n",
       "      <th>2016-01-01 00:45:00</th>\n",
       "      <td>Ile-de-France</td>\n",
       "      <td>NaN</td>\n",
       "      <td>NaN</td>\n",
       "      <td>NaN</td>\n",
       "      <td>NaN</td>\n",
       "      <td>NaN</td>\n",
       "      <td>NaN</td>\n",
       "      <td>NaN</td>\n",
       "      <td>NaN</td>\n",
       "      <td>NaN</td>\n",
       "    </tr>\n",
       "    <tr>\n",
       "      <th>2016-01-01 01:00:00</th>\n",
       "      <td>Ile-de-France</td>\n",
       "      <td>8343.0</td>\n",
       "      <td>309.0</td>\n",
       "      <td>NaN</td>\n",
       "      <td>13.0</td>\n",
       "      <td>0.0</td>\n",
       "      <td>10.0</td>\n",
       "      <td>NaN</td>\n",
       "      <td>149.0</td>\n",
       "      <td>7864.0</td>\n",
       "    </tr>\n",
       "  </tbody>\n",
       "</table>\n",
       "</div>"
      ],
      "text/plain": [
       "                         Périmètre  Consommation  Thermique  Nucléaire  \\\n",
       "DateTime                                                                 \n",
       "2016-01-01 00:00:00  Ile-de-France        8885.0      293.0        NaN   \n",
       "2016-01-01 00:15:00  Ile-de-France           NaN        NaN        NaN   \n",
       "2016-01-01 00:30:00  Ile-de-France        8709.0      309.0        NaN   \n",
       "2016-01-01 00:45:00  Ile-de-France           NaN        NaN        NaN   \n",
       "2016-01-01 01:00:00  Ile-de-France        8343.0      309.0        NaN   \n",
       "\n",
       "                     Eolien  Solaire  Hydraulique  Pompage  Bioénergies  \\\n",
       "DateTime                                                                  \n",
       "2016-01-01 00:00:00    18.0      0.0         10.0      NaN        137.0   \n",
       "2016-01-01 00:15:00     NaN      NaN          NaN      NaN          NaN   \n",
       "2016-01-01 00:30:00    16.0      0.0         10.0      NaN        148.0   \n",
       "2016-01-01 00:45:00     NaN      NaN          NaN      NaN          NaN   \n",
       "2016-01-01 01:00:00    13.0      0.0         10.0      NaN        149.0   \n",
       "\n",
       "                     Ech. physiques  \n",
       "DateTime                             \n",
       "2016-01-01 00:00:00          8428.0  \n",
       "2016-01-01 00:15:00             NaN  \n",
       "2016-01-01 00:30:00          8226.0  \n",
       "2016-01-01 00:45:00             NaN  \n",
       "2016-01-01 01:00:00          7864.0  "
      ]
     },
     "execution_count": 6,
     "metadata": {},
     "output_type": "execute_result"
    }
   ],
   "source": [
    "# Load from the pickle file eco2mix\n",
    "df = pd.read_pickle('/home/dmitrii.druzhbin@Digital-Grenoble.local/Documents/DataViz/notebooks/data/eco2mix.pkl')\n",
    "\n",
    "\n",
    "\n",
    "df.sample(5) # take 10 samples at random\n",
    "\n",
    "df_copy = df.copy()\n",
    "df_copy.head()"
   ]
  },
  {
   "cell_type": "code",
   "execution_count": 7,
   "metadata": {
    "tags": []
   },
   "outputs": [],
   "source": [
    "df_copy = df_copy.reset_index()"
   ]
  },
  {
   "cell_type": "code",
   "execution_count": 8,
   "metadata": {
    "tags": []
   },
   "outputs": [
    {
     "data": {
      "text/html": [
       "<div>\n",
       "<style scoped>\n",
       "    .dataframe tbody tr th:only-of-type {\n",
       "        vertical-align: middle;\n",
       "    }\n",
       "\n",
       "    .dataframe tbody tr th {\n",
       "        vertical-align: top;\n",
       "    }\n",
       "\n",
       "    .dataframe thead th {\n",
       "        text-align: right;\n",
       "    }\n",
       "</style>\n",
       "<table border=\"1\" class=\"dataframe\">\n",
       "  <thead>\n",
       "    <tr style=\"text-align: right;\">\n",
       "      <th></th>\n",
       "      <th>DateTime</th>\n",
       "      <th>Périmètre</th>\n",
       "      <th>Consommation</th>\n",
       "      <th>Thermique</th>\n",
       "      <th>Nucléaire</th>\n",
       "      <th>Eolien</th>\n",
       "      <th>Solaire</th>\n",
       "      <th>Hydraulique</th>\n",
       "      <th>Pompage</th>\n",
       "      <th>Bioénergies</th>\n",
       "      <th>Ech. physiques</th>\n",
       "    </tr>\n",
       "  </thead>\n",
       "  <tbody>\n",
       "    <tr>\n",
       "      <th>0</th>\n",
       "      <td>2016-01-01 00:00:00</td>\n",
       "      <td>Ile-de-France</td>\n",
       "      <td>8885.0</td>\n",
       "      <td>293.0</td>\n",
       "      <td>NaN</td>\n",
       "      <td>18.0</td>\n",
       "      <td>0.0</td>\n",
       "      <td>10.0</td>\n",
       "      <td>NaN</td>\n",
       "      <td>137.0</td>\n",
       "      <td>8428.0</td>\n",
       "    </tr>\n",
       "    <tr>\n",
       "      <th>1</th>\n",
       "      <td>2016-01-01 00:15:00</td>\n",
       "      <td>Ile-de-France</td>\n",
       "      <td>NaN</td>\n",
       "      <td>NaN</td>\n",
       "      <td>NaN</td>\n",
       "      <td>NaN</td>\n",
       "      <td>NaN</td>\n",
       "      <td>NaN</td>\n",
       "      <td>NaN</td>\n",
       "      <td>NaN</td>\n",
       "      <td>NaN</td>\n",
       "    </tr>\n",
       "    <tr>\n",
       "      <th>2</th>\n",
       "      <td>2016-01-01 00:30:00</td>\n",
       "      <td>Ile-de-France</td>\n",
       "      <td>8709.0</td>\n",
       "      <td>309.0</td>\n",
       "      <td>NaN</td>\n",
       "      <td>16.0</td>\n",
       "      <td>0.0</td>\n",
       "      <td>10.0</td>\n",
       "      <td>NaN</td>\n",
       "      <td>148.0</td>\n",
       "      <td>8226.0</td>\n",
       "    </tr>\n",
       "    <tr>\n",
       "      <th>3</th>\n",
       "      <td>2016-01-01 00:45:00</td>\n",
       "      <td>Ile-de-France</td>\n",
       "      <td>NaN</td>\n",
       "      <td>NaN</td>\n",
       "      <td>NaN</td>\n",
       "      <td>NaN</td>\n",
       "      <td>NaN</td>\n",
       "      <td>NaN</td>\n",
       "      <td>NaN</td>\n",
       "      <td>NaN</td>\n",
       "      <td>NaN</td>\n",
       "    </tr>\n",
       "    <tr>\n",
       "      <th>4</th>\n",
       "      <td>2016-01-01 01:00:00</td>\n",
       "      <td>Ile-de-France</td>\n",
       "      <td>8343.0</td>\n",
       "      <td>309.0</td>\n",
       "      <td>NaN</td>\n",
       "      <td>13.0</td>\n",
       "      <td>0.0</td>\n",
       "      <td>10.0</td>\n",
       "      <td>NaN</td>\n",
       "      <td>149.0</td>\n",
       "      <td>7864.0</td>\n",
       "    </tr>\n",
       "  </tbody>\n",
       "</table>\n",
       "</div>"
      ],
      "text/plain": [
       "             DateTime      Périmètre  Consommation  Thermique  Nucléaire  \\\n",
       "0 2016-01-01 00:00:00  Ile-de-France        8885.0      293.0        NaN   \n",
       "1 2016-01-01 00:15:00  Ile-de-France           NaN        NaN        NaN   \n",
       "2 2016-01-01 00:30:00  Ile-de-France        8709.0      309.0        NaN   \n",
       "3 2016-01-01 00:45:00  Ile-de-France           NaN        NaN        NaN   \n",
       "4 2016-01-01 01:00:00  Ile-de-France        8343.0      309.0        NaN   \n",
       "\n",
       "   Eolien  Solaire  Hydraulique  Pompage  Bioénergies  Ech. physiques  \n",
       "0    18.0      0.0         10.0      NaN        137.0          8428.0  \n",
       "1     NaN      NaN          NaN      NaN          NaN             NaN  \n",
       "2    16.0      0.0         10.0      NaN        148.0          8226.0  \n",
       "3     NaN      NaN          NaN      NaN          NaN             NaN  \n",
       "4    13.0      0.0         10.0      NaN        149.0          7864.0  "
      ]
     },
     "execution_count": 8,
     "metadata": {},
     "output_type": "execute_result"
    }
   ],
   "source": [
    "df_copy.head()"
   ]
  },
  {
   "cell_type": "code",
   "execution_count": 9,
   "metadata": {
    "tags": []
   },
   "outputs": [],
   "source": [
    "df_copy['Year'] = pd.to_datetime(df_copy['DateTime']).dt.year"
   ]
  },
  {
   "cell_type": "code",
   "execution_count": 10,
   "metadata": {
    "tags": []
   },
   "outputs": [],
   "source": [
    "df_copy_nanfix = df_copy.fillna(0)"
   ]
  },
  {
   "cell_type": "code",
   "execution_count": 11,
   "metadata": {
    "tags": []
   },
   "outputs": [
    {
     "data": {
      "text/html": [
       "<div>\n",
       "<style scoped>\n",
       "    .dataframe tbody tr th:only-of-type {\n",
       "        vertical-align: middle;\n",
       "    }\n",
       "\n",
       "    .dataframe tbody tr th {\n",
       "        vertical-align: top;\n",
       "    }\n",
       "\n",
       "    .dataframe thead th {\n",
       "        text-align: right;\n",
       "    }\n",
       "</style>\n",
       "<table border=\"1\" class=\"dataframe\">\n",
       "  <thead>\n",
       "    <tr style=\"text-align: right;\">\n",
       "      <th></th>\n",
       "      <th>DateTime</th>\n",
       "      <th>Périmètre</th>\n",
       "      <th>Consommation</th>\n",
       "      <th>Thermique</th>\n",
       "      <th>Nucléaire</th>\n",
       "      <th>Eolien</th>\n",
       "      <th>Solaire</th>\n",
       "      <th>Hydraulique</th>\n",
       "      <th>Pompage</th>\n",
       "      <th>Bioénergies</th>\n",
       "      <th>Ech. physiques</th>\n",
       "      <th>Year</th>\n",
       "    </tr>\n",
       "  </thead>\n",
       "  <tbody>\n",
       "    <tr>\n",
       "      <th>0</th>\n",
       "      <td>2016-01-01 00:00:00</td>\n",
       "      <td>Ile-de-France</td>\n",
       "      <td>8885.0</td>\n",
       "      <td>293.0</td>\n",
       "      <td>0.0</td>\n",
       "      <td>18.0</td>\n",
       "      <td>0.0</td>\n",
       "      <td>10.0</td>\n",
       "      <td>0.0</td>\n",
       "      <td>137.0</td>\n",
       "      <td>8428.0</td>\n",
       "      <td>2016</td>\n",
       "    </tr>\n",
       "    <tr>\n",
       "      <th>1</th>\n",
       "      <td>2016-01-01 00:15:00</td>\n",
       "      <td>Ile-de-France</td>\n",
       "      <td>0.0</td>\n",
       "      <td>0.0</td>\n",
       "      <td>0.0</td>\n",
       "      <td>0.0</td>\n",
       "      <td>0.0</td>\n",
       "      <td>0.0</td>\n",
       "      <td>0.0</td>\n",
       "      <td>0.0</td>\n",
       "      <td>0.0</td>\n",
       "      <td>2016</td>\n",
       "    </tr>\n",
       "    <tr>\n",
       "      <th>2</th>\n",
       "      <td>2016-01-01 00:30:00</td>\n",
       "      <td>Ile-de-France</td>\n",
       "      <td>8709.0</td>\n",
       "      <td>309.0</td>\n",
       "      <td>0.0</td>\n",
       "      <td>16.0</td>\n",
       "      <td>0.0</td>\n",
       "      <td>10.0</td>\n",
       "      <td>0.0</td>\n",
       "      <td>148.0</td>\n",
       "      <td>8226.0</td>\n",
       "      <td>2016</td>\n",
       "    </tr>\n",
       "    <tr>\n",
       "      <th>3</th>\n",
       "      <td>2016-01-01 00:45:00</td>\n",
       "      <td>Ile-de-France</td>\n",
       "      <td>0.0</td>\n",
       "      <td>0.0</td>\n",
       "      <td>0.0</td>\n",
       "      <td>0.0</td>\n",
       "      <td>0.0</td>\n",
       "      <td>0.0</td>\n",
       "      <td>0.0</td>\n",
       "      <td>0.0</td>\n",
       "      <td>0.0</td>\n",
       "      <td>2016</td>\n",
       "    </tr>\n",
       "    <tr>\n",
       "      <th>4</th>\n",
       "      <td>2016-01-01 01:00:00</td>\n",
       "      <td>Ile-de-France</td>\n",
       "      <td>8343.0</td>\n",
       "      <td>309.0</td>\n",
       "      <td>0.0</td>\n",
       "      <td>13.0</td>\n",
       "      <td>0.0</td>\n",
       "      <td>10.0</td>\n",
       "      <td>0.0</td>\n",
       "      <td>149.0</td>\n",
       "      <td>7864.0</td>\n",
       "      <td>2016</td>\n",
       "    </tr>\n",
       "  </tbody>\n",
       "</table>\n",
       "</div>"
      ],
      "text/plain": [
       "             DateTime      Périmètre  Consommation  Thermique  Nucléaire  \\\n",
       "0 2016-01-01 00:00:00  Ile-de-France        8885.0      293.0        0.0   \n",
       "1 2016-01-01 00:15:00  Ile-de-France           0.0        0.0        0.0   \n",
       "2 2016-01-01 00:30:00  Ile-de-France        8709.0      309.0        0.0   \n",
       "3 2016-01-01 00:45:00  Ile-de-France           0.0        0.0        0.0   \n",
       "4 2016-01-01 01:00:00  Ile-de-France        8343.0      309.0        0.0   \n",
       "\n",
       "   Eolien  Solaire  Hydraulique  Pompage  Bioénergies  Ech. physiques  Year  \n",
       "0    18.0      0.0         10.0      0.0        137.0          8428.0  2016  \n",
       "1     0.0      0.0          0.0      0.0          0.0             0.0  2016  \n",
       "2    16.0      0.0         10.0      0.0        148.0          8226.0  2016  \n",
       "3     0.0      0.0          0.0      0.0          0.0             0.0  2016  \n",
       "4    13.0      0.0         10.0      0.0        149.0          7864.0  2016  "
      ]
     },
     "execution_count": 11,
     "metadata": {},
     "output_type": "execute_result"
    }
   ],
   "source": [
    "df_copy_nanfix.head()"
   ]
  },
  {
   "cell_type": "code",
   "execution_count": 12,
   "metadata": {
    "tags": []
   },
   "outputs": [
    {
     "name": "stdout",
     "output_type": "stream",
     "text": [
      "<class 'pandas.core.frame.DataFrame'>\n",
      "Index: 420480 entries, 70272 to 2243519\n",
      "Data columns (total 11 columns):\n",
      " #   Column          Non-Null Count   Dtype         \n",
      "---  ------          --------------   -----         \n",
      " 0   DateTime        420480 non-null  datetime64[ns]\n",
      " 1   Périmètre       420480 non-null  object        \n",
      " 2   Consommation    420480 non-null  float64       \n",
      " 3   Thermique       420480 non-null  float64       \n",
      " 4   Nucléaire       420480 non-null  float64       \n",
      " 5   Eolien          420480 non-null  float64       \n",
      " 6   Solaire         420480 non-null  float64       \n",
      " 7   Hydraulique     420480 non-null  float64       \n",
      " 8   Bioénergies     420480 non-null  float64       \n",
      " 9   Ech. physiques  420480 non-null  float64       \n",
      " 10  Year            420480 non-null  int32         \n",
      "dtypes: datetime64[ns](1), float64(8), int32(1), object(1)\n",
      "memory usage: 36.9+ MB\n"
     ]
    }
   ],
   "source": [
    "df_2018 = df_copy_nanfix[df_copy_nanfix.Year == 2018].drop('Pompage',axis=1)\n",
    "df_2018.info()"
   ]
  },
  {
   "cell_type": "code",
   "execution_count": 13,
   "metadata": {
    "tags": []
   },
   "outputs": [
    {
     "data": {
      "text/plain": [
       "Index(['DateTime', 'Périmètre', 'Consommation', 'Thermique', 'Nucléaire',\n",
       "       'Eolien', 'Solaire', 'Hydraulique', 'Bioénergies', 'Ech. physiques',\n",
       "       'Year'],\n",
       "      dtype='object')"
      ]
     },
     "execution_count": 13,
     "metadata": {},
     "output_type": "execute_result"
    }
   ],
   "source": [
    "df_2018.columns"
   ]
  },
  {
   "cell_type": "code",
   "execution_count": 14,
   "metadata": {
    "tags": []
   },
   "outputs": [
    {
     "name": "stdout",
     "output_type": "stream",
     "text": [
      "<class 'pandas.core.frame.DataFrame'>\n",
      "Index: 420480 entries, 70272 to 2243519\n",
      "Data columns (total 11 columns):\n",
      " #   Column          Non-Null Count   Dtype         \n",
      "---  ------          --------------   -----         \n",
      " 0   DateTime        420480 non-null  datetime64[ns]\n",
      " 1   Périmètre       420480 non-null  object        \n",
      " 2   Consommation    420480 non-null  float64       \n",
      " 3   Thermique       420480 non-null  float64       \n",
      " 4   Nucléaire       420480 non-null  float64       \n",
      " 5   Eolien          420480 non-null  float64       \n",
      " 6   Solaire         420480 non-null  float64       \n",
      " 7   Hydraulique     420480 non-null  float64       \n",
      " 8   Bioénergies     420480 non-null  float64       \n",
      " 9   Ech. physiques  420480 non-null  float64       \n",
      " 10  Year            420480 non-null  int32         \n",
      "dtypes: datetime64[ns](1), float64(8), int32(1), object(1)\n",
      "memory usage: 36.9+ MB\n"
     ]
    }
   ],
   "source": [
    "df_2018.info()"
   ]
  },
  {
   "cell_type": "code",
   "execution_count": 15,
   "metadata": {
    "tags": []
   },
   "outputs": [],
   "source": [
    "sources_2018 = [df_2018[df_2018.columns[i]].sum() for i in range(3,9)]"
   ]
  },
  {
   "cell_type": "code",
   "execution_count": 16,
   "metadata": {
    "tags": []
   },
   "outputs": [
    {
     "data": {
      "text/plain": [
       "[75986264.0, 785967028.0, 56261568.0, 21166093.0, 134815101.0, 19092161.0]"
      ]
     },
     "execution_count": 16,
     "metadata": {},
     "output_type": "execute_result"
    }
   ],
   "source": [
    "sources_2018"
   ]
  },
  {
   "cell_type": "code",
   "execution_count": 17,
   "metadata": {
    "tags": []
   },
   "outputs": [],
   "source": [
    "sources_2018_ratio = [round(sources_2018[i]/sum(sources_2018) * 100) for i in range(len(sources_2018))]"
   ]
  },
  {
   "cell_type": "code",
   "execution_count": 18,
   "metadata": {
    "tags": []
   },
   "outputs": [
    {
     "data": {
      "text/plain": [
       "[7, 72, 5, 2, 12, 2]"
      ]
     },
     "execution_count": 18,
     "metadata": {},
     "output_type": "execute_result"
    }
   ],
   "source": [
    "sources_2018_ratio"
   ]
  },
  {
   "cell_type": "code",
   "execution_count": 19,
   "metadata": {
    "tags": []
   },
   "outputs": [
    {
     "data": {
      "image/png": "[encoded data removed]",
      "text/plain": [
       "<Figure size 800x800 with 1 Axes>"
      ]
     },
     "metadata": {},
     "output_type": "display_data"
    }
   ],
   "source": [
    "import seaborn as sns\n",
    "\n",
    "fig = plt.figure()\n",
    "\n",
    "plt.pie(x = sources_2018_ratio, \n",
    "        colors = ['#4C72B0', \n",
    "                  '#55A868',\n",
    "                  '#C44E52',\n",
    "                  '#8172B2',\n",
    "                  '#CCB974',\n",
    "                  '#64B5CD'],\n",
    "        autopct='%1.f%%',\n",
    "        pctdistance=0.85,\n",
    "        textprops={'color':\"w\"})\n",
    "plt.legend([df_2018.columns[i] for i in range(3,9)], \n",
    "           loc='upper right', \n",
    "           fontsize=9, \n",
    "           frameon=False)\n",
    "plt.title('Production par filiére : année 2018')\n",
    "plt.show()"
   ]
  },
  {
   "cell_type": "markdown",
   "metadata": {},
   "source": [
    "# Plotting with Matplotlib\n",
    "\n",
    "\n",
    "##  Exercise -  Pie chart \n",
    "\n",
    "Choose a year in the data, and plot the share for each of the different energy sources, for example like this:\n",
    "\n",
    "<img src=\"./img/pie.png\" width=400px />\n"
   ]
  },
  {
   "cell_type": "code",
   "execution_count": 21,
   "metadata": {
    "tags": []
   },
   "outputs": [
    {
     "data": {
      "image/png": "[encoded data removed]",
      "text/plain": [
       "<Figure size 800x800 with 1 Axes>"
      ]
     },
     "metadata": {},
     "output_type": "display_data"
    }
   ],
   "source": [
    "# Choose a year (ex: 2018) and plot the share that each of the different energy sources has in the total energy production:\n",
    "\n",
    "#ToDo\n",
    "def addlabels(x,y):\n",
    "    for i in range(len(x)):\n",
    "        plt.text(i,y[i]+1,y[i],ha = 'center')\n",
    "\n",
    "plt.bar(x = [df_2018.columns[i] for i in range(3,9)], \n",
    "        height=sources_2018_ratio,\n",
    "        color = ['#4C72B0', \n",
    "                  '#55A868',\n",
    "                  '#C44E52',\n",
    "                  '#8172B2',\n",
    "                  '#CCB974',\n",
    "                  '#64B5CD'])\n",
    "addlabels([df_2018.columns[i] for i in range(3,9)], [sources_2018_ratio[i] for i in range(len(sources_2018_ratio))])\n",
    "plt.title('Production par filiére : année 2018')\n",
    "\n",
    "plt.show()"
   ]
  },
  {
   "cell_type": "code",
   "execution_count": null,
   "metadata": {},
   "outputs": [],
   "source": []
  },
  {
   "cell_type": "markdown",
   "metadata": {},
   "source": [
    "## Exercise :  Horizontal Bar\n",
    "\n",
    "Use a horizontal bar chart instead of a pie to represent the previous data\n",
    "\n",
    "_Tip: When possible, try to replace pie charts with horizontal bar_"
   ]
  },
  {
   "cell_type": "code",
   "execution_count": 23,
   "metadata": {
    "tags": []
   },
   "outputs": [
    {
     "data": {
      "image/png": "[encoded data removed]",
      "text/plain": [
       "<Figure size 800x800 with 1 Axes>"
      ]
     },
     "metadata": {},
     "output_type": "display_data"
    }
   ],
   "source": [
    "# When thinking about pie charts, give a try to horizontal bars.\n",
    "\n",
    "#ToDo\n",
    "def addlabels(x, y):\n",
    "    for i in range(len(x)):\n",
    "        plt.text(x[i]+3, i, f'{x[i]}', va='center', ha='right')\n",
    "\n",
    "plt.barh(y = [df_2018.columns[i] for i in range(3,9)], \n",
    "        width=sources_2018_ratio,\n",
    "        color = ['#4C72B0', \n",
    "                  '#55A868',\n",
    "                  '#C44E52',\n",
    "                  '#8172B2',\n",
    "                  '#CCB974',\n",
    "                  '#64B5CD'])\n",
    "addlabels([sources_2018_ratio[i] for i in range(len(sources_2018_ratio))], [df_2018.columns[i] for i in range(3,9)])\n",
    "plt.title('Production par filiére : année 2018')\n",
    "\n",
    "plt.show()\n"
   ]
  },
  {
   "cell_type": "markdown",
   "metadata": {},
   "source": [
    "## Exercise : Area chart\n",
    "\n",
    "Go ahead and explore trends in the evolution of the energy production with the help of an area chart"
   ]
  },
  {
   "cell_type": "code",
   "execution_count": 25,
   "metadata": {
    "tags": []
   },
   "outputs": [
    {
     "data": {
      "text/plain": [
       "Year\n",
       "2016    421632\n",
       "2018    420480\n",
       "2017    420480\n",
       "2013    420480\n",
       "2015    420480\n",
       "2014    420480\n",
       "Name: count, dtype: int64"
      ]
     },
     "execution_count": 25,
     "metadata": {},
     "output_type": "execute_result"
    }
   ],
   "source": [
    "df_copy_nanfix['Year'].value_counts()"
   ]
  },
  {
   "cell_type": "code",
   "execution_count": 26,
   "metadata": {
    "tags": []
   },
   "outputs": [],
   "source": [
    "# Explore trends\n",
    "\n",
    "#ToDo\n",
    "def tendency_source(source):\n",
    "    lst = []\n",
    "    for i in range(2013,2019):\n",
    "        lst.append(df_copy_nanfix[df_copy_nanfix.Year == i][source].sum())\n",
    "    return lst"
   ]
  },
  {
   "cell_type": "code",
   "execution_count": 27,
   "metadata": {
    "tags": []
   },
   "outputs": [
    {
     "data": {
      "text/plain": [
       "[87265040.0, 49924365.0, 66714884.0, 88787737.0, 105507116.0, 75986264.0]"
      ]
     },
     "execution_count": 27,
     "metadata": {},
     "output_type": "execute_result"
    }
   ],
   "source": [
    "tendency_source('Thermique')"
   ]
  },
  {
   "cell_type": "code",
   "execution_count": 28,
   "metadata": {
    "tags": []
   },
   "outputs": [],
   "source": [
    "data_tendency = pd.DataFrame()"
   ]
  },
  {
   "cell_type": "code",
   "execution_count": 29,
   "metadata": {
    "tags": []
   },
   "outputs": [],
   "source": [
    "for source in ['Thermique',\n",
    "               'Nucléaire',\n",
    "               'Eolien',\n",
    "               'Solaire',\n",
    "               'Hydraulique',\n",
    "               'Bioénergies']:\n",
    "    data_tendency[source] = tendency_source(source)"
   ]
  },
  {
   "cell_type": "code",
   "execution_count": 30,
   "metadata": {
    "tags": []
   },
   "outputs": [],
   "source": [
    "data_tendency['Year'] = list(range(2013, 2019))"
   ]
  },
  {
   "cell_type": "code",
   "execution_count": 31,
   "metadata": {
    "tags": []
   },
   "outputs": [
    {
     "data": {
      "text/html": [
       "<div>\n",
       "<style scoped>\n",
       "    .dataframe tbody tr th:only-of-type {\n",
       "        vertical-align: middle;\n",
       "    }\n",
       "\n",
       "    .dataframe tbody tr th {\n",
       "        vertical-align: top;\n",
       "    }\n",
       "\n",
       "    .dataframe thead th {\n",
       "        text-align: right;\n",
       "    }\n",
       "</style>\n",
       "<table border=\"1\" class=\"dataframe\">\n",
       "  <thead>\n",
       "    <tr style=\"text-align: right;\">\n",
       "      <th></th>\n",
       "      <th>Thermique</th>\n",
       "      <th>Nucléaire</th>\n",
       "      <th>Eolien</th>\n",
       "      <th>Solaire</th>\n",
       "      <th>Hydraulique</th>\n",
       "      <th>Bioénergies</th>\n",
       "      <th>Year</th>\n",
       "    </tr>\n",
       "  </thead>\n",
       "  <tbody>\n",
       "    <tr>\n",
       "      <th>0</th>\n",
       "      <td>87265040.0</td>\n",
       "      <td>806802087.0</td>\n",
       "      <td>31665608.0</td>\n",
       "      <td>9008891.0</td>\n",
       "      <td>149129252.0</td>\n",
       "      <td>12227527.0</td>\n",
       "      <td>2013</td>\n",
       "    </tr>\n",
       "    <tr>\n",
       "      <th>1</th>\n",
       "      <td>49924365.0</td>\n",
       "      <td>831008785.0</td>\n",
       "      <td>34116918.0</td>\n",
       "      <td>11639659.0</td>\n",
       "      <td>134720263.0</td>\n",
       "      <td>15020879.0</td>\n",
       "      <td>2014</td>\n",
       "    </tr>\n",
       "  </tbody>\n",
       "</table>\n",
       "</div>"
      ],
      "text/plain": [
       "    Thermique    Nucléaire      Eolien     Solaire  Hydraulique  Bioénergies  \\\n",
       "0  87265040.0  806802087.0  31665608.0   9008891.0  149129252.0   12227527.0   \n",
       "1  49924365.0  831008785.0  34116918.0  11639659.0  134720263.0   15020879.0   \n",
       "\n",
       "   Year  \n",
       "0  2013  \n",
       "1  2014  "
      ]
     },
     "execution_count": 31,
     "metadata": {},
     "output_type": "execute_result"
    }
   ],
   "source": [
    "data_tendency.head(2)"
   ]
  },
  {
   "cell_type": "code",
   "execution_count": 32,
   "metadata": {
    "tags": []
   },
   "outputs": [],
   "source": [
    "def ratio(source):\n",
    "    lst = []\n",
    "    for i in range(len(data_tendency)):\n",
    "         lst.append(round(data_tendency[source][i] / data_tendency.iloc[i].sum() * 100, 2))\n",
    "    return lst"
   ]
  },
  {
   "cell_type": "code",
   "execution_count": 33,
   "metadata": {
    "tags": []
   },
   "outputs": [],
   "source": [
    "for source in ['Thermique',\n",
    "               'Nucléaire',\n",
    "               'Eolien',\n",
    "               'Solaire',\n",
    "               'Hydraulique',\n",
    "               'Bioénergies']:\n",
    "    data_tendency[source+'_ratio'] = ratio(source)"
   ]
  },
  {
   "cell_type": "code",
   "execution_count": 34,
   "metadata": {
    "tags": []
   },
   "outputs": [
    {
     "data": {
      "text/html": [
       "<div>\n",
       "<style scoped>\n",
       "    .dataframe tbody tr th:only-of-type {\n",
       "        vertical-align: middle;\n",
       "    }\n",
       "\n",
       "    .dataframe tbody tr th {\n",
       "        vertical-align: top;\n",
       "    }\n",
       "\n",
       "    .dataframe thead th {\n",
       "        text-align: right;\n",
       "    }\n",
       "</style>\n",
       "<table border=\"1\" class=\"dataframe\">\n",
       "  <thead>\n",
       "    <tr style=\"text-align: right;\">\n",
       "      <th></th>\n",
       "      <th>Thermique</th>\n",
       "      <th>Nucléaire</th>\n",
       "      <th>Eolien</th>\n",
       "      <th>Solaire</th>\n",
       "      <th>Hydraulique</th>\n",
       "      <th>Bioénergies</th>\n",
       "      <th>Year</th>\n",
       "      <th>Thermique_ratio</th>\n",
       "      <th>Nucléaire_ratio</th>\n",
       "      <th>Eolien_ratio</th>\n",
       "      <th>Solaire_ratio</th>\n",
       "      <th>Hydraulique_ratio</th>\n",
       "      <th>Bioénergies_ratio</th>\n",
       "    </tr>\n",
       "  </thead>\n",
       "  <tbody>\n",
       "    <tr>\n",
       "      <th>0</th>\n",
       "      <td>87265040.0</td>\n",
       "      <td>806802087.0</td>\n",
       "      <td>31665608.0</td>\n",
       "      <td>9008891.0</td>\n",
       "      <td>149129252.0</td>\n",
       "      <td>12227527.0</td>\n",
       "      <td>2013</td>\n",
       "      <td>7.96</td>\n",
       "      <td>73.61</td>\n",
       "      <td>2.89</td>\n",
       "      <td>0.82</td>\n",
       "      <td>13.61</td>\n",
       "      <td>1.12</td>\n",
       "    </tr>\n",
       "    <tr>\n",
       "      <th>1</th>\n",
       "      <td>49924365.0</td>\n",
       "      <td>831008785.0</td>\n",
       "      <td>34116918.0</td>\n",
       "      <td>11639659.0</td>\n",
       "      <td>134720263.0</td>\n",
       "      <td>15020879.0</td>\n",
       "      <td>2014</td>\n",
       "      <td>4.64</td>\n",
       "      <td>77.20</td>\n",
       "      <td>3.17</td>\n",
       "      <td>1.08</td>\n",
       "      <td>12.52</td>\n",
       "      <td>1.40</td>\n",
       "    </tr>\n",
       "    <tr>\n",
       "      <th>2</th>\n",
       "      <td>66714884.0</td>\n",
       "      <td>832908808.0</td>\n",
       "      <td>42188171.0</td>\n",
       "      <td>14572733.0</td>\n",
       "      <td>117039522.0</td>\n",
       "      <td>15832717.0</td>\n",
       "      <td>2015</td>\n",
       "      <td>6.12</td>\n",
       "      <td>76.47</td>\n",
       "      <td>3.87</td>\n",
       "      <td>1.34</td>\n",
       "      <td>10.74</td>\n",
       "      <td>1.45</td>\n",
       "    </tr>\n",
       "    <tr>\n",
       "      <th>3</th>\n",
       "      <td>88787737.0</td>\n",
       "      <td>767408645.0</td>\n",
       "      <td>41835426.0</td>\n",
       "      <td>16521789.0</td>\n",
       "      <td>126717599.0</td>\n",
       "      <td>17423013.0</td>\n",
       "      <td>2016</td>\n",
       "      <td>8.39</td>\n",
       "      <td>72.49</td>\n",
       "      <td>3.95</td>\n",
       "      <td>1.56</td>\n",
       "      <td>11.97</td>\n",
       "      <td>1.65</td>\n",
       "    </tr>\n",
       "    <tr>\n",
       "      <th>4</th>\n",
       "      <td>105507116.0</td>\n",
       "      <td>757772631.0</td>\n",
       "      <td>48194982.0</td>\n",
       "      <td>17987913.0</td>\n",
       "      <td>106026436.0</td>\n",
       "      <td>18877342.0</td>\n",
       "      <td>2017</td>\n",
       "      <td>10.01</td>\n",
       "      <td>71.87</td>\n",
       "      <td>4.57</td>\n",
       "      <td>1.71</td>\n",
       "      <td>10.06</td>\n",
       "      <td>1.79</td>\n",
       "    </tr>\n",
       "  </tbody>\n",
       "</table>\n",
       "</div>"
      ],
      "text/plain": [
       "     Thermique    Nucléaire      Eolien     Solaire  Hydraulique  Bioénergies  \\\n",
       "0   87265040.0  806802087.0  31665608.0   9008891.0  149129252.0   12227527.0   \n",
       "1   49924365.0  831008785.0  34116918.0  11639659.0  134720263.0   15020879.0   \n",
       "2   66714884.0  832908808.0  42188171.0  14572733.0  117039522.0   15832717.0   \n",
       "3   88787737.0  767408645.0  41835426.0  16521789.0  126717599.0   17423013.0   \n",
       "4  105507116.0  757772631.0  48194982.0  17987913.0  106026436.0   18877342.0   \n",
       "\n",
       "   Year  Thermique_ratio  Nucléaire_ratio  Eolien_ratio  Solaire_ratio  \\\n",
       "0  2013             7.96            73.61          2.89           0.82   \n",
       "1  2014             4.64            77.20          3.17           1.08   \n",
       "2  2015             6.12            76.47          3.87           1.34   \n",
       "3  2016             8.39            72.49          3.95           1.56   \n",
       "4  2017            10.01            71.87          4.57           1.71   \n",
       "\n",
       "   Hydraulique_ratio  Bioénergies_ratio  \n",
       "0              13.61               1.12  \n",
       "1              12.52               1.40  \n",
       "2              10.74               1.45  \n",
       "3              11.97               1.65  \n",
       "4              10.06               1.79  "
      ]
     },
     "execution_count": 34,
     "metadata": {},
     "output_type": "execute_result"
    }
   ],
   "source": [
    "data_tendency.head()"
   ]
  },
  {
   "cell_type": "code",
   "execution_count": 35,
   "metadata": {
    "tags": []
   },
   "outputs": [
    {
     "data": {
      "image/png": "[encoded data removed]",
      "text/plain": [
       "<Figure size 1500x400 with 1 Axes>"
      ]
     },
     "metadata": {},
     "output_type": "display_data"
    }
   ],
   "source": [
    "fig = plt.figure(figsize=(15,4))\n",
    "\n",
    "color = ['#4C72B0', '#55A868', '#C44E52', '#8172B2', '#CCB974', '#64B5CD']\n",
    "\n",
    "plt.fill_between(data_tendency['Year'],data_tendency['Nucléaire_ratio'], color = color[0])\n",
    "plt.plot(data_tendency['Year'],data_tendency['Nucléaire_ratio'], color = 'black', label='_nolegend_')\n",
    "plt.fill_between(data_tendency['Year'],data_tendency['Hydraulique_ratio'], color = color[1])\n",
    "plt.plot(data_tendency['Year'],data_tendency['Hydraulique_ratio'], color = 'black', label='_nolegend_')\n",
    "plt.fill_between(data_tendency['Year'],data_tendency['Thermique_ratio'], color = color[2])\n",
    "plt.plot(data_tendency['Year'],data_tendency['Thermique_ratio'], color = 'black', label='_nolegend_')\n",
    "plt.fill_between(data_tendency['Year'],data_tendency['Eolien_ratio'], color = color[3])\n",
    "plt.plot(data_tendency['Year'],data_tendency['Eolien_ratio'], color = 'black', label='_nolegend_')\n",
    "plt.fill_between(data_tendency['Year'],data_tendency['Bioénergies_ratio'], color = color[4])\n",
    "plt.plot(data_tendency['Year'],data_tendency['Bioénergies_ratio'], color = 'black', label='_nolegend_')\n",
    "plt.fill_between(data_tendency['Year'],data_tendency['Solaire_ratio'], color = color[5])\n",
    "plt.plot(data_tendency['Year'],data_tendency['Solaire_ratio'], color = 'black', label='_nolegend_')\n",
    "plt.xlim(2013,2018)\n",
    "plt.yscale(\"log\")\n",
    "plt.legend(['Nucléaire',\n",
    "               'Hydraulique',\n",
    "               'Thermique',\n",
    "               'Eolien',\n",
    "               'Bioénergies',\n",
    "               'Solaire'])\n",
    "\n",
    "\n",
    "plt.show()"
   ]
  },
  {
   "cell_type": "code",
   "execution_count": null,
   "metadata": {},
   "outputs": [],
   "source": []
  },
  {
   "cell_type": "markdown",
   "metadata": {},
   "source": [
    "## Exercise : Scatter Plot\n",
    "\n",
    "Scatter plots are helpful to put in evidence relationships between two variables. Can you find a data relationships and make it visible with a plot ?\n",
    "\n",
    "_Bonus: try Seaborn's joint plots_"
   ]
  },
  {
   "cell_type": "code",
   "execution_count": 37,
   "metadata": {},
   "outputs": [
    {
     "data": {
      "text/html": [
       "<div>\n",
       "<style scoped>\n",
       "    .dataframe tbody tr th:only-of-type {\n",
       "        vertical-align: middle;\n",
       "    }\n",
       "\n",
       "    .dataframe tbody tr th {\n",
       "        vertical-align: top;\n",
       "    }\n",
       "\n",
       "    .dataframe thead th {\n",
       "        text-align: right;\n",
       "    }\n",
       "</style>\n",
       "<table border=\"1\" class=\"dataframe\">\n",
       "  <thead>\n",
       "    <tr style=\"text-align: right;\">\n",
       "      <th></th>\n",
       "      <th>DateTime</th>\n",
       "      <th>Périmètre</th>\n",
       "      <th>Consommation</th>\n",
       "      <th>Thermique</th>\n",
       "      <th>Nucléaire</th>\n",
       "      <th>Eolien</th>\n",
       "      <th>Solaire</th>\n",
       "      <th>Hydraulique</th>\n",
       "      <th>Bioénergies</th>\n",
       "      <th>Ech. physiques</th>\n",
       "      <th>Year</th>\n",
       "    </tr>\n",
       "  </thead>\n",
       "  <tbody>\n",
       "    <tr>\n",
       "      <th>70272</th>\n",
       "      <td>2018-01-01 00:00:00</td>\n",
       "      <td>Bourgogne-Franche-Comté</td>\n",
       "      <td>2410.0</td>\n",
       "      <td>164.0</td>\n",
       "      <td>0.0</td>\n",
       "      <td>524.0</td>\n",
       "      <td>0.0</td>\n",
       "      <td>224.0</td>\n",
       "      <td>24.0</td>\n",
       "      <td>1475.0</td>\n",
       "      <td>2018</td>\n",
       "    </tr>\n",
       "    <tr>\n",
       "      <th>70273</th>\n",
       "      <td>2018-01-01 00:15:00</td>\n",
       "      <td>Bourgogne-Franche-Comté</td>\n",
       "      <td>0.0</td>\n",
       "      <td>0.0</td>\n",
       "      <td>0.0</td>\n",
       "      <td>0.0</td>\n",
       "      <td>0.0</td>\n",
       "      <td>0.0</td>\n",
       "      <td>0.0</td>\n",
       "      <td>0.0</td>\n",
       "      <td>2018</td>\n",
       "    </tr>\n",
       "    <tr>\n",
       "      <th>70274</th>\n",
       "      <td>2018-01-01 00:30:00</td>\n",
       "      <td>Bourgogne-Franche-Comté</td>\n",
       "      <td>2290.0</td>\n",
       "      <td>158.0</td>\n",
       "      <td>0.0</td>\n",
       "      <td>513.0</td>\n",
       "      <td>0.0</td>\n",
       "      <td>219.0</td>\n",
       "      <td>28.0</td>\n",
       "      <td>1372.0</td>\n",
       "      <td>2018</td>\n",
       "    </tr>\n",
       "    <tr>\n",
       "      <th>70275</th>\n",
       "      <td>2018-01-01 00:45:00</td>\n",
       "      <td>Bourgogne-Franche-Comté</td>\n",
       "      <td>0.0</td>\n",
       "      <td>0.0</td>\n",
       "      <td>0.0</td>\n",
       "      <td>0.0</td>\n",
       "      <td>0.0</td>\n",
       "      <td>0.0</td>\n",
       "      <td>0.0</td>\n",
       "      <td>0.0</td>\n",
       "      <td>2018</td>\n",
       "    </tr>\n",
       "    <tr>\n",
       "      <th>70276</th>\n",
       "      <td>2018-01-01 01:00:00</td>\n",
       "      <td>Bourgogne-Franche-Comté</td>\n",
       "      <td>2248.0</td>\n",
       "      <td>160.0</td>\n",
       "      <td>0.0</td>\n",
       "      <td>508.0</td>\n",
       "      <td>0.0</td>\n",
       "      <td>173.0</td>\n",
       "      <td>28.0</td>\n",
       "      <td>1379.0</td>\n",
       "      <td>2018</td>\n",
       "    </tr>\n",
       "  </tbody>\n",
       "</table>\n",
       "</div>"
      ],
      "text/plain": [
       "                 DateTime                Périmètre  Consommation  Thermique  \\\n",
       "70272 2018-01-01 00:00:00  Bourgogne-Franche-Comté        2410.0      164.0   \n",
       "70273 2018-01-01 00:15:00  Bourgogne-Franche-Comté           0.0        0.0   \n",
       "70274 2018-01-01 00:30:00  Bourgogne-Franche-Comté        2290.0      158.0   \n",
       "70275 2018-01-01 00:45:00  Bourgogne-Franche-Comté           0.0        0.0   \n",
       "70276 2018-01-01 01:00:00  Bourgogne-Franche-Comté        2248.0      160.0   \n",
       "\n",
       "       Nucléaire  Eolien  Solaire  Hydraulique  Bioénergies  Ech. physiques  \\\n",
       "70272        0.0   524.0      0.0        224.0         24.0          1475.0   \n",
       "70273        0.0     0.0      0.0          0.0          0.0             0.0   \n",
       "70274        0.0   513.0      0.0        219.0         28.0          1372.0   \n",
       "70275        0.0     0.0      0.0          0.0          0.0             0.0   \n",
       "70276        0.0   508.0      0.0        173.0         28.0          1379.0   \n",
       "\n",
       "       Year  \n",
       "70272  2018  \n",
       "70273  2018  \n",
       "70274  2018  \n",
       "70275  2018  \n",
       "70276  2018  "
      ]
     },
     "execution_count": 37,
     "metadata": {},
     "output_type": "execute_result"
    }
   ],
   "source": [
    "# Explore relationships between variables with a scatter plot\n",
    "\n",
    "#ToDo\n",
    "df_2018.head()"
   ]
  },
  {
   "cell_type": "code",
   "execution_count": 38,
   "metadata": {},
   "outputs": [
    {
     "data": {
      "text/html": [
       "<div>\n",
       "<style scoped>\n",
       "    .dataframe tbody tr th:only-of-type {\n",
       "        vertical-align: middle;\n",
       "    }\n",
       "\n",
       "    .dataframe tbody tr th {\n",
       "        vertical-align: top;\n",
       "    }\n",
       "\n",
       "    .dataframe thead th {\n",
       "        text-align: right;\n",
       "    }\n",
       "</style>\n",
       "<table border=\"1\" class=\"dataframe\">\n",
       "  <thead>\n",
       "    <tr style=\"text-align: right;\">\n",
       "      <th></th>\n",
       "      <th>Périmètre</th>\n",
       "      <th>Consommation</th>\n",
       "      <th>Thermique</th>\n",
       "      <th>Nucléaire</th>\n",
       "      <th>Eolien</th>\n",
       "      <th>Solaire</th>\n",
       "      <th>Hydraulique</th>\n",
       "      <th>Bioénergies</th>\n",
       "      <th>Ech. physiques</th>\n",
       "      <th>Year</th>\n",
       "    </tr>\n",
       "    <tr>\n",
       "      <th>DateTime</th>\n",
       "      <th></th>\n",
       "      <th></th>\n",
       "      <th></th>\n",
       "      <th></th>\n",
       "      <th></th>\n",
       "      <th></th>\n",
       "      <th></th>\n",
       "      <th></th>\n",
       "      <th></th>\n",
       "      <th></th>\n",
       "    </tr>\n",
       "  </thead>\n",
       "  <tbody>\n",
       "    <tr>\n",
       "      <th>2018-01-07</th>\n",
       "      <td>Bourgogne-Franche-ComtéNouvelle-AquitainePays-...</td>\n",
       "      <td>20478865.0</td>\n",
       "      <td>983498.0</td>\n",
       "      <td>17163215.0</td>\n",
       "      <td>2467168.0</td>\n",
       "      <td>85699.0</td>\n",
       "      <td>2944558.0</td>\n",
       "      <td>362885.0</td>\n",
       "      <td>-3118808.0</td>\n",
       "      <td>16273152</td>\n",
       "    </tr>\n",
       "    <tr>\n",
       "      <th>2018-01-14</th>\n",
       "      <td>Bourgogne-Franche-ComtéNouvelle-AquitainePays-...</td>\n",
       "      <td>22621130.0</td>\n",
       "      <td>2261558.0</td>\n",
       "      <td>18773179.0</td>\n",
       "      <td>808077.0</td>\n",
       "      <td>131234.0</td>\n",
       "      <td>3212503.0</td>\n",
       "      <td>366922.0</td>\n",
       "      <td>-2624382.0</td>\n",
       "      <td>16273152</td>\n",
       "    </tr>\n",
       "    <tr>\n",
       "      <th>2018-01-21</th>\n",
       "      <td>Bourgogne-Franche-ComtéNouvelle-AquitainePays-...</td>\n",
       "      <td>22651238.0</td>\n",
       "      <td>1456277.0</td>\n",
       "      <td>18693420.0</td>\n",
       "      <td>2609817.0</td>\n",
       "      <td>126619.0</td>\n",
       "      <td>3302538.0</td>\n",
       "      <td>362476.0</td>\n",
       "      <td>-3519721.0</td>\n",
       "      <td>16273152</td>\n",
       "    </tr>\n",
       "    <tr>\n",
       "      <th>2018-01-28</th>\n",
       "      <td>Bourgogne-Franche-ComtéNouvelle-AquitainePays-...</td>\n",
       "      <td>21541791.0</td>\n",
       "      <td>1549840.0</td>\n",
       "      <td>18875986.0</td>\n",
       "      <td>1504294.0</td>\n",
       "      <td>148602.0</td>\n",
       "      <td>3516267.0</td>\n",
       "      <td>365068.0</td>\n",
       "      <td>-4049364.0</td>\n",
       "      <td>16273152</td>\n",
       "    </tr>\n",
       "    <tr>\n",
       "      <th>2018-02-04</th>\n",
       "      <td>Bourgogne-Franche-ComtéNouvelle-AquitainePays-...</td>\n",
       "      <td>22856605.0</td>\n",
       "      <td>2045345.0</td>\n",
       "      <td>18688091.0</td>\n",
       "      <td>1277098.0</td>\n",
       "      <td>177221.0</td>\n",
       "      <td>3445496.0</td>\n",
       "      <td>378007.0</td>\n",
       "      <td>-2815767.0</td>\n",
       "      <td>16273152</td>\n",
       "    </tr>\n",
       "  </tbody>\n",
       "</table>\n",
       "</div>"
      ],
      "text/plain": [
       "                                                    Périmètre  Consommation  \\\n",
       "DateTime                                                                      \n",
       "2018-01-07  Bourgogne-Franche-ComtéNouvelle-AquitainePays-...    20478865.0   \n",
       "2018-01-14  Bourgogne-Franche-ComtéNouvelle-AquitainePays-...    22621130.0   \n",
       "2018-01-21  Bourgogne-Franche-ComtéNouvelle-AquitainePays-...    22651238.0   \n",
       "2018-01-28  Bourgogne-Franche-ComtéNouvelle-AquitainePays-...    21541791.0   \n",
       "2018-02-04  Bourgogne-Franche-ComtéNouvelle-AquitainePays-...    22856605.0   \n",
       "\n",
       "            Thermique   Nucléaire     Eolien   Solaire  Hydraulique  \\\n",
       "DateTime                                                              \n",
       "2018-01-07   983498.0  17163215.0  2467168.0   85699.0    2944558.0   \n",
       "2018-01-14  2261558.0  18773179.0   808077.0  131234.0    3212503.0   \n",
       "2018-01-21  1456277.0  18693420.0  2609817.0  126619.0    3302538.0   \n",
       "2018-01-28  1549840.0  18875986.0  1504294.0  148602.0    3516267.0   \n",
       "2018-02-04  2045345.0  18688091.0  1277098.0  177221.0    3445496.0   \n",
       "\n",
       "            Bioénergies  Ech. physiques      Year  \n",
       "DateTime                                           \n",
       "2018-01-07     362885.0      -3118808.0  16273152  \n",
       "2018-01-14     366922.0      -2624382.0  16273152  \n",
       "2018-01-21     362476.0      -3519721.0  16273152  \n",
       "2018-01-28     365068.0      -4049364.0  16273152  \n",
       "2018-02-04     378007.0      -2815767.0  16273152  "
      ]
     },
     "execution_count": 38,
     "metadata": {},
     "output_type": "execute_result"
    }
   ],
   "source": [
    "df_2018.set_index('DateTime').resample('W').sum().head()"
   ]
  },
  {
   "cell_type": "code",
   "execution_count": 42,
   "metadata": {},
   "outputs": [
    {
     "data": {
      "text/plain": [
       "Timestamp('2018-01-01 00:00:00')"
      ]
     },
     "execution_count": 42,
     "metadata": {},
     "output_type": "execute_result"
    }
   ],
   "source": [
    "df_2018.set_index('DateTime').index[0]"
   ]
  },
  {
   "cell_type": "code",
   "execution_count": 39,
   "metadata": {},
   "outputs": [
    {
     "ename": "KeyError",
     "evalue": "\"['Périmètre'] not found in axis\"",
     "output_type": "error",
     "traceback": [
      "\u001b[0;31m---------------------------------------------------------------------------\u001b[0m",
      "\u001b[0;31mKeyError\u001b[0m                                  Traceback (most recent call last)",
      "Cell \u001b[0;32mIn[39], line 5\u001b[0m\n\u001b[1;32m      2\u001b[0m \u001b[38;5;28;01mimport\u001b[39;00m \u001b[38;5;21;01mseaborn\u001b[39;00m \u001b[38;5;28;01mas\u001b[39;00m \u001b[38;5;21;01msns\u001b[39;00m \u001b[38;5;66;03m# make sure you installed the library with pip or conda!\u001b[39;00m\n\u001b[1;32m      4\u001b[0m \u001b[38;5;66;03m# create a joint plot using Seaborn:\u001b[39;00m\n\u001b[0;32m----> 5\u001b[0m sns\u001b[38;5;241m.\u001b[39mjointplot(data \u001b[38;5;241m=\u001b[39m df_copy_nanfix\u001b[38;5;241m.\u001b[39mset_index(\u001b[38;5;124m'\u001b[39m\u001b[38;5;124mDateTime\u001b[39m\u001b[38;5;124m'\u001b[39m)\u001b[38;5;241m.\u001b[39mresample(\u001b[38;5;124m'\u001b[39m\u001b[38;5;124mW\u001b[39m\u001b[38;5;124m'\u001b[39m)\u001b[38;5;241m.\u001b[39msum()\u001b[38;5;241m.\u001b[39mdrop(\u001b[38;5;124m'\u001b[39m\u001b[38;5;124mPérimètre\u001b[39m\u001b[38;5;124m'\u001b[39m), x \u001b[38;5;241m=\u001b[39m \u001b[38;5;124m'\u001b[39m\u001b[38;5;124mThermique\u001b[39m\u001b[38;5;124m'\u001b[39m, y \u001b[38;5;241m=\u001b[39m \u001b[38;5;124m'\u001b[39m\u001b[38;5;124mNucléaire\u001b[39m\u001b[38;5;124m'\u001b[39m)\n",
      "File \u001b[0;32m~/anaconda3/lib/python3.12/site-packages/pandas/core/frame.py:5581\u001b[0m, in \u001b[0;36mDataFrame.drop\u001b[0;34m(self, labels, axis, index, columns, level, inplace, errors)\u001b[0m\n\u001b[1;32m   5433\u001b[0m \u001b[38;5;28;01mdef\u001b[39;00m \u001b[38;5;21mdrop\u001b[39m(\n\u001b[1;32m   5434\u001b[0m     \u001b[38;5;28mself\u001b[39m,\n\u001b[1;32m   5435\u001b[0m     labels: IndexLabel \u001b[38;5;241m|\u001b[39m \u001b[38;5;28;01mNone\u001b[39;00m \u001b[38;5;241m=\u001b[39m \u001b[38;5;28;01mNone\u001b[39;00m,\n\u001b[0;32m   (...)\u001b[0m\n\u001b[1;32m   5442\u001b[0m     errors: IgnoreRaise \u001b[38;5;241m=\u001b[39m \u001b[38;5;124m\"\u001b[39m\u001b[38;5;124mraise\u001b[39m\u001b[38;5;124m\"\u001b[39m,\n\u001b[1;32m   5443\u001b[0m ) \u001b[38;5;241m-\u001b[39m\u001b[38;5;241m>\u001b[39m DataFrame \u001b[38;5;241m|\u001b[39m \u001b[38;5;28;01mNone\u001b[39;00m:\n\u001b[1;32m   5444\u001b[0m \u001b[38;5;250m    \u001b[39m\u001b[38;5;124;03m\"\"\"\u001b[39;00m\n\u001b[1;32m   5445\u001b[0m \u001b[38;5;124;03m    Drop specified labels from rows or columns.\u001b[39;00m\n\u001b[1;32m   5446\u001b[0m \n\u001b[0;32m   (...)\u001b[0m\n\u001b[1;32m   5579\u001b[0m \u001b[38;5;124;03m            weight  1.0     0.8\u001b[39;00m\n\u001b[1;32m   5580\u001b[0m \u001b[38;5;124;03m    \"\"\"\u001b[39;00m\n\u001b[0;32m-> 5581\u001b[0m     \u001b[38;5;28;01mreturn\u001b[39;00m \u001b[38;5;28msuper\u001b[39m()\u001b[38;5;241m.\u001b[39mdrop(\n\u001b[1;32m   5582\u001b[0m         labels\u001b[38;5;241m=\u001b[39mlabels,\n\u001b[1;32m   5583\u001b[0m         axis\u001b[38;5;241m=\u001b[39maxis,\n\u001b[1;32m   5584\u001b[0m         index\u001b[38;5;241m=\u001b[39mindex,\n\u001b[1;32m   5585\u001b[0m         columns\u001b[38;5;241m=\u001b[39mcolumns,\n\u001b[1;32m   5586\u001b[0m         level\u001b[38;5;241m=\u001b[39mlevel,\n\u001b[1;32m   5587\u001b[0m         inplace\u001b[38;5;241m=\u001b[39minplace,\n\u001b[1;32m   5588\u001b[0m         errors\u001b[38;5;241m=\u001b[39merrors,\n\u001b[1;32m   5589\u001b[0m     )\n",
      "File \u001b[0;32m~/anaconda3/lib/python3.12/site-packages/pandas/core/generic.py:4788\u001b[0m, in \u001b[0;36mNDFrame.drop\u001b[0;34m(self, labels, axis, index, columns, level, inplace, errors)\u001b[0m\n\u001b[1;32m   4786\u001b[0m \u001b[38;5;28;01mfor\u001b[39;00m axis, labels \u001b[38;5;129;01min\u001b[39;00m axes\u001b[38;5;241m.\u001b[39mitems():\n\u001b[1;32m   4787\u001b[0m     \u001b[38;5;28;01mif\u001b[39;00m labels \u001b[38;5;129;01mis\u001b[39;00m \u001b[38;5;129;01mnot\u001b[39;00m \u001b[38;5;28;01mNone\u001b[39;00m:\n\u001b[0;32m-> 4788\u001b[0m         obj \u001b[38;5;241m=\u001b[39m obj\u001b[38;5;241m.\u001b[39m_drop_axis(labels, axis, level\u001b[38;5;241m=\u001b[39mlevel, errors\u001b[38;5;241m=\u001b[39merrors)\n\u001b[1;32m   4790\u001b[0m \u001b[38;5;28;01mif\u001b[39;00m inplace:\n\u001b[1;32m   4791\u001b[0m     \u001b[38;5;28mself\u001b[39m\u001b[38;5;241m.\u001b[39m_update_inplace(obj)\n",
      "File \u001b[0;32m~/anaconda3/lib/python3.12/site-packages/pandas/core/generic.py:4830\u001b[0m, in \u001b[0;36mNDFrame._drop_axis\u001b[0;34m(self, labels, axis, level, errors, only_slice)\u001b[0m\n\u001b[1;32m   4828\u001b[0m         new_axis \u001b[38;5;241m=\u001b[39m axis\u001b[38;5;241m.\u001b[39mdrop(labels, level\u001b[38;5;241m=\u001b[39mlevel, errors\u001b[38;5;241m=\u001b[39merrors)\n\u001b[1;32m   4829\u001b[0m     \u001b[38;5;28;01melse\u001b[39;00m:\n\u001b[0;32m-> 4830\u001b[0m         new_axis \u001b[38;5;241m=\u001b[39m axis\u001b[38;5;241m.\u001b[39mdrop(labels, errors\u001b[38;5;241m=\u001b[39merrors)\n\u001b[1;32m   4831\u001b[0m     indexer \u001b[38;5;241m=\u001b[39m axis\u001b[38;5;241m.\u001b[39mget_indexer(new_axis)\n\u001b[1;32m   4833\u001b[0m \u001b[38;5;66;03m# Case for non-unique axis\u001b[39;00m\n\u001b[1;32m   4834\u001b[0m \u001b[38;5;28;01melse\u001b[39;00m:\n",
      "File \u001b[0;32m~/anaconda3/lib/python3.12/site-packages/pandas/core/indexes/base.py:7070\u001b[0m, in \u001b[0;36mIndex.drop\u001b[0;34m(self, labels, errors)\u001b[0m\n\u001b[1;32m   7068\u001b[0m \u001b[38;5;28;01mif\u001b[39;00m mask\u001b[38;5;241m.\u001b[39many():\n\u001b[1;32m   7069\u001b[0m     \u001b[38;5;28;01mif\u001b[39;00m errors \u001b[38;5;241m!=\u001b[39m \u001b[38;5;124m\"\u001b[39m\u001b[38;5;124mignore\u001b[39m\u001b[38;5;124m\"\u001b[39m:\n\u001b[0;32m-> 7070\u001b[0m         \u001b[38;5;28;01mraise\u001b[39;00m \u001b[38;5;167;01mKeyError\u001b[39;00m(\u001b[38;5;124mf\u001b[39m\u001b[38;5;124m\"\u001b[39m\u001b[38;5;132;01m{\u001b[39;00mlabels[mask]\u001b[38;5;241m.\u001b[39mtolist()\u001b[38;5;132;01m}\u001b[39;00m\u001b[38;5;124m not found in axis\u001b[39m\u001b[38;5;124m\"\u001b[39m)\n\u001b[1;32m   7071\u001b[0m     indexer \u001b[38;5;241m=\u001b[39m indexer[\u001b[38;5;241m~\u001b[39mmask]\n\u001b[1;32m   7072\u001b[0m \u001b[38;5;28;01mreturn\u001b[39;00m \u001b[38;5;28mself\u001b[39m\u001b[38;5;241m.\u001b[39mdelete(indexer)\n",
      "\u001b[0;31mKeyError\u001b[0m: \"['Périmètre'] not found in axis\""
     ]
    }
   ],
   "source": [
    "# let's use the amazing Seaborn library to plot even more insightfull scatter plots:\n",
    "import seaborn as sns # make sure you installed the library with pip or conda!\n",
    "\n",
    "# create a joint plot using Seaborn:\n",
    "sns.jointplot(data = df_copy_nanfix.set_index('DateTime').resample('W').sum().drop('Périmètre'), x = 'Thermique', y = 'Nucléaire')"
   ]
  },
  {
   "cell_type": "code",
   "execution_count": null,
   "metadata": {},
   "outputs": [],
   "source": [
    "sns.pairplot(data = df_copy_nanfix.set_index('DateTime').drop(['Year','Périmètre']).resample('W').sum(),axis = 1))"
   ]
  },
  {
   "cell_type": "markdown",
   "metadata": {},
   "source": [
    "# Plotting with Plotly (optional)\n",
    "\n",
    "In order to go further you can start exploring an alternative ploting library: Plotly.\n",
    "\n",
    "Two possible ways of using plotly with pandas :\n",
    " - https://plotly.com/python/pandas-backend/\n",
    " - https://github.com/santosjorge/cufflinks\n",
    " - https://coderzcolumn.com/tutorials/data-science/cufflinks-how-to-create-plotly-charts-from-pandas-dataframe-with-one-line-of-code\n",
    " \n",
    "Repeat the previous exercises using the Plotly/Cufflinks backend for Pandas. \n",
    "\n",
    "Which library do you prefer ? Which plotly integration works better ?"
   ]
  },
  {
   "cell_type": "code",
   "execution_count": null,
   "metadata": {},
   "outputs": [],
   "source": []
  }
 ],
 "metadata": {
  "interpreter": {
   "hash": "916dbcbb3f70747c44a77c7bcd40155683ae19c65e1c03b4aa3499c5328201f1"
  },
  "kernelspec": {
   "display_name": "Python 3 (ipykernel)",
   "language": "python",
   "name": "python3"
  },
  "language_info": {
   "codemirror_mode": {
    "name": "ipython",
    "version": 3
   },
   "file_extension": ".py",
   "mimetype": "text/x-python",
   "name": "python",
   "nbconvert_exporter": "python",
   "pygments_lexer": "ipython3",
   "version": "3.12.2"
  },
  "toc": {
   "base_numbering": 1,
   "nav_menu": {},
   "number_sections": true,
   "sideBar": true,
   "skip_h1_title": false,
   "title_cell": "Table of Contents",
   "title_sidebar": "Contents",
   "toc_cell": false,
   "toc_position": {},
   "toc_section_display": true,
   "toc_window_display": true
  }
 },
 "nbformat": 4,
 "nbformat_minor": 4
}
