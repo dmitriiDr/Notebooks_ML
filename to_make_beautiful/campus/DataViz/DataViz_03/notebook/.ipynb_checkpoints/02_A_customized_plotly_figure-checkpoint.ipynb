{
 "cells": [
  {
   "cell_type": "code",
   "execution_count": null,
   "id": "5445e425",
   "metadata": {},
   "outputs": [],
   "source": [
    "# Import standard libraries\n",
    "\n",
    "import pandas as pd\n",
    "import os"
   ]
  },
  {
   "cell_type": "markdown",
   "id": "f7ac4137",
   "metadata": {},
   "source": [
    "# Telling a story\n",
    "\n",
    "You want to create a figure that answers a _single_ question, for example:\n",
    "\n",
    "<H4>\n",
    "    <font color='orange'><b> --> How does the national energy consumption evolve with the change in temperature? </b></font>\n",
    "</H4>\n",
    "\n",
    "You should also determine who will be your audience (to the best of your knowledge):\n",
    "\n",
    "<H4>\n",
    "    <font color='orange'><b> My audience: A public of non experts </b></font>\n",
    "</H4>"
   ]
  },
  {
   "cell_type": "markdown",
   "id": "5a3b4ec1-885f-45e3-8e3e-3f82f4499cb1",
   "metadata": {},
   "source": [
    "Now that these two aspects are clearly stated, let's go throuh the process of answering our question with a nice Figure!  \n",
    "But first we need data!"
   ]
  },
  {
   "cell_type": "markdown",
   "id": "55b19c25",
   "metadata": {},
   "source": [
    "## Import the data"
   ]
  },
  {
   "cell_type": "markdown",
   "id": "eb76089d",
   "metadata": {},
   "source": [
    "Download the \"Pickles\" folder from google drive (*.../Modules/DataViz/DataViz3/Pickles)* and unzip its content in a new folder. There should be a total of 4 pickles in the folder:"
   ]
  },
  {
   "cell_type": "code",
   "execution_count": null,
   "id": "b4b460b2",
   "metadata": {},
   "outputs": [],
   "source": [
    "path_to_pickles = '../data/Pickles'\n",
    "\n",
    "os.listdir(path_to_pickles)"
   ]
  },
  {
   "cell_type": "markdown",
   "id": "318a68d6",
   "metadata": {},
   "source": [
    "Import the relevant pickles into pandas dataframes:"
   ]
  },
  {
   "cell_type": "code",
   "execution_count": null,
   "id": "59ef57f6",
   "metadata": {},
   "outputs": [],
   "source": [
    "import pandas as pd\n",
    "\n",
    "directory = path_to_pickles\n",
    "\n",
    "df_data_nationales = pd.read_pickle(directory + '/df_data_nationales.pkl')\n",
    "df_temperatures = pd.read_pickle(directory + '/df_temperatures.pkl')\n",
    "# df_solaire = pd.read_pickle(directory + '/df_solaire_norm.pkl')\n",
    "# df_eolien = pd.read_pickle(directory + '/df_eolien_norm.pkl')"
   ]
  },
  {
   "cell_type": "code",
   "execution_count": null,
   "id": "e00c6847",
   "metadata": {},
   "outputs": [],
   "source": [
    "df_data_nationales.head()"
   ]
  },
  {
   "cell_type": "code",
   "execution_count": null,
   "id": "1c416fde",
   "metadata": {
    "scrolled": true
   },
   "outputs": [],
   "source": [
    "df_temperatures.head()"
   ]
  },
  {
   "cell_type": "markdown",
   "id": "f3273f9a",
   "metadata": {},
   "source": [
    "Check missing values with missingno package"
   ]
  },
  {
   "cell_type": "code",
   "execution_count": null,
   "id": "22f22607",
   "metadata": {},
   "outputs": [],
   "source": [
    "import missingno as msno #install with pip/conda if necessary\n",
    "\n",
    "msno.matrix(df_temperatures)\n",
    "msno.matrix(df_data_nationales)"
   ]
  },
  {
   "cell_type": "markdown",
   "id": "49cd020a",
   "metadata": {},
   "source": [
    "### Prepare the data"
   ]
  },
  {
   "cell_type": "markdown",
   "id": "732b5086",
   "metadata": {},
   "source": [
    "1. Retreive the information about the evolution of the national energy consumption in France. Keep only the column \"Consommation\" and downsample to hourly data (instead of every 15 min):"
   ]
  },
  {
   "cell_type": "code",
   "execution_count": null,
   "id": "8b0897a4",
   "metadata": {},
   "outputs": [],
   "source": [
    "conso_nat = pd.DataFrame(df_data_nationales['Consommation'].dropna(axis=0).resample('h').mean())\n",
    "conso_nat.head()"
   ]
  },
  {
   "cell_type": "markdown",
   "id": "15e71c29",
   "metadata": {},
   "source": [
    "2. Retreive the information about the evolution of the average temperature in France. Average out the temperature over the different regions and resample to hourly data:"
   ]
  },
  {
   "cell_type": "code",
   "execution_count": null,
   "id": "cf7d7fc0",
   "metadata": {},
   "outputs": [],
   "source": [
    "avg_temp_nat = pd.DataFrame(df_temperatures.mean(axis=1).dropna(axis=0).resample('h').mean(), columns=['avg_temperature'])\n",
    "avg_temp_nat.head()"
   ]
  },
  {
   "cell_type": "markdown",
   "id": "46570c6f",
   "metadata": {},
   "source": [
    "3. Merge the two dataframes together\n",
    "\n",
    "Merging our two dataframes makes it easier to handle and save our data. the 'df.merge()' method also ensures each column has the same length (which makes plotting our data suddenly very simple)."
   ]
  },
  {
   "cell_type": "code",
   "execution_count": null,
   "id": "c3974b00",
   "metadata": {},
   "outputs": [],
   "source": [
    "merged = conso_nat.merge(avg_temp_nat, how='inner', left_index=True, right_index=True)\n",
    "merged.head()"
   ]
  },
  {
   "cell_type": "markdown",
   "id": "9849a777",
   "metadata": {},
   "source": [
    "4. Resample the pandas dataframe to daily data points"
   ]
  },
  {
   "cell_type": "code",
   "execution_count": null,
   "id": "6cde95f9",
   "metadata": {},
   "outputs": [],
   "source": [
    "merged_D = merged.resample('D').mean()"
   ]
  },
  {
   "cell_type": "markdown",
   "id": "971903ca",
   "metadata": {},
   "source": [
    "5. Normalize our data (we're trying to show a trend, it is therefore not necesary to use the absolute values)"
   ]
  },
  {
   "cell_type": "code",
   "execution_count": null,
   "id": "f0e1917d",
   "metadata": {},
   "outputs": [],
   "source": [
    "merged_D_Norm = merged_D.apply(lambda x: (x - x.min())/(x.max() - x.min())).copy()"
   ]
  },
  {
   "cell_type": "markdown",
   "id": "1ef689f2",
   "metadata": {},
   "source": [
    "6. create two new columns where the data is smoothed out (using a rolling mean). These will be used as trendline in the plot. Clean the data if necessary. Save the resulting dataframe "
   ]
  },
  {
   "cell_type": "code",
   "execution_count": null,
   "id": "3f7f4478",
   "metadata": {},
   "outputs": [],
   "source": [
    "rolling_window = 100\n",
    "merged_D_Norm['smothed_conso'] = merged_D_Norm.Consommation.rolling(rolling_window, center=True).mean()\n",
    "merged_D_Norm['smothed_avg_temp'] = merged_D_Norm.avg_temperature.rolling(rolling_window, center=True).mean()\n",
    "merged_D_Norm.head(100)"
   ]
  },
  {
   "cell_type": "code",
   "execution_count": null,
   "id": "4643c129",
   "metadata": {},
   "outputs": [],
   "source": [
    "merged_D_Norm.dropna(inplace=True)"
   ]
  },
  {
   "cell_type": "markdown",
   "id": "f4684674",
   "metadata": {},
   "source": [
    "7. write the dataframe to a folder data_processed in notebook_guide"
   ]
  },
  {
   "cell_type": "code",
   "execution_count": null,
   "id": "8a3ef978",
   "metadata": {},
   "outputs": [],
   "source": [
    "ROOT = '.'\n",
    "folder = 'data_processed'\n",
    "fp = os.path.join(ROOT, folder) # fp is folderpath\n",
    "\n",
    "if not os.path.exists(fp):\n",
    "    os.mkdir(fp)\n",
    "\n",
    "filename = \"consumption_vs_temperature.pkl\"\n",
    "fpath_data = os.path.join(fp, filename)\n",
    "merged_D_Norm.to_pickle(fpath_data)"
   ]
  },
  {
   "cell_type": "markdown",
   "id": "ed3f67aa",
   "metadata": {},
   "source": [
    "8. Make a standard plot of the dataframe"
   ]
  },
  {
   "cell_type": "code",
   "execution_count": null,
   "id": "66e91d12",
   "metadata": {},
   "outputs": [],
   "source": [
    "merged_D_Norm.plot(figsize=(10,6))"
   ]
  },
  {
   "cell_type": "markdown",
   "id": "88d47229",
   "metadata": {},
   "source": [
    "... hum, well... that looks... ... lets use to plotly to make this figure look nice and add some interactivity!"
   ]
  },
  {
   "cell_type": "markdown",
   "id": "af70b0bb",
   "metadata": {},
   "source": [
    "# Plotting with plotly"
   ]
  },
  {
   "cell_type": "markdown",
   "id": "ba98c41d",
   "metadata": {},
   "source": [
    "## Setup before plotting"
   ]
  },
  {
   "cell_type": "markdown",
   "id": "751712bf",
   "metadata": {},
   "source": [
    "Create a font dictionnary that will help you styling your figures"
   ]
  },
  {
   "cell_type": "code",
   "execution_count": null,
   "id": "c399804a",
   "metadata": {},
   "outputs": [],
   "source": [
    "# example\n",
    "\n",
    "font = {\n",
    "    'family': \"Courier New\",\n",
    "    'size': {\n",
    "        'small': 12,\n",
    "        'medium': 16,\n",
    "        'big': 20\n",
    "        },\n",
    "    'color': {\n",
    "        'axes': 'rgb(180, 180, 180)',\n",
    "        'primary': 'lightcoral',\n",
    "        'secondary': 'lightsteelblue',\n",
    "        'highlight': 'sandybrown'\n",
    "    },\n",
    "    'line width': 2\n",
    "}"
   ]
  },
  {
   "cell_type": "markdown",
   "id": "8ffa331e",
   "metadata": {},
   "source": [
    "Note: There are a lot of named CSS colors you can pick from to customize your graph, but rememebr: don't pick too many! Three different colors is usually more than enough.  \n",
    "FYI, these are the colors, play around with them (also check out https://developer.mozilla.org/en-US/docs/Web/CSS/named-color to visualise the colors):\n",
    "\n",
    "*aliceblue, antiquewhite, aqua, aquamarine, azure,\n",
    "beige, bisque, black, blanchedalmond, blue,\n",
    "blueviolet, brown, burlywood, cadetblue,\n",
    "chartreuse, chocolate, coral, cornflowerblue,\n",
    "cornsilk, crimson, cyan, darkblue, darkcyan,\n",
    "darkgoldenrod, darkgray, darkgrey, darkgreen,\n",
    "darkkhaki, darkmagenta, darkolivegreen, darkorange,\n",
    "darkorchid, darkred, darksalmon, darkseagreen,\n",
    "darkslateblue, darkslategray, darkslategrey,\n",
    "darkturquoise, darkviolet, deeppink, deepskyblue,\n",
    "dimgray, dimgrey, dodgerblue, firebrick,\n",
    "floralwhite, forestgreen, fuchsia, gainsboro,\n",
    "ghostwhite, gold, goldenrod, gray, grey, green,\n",
    "greenyellow, honeydew, hotpink, indianred, indigo,\n",
    "ivory, khaki, lavender, lavenderblush, lawngreen,\n",
    "lemonchiffon, lightblue, lightcoral, lightcyan,\n",
    "lightgoldenrodyellow, lightgray, lightgrey,\n",
    "lightgreen, lightpink, lightsalmon, lightseagreen,\n",
    "lightskyblue, lightslategray, lightslategrey,\n",
    "lightsteelblue, lightyellow, lime, limegreen,\n",
    "linen, magenta, maroon, mediumaquamarine,\n",
    "mediumblue, mediumorchid, mediumpurple,\n",
    "mediumseagreen, mediumslateblue, mediumspringgreen,\n",
    "mediumturquoise, mediumvioletred, midnightblue,\n",
    "mintcream, mistyrose, moccasin, navajowhite, navy,\n",
    "oldlace, olive, olivedrab, orange, orangered,\n",
    "orchid, palegoldenrod, palegreen, paleturquoise,\n",
    "palevioletred, papayawhip, peachpuff, peru, pink,\n",
    "plum, powderblue, purple, red, rosybrown,\n",
    "royalblue, rebeccapurple, saddlebrown, salmon,\n",
    "sandybrown, seagreen, seashell, sienna, silver,\n",
    "skyblue, slateblue, slategray, slategrey, snow,\n",
    "springgreen, steelblue, tan, teal, thistle, tomato,\n",
    "turquoise, violet, wheat, white, whitesmoke,\n",
    "yellow, yellowgreen*"
   ]
  },
  {
   "cell_type": "markdown",
   "id": "185cb9ac",
   "metadata": {},
   "source": [
    "Once you settled on your styles, you can export this \"style dictionnary\" (for example as **style.json**) so it can be reused elsewhere in your project (or even in different projects). This will help you ensure style consistency throughout your plotting projects."
   ]
  },
  {
   "cell_type": "markdown",
   "id": "37b989d4",
   "metadata": {},
   "source": [
    "1. Write the font dictionnary to a json file in a css folder in notebook_guide"
   ]
  },
  {
   "cell_type": "code",
   "execution_count": null,
   "id": "08dfff85",
   "metadata": {},
   "outputs": [],
   "source": [
    "import json\n",
    "\n",
    "ROOT = '.'\n",
    "path_css = os.path.join(ROOT, 'static')\n",
    "\n",
    "if not os.path.exists(path_css):\n",
    "    os.mkdir(path_css)\n",
    "\n",
    "filename = \"style.json\"\n",
    "fpath_styling = os.path.join(path_css, filename)\n",
    "\n",
    "with open(fpath_styling, 'w') as file:\n",
    "    file.write(json.dumps(font, indent=4, sort_keys=True))"
   ]
  },
  {
   "cell_type": "markdown",
   "id": "75f84a55",
   "metadata": {},
   "source": [
    "2. Create a simple function that adds lineplots to a figure (in plotly these are called \"traces\"). The purpose of this function is to allow you to easily add extra 'traces' (for example lines) to your figure"
   ]
  },
  {
   "cell_type": "code",
   "execution_count": null,
   "id": "486d0a45",
   "metadata": {},
   "outputs": [],
   "source": [
    "def add_data_to_figure(fig, x, y, label=\"no label\", color=\"red\", line_width=1, opacity=1):\n",
    "    \n",
    "    fig.add_trace(\n",
    "        go.Scatter(\n",
    "            x=x, y=y, \n",
    "            mode='lines+markers', # try only lines and you'll see that lasso and box select dissapear when there are too many datapoints\n",
    "            name=label,\n",
    "            line=dict(color=color, width=line_width),\n",
    "            connectgaps=True,\n",
    "            opacity=opacity\n",
    "    ))\n",
    "\n",
    "    return fig"
   ]
  },
  {
   "cell_type": "markdown",
   "id": "ae761202",
   "metadata": {},
   "source": [
    "## Creating the actual figure"
   ]
  },
  {
   "cell_type": "markdown",
   "id": "9ee3e9f1",
   "metadata": {},
   "source": [
    "1. Load the font dict"
   ]
  },
  {
   "cell_type": "code",
   "execution_count": null,
   "id": "c0c0ede7",
   "metadata": {},
   "outputs": [],
   "source": [
    "with open(fpath_styling, 'r') as file:\n",
    "    font = json.load(file)\n",
    "    print(json.dumps(font, indent=4,))"
   ]
  },
  {
   "cell_type": "markdown",
   "id": "e6403546",
   "metadata": {},
   "source": [
    "2. Load the pre-processed data"
   ]
  },
  {
   "cell_type": "code",
   "execution_count": null,
   "id": "3d9b4428",
   "metadata": {},
   "outputs": [],
   "source": [
    "df = pd.read_pickle(fpath_data)\n",
    "df.head()"
   ]
  },
  {
   "cell_type": "markdown",
   "id": "622738c8",
   "metadata": {},
   "source": [
    "3. Choose the data you want to plot and _how_ you want to plot it"
   ]
  },
  {
   "cell_type": "code",
   "execution_count": null,
   "id": "43db8a93",
   "metadata": {},
   "outputs": [],
   "source": [
    "x = df.index\n",
    "\n",
    "# trace 1: average temperature\n",
    "y1 = df.avg_temperature\n",
    "label = 'Average temperature'\n",
    "color = font['color']['primary']\n",
    "lw = font['line width']\n",
    "opacity = 0.2\n",
    "plot_args1 = (x, y1, label, color, lw, opacity)\n",
    "\n",
    "# trace 2: energy consumption\n",
    "y2 = df.Consommation\n",
    "label = 'Energy consumption'\n",
    "color = font['color']['secondary']\n",
    "lw = font['line width']\n",
    "opacity = 0.2\n",
    "plot_args2 = (x, y2, label, color, lw, opacity)"
   ]
  },
  {
   "cell_type": "markdown",
   "id": "9dd353b6",
   "metadata": {},
   "source": [
    "4. Create a new figure and add the traces to it"
   ]
  },
  {
   "cell_type": "code",
   "execution_count": null,
   "id": "6b0ac568",
   "metadata": {},
   "outputs": [],
   "source": [
    "import plotly.graph_objects as go\n",
    "\n",
    "fig = go.FigureWidget()\n",
    "\n",
    "add_data_to_figure(fig, *plot_args1)\n",
    "add_data_to_figure(fig, *plot_args2)\n",
    "\n",
    "fig.show()"
   ]
  },
  {
   "cell_type": "markdown",
   "id": "a5ad3d6a-a7d7-49f4-b97a-b82821ed21f8",
   "metadata": {},
   "source": [
    "...hum ... well, at least it's interactive now!"
   ]
  },
  {
   "cell_type": "markdown",
   "id": "0cdc5297",
   "metadata": {},
   "source": [
    "Let's add even more traces:"
   ]
  },
  {
   "cell_type": "code",
   "execution_count": null,
   "id": "60529a47",
   "metadata": {},
   "outputs": [],
   "source": [
    "# trace 3: average temperature - smoothed\n",
    "y3 = df.smothed_avg_temp\n",
    "label = 'temp - smoothed'\n",
    "color = font['color']['primary']\n",
    "lw = font['line width'] + 0.5\n",
    "plot_args3 = (x, y3, label, color, lw)\n",
    "\n",
    "# trace 4: energy consumption - smoothed\n",
    "y4 = df.smothed_conso\n",
    "label = \"conso - smoothed\"\n",
    "color = font['color']['secondary']\n",
    "lw = font['line width'] + 0.5\n",
    "plot_args4 = (x, y4, label, color, lw)\n",
    "\n",
    "\n",
    "add_data_to_figure(fig, *plot_args3)\n",
    "add_data_to_figure(fig, *plot_args4)\n",
    "\n",
    "\n",
    "fig.show()"
   ]
  },
  {
   "cell_type": "markdown",
   "id": "f75f6ce5-9e0e-4fc0-a6f1-eb7812f49147",
   "metadata": {},
   "source": [
    "After having dialed back the \"raw data\" it already looks a lot less crowded. Again, we're just interested in the general trends here."
   ]
  },
  {
   "cell_type": "markdown",
   "id": "955cc8f9",
   "metadata": {},
   "source": [
    "Now we'll add some annotations to the figure:\n",
    "\n",
    "https://plotly.com/python/text-and-annotations/"
   ]
  },
  {
   "cell_type": "markdown",
   "id": "b2295436-8b9f-495c-bd6b-2f5ce66c9067",
   "metadata": {},
   "source": [
    "Let's check the default font sizes that we've set earlier:"
   ]
  },
  {
   "cell_type": "code",
   "execution_count": null,
   "id": "60e7baf0",
   "metadata": {},
   "outputs": [],
   "source": [
    "font['size']"
   ]
  },
  {
   "cell_type": "code",
   "execution_count": null,
   "id": "9eaa429c",
   "metadata": {},
   "outputs": [],
   "source": [
    "text = {\n",
    "    'title': \"When the temperature drops, the energy consumption rises.\",\n",
    "    'source': \"RTE france (normalised data)\"\n",
    "}\n",
    "\n",
    "\n",
    "annotations = []\n",
    "\n",
    "# add a title (used to describe the figure)\n",
    "annotations.append(dict(xref='paper', yref='paper',\n",
    "                        x=0.5, y=1.10,\n",
    "                        xanchor='center', yanchor='bottom',\n",
    "                        text=text[\"title\"],\n",
    "                        font=dict(family=font[\"family\"],\n",
    "                                  size=font[\"size\"][\"big\"],\n",
    "                                  color=font[\"color\"]['axes']),\n",
    "                        showarrow=False))\n",
    "\n",
    "\n",
    "# add text at the bottom of the figure\n",
    "annotations.append(dict(xref='paper', yref='paper',\n",
    "                        x=0.5, y=-0.2,\n",
    "                        xanchor='center', yanchor='top',\n",
    "                        text=text[\"source\"],\n",
    "                        font=dict(family=font[\"family\"],\n",
    "                                  size=font[\"size\"][\"small\"],\n",
    "                                  color=font[\"color\"]['axes']),\n",
    "                        showarrow=False))\n",
    "\n",
    "\n",
    "fig.update_layout(annotations=annotations)"
   ]
  },
  {
   "cell_type": "markdown",
   "id": "98e9ef54",
   "metadata": {},
   "source": [
    "What do we want?! **MORE ANNOTATIONS !!**  \n",
    "Wen do we want them?! **NOOOOOW !!!**"
   ]
  },
  {
   "cell_type": "code",
   "execution_count": null,
   "id": "865ee0da",
   "metadata": {},
   "outputs": [],
   "source": [
    "# Adding labels to the traces (directly on the plot)\n",
    "x, y, label, color, _ = plot_args3\n",
    "annotations.append(dict(xref='x', yref='y',\n",
    "                        x=x[-1] + pd.offsets.Day(20),\n",
    "                        y=y.iloc[-1],\n",
    "                        xanchor='left', yanchor='middle',\n",
    "                        text=\"Average Temperature\",\n",
    "                        font=dict(family=font[\"family\"],\n",
    "                                  size=font[\"size\"][\"medium\"],\n",
    "                                  color=color),\n",
    "                        showarrow=False))\n",
    "\n",
    "\n",
    "x, y, label, color, _ = plot_args4\n",
    "annotations.append(dict(xref='x', yref='y',\n",
    "                        x=x[-1] + pd.offsets.Day(20),\n",
    "                        y=y.iloc[-1],\n",
    "                        xanchor='left', yanchor='middle',\n",
    "                        text=\"Energy consumption\",                        \n",
    "                        font=dict(family=font[\"family\"],\n",
    "                                  size=font[\"size\"][\"medium\"],\n",
    "                                  color=color),\n",
    "                        showarrow=False))\n",
    "\n",
    "\n",
    "fig.update_layout(annotations=annotations)"
   ]
  },
  {
   "cell_type": "markdown",
   "id": "c0744986",
   "metadata": {},
   "source": [
    "Now make the figure beautiful _(this can take a lot of time, but once it's done it's done!)_:"
   ]
  },
  {
   "cell_type": "code",
   "execution_count": null,
   "id": "36a6a0e9",
   "metadata": {},
   "outputs": [],
   "source": [
    "import datetime\n",
    "\n",
    "fig.update_layout(\n",
    "    \n",
    "    # customize x-axis\n",
    "    xaxis_range=[datetime.datetime(2013, 1, 1),\n",
    "                 datetime.datetime(2019, 1, 1)],\n",
    "    xaxis=dict(\n",
    "        type=\"date\",\n",
    "        tick0=\"2013-01-01\", # first tick\n",
    "        dtick=\"M12\", # interval between each tick following 'tick0' (1 year, ie 12 months)\n",
    "        tickformat=\"| %Y |\",\n",
    "        tickvals=list(range(2013, 2019)),\n",
    "        showline=True,\n",
    "        showgrid=False,\n",
    "        showticklabels=True,\n",
    "        linecolor=font[\"color\"]['axes'],\n",
    "        linewidth=2,\n",
    "        ticks='outside',\n",
    "        tickfont=dict(\n",
    "            family=font[\"family\"] + \" Bold\",\n",
    "            size=font[\"size\"][\"medium\"],\n",
    "            color=font[\"color\"]['highlight'],\n",
    "        ),\n",
    "    ),\n",
    "    \n",
    "    # customize x and y-axis\n",
    "    yaxis=dict(\n",
    "        showgrid=False,\n",
    "        zeroline=False,\n",
    "        showline=False,\n",
    "        showticklabels=False,\n",
    "    ),\n",
    "    \n",
    "    # figure size\n",
    "    autosize=False,\n",
    "    width=1500,\n",
    "    height=500,\n",
    "    \n",
    "    margin=dict(\n",
    "        autoexpand=True,\n",
    "        l=0,\n",
    "        r=110,\n",
    "        t=110,\n",
    "        b=110,\n",
    "        \n",
    "    ),\n",
    "\n",
    "    \n",
    "    # disable the legend\n",
    "    showlegend=False,\n",
    "    \n",
    "    # change the backgroud color\n",
    "    plot_bgcolor='white'\n",
    ")"
   ]
  },
  {
   "cell_type": "code",
   "execution_count": null,
   "id": "ae2ded2b-c6e2-4483-b5ff-5a281ef2ebfb",
   "metadata": {},
   "outputs": [],
   "source": []
  }
 ],
 "metadata": {
  "kernelspec": {
   "display_name": "Python 3 (ipykernel)",
   "language": "python",
   "name": "python3"
  },
  "language_info": {
   "codemirror_mode": {
    "name": "ipython",
    "version": 3
   },
   "file_extension": ".py",
   "mimetype": "text/x-python",
   "name": "python",
   "nbconvert_exporter": "python",
   "pygments_lexer": "ipython3",
   "version": "3.12.5"
  }
 },
 "nbformat": 4,
 "nbformat_minor": 5
}
