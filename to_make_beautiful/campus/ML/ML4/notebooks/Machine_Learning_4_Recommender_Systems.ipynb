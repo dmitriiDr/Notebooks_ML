{
 "cells": [
  {
   "cell_type": "code",
   "execution_count": 2,
   "metadata": {
    "tags": []
   },
   "outputs": [],
   "source": [
    "import numpy as np\n",
    "import pandas as pd\n",
    "import keras\n",
    "import matplotlib.pyplot as plt\n",
    "from matplotlib import rcParams\n",
    "%matplotlib inline"
   ]
  },
  {
   "cell_type": "code",
   "execution_count": 3,
   "metadata": {
    "tags": []
   },
   "outputs": [
    {
     "name": "stdout",
     "output_type": "stream",
     "text": [
      "[PhysicalDevice(name='/physical_device:GPU:0', device_type='GPU')]\n"
     ]
    }
   ],
   "source": [
    "import tensorflow as tf\n",
    "print(tf.config.list_physical_devices('GPU'))"
   ]
  },
  {
   "cell_type": "markdown",
   "metadata": {},
   "source": [
    "**Resources** :\n",
    "\n",
    "*Matrix Factorization techniques for Recommender Systems*, Koren (2009)    \n",
    "http://www-edlab.cs.umass.edu/cs689/reading/netflix-matrix-factorization.pdf\n",
    "\n",
    "Hands on Machine Learning with scikit-learn and tensorflow:             \n",
    "https://drive.google.com/file/d/1t0rc3x5YQBgLXVLET6BzR4jn5vzMI_m0/view?usp=sharing\n",
    "\n",
    "The movieLens dataset:                                                \n",
    "https://grouplens.org/datasets/movielens/ \n",
    "\n",
    "Keras Functional API doc :                                            \n",
    "https://keras.io/guides/functional_api/\n"
   ]
  },
  {
   "cell_type": "markdown",
   "metadata": {},
   "source": [
    "# Recommender systems : collaborative filtering via matrix factorization"
   ]
  },
  {
   "cell_type": "markdown",
   "metadata": {},
   "source": [
    "Do you wonder how Netflix is able to recommend you movies despite it doesn't know anything about you but the ratings you gave to the movies you watched ? This is what we are going to explore during this 3 days machine learning module.\n",
    "\n",
    "First off, let's learn about what are recommender system, collaborative filtering and matrix factorization techniques, which are all very well introduced in Koren's 2009 famous article : *Matrix Factorization techniques for Recommender Systems* : http://www-edlab.cs.umass.edu/cs689/reading/netflix-matrix-factorization.pdf . Read the 4 first pages (up to section *adding biases* included). \n",
    "\n",
    "Through this notebook we are going to re-implement the model described in the pages you read, and apply it to a classic movie ratings dataset coming from the website *movieLens*. To do so, we will use a powerful deep learning python library called *Keras*, that makes it easy to train complex models based on linear algebra."
   ]
  },
  {
   "cell_type": "markdown",
   "metadata": {},
   "source": [
    "## Load the dataset"
   ]
  },
  {
   "cell_type": "markdown",
   "metadata": {},
   "source": [
    "For this module, we are going to use the movieLens dataset, that contains data from the movie recommending website movielens. The data is a subset of ratings from 0 to 5 given by some users of the website to a subset of movies. You can read more about it here (we are using the latest small dataset) : https://grouplens.org/datasets/movielens/ , and in the *README* file that is in the *data/ml-latest-small/* folder.\n",
    "\n",
    "Load the ratings data from the `ratings.csv` file into a dataframe. The userId and movieId provided in the file don't start from 0, and are not contiguous (i.e. there are missing indexes).\n",
    "\n",
    "Re-index the user and movie ids to indexes going from 0 to `nb_users` and 0 to `nb_movies` respectively, by building two dictionnaries `user_ids_map` and `movie_ids_map` that maps the file ids to your new ids. \n",
    "And finally, split the rows of this dataframe in a random 90%/10% train/test sets.\n",
    "\n",
    "To do so, fill the `get_train_test_sets` function below, and respect the returned objects structures that are described in the docstring.\n"
   ]
  },
  {
   "cell_type": "code",
   "execution_count": 4,
   "metadata": {},
   "outputs": [],
   "source": [
    "from sklearn.model_selection import train_test_split\n",
    "\n",
    "def get_train_test_sets(data_path, train_prop = 0.9):\n",
    "    \"\"\"\n",
    "    Build train and test sets and reindex userIds and MovieIds from 0 with contiguous indexes.\n",
    "    \n",
    "    Input: \n",
    "        data_path : string : the path to the ratings file\n",
    "        train_prop : float : The proportion of the training set \n",
    "    \n",
    "    Output:\n",
    "        train : pandas.DataFrame : A dataframe with columns [userId, movieId, rating, timestamp], where\n",
    "            the userId and movieId value have been replaced with new ids starting at 0. \n",
    "            Contains `train_prop` random entries from the input file.\n",
    "        test : pandas.DataFrame : Same as `train`, contains the 1 - `train_prop` remaining entries.\n",
    "        nb_users : int : Number of unique user ids\n",
    "        nb_movies : int : Number of unique movie ids\n",
    "        user_ids_map : dict : A mapping of original file userId to a new index starting at 0.\n",
    "            Keys are int from the original userId column, values are int of the new indexation.\n",
    "        movie_ids_map : dict : Same as `user_ids_map` for the movieIds.\n",
    "    \"\"\"\n",
    "    \n",
    "    #TOFILL\n",
    "    df = pd.read_csv(data_path)\n",
    "    \n",
    "    nb_users = df['userId'].unique()\n",
    "    nb_movies = df['movieId'].unique()\n",
    "    \n",
    "    user_ids_map = {old_id: new_id for new_id, old_id in enumerate(nb_users)}\n",
    "    movie_ids_map = {old_id: new_id for new_id, old_id in enumerate(nb_movies)}\n",
    "    \n",
    "    df['userId'] = df['userId'].map(user_ids_map)\n",
    "    df['movieId'] = df['movieId'].map(movie_ids_map)\n",
    "    \n",
    "    train, test = train_test_split(df,train_size=train_prop)\n",
    "    \n",
    "    nb_users = df['userId'].nunique()\n",
    "    nb_movies = df['movieId'].nunique()\n",
    "\n",
    "    return train, test, nb_users, nb_movies, user_ids_map, movie_ids_map"
   ]
  },
  {
   "cell_type": "code",
   "execution_count": 5,
   "metadata": {
    "tags": []
   },
   "outputs": [],
   "source": [
    "path = '../data/ml-latest-small/ratings.csv'\n",
    "train, test, nb_users, nb_movies, user_ids_map, movie_ids_map = get_train_test_sets(path)"
   ]
  },
  {
   "cell_type": "code",
   "execution_count": null,
   "metadata": {
    "tags": []
   },
   "outputs": [],
   "source": []
  },
  {
   "cell_type": "code",
   "execution_count": 6,
   "metadata": {
    "scrolled": true
   },
   "outputs": [
    {
     "name": "stdout",
     "output_type": "stream",
     "text": [
      "There are 9724 movies, 610 users, and 100836 ratings\n"
     ]
    }
   ],
   "source": [
    "dataset = pd.concat((train,test), axis = 0)\n",
    "\n",
    "print(\"There are %i movies, %i users, and %i ratings\" % (nb_movies, nb_users, dataset.shape[0]))"
   ]
  },
  {
   "cell_type": "code",
   "execution_count": 7,
   "metadata": {},
   "outputs": [],
   "source": [
    "X_train = [train[\"userId\"].to_numpy(), train[\"movieId\"].to_numpy()]\n",
    "y_train = train[\"rating\"].to_numpy()\n",
    "\n",
    "X_test = [test[\"userId\"].to_numpy(), test[\"movieId\"].to_numpy()]\n",
    "y_test = test[\"rating\"].to_numpy()"
   ]
  },
  {
   "cell_type": "markdown",
   "metadata": {},
   "source": [
    "Let's have a quick look at the ratings distribution:"
   ]
  },
  {
   "cell_type": "code",
   "execution_count": 8,
   "metadata": {
    "scrolled": true
   },
   "outputs": [
    {
     "data": {
      "text/plain": [
       "<Axes: xlabel='rating', ylabel='Count'>"
      ]
     },
     "execution_count": 8,
     "metadata": {},
     "output_type": "execute_result"
    },
    {
     "data": {
      "image/png": "[encoded data removed]",
      "text/plain": [
       "<Figure size 640x480 with 1 Axes>"
      ]
     },
     "metadata": {},
     "output_type": "display_data"
    }
   ],
   "source": [
    "import seaborn as sns\n",
    "\n",
    "sns.histplot(dataset,x='rating',bins=5)\n",
    "# dataset['rating'].hist(bins=5)"
   ]
  },
  {
   "cell_type": "markdown",
   "metadata": {},
   "source": [
    "In this dataset there are a lot of missing values, because not all the user/movie pairs have an associated rating. Indeed, each user rates only a few movies ! The goal of this notebook is to predict (some of) the missing user/movie ratings.\n",
    "\n",
    "Print how many movies each of the 5 first users have rated, and print the percentage of available ratings in the whole dataset (i.e. the ratio between number of ratings and all the possible users/movies combinations):"
   ]
  },
  {
   "cell_type": "code",
   "execution_count": 9,
   "metadata": {},
   "outputs": [
    {
     "name": "stdout",
     "output_type": "stream",
     "text": [
      "2.39% of movies rated by user #0\n",
      "0.3% of movies rated by user #1\n",
      "0.4% of movies rated by user #2\n",
      "2.22% of movies rated by user #3\n",
      "0.45% of movies rated by user #4\n",
      "===============================\n",
      "Total % of movies rated: 1.7\n"
     ]
    }
   ],
   "source": [
    "#TOFILL\n",
    "rate_ratio = []\n",
    "for i in range(5):\n",
    "    # rate_ratio.append(dataset['movieId'][dataset['userId']==i].nunique()/nb_movies * 100)\n",
    "    print('{}% of movies rated by user #{}'.format(round(dataset['movieId'][dataset['userId']==i].nunique()/nb_movies * 100,2),i))\n",
    "\n",
    "rate_ratio = []\n",
    "for i in range(nb_users):\n",
    "    rate_ratio.append(dataset['movieId'][dataset['userId']==i].nunique()/nb_movies * 100)\n",
    "    # print('{} movies rated for user #{}'.format(dataset['movieId'][dataset['userId']==i].nunique()/nb_movies * 100,i))\n",
    "print('===============================')\n",
    "print('Total % of movies rated: {}'.format(round(sum(rate_ratio)/len(rate_ratio),3)))"
   ]
  },
  {
   "cell_type": "markdown",
   "metadata": {},
   "source": [
    "There is only 1.7% of ratings that are available, which is normal as each hasn't rated all the movies. To see the dataset in a matrix form with all the missing ratings, use the `Dataframe.pivot()` function, with the `userId` as index, the `movieId` as columns, and the ratings for the `values` :"
   ]
  },
  {
   "cell_type": "code",
   "execution_count": 10,
   "metadata": {},
   "outputs": [],
   "source": [
    "#TOFILL\n",
    "dataset_pivot = dataset.pivot(columns='movieId',index='userId',values='rating')"
   ]
  },
  {
   "cell_type": "markdown",
   "metadata": {},
   "source": [
    "Print all the ratings of user 1. To do so, use the *movies.csv* file and your `movie_ids_map` dictionnary to find the movie title from the new movie indexes, and print the real movie title associated to each rating of user 1 :"
   ]
  },
  {
   "cell_type": "code",
   "execution_count": 11,
   "metadata": {},
   "outputs": [
    {
     "data": {
      "text/html": [
       "<div>\n",
       "<style scoped>\n",
       "    .dataframe tbody tr th:only-of-type {\n",
       "        vertical-align: middle;\n",
       "    }\n",
       "\n",
       "    .dataframe tbody tr th {\n",
       "        vertical-align: top;\n",
       "    }\n",
       "\n",
       "    .dataframe thead th {\n",
       "        text-align: right;\n",
       "    }\n",
       "</style>\n",
       "<table border=\"1\" class=\"dataframe\">\n",
       "  <thead>\n",
       "    <tr style=\"text-align: right;\">\n",
       "      <th></th>\n",
       "      <th>movieId</th>\n",
       "      <th>title</th>\n",
       "      <th>genres</th>\n",
       "    </tr>\n",
       "  </thead>\n",
       "  <tbody>\n",
       "    <tr>\n",
       "      <th>0</th>\n",
       "      <td>1</td>\n",
       "      <td>Toy Story (1995)</td>\n",
       "      <td>Adventure|Animation|Children|Comedy|Fantasy</td>\n",
       "    </tr>\n",
       "    <tr>\n",
       "      <th>1</th>\n",
       "      <td>2</td>\n",
       "      <td>Jumanji (1995)</td>\n",
       "      <td>Adventure|Children|Fantasy</td>\n",
       "    </tr>\n",
       "    <tr>\n",
       "      <th>2</th>\n",
       "      <td>3</td>\n",
       "      <td>Grumpier Old Men (1995)</td>\n",
       "      <td>Comedy|Romance</td>\n",
       "    </tr>\n",
       "    <tr>\n",
       "      <th>3</th>\n",
       "      <td>4</td>\n",
       "      <td>Waiting to Exhale (1995)</td>\n",
       "      <td>Comedy|Drama|Romance</td>\n",
       "    </tr>\n",
       "    <tr>\n",
       "      <th>4</th>\n",
       "      <td>5</td>\n",
       "      <td>Father of the Bride Part II (1995)</td>\n",
       "      <td>Comedy</td>\n",
       "    </tr>\n",
       "  </tbody>\n",
       "</table>\n",
       "</div>"
      ],
      "text/plain": [
       "   movieId                               title  \\\n",
       "0        1                    Toy Story (1995)   \n",
       "1        2                      Jumanji (1995)   \n",
       "2        3             Grumpier Old Men (1995)   \n",
       "3        4            Waiting to Exhale (1995)   \n",
       "4        5  Father of the Bride Part II (1995)   \n",
       "\n",
       "                                        genres  \n",
       "0  Adventure|Animation|Children|Comedy|Fantasy  \n",
       "1                   Adventure|Children|Fantasy  \n",
       "2                               Comedy|Romance  \n",
       "3                         Comedy|Drama|Romance  \n",
       "4                                       Comedy  "
      ]
     },
     "execution_count": 11,
     "metadata": {},
     "output_type": "execute_result"
    }
   ],
   "source": [
    "#TOFILL\n",
    "name_movie = pd.read_csv('../data/ml-latest-small/movies.csv')\n",
    "name_movie.head()"
   ]
  },
  {
   "cell_type": "code",
   "execution_count": 12,
   "metadata": {},
   "outputs": [],
   "source": [
    "# pd.DataFrame.from_dict(movie_ids_map,orient='index')\n",
    "# pd.merge(name_movie,pd.DataFrame.from_dict(movie_ids_map,orient='index').reset_index(names='movieId'),on='movieId',how='right')"
   ]
  },
  {
   "cell_type": "code",
   "execution_count": 13,
   "metadata": {
    "tags": []
   },
   "outputs": [],
   "source": [
    "result_dict = dict(zip(pd.merge(name_movie,pd.DataFrame.from_dict(movie_ids_map,orient='index').reset_index(names='movieId'),on='movieId',how='right')[0], pd.merge(name_movie,pd.DataFrame.from_dict(movie_ids_map,orient='index').reset_index(names='movieId'),on='movieId',how='right')['title']))"
   ]
  },
  {
   "cell_type": "code",
   "execution_count": 14,
   "metadata": {
    "tags": []
   },
   "outputs": [
    {
     "data": {
      "text/html": [
       "<div>\n",
       "<style scoped>\n",
       "    .dataframe tbody tr th:only-of-type {\n",
       "        vertical-align: middle;\n",
       "    }\n",
       "\n",
       "    .dataframe tbody tr th {\n",
       "        vertical-align: top;\n",
       "    }\n",
       "\n",
       "    .dataframe thead th {\n",
       "        text-align: right;\n",
       "    }\n",
       "</style>\n",
       "<table border=\"1\" class=\"dataframe\">\n",
       "  <thead>\n",
       "    <tr style=\"text-align: right;\">\n",
       "      <th></th>\n",
       "      <th>0</th>\n",
       "    </tr>\n",
       "  </thead>\n",
       "  <tbody>\n",
       "    <tr>\n",
       "      <th>1</th>\n",
       "      <td>0</td>\n",
       "    </tr>\n",
       "    <tr>\n",
       "      <th>3</th>\n",
       "      <td>1</td>\n",
       "    </tr>\n",
       "    <tr>\n",
       "      <th>6</th>\n",
       "      <td>2</td>\n",
       "    </tr>\n",
       "    <tr>\n",
       "      <th>47</th>\n",
       "      <td>3</td>\n",
       "    </tr>\n",
       "    <tr>\n",
       "      <th>50</th>\n",
       "      <td>4</td>\n",
       "    </tr>\n",
       "    <tr>\n",
       "      <th>...</th>\n",
       "      <td>...</td>\n",
       "    </tr>\n",
       "    <tr>\n",
       "      <th>160341</th>\n",
       "      <td>9719</td>\n",
       "    </tr>\n",
       "    <tr>\n",
       "      <th>160527</th>\n",
       "      <td>9720</td>\n",
       "    </tr>\n",
       "    <tr>\n",
       "      <th>160836</th>\n",
       "      <td>9721</td>\n",
       "    </tr>\n",
       "    <tr>\n",
       "      <th>163937</th>\n",
       "      <td>9722</td>\n",
       "    </tr>\n",
       "    <tr>\n",
       "      <th>163981</th>\n",
       "      <td>9723</td>\n",
       "    </tr>\n",
       "  </tbody>\n",
       "</table>\n",
       "<p>9724 rows × 1 columns</p>\n",
       "</div>"
      ],
      "text/plain": [
       "           0\n",
       "1          0\n",
       "3          1\n",
       "6          2\n",
       "47         3\n",
       "50         4\n",
       "...      ...\n",
       "160341  9719\n",
       "160527  9720\n",
       "160836  9721\n",
       "163937  9722\n",
       "163981  9723\n",
       "\n",
       "[9724 rows x 1 columns]"
      ]
     },
     "execution_count": 14,
     "metadata": {},
     "output_type": "execute_result"
    }
   ],
   "source": [
    "pd.DataFrame.from_dict(movie_ids_map,orient='index')"
   ]
  },
  {
   "cell_type": "code",
   "execution_count": 15,
   "metadata": {
    "tags": []
   },
   "outputs": [
    {
     "data": {
      "text/html": [
       "<div>\n",
       "<style scoped>\n",
       "    .dataframe tbody tr th:only-of-type {\n",
       "        vertical-align: middle;\n",
       "    }\n",
       "\n",
       "    .dataframe tbody tr th {\n",
       "        vertical-align: top;\n",
       "    }\n",
       "\n",
       "    .dataframe thead th {\n",
       "        text-align: right;\n",
       "    }\n",
       "</style>\n",
       "<table border=\"1\" class=\"dataframe\">\n",
       "  <thead>\n",
       "    <tr style=\"text-align: right;\">\n",
       "      <th></th>\n",
       "      <th>movieId</th>\n",
       "      <th>0</th>\n",
       "    </tr>\n",
       "  </thead>\n",
       "  <tbody>\n",
       "    <tr>\n",
       "      <th>0</th>\n",
       "      <td>1</td>\n",
       "      <td>0</td>\n",
       "    </tr>\n",
       "    <tr>\n",
       "      <th>1</th>\n",
       "      <td>3</td>\n",
       "      <td>1</td>\n",
       "    </tr>\n",
       "    <tr>\n",
       "      <th>2</th>\n",
       "      <td>6</td>\n",
       "      <td>2</td>\n",
       "    </tr>\n",
       "    <tr>\n",
       "      <th>3</th>\n",
       "      <td>47</td>\n",
       "      <td>3</td>\n",
       "    </tr>\n",
       "    <tr>\n",
       "      <th>4</th>\n",
       "      <td>50</td>\n",
       "      <td>4</td>\n",
       "    </tr>\n",
       "    <tr>\n",
       "      <th>...</th>\n",
       "      <td>...</td>\n",
       "      <td>...</td>\n",
       "    </tr>\n",
       "    <tr>\n",
       "      <th>9719</th>\n",
       "      <td>160341</td>\n",
       "      <td>9719</td>\n",
       "    </tr>\n",
       "    <tr>\n",
       "      <th>9720</th>\n",
       "      <td>160527</td>\n",
       "      <td>9720</td>\n",
       "    </tr>\n",
       "    <tr>\n",
       "      <th>9721</th>\n",
       "      <td>160836</td>\n",
       "      <td>9721</td>\n",
       "    </tr>\n",
       "    <tr>\n",
       "      <th>9722</th>\n",
       "      <td>163937</td>\n",
       "      <td>9722</td>\n",
       "    </tr>\n",
       "    <tr>\n",
       "      <th>9723</th>\n",
       "      <td>163981</td>\n",
       "      <td>9723</td>\n",
       "    </tr>\n",
       "  </tbody>\n",
       "</table>\n",
       "<p>9724 rows × 2 columns</p>\n",
       "</div>"
      ],
      "text/plain": [
       "      movieId     0\n",
       "0           1     0\n",
       "1           3     1\n",
       "2           6     2\n",
       "3          47     3\n",
       "4          50     4\n",
       "...       ...   ...\n",
       "9719   160341  9719\n",
       "9720   160527  9720\n",
       "9721   160836  9721\n",
       "9722   163937  9722\n",
       "9723   163981  9723\n",
       "\n",
       "[9724 rows x 2 columns]"
      ]
     },
     "execution_count": 15,
     "metadata": {},
     "output_type": "execute_result"
    }
   ],
   "source": [
    "pd.DataFrame.from_dict(movie_ids_map,orient='index').reset_index(names='movieId')"
   ]
  },
  {
   "cell_type": "code",
   "execution_count": 16,
   "metadata": {
    "tags": []
   },
   "outputs": [
    {
     "data": {
      "text/html": [
       "<div>\n",
       "<style scoped>\n",
       "    .dataframe tbody tr th:only-of-type {\n",
       "        vertical-align: middle;\n",
       "    }\n",
       "\n",
       "    .dataframe tbody tr th {\n",
       "        vertical-align: top;\n",
       "    }\n",
       "\n",
       "    .dataframe thead th {\n",
       "        text-align: right;\n",
       "    }\n",
       "</style>\n",
       "<table border=\"1\" class=\"dataframe\">\n",
       "  <thead>\n",
       "    <tr style=\"text-align: right;\">\n",
       "      <th></th>\n",
       "      <th>movieId</th>\n",
       "      <th>0</th>\n",
       "    </tr>\n",
       "  </thead>\n",
       "  <tbody>\n",
       "    <tr>\n",
       "      <th>0</th>\n",
       "      <td>1</td>\n",
       "      <td>0</td>\n",
       "    </tr>\n",
       "    <tr>\n",
       "      <th>1</th>\n",
       "      <td>3</td>\n",
       "      <td>1</td>\n",
       "    </tr>\n",
       "    <tr>\n",
       "      <th>2</th>\n",
       "      <td>6</td>\n",
       "      <td>2</td>\n",
       "    </tr>\n",
       "    <tr>\n",
       "      <th>3</th>\n",
       "      <td>47</td>\n",
       "      <td>3</td>\n",
       "    </tr>\n",
       "    <tr>\n",
       "      <th>4</th>\n",
       "      <td>50</td>\n",
       "      <td>4</td>\n",
       "    </tr>\n",
       "  </tbody>\n",
       "</table>\n",
       "</div>"
      ],
      "text/plain": [
       "   movieId  0\n",
       "0        1  0\n",
       "1        3  1\n",
       "2        6  2\n",
       "3       47  3\n",
       "4       50  4"
      ]
     },
     "execution_count": 16,
     "metadata": {},
     "output_type": "execute_result"
    }
   ],
   "source": [
    "pd.DataFrame.from_dict(movie_ids_map,orient='index').reset_index(names='movieId').head()"
   ]
  },
  {
   "cell_type": "code",
   "execution_count": 17,
   "metadata": {
    "tags": []
   },
   "outputs": [
    {
     "data": {
      "text/html": [
       "<div>\n",
       "<style scoped>\n",
       "    .dataframe tbody tr th:only-of-type {\n",
       "        vertical-align: middle;\n",
       "    }\n",
       "\n",
       "    .dataframe tbody tr th {\n",
       "        vertical-align: top;\n",
       "    }\n",
       "\n",
       "    .dataframe thead th {\n",
       "        text-align: right;\n",
       "    }\n",
       "</style>\n",
       "<table border=\"1\" class=\"dataframe\">\n",
       "  <thead>\n",
       "    <tr style=\"text-align: right;\">\n",
       "      <th></th>\n",
       "      <th>movieId</th>\n",
       "      <th>title</th>\n",
       "      <th>genres</th>\n",
       "      <th>0</th>\n",
       "    </tr>\n",
       "  </thead>\n",
       "  <tbody>\n",
       "    <tr>\n",
       "      <th>0</th>\n",
       "      <td>1</td>\n",
       "      <td>Toy Story (1995)</td>\n",
       "      <td>Adventure|Animation|Children|Comedy|Fantasy</td>\n",
       "      <td>0</td>\n",
       "    </tr>\n",
       "    <tr>\n",
       "      <th>1</th>\n",
       "      <td>2</td>\n",
       "      <td>Jumanji (1995)</td>\n",
       "      <td>Adventure|Children|Fantasy</td>\n",
       "      <td>481</td>\n",
       "    </tr>\n",
       "    <tr>\n",
       "      <th>2</th>\n",
       "      <td>3</td>\n",
       "      <td>Grumpier Old Men (1995)</td>\n",
       "      <td>Comedy|Romance</td>\n",
       "      <td>1</td>\n",
       "    </tr>\n",
       "    <tr>\n",
       "      <th>3</th>\n",
       "      <td>4</td>\n",
       "      <td>Waiting to Exhale (1995)</td>\n",
       "      <td>Comedy|Drama|Romance</td>\n",
       "      <td>482</td>\n",
       "    </tr>\n",
       "    <tr>\n",
       "      <th>4</th>\n",
       "      <td>5</td>\n",
       "      <td>Father of the Bride Part II (1995)</td>\n",
       "      <td>Comedy</td>\n",
       "      <td>483</td>\n",
       "    </tr>\n",
       "    <tr>\n",
       "      <th>...</th>\n",
       "      <td>...</td>\n",
       "      <td>...</td>\n",
       "      <td>...</td>\n",
       "      <td>...</td>\n",
       "    </tr>\n",
       "    <tr>\n",
       "      <th>9719</th>\n",
       "      <td>193581</td>\n",
       "      <td>Black Butler: Book of the Atlantic (2017)</td>\n",
       "      <td>Action|Animation|Comedy|Fantasy</td>\n",
       "      <td>5487</td>\n",
       "    </tr>\n",
       "    <tr>\n",
       "      <th>9720</th>\n",
       "      <td>193583</td>\n",
       "      <td>No Game No Life: Zero (2017)</td>\n",
       "      <td>Animation|Comedy|Fantasy</td>\n",
       "      <td>5488</td>\n",
       "    </tr>\n",
       "    <tr>\n",
       "      <th>9721</th>\n",
       "      <td>193585</td>\n",
       "      <td>Flint (2017)</td>\n",
       "      <td>Drama</td>\n",
       "      <td>5489</td>\n",
       "    </tr>\n",
       "    <tr>\n",
       "      <th>9722</th>\n",
       "      <td>193587</td>\n",
       "      <td>Bungo Stray Dogs: Dead Apple (2018)</td>\n",
       "      <td>Action|Animation</td>\n",
       "      <td>5490</td>\n",
       "    </tr>\n",
       "    <tr>\n",
       "      <th>9723</th>\n",
       "      <td>193609</td>\n",
       "      <td>Andrew Dice Clay: Dice Rules (1991)</td>\n",
       "      <td>Comedy</td>\n",
       "      <td>6942</td>\n",
       "    </tr>\n",
       "  </tbody>\n",
       "</table>\n",
       "<p>9724 rows × 4 columns</p>\n",
       "</div>"
      ],
      "text/plain": [
       "      movieId                                      title  \\\n",
       "0           1                           Toy Story (1995)   \n",
       "1           2                             Jumanji (1995)   \n",
       "2           3                    Grumpier Old Men (1995)   \n",
       "3           4                   Waiting to Exhale (1995)   \n",
       "4           5         Father of the Bride Part II (1995)   \n",
       "...       ...                                        ...   \n",
       "9719   193581  Black Butler: Book of the Atlantic (2017)   \n",
       "9720   193583               No Game No Life: Zero (2017)   \n",
       "9721   193585                               Flint (2017)   \n",
       "9722   193587        Bungo Stray Dogs: Dead Apple (2018)   \n",
       "9723   193609        Andrew Dice Clay: Dice Rules (1991)   \n",
       "\n",
       "                                           genres     0  \n",
       "0     Adventure|Animation|Children|Comedy|Fantasy     0  \n",
       "1                      Adventure|Children|Fantasy   481  \n",
       "2                                  Comedy|Romance     1  \n",
       "3                            Comedy|Drama|Romance   482  \n",
       "4                                          Comedy   483  \n",
       "...                                           ...   ...  \n",
       "9719              Action|Animation|Comedy|Fantasy  5487  \n",
       "9720                     Animation|Comedy|Fantasy  5488  \n",
       "9721                                        Drama  5489  \n",
       "9722                             Action|Animation  5490  \n",
       "9723                                       Comedy  6942  \n",
       "\n",
       "[9724 rows x 4 columns]"
      ]
     },
     "execution_count": 17,
     "metadata": {},
     "output_type": "execute_result"
    }
   ],
   "source": [
    "pd.merge(name_movie,pd.DataFrame.from_dict(movie_ids_map,orient='index').reset_index(names='movieId'))"
   ]
  },
  {
   "cell_type": "code",
   "execution_count": 18,
   "metadata": {
    "tags": []
   },
   "outputs": [
    {
     "data": {
      "text/html": [
       "<div>\n",
       "<style scoped>\n",
       "    .dataframe tbody tr th:only-of-type {\n",
       "        vertical-align: middle;\n",
       "    }\n",
       "\n",
       "    .dataframe tbody tr th {\n",
       "        vertical-align: top;\n",
       "    }\n",
       "\n",
       "    .dataframe thead th {\n",
       "        text-align: right;\n",
       "    }\n",
       "</style>\n",
       "<table border=\"1\" class=\"dataframe\">\n",
       "  <thead>\n",
       "    <tr style=\"text-align: right;\">\n",
       "      <th></th>\n",
       "      <th>movieId</th>\n",
       "      <th>title</th>\n",
       "      <th>genres</th>\n",
       "      <th>0</th>\n",
       "    </tr>\n",
       "  </thead>\n",
       "  <tbody>\n",
       "    <tr>\n",
       "      <th>0</th>\n",
       "      <td>1</td>\n",
       "      <td>Toy Story (1995)</td>\n",
       "      <td>Adventure|Animation|Children|Comedy|Fantasy</td>\n",
       "      <td>0</td>\n",
       "    </tr>\n",
       "    <tr>\n",
       "      <th>1</th>\n",
       "      <td>3</td>\n",
       "      <td>Grumpier Old Men (1995)</td>\n",
       "      <td>Comedy|Romance</td>\n",
       "      <td>1</td>\n",
       "    </tr>\n",
       "    <tr>\n",
       "      <th>2</th>\n",
       "      <td>6</td>\n",
       "      <td>Heat (1995)</td>\n",
       "      <td>Action|Crime|Thriller</td>\n",
       "      <td>2</td>\n",
       "    </tr>\n",
       "    <tr>\n",
       "      <th>3</th>\n",
       "      <td>47</td>\n",
       "      <td>Seven (a.k.a. Se7en) (1995)</td>\n",
       "      <td>Mystery|Thriller</td>\n",
       "      <td>3</td>\n",
       "    </tr>\n",
       "    <tr>\n",
       "      <th>4</th>\n",
       "      <td>50</td>\n",
       "      <td>Usual Suspects, The (1995)</td>\n",
       "      <td>Crime|Mystery|Thriller</td>\n",
       "      <td>4</td>\n",
       "    </tr>\n",
       "    <tr>\n",
       "      <th>...</th>\n",
       "      <td>...</td>\n",
       "      <td>...</td>\n",
       "      <td>...</td>\n",
       "      <td>...</td>\n",
       "    </tr>\n",
       "    <tr>\n",
       "      <th>9719</th>\n",
       "      <td>160341</td>\n",
       "      <td>Bloodmoon (1997)</td>\n",
       "      <td>Action|Thriller</td>\n",
       "      <td>9719</td>\n",
       "    </tr>\n",
       "    <tr>\n",
       "      <th>9720</th>\n",
       "      <td>160527</td>\n",
       "      <td>Sympathy for the Underdog (1971)</td>\n",
       "      <td>Action|Crime|Drama</td>\n",
       "      <td>9720</td>\n",
       "    </tr>\n",
       "    <tr>\n",
       "      <th>9721</th>\n",
       "      <td>160836</td>\n",
       "      <td>Hazard (2005)</td>\n",
       "      <td>Action|Drama|Thriller</td>\n",
       "      <td>9721</td>\n",
       "    </tr>\n",
       "    <tr>\n",
       "      <th>9722</th>\n",
       "      <td>163937</td>\n",
       "      <td>Blair Witch (2016)</td>\n",
       "      <td>Horror|Thriller</td>\n",
       "      <td>9722</td>\n",
       "    </tr>\n",
       "    <tr>\n",
       "      <th>9723</th>\n",
       "      <td>163981</td>\n",
       "      <td>31 (2016)</td>\n",
       "      <td>Horror</td>\n",
       "      <td>9723</td>\n",
       "    </tr>\n",
       "  </tbody>\n",
       "</table>\n",
       "<p>9724 rows × 4 columns</p>\n",
       "</div>"
      ],
      "text/plain": [
       "      movieId                             title  \\\n",
       "0           1                  Toy Story (1995)   \n",
       "1           3           Grumpier Old Men (1995)   \n",
       "2           6                       Heat (1995)   \n",
       "3          47       Seven (a.k.a. Se7en) (1995)   \n",
       "4          50        Usual Suspects, The (1995)   \n",
       "...       ...                               ...   \n",
       "9719   160341                  Bloodmoon (1997)   \n",
       "9720   160527  Sympathy for the Underdog (1971)   \n",
       "9721   160836                     Hazard (2005)   \n",
       "9722   163937                Blair Witch (2016)   \n",
       "9723   163981                         31 (2016)   \n",
       "\n",
       "                                           genres     0  \n",
       "0     Adventure|Animation|Children|Comedy|Fantasy     0  \n",
       "1                                  Comedy|Romance     1  \n",
       "2                           Action|Crime|Thriller     2  \n",
       "3                                Mystery|Thriller     3  \n",
       "4                          Crime|Mystery|Thriller     4  \n",
       "...                                           ...   ...  \n",
       "9719                              Action|Thriller  9719  \n",
       "9720                           Action|Crime|Drama  9720  \n",
       "9721                        Action|Drama|Thriller  9721  \n",
       "9722                              Horror|Thriller  9722  \n",
       "9723                                       Horror  9723  \n",
       "\n",
       "[9724 rows x 4 columns]"
      ]
     },
     "execution_count": 18,
     "metadata": {},
     "output_type": "execute_result"
    }
   ],
   "source": [
    "pd.merge(name_movie,pd.DataFrame.from_dict(movie_ids_map,orient='index').reset_index(names='movieId'),on='movieId',how='right')"
   ]
  },
  {
   "cell_type": "code",
   "execution_count": 19,
   "metadata": {
    "tags": []
   },
   "outputs": [
    {
     "data": {
      "text/html": [
       "<div>\n",
       "<style scoped>\n",
       "    .dataframe tbody tr th:only-of-type {\n",
       "        vertical-align: middle;\n",
       "    }\n",
       "\n",
       "    .dataframe tbody tr th {\n",
       "        vertical-align: top;\n",
       "    }\n",
       "\n",
       "    .dataframe thead th {\n",
       "        text-align: right;\n",
       "    }\n",
       "</style>\n",
       "<table border=\"1\" class=\"dataframe\">\n",
       "  <thead>\n",
       "    <tr style=\"text-align: right;\">\n",
       "      <th></th>\n",
       "      <th>movieId</th>\n",
       "      <th>0</th>\n",
       "    </tr>\n",
       "  </thead>\n",
       "  <tbody>\n",
       "    <tr>\n",
       "      <th>0</th>\n",
       "      <td>0</td>\n",
       "      <td>Toy Story (1995)</td>\n",
       "    </tr>\n",
       "    <tr>\n",
       "      <th>1</th>\n",
       "      <td>1</td>\n",
       "      <td>Grumpier Old Men (1995)</td>\n",
       "    </tr>\n",
       "    <tr>\n",
       "      <th>2</th>\n",
       "      <td>2</td>\n",
       "      <td>Heat (1995)</td>\n",
       "    </tr>\n",
       "    <tr>\n",
       "      <th>3</th>\n",
       "      <td>3</td>\n",
       "      <td>Seven (a.k.a. Se7en) (1995)</td>\n",
       "    </tr>\n",
       "    <tr>\n",
       "      <th>4</th>\n",
       "      <td>4</td>\n",
       "      <td>Usual Suspects, The (1995)</td>\n",
       "    </tr>\n",
       "    <tr>\n",
       "      <th>...</th>\n",
       "      <td>...</td>\n",
       "      <td>...</td>\n",
       "    </tr>\n",
       "    <tr>\n",
       "      <th>9719</th>\n",
       "      <td>9719</td>\n",
       "      <td>Bloodmoon (1997)</td>\n",
       "    </tr>\n",
       "    <tr>\n",
       "      <th>9720</th>\n",
       "      <td>9720</td>\n",
       "      <td>Sympathy for the Underdog (1971)</td>\n",
       "    </tr>\n",
       "    <tr>\n",
       "      <th>9721</th>\n",
       "      <td>9721</td>\n",
       "      <td>Hazard (2005)</td>\n",
       "    </tr>\n",
       "    <tr>\n",
       "      <th>9722</th>\n",
       "      <td>9722</td>\n",
       "      <td>Blair Witch (2016)</td>\n",
       "    </tr>\n",
       "    <tr>\n",
       "      <th>9723</th>\n",
       "      <td>9723</td>\n",
       "      <td>31 (2016)</td>\n",
       "    </tr>\n",
       "  </tbody>\n",
       "</table>\n",
       "<p>9724 rows × 2 columns</p>\n",
       "</div>"
      ],
      "text/plain": [
       "      movieId                                 0\n",
       "0           0                  Toy Story (1995)\n",
       "1           1           Grumpier Old Men (1995)\n",
       "2           2                       Heat (1995)\n",
       "3           3       Seven (a.k.a. Se7en) (1995)\n",
       "4           4        Usual Suspects, The (1995)\n",
       "...       ...                               ...\n",
       "9719     9719                  Bloodmoon (1997)\n",
       "9720     9720  Sympathy for the Underdog (1971)\n",
       "9721     9721                     Hazard (2005)\n",
       "9722     9722                Blair Witch (2016)\n",
       "9723     9723                         31 (2016)\n",
       "\n",
       "[9724 rows x 2 columns]"
      ]
     },
     "execution_count": 19,
     "metadata": {},
     "output_type": "execute_result"
    }
   ],
   "source": [
    "movie_name = pd.DataFrame.from_dict(result_dict,orient='index')\n",
    "movie_name.reset_index(names=['movieId'])"
   ]
  },
  {
   "cell_type": "code",
   "execution_count": 20,
   "metadata": {
    "tags": []
   },
   "outputs": [
    {
     "data": {
      "text/plain": [
       "0    Three Billboards Outside Ebbing, Missouri (2017)\n",
       "Name: 1395, dtype: object"
      ]
     },
     "execution_count": 20,
     "metadata": {},
     "output_type": "execute_result"
    }
   ],
   "source": [
    "movie_name.iloc[1395]"
   ]
  },
  {
   "cell_type": "code",
   "execution_count": 21,
   "metadata": {
    "tags": []
   },
   "outputs": [],
   "source": [
    "dataset_pivot.columns = pd.DataFrame.from_dict(result_dict,orient='index')[0]"
   ]
  },
  {
   "cell_type": "code",
   "execution_count": 22,
   "metadata": {
    "tags": []
   },
   "outputs": [
    {
     "data": {
      "text/plain": [
       "0\n",
       "Toy Story (1995)                  4.0\n",
       "Grumpier Old Men (1995)           4.0\n",
       "Heat (1995)                       4.0\n",
       "Seven (a.k.a. Se7en) (1995)       5.0\n",
       "Usual Suspects, The (1995)        5.0\n",
       "                                 ... \n",
       "Shaft (2000)                      4.0\n",
       "X-Men (2000)                      5.0\n",
       "What About Bob? (1991)            4.0\n",
       "Transformers: The Movie (1986)    4.0\n",
       "M*A*S*H (a.k.a. MASH) (1970)      5.0\n",
       "Name: 0, Length: 232, dtype: float64"
      ]
     },
     "execution_count": 22,
     "metadata": {},
     "output_type": "execute_result"
    }
   ],
   "source": [
    "dataset_pivot.iloc[0].dropna()"
   ]
  },
  {
   "cell_type": "markdown",
   "metadata": {},
   "source": [
    "## Matrix Factorization with Keras"
   ]
  },
  {
   "cell_type": "markdown",
   "metadata": {},
   "source": [
    "Keras is a python library made for easily designing complex models such as deep learning models, in this module we are going to use just a few features from it to implement our simple matrix factorization model, as it makes a good introduction to the library before the next module about deep learning where you will also be using Keras.\n",
    "\n",
    "The following function `get_mf_model` implements the model described in equation (2) in Koren's paper (without the $+\\lambda(\\ldots)$ part for the moment). So it basically tries to find the $p_u \\in \\mathbb{R}^k$ and $q_i \\in \\mathbb{R}^k$ vectors that minimizes the squared loss between their dot product $p_u^Tq_i$, and the observed ratings $r_{ui}$, from random initialization of $p_u$ and $q_i$. In machine learning terms, $p_u$ and $q_i$ are called the *embeddings* of the user $u$ and of the movie $i$ respectively. Their size $k$ is an hyper-parameter of the model, which is called the *rank* of the factorization.\n",
    "\n",
    "To do so, it uses the functional API from Keras (the other API proposed is the sequential one, but is not adapted for this model), you can read about it here : https://keras.io/guides/functional_api/ .\n",
    "\n",
    "Keras, unlike Numpy, uses a different progamming paradigm. Numpy uses an *imperative* programming style (like python in general), meaning that when you execute `x.dot(y)`, the dot product is actually calculated. Keras however, uses a *declarative* (also called *symbolic*) programming style, meaning that when you write `Dot()([x, y])`, you tell Keras than when you will call the *fit* function of your model in the future, you will want to do a dot product between the future values that *x* and *y* will have. And this is what Keras is about, it allows you to build your own model as a sequence of operations, describing each input and output, and then later fit it and predict with it.\n",
    "\n",
    "Let's not get in too many details, but retain that the `get_mf_model` function below is not actually executing the model, it creates it, and returns an object of the class `keras.models.Model` that has been instructed with your model operations, and this object can then be trained with the classic `fit` and `predict` functions. \n",
    "\n",
    "Read carefully the comments in the code of the function to understand the different steps in the model creation process:"
   ]
  },
  {
   "cell_type": "code",
   "execution_count": 23,
   "metadata": {},
   "outputs": [],
   "source": [
    "from keras.models import Model\n",
    "from keras.layers import Embedding, Input, Reshape\n",
    "from keras.layers import Dot\n",
    "\n",
    "def get_mf_model(nb_users, nb_movies, k):\n",
    "    \"\"\"\n",
    "    Build a simple matrix factorization model from\n",
    "    the number of user, the number of movies, and the size of the embeddings k.\n",
    "    \n",
    "    Input:\n",
    "        nb_users : int : The number of unique users\n",
    "        nb_movies : int : The number of unique movies\n",
    "        k : int : The size of the embeddings\n",
    "        \n",
    "    Output:\n",
    "        model : keras.models.Model : A keras model that implements matrix factorization\n",
    "        \n",
    "    \"\"\"\n",
    "    dim_embedddings = k\n",
    "    \n",
    "    #Inputs:\n",
    "    #First we describe the input of the model, that is the training data that we will give it as X\n",
    "    #In our case, the input are just the user index u and the movie index i.\n",
    "    #So we declare two inputs of size one:\n",
    "    u = Input(shape=(1,), dtype='int32', name = \"u__user_id\")\n",
    "    i = Input(shape=(1,), dtype='int32', name = 'i__movie_id')\n",
    "    \n",
    "    #Then let's declare our variable, the embeddings p and q.\n",
    "    #First with the users, we declare that we have nb_users embeddings, each of size dim_embeddings.\n",
    "    #An embedding object is indexed by calling it with the index parameter like a function,\n",
    "    #so we add a `(u)` at the end to tell keras we want it to be indexed \n",
    "    #by the user ids we will pass at training time as inputs.\n",
    "    p_u = Embedding(nb_users, dim_embedddings, name=\"p_u__user_embedding\")(u)\n",
    "    \n",
    "    #Unfortunatly, when indexing an embeddings it keeps [1,k] matrix shape instead\n",
    "    #of just a [k] vector, so we have to tell Keras that we just want a vector by\n",
    "    #redefining its shape:\n",
    "    p_u = Reshape((dim_embedddings,), name=\"p_u__user_embedding_reshaped\")(p_u)\n",
    "    \n",
    "    # Same thing for the movie embeddings:\n",
    "    q_i = Embedding(nb_movies, dim_embedddings, name=\"q_i__movie_embedding\")(i)\n",
    "    q_i = Reshape((dim_embedddings,), name=\"q_i__movie_embedding_reshaped\")(q_i)\n",
    "    \n",
    "    #Then the dot product between the two indexed embeddings, \n",
    "    #we'll understand the axes = 1 part later.\n",
    "    r_hat = Dot(axes = 1)([q_i, p_u])\n",
    "\n",
    "    #We define our model by giving its input and outputs, in our case\n",
    "    #the user and movie ids will be the inputs, and the output will be\n",
    "    #the estimated rating r_hat, that is the dot product of the \n",
    "    #corresponding embeddings.\n",
    "    model = Model(inputs=[u, i], outputs=r_hat)\n",
    "    \n",
    "    #Finally, we define the loss and metric to use, in our case the mean squared error,\n",
    "    #along with the optimization method, we'll understand what is 'adam' later also.\n",
    "    model.compile(loss='mse', optimizer='adam', metrics=[\"mse\"])\n",
    "\n",
    "    return model\n",
    "\n"
   ]
  },
  {
   "cell_type": "code",
   "execution_count": 24,
   "metadata": {},
   "outputs": [
    {
     "name": "stderr",
     "output_type": "stream",
     "text": [
      "2024-09-10 09:04:26.130715: I tensorflow/core/common_runtime/gpu/gpu_device.cc:1929] Created device /job:localhost/replica:0/task:0/device:GPU:0 with 4322 MB memory:  -> device: 0, name: NVIDIA GeForce GTX 1660, pci bus id: 0000:61:00.0, compute capability: 7.5\n"
     ]
    }
   ],
   "source": [
    "k = 30\n",
    "mf_model = get_mf_model(nb_users, nb_movies, k)"
   ]
  },
  {
   "cell_type": "markdown",
   "metadata": {},
   "source": [
    "Keras allows us to have a textual overview of the model we defined with the *summary()* function:"
   ]
  },
  {
   "cell_type": "code",
   "execution_count": 25,
   "metadata": {},
   "outputs": [
    {
     "name": "stdout",
     "output_type": "stream",
     "text": [
      "Model: \"model\"\n",
      "__________________________________________________________________________________________________\n",
      " Layer (type)                Output Shape                 Param #   Connected to                  \n",
      "==================================================================================================\n",
      " i__movie_id (InputLayer)    [(None, 1)]                  0         []                            \n",
      "                                                                                                  \n",
      " u__user_id (InputLayer)     [(None, 1)]                  0         []                            \n",
      "                                                                                                  \n",
      " q_i__movie_embedding (Embe  (None, 1, 30)                291720    ['i__movie_id[0][0]']         \n",
      " dding)                                                                                           \n",
      "                                                                                                  \n",
      " p_u__user_embedding (Embed  (None, 1, 30)                18300     ['u__user_id[0][0]']          \n",
      " ding)                                                                                            \n",
      "                                                                                                  \n",
      " q_i__movie_embedding_resha  (None, 30)                   0         ['q_i__movie_embedding[0][0]']\n",
      " ped (Reshape)                                                                                    \n",
      "                                                                                                  \n",
      " p_u__user_embedding_reshap  (None, 30)                   0         ['p_u__user_embedding[0][0]'] \n",
      " ed (Reshape)                                                                                     \n",
      "                                                                                                  \n",
      " dot (Dot)                   (None, 1)                    0         ['q_i__movie_embedding_reshape\n",
      "                                                                    d[0][0]',                     \n",
      "                                                                     'p_u__user_embedding_reshaped\n",
      "                                                                    [0][0]']                      \n",
      "                                                                                                  \n",
      "==================================================================================================\n",
      "Total params: 310020 (1.18 MB)\n",
      "Trainable params: 310020 (1.18 MB)\n",
      "Non-trainable params: 0 (0.00 Byte)\n",
      "__________________________________________________________________________________________________\n"
     ]
    }
   ],
   "source": [
    "mf_model.summary()"
   ]
  },
  {
   "cell_type": "markdown",
   "metadata": {},
   "source": [
    "Each of the keras objects we defined in our model is called a *layer*, and we find them in order in the first column. The *Param #* column gives the number of trainable parameters of the layer, in our case these are just the embeddings, and they should be equal to $nb\\_users \\times k$ and $nb\\_movies \\times k$. The *Connected to* column tells for each layer which layers are inputs for this layer (you can safely ignore the `[0][0]` for this module).\n",
    "\n",
    "Finally the *Output Shape* column gives us the shape of the layer, each layer being a *tensor*. A tensor is the generalization of matrices to more than two dimensions. So a matrix is a 2D-tensor and a vector is a 1D-tensor, and each layer can be a matrix, a vector, or a higher-order tensor. The output shape we see is indeed the expected one at each layer, except there is this `None` in first dimension, why is that ?\n",
    "\n",
    "To understand it, we have to get into how Keras is actually minimizing the mean squared loss of our model. In general, when in comes to minimizing error functions on big datasets, a generic method is to use Stocastic Gradient Descent (SGD), briefly described in page 4 of Koren's article. \n",
    "\n",
    "Read about gradient descent, SGD and its variant mini-batch SGD in Chapter 4 of *Hands on ML ...* (pages 111-120):\n",
    "https://drive.google.com/file/d/1t0rc3x5YQBgLXVLET6BzR4jn5vzMI_m0/view?usp=sharing\n",
    "\n",
    "This is what Keras does when it fits the model, it initializes the $q_i$ and $p_u$ embedding vectors randomly, and then perform mini-batch SGD to find the minimum mean squared error on the training set. Since mini-batching means considering multiple training samples at the same time, Keras keeps the first dimension of each layer to stack the samples of each batch, this is why `None` is written, the actual batch_size being set at training time when calling the `fit` function. This is also why we had to set `axes=1` when calling the `Dot` layer in the `get_mf_model` function, because the first dimension (axe 0) of each layer is kept for the batches. And about the `optimizer='adam'`, it is just a variation of mini-batch SGD that is faster, we'll get into more details about SGD variations in the optional parts of this notebook."
   ]
  },
  {
   "cell_type": "markdown",
   "metadata": {},
   "source": [
    "Let's finally train our matrix factorization model on our movieLens data. The `epochs` parameter controls the number of iterations of the SGD algorithm, that is the number of times it is going to pass on each training rating and update the embeddings accordingly. Let's keep it at 20 for the moment:"
   ]
  },
  {
   "cell_type": "code",
   "execution_count": 26,
   "metadata": {
    "scrolled": true
   },
   "outputs": [
    {
     "name": "stdout",
     "output_type": "stream",
     "text": [
      "Epoch 1/20\n"
     ]
    },
    {
     "name": "stderr",
     "output_type": "stream",
     "text": [
      "2024-09-10 09:04:27.877202: I external/local_tsl/tsl/platform/default/subprocess.cc:304] Start cannot spawn child process: No such file or directory\n",
      "2024-09-10 09:04:28.434756: I external/local_xla/xla/service/service.cc:168] XLA service 0x768454f548b0 initialized for platform CUDA (this does not guarantee that XLA will be used). Devices:\n",
      "2024-09-10 09:04:28.434799: I external/local_xla/xla/service/service.cc:176]   StreamExecutor device (0): NVIDIA GeForce GTX 1660, Compute Capability 7.5\n",
      "2024-09-10 09:04:28.468261: I tensorflow/compiler/mlir/tensorflow/utils/dump_mlir_util.cc:269] disabling MLIR crash reproducer, set env var `MLIR_CRASH_REPRODUCER_DIRECTORY` to enable.\n",
      "2024-09-10 09:04:28.536935: I external/local_xla/xla/stream_executor/cuda/cuda_dnn.cc:454] Loaded cuDNN version 8904\n",
      "WARNING: All log messages before absl::InitializeLog() is called are written to STDERR\n",
      "I0000 00:00:1725951868.836673    5010 device_compiler.h:186] Compiled cluster using XLA!  This line is logged at most once for the lifetime of the process.\n"
     ]
    },
    {
     "name": "stdout",
     "output_type": "stream",
     "text": [
      "178/178 [==============================] - 23s 115ms/step - loss: 13.2903 - mse: 13.2903\n",
      "Epoch 2/20\n",
      "178/178 [==============================] - 3s 18ms/step - loss: 11.0807 - mse: 11.0807\n",
      "Epoch 3/20\n",
      "178/178 [==============================] - 2s 10ms/step - loss: 5.1433 - mse: 5.1433\n",
      "Epoch 4/20\n",
      "178/178 [==============================] - 3s 15ms/step - loss: 2.5085 - mse: 2.5085\n",
      "Epoch 5/20\n",
      "178/178 [==============================] - 1s 8ms/step - loss: 1.7199 - mse: 1.7199\n",
      "Epoch 6/20\n",
      "178/178 [==============================] - 1s 8ms/step - loss: 1.3403 - mse: 1.3403\n",
      "Epoch 7/20\n",
      "178/178 [==============================] - 2s 10ms/step - loss: 1.1175 - mse: 1.1175\n",
      "Epoch 8/20\n",
      "178/178 [==============================] - 1s 6ms/step - loss: 0.9733 - mse: 0.9733\n",
      "Epoch 9/20\n",
      "178/178 [==============================] - 2s 9ms/step - loss: 0.8738 - mse: 0.8738\n",
      "Epoch 10/20\n",
      "178/178 [==============================] - 1s 4ms/step - loss: 0.8014 - mse: 0.8014\n",
      "Epoch 11/20\n",
      "178/178 [==============================] - 1s 7ms/step - loss: 0.7470 - mse: 0.7470\n",
      "Epoch 12/20\n",
      "178/178 [==============================] - 1s 5ms/step - loss: 0.7054 - mse: 0.7054\n",
      "Epoch 13/20\n",
      "178/178 [==============================] - 1s 7ms/step - loss: 0.6722 - mse: 0.6722\n",
      "Epoch 14/20\n",
      "178/178 [==============================] - 1s 8ms/step - loss: 0.6459 - mse: 0.6459\n",
      "Epoch 15/20\n",
      "178/178 [==============================] - 1s 5ms/step - loss: 0.6239 - mse: 0.6239\n",
      "Epoch 16/20\n",
      "178/178 [==============================] - 1s 5ms/step - loss: 0.6058 - mse: 0.6058\n",
      "Epoch 17/20\n",
      "178/178 [==============================] - 1s 7ms/step - loss: 0.5899 - mse: 0.5899\n",
      "Epoch 18/20\n",
      "178/178 [==============================] - 1s 8ms/step - loss: 0.5758 - mse: 0.5758\n",
      "Epoch 19/20\n",
      "178/178 [==============================] - 1s 7ms/step - loss: 0.5634 - mse: 0.5634\n",
      "Epoch 20/20\n",
      "178/178 [==============================] - 1s 4ms/step - loss: 0.5517 - mse: 0.5517\n"
     ]
    }
   ],
   "source": [
    "history = mf_model.fit(X_train, y_train, epochs=20, batch_size=512)"
   ]
  },
  {
   "cell_type": "markdown",
   "metadata": {},
   "source": [
    "And we can now try to predict the test ratings, and report our root mean squared error like in other regression problems:"
   ]
  },
  {
   "cell_type": "code",
   "execution_count": 27,
   "metadata": {},
   "outputs": [
    {
     "name": "stdout",
     "output_type": "stream",
     "text": [
      "316/316 [==============================] - 1s 2ms/step\n",
      " Test RMSE : 1.0790092863550391 \n"
     ]
    }
   ],
   "source": [
    "from sklearn.metrics import mean_squared_error\n",
    "from math import sqrt\n",
    "\n",
    "y_pred = mf_model.predict(X_test)\n",
    "\n",
    "test_rmse = sqrt(mean_squared_error(y_test, y_pred))\n",
    "\n",
    "print(\" Test RMSE : %s \" % test_rmse)"
   ]
  },
  {
   "cell_type": "markdown",
   "metadata": {},
   "source": [
    "You should get about 1.1/1.2 RMSE, we can probably do better !"
   ]
  },
  {
   "cell_type": "markdown",
   "metadata": {},
   "source": [
    "## Train the same model on your GPU and on your CPU, and compare the training time"
   ]
  },
  {
   "cell_type": "markdown",
   "metadata": {},
   "source": [
    "Keras uses the `tensorflow` python library for the computation part, if you have installed your GPU drivers and the GPU version of keras, then it will run on your GPU by default. We can force tensorflow to use the cpu instead:"
   ]
  },
  {
   "cell_type": "code",
   "execution_count": 28,
   "metadata": {},
   "outputs": [
    {
     "name": "stdout",
     "output_type": "stream",
     "text": [
      "Epoch 1/20\n",
      "  1/178 [..............................] - ETA: 2:20 - loss: 12.8400 - mse: 12.8400"
     ]
    },
    {
     "name": "stderr",
     "output_type": "stream",
     "text": [
      "2024-09-10 09:05:18.795531: I external/local_xla/xla/service/service.cc:168] XLA service 0x768461825f70 initialized for platform Host (this does not guarantee that XLA will be used). Devices:\n",
      "2024-09-10 09:05:18.795574: I external/local_xla/xla/service/service.cc:176]   StreamExecutor device (0): Host, Default Version\n",
      "2024-09-10 09:05:18.930550: E external/local_xla/xla/stream_executor/stream_executor_internal.h:177] SetPriority unimplemented for this stream.\n"
     ]
    },
    {
     "name": "stdout",
     "output_type": "stream",
     "text": [
      " 15/178 [=>............................] - ETA: 19s - loss: 13.2941 - mse: 13.2941"
     ]
    },
    {
     "name": "stderr",
     "output_type": "stream",
     "text": [
      "2024-09-10 09:05:20.477350: E external/local_xla/xla/stream_executor/stream_executor_internal.h:177] SetPriority unimplemented for this stream.\n"
     ]
    },
    {
     "name": "stdout",
     "output_type": "stream",
     "text": [
      "178/178 [==============================] - 9s 45ms/step - loss: 13.3082 - mse: 13.3082\n",
      "Epoch 2/20\n",
      "178/178 [==============================] - 2s 12ms/step - loss: 11.4264 - mse: 11.4264\n",
      "Epoch 3/20\n",
      "178/178 [==============================] - 1s 6ms/step - loss: 5.3688 - mse: 5.3688\n",
      "Epoch 4/20\n",
      "178/178 [==============================] - 1s 6ms/step - loss: 2.5357 - mse: 2.5357\n",
      "Epoch 5/20\n",
      "178/178 [==============================] - 1s 4ms/step - loss: 1.7246 - mse: 1.7246\n",
      "Epoch 6/20\n",
      "178/178 [==============================] - 1s 5ms/step - loss: 1.3431 - mse: 1.3431\n",
      "Epoch 7/20\n",
      "178/178 [==============================] - 1s 4ms/step - loss: 1.1236 - mse: 1.1236\n",
      "Epoch 8/20\n",
      "178/178 [==============================] - 1s 6ms/step - loss: 0.9826 - mse: 0.9826\n",
      "Epoch 9/20\n",
      "178/178 [==============================] - 1s 5ms/step - loss: 0.8860 - mse: 0.8860\n",
      "Epoch 10/20\n",
      "178/178 [==============================] - 1s 4ms/step - loss: 0.8169 - mse: 0.8169\n",
      "Epoch 11/20\n",
      "178/178 [==============================] - 1s 7ms/step - loss: 0.7649 - mse: 0.7649\n",
      "Epoch 12/20\n",
      "178/178 [==============================] - 1s 4ms/step - loss: 0.7253 - mse: 0.7253\n",
      "Epoch 13/20\n",
      "178/178 [==============================] - 1s 7ms/step - loss: 0.6938 - mse: 0.6938\n",
      "Epoch 14/20\n",
      "178/178 [==============================] - 1s 5ms/step - loss: 0.6683 - mse: 0.6683\n",
      "Epoch 15/20\n",
      "178/178 [==============================] - 1s 6ms/step - loss: 0.6472 - mse: 0.6472\n",
      "Epoch 16/20\n",
      "178/178 [==============================] - 1s 3ms/step - loss: 0.6292 - mse: 0.6292\n",
      "Epoch 17/20\n",
      "178/178 [==============================] - 1s 6ms/step - loss: 0.6138 - mse: 0.6138\n",
      "Epoch 18/20\n",
      "178/178 [==============================] - 1s 5ms/step - loss: 0.5995 - mse: 0.5995\n",
      "Epoch 19/20\n",
      "178/178 [==============================] - 1s 3ms/step - loss: 0.5865 - mse: 0.5865\n",
      "Epoch 20/20\n",
      "178/178 [==============================] - 1s 4ms/step - loss: 0.5741 - mse: 0.5741\n"
     ]
    }
   ],
   "source": [
    "import tensorflow as tf\n",
    "\n",
    "with tf.device('/cpu:0'):\n",
    "    mf_model = get_mf_model(nb_users, nb_movies, k)\n",
    "    history = mf_model.fit(X_train, y_train, epochs=20, batch_size=512)"
   ]
  },
  {
   "cell_type": "markdown",
   "metadata": {},
   "source": [
    "Our matrix farctorization model is a really simple model, with not enough operations to parallelize on the GPU, this is why the training time is quite similar for this model. However with deep networks models the training time can be up to 10x times faster on a GPU."
   ]
  },
  {
   "cell_type": "markdown",
   "metadata": {},
   "source": [
    "## Adding user and movie bias"
   ]
  },
  {
   "cell_type": "markdown",
   "metadata": {},
   "source": [
    "Let's enhance our matrix factorization model and add the user and movie biases to the rating estimation function as in equation (4) of Koren's paper ; except we will for the moment forget about the global bias $\\mu$ as it is not so intuitive to implement in Keras. Fill the function below to do so:"
   ]
  },
  {
   "cell_type": "code",
   "execution_count": null,
   "metadata": {
    "tags": []
   },
   "outputs": [],
   "source": []
  },
  {
   "cell_type": "code",
   "execution_count": 29,
   "metadata": {},
   "outputs": [],
   "source": [
    "from keras.layers import Add\n",
    "\n",
    "def get_mf_bias_model(nb_users, nb_movies, k):\n",
    "    \"\"\"\n",
    "    Build a smatrix factorization model with user and movie biases\n",
    "    \n",
    "    Input:\n",
    "        nb_users : int : The number of unique users\n",
    "        nb_movies : int : The number of unique movies\n",
    "        k : int : The size of the embeddings\n",
    "        \n",
    "    Output:\n",
    "        model : keras.models.Model : A keras model that implements matrix factorization with biases\n",
    "        \n",
    "    \"\"\"\n",
    "    \n",
    "    dim_embedddings = k\n",
    "    \n",
    "    # User embeddings\n",
    "    u = Input(shape=(1,), dtype='int32', name = 'u__user_id')\n",
    "    p_u = Embedding(nb_users, dim_embedddings, name=\"p_u__user_embedding\")(u)\n",
    "    p_u = Reshape((dim_embedddings,), name=\"p_u__user_embedding_reshaped\")(p_u)\n",
    "    \n",
    "    # Movie embeddings\n",
    "    i = Input(shape=(1,), dtype='int32', name = 'i__movie_id')\n",
    "    q_i = Embedding(nb_movies, dim_embedddings, name=\"q_i__movie_embedding\")(i)\n",
    "    q_i = Reshape((dim_embedddings,), name=\"q_i__movie_embedding_reshaped\")(q_i)\n",
    "    \n",
    "    # Dot product\n",
    "    d = Dot(axes = 1)([p_u, q_i])\n",
    "    \n",
    "    \n",
    "    #TOFILL\n",
    "    \n",
    "    b_u = Embedding(nb_users, 1)(u)\n",
    "    b_u = Reshape((1,))(b_u)\n",
    "    b_i = Embedding(nb_movies, 1)(i)\n",
    "    b_i = Reshape((1,))(b_i)\n",
    "    \n",
    "    r_hat = Add()([d, b_u, b_i])\n",
    "    \n",
    "    model = Model(inputs=[u, i], outputs=r_hat)\n",
    "    model.compile(loss='mse', optimizer='adam', metrics=[\"mse\"])\n",
    "\n",
    "    \n",
    "    return model\n",
    "\n"
   ]
  },
  {
   "cell_type": "code",
   "execution_count": 30,
   "metadata": {},
   "outputs": [],
   "source": [
    "mf_bias_model = get_mf_bias_model(nb_users, nb_movies, k)"
   ]
  },
  {
   "cell_type": "code",
   "execution_count": 31,
   "metadata": {},
   "outputs": [
    {
     "name": "stdout",
     "output_type": "stream",
     "text": [
      "Model: \"model_2\"\n",
      "__________________________________________________________________________________________________\n",
      " Layer (type)                Output Shape                 Param #   Connected to                  \n",
      "==================================================================================================\n",
      " u__user_id (InputLayer)     [(None, 1)]                  0         []                            \n",
      "                                                                                                  \n",
      " i__movie_id (InputLayer)    [(None, 1)]                  0         []                            \n",
      "                                                                                                  \n",
      " p_u__user_embedding (Embed  (None, 1, 30)                18300     ['u__user_id[0][0]']          \n",
      " ding)                                                                                            \n",
      "                                                                                                  \n",
      " q_i__movie_embedding (Embe  (None, 1, 30)                291720    ['i__movie_id[0][0]']         \n",
      " dding)                                                                                           \n",
      "                                                                                                  \n",
      " p_u__user_embedding_reshap  (None, 30)                   0         ['p_u__user_embedding[0][0]'] \n",
      " ed (Reshape)                                                                                     \n",
      "                                                                                                  \n",
      " q_i__movie_embedding_resha  (None, 30)                   0         ['q_i__movie_embedding[0][0]']\n",
      " ped (Reshape)                                                                                    \n",
      "                                                                                                  \n",
      " embedding (Embedding)       (None, 1, 1)                 610       ['u__user_id[0][0]']          \n",
      "                                                                                                  \n",
      " embedding_1 (Embedding)     (None, 1, 1)                 9724      ['i__movie_id[0][0]']         \n",
      "                                                                                                  \n",
      " dot_2 (Dot)                 (None, 1)                    0         ['p_u__user_embedding_reshaped\n",
      "                                                                    [0][0]',                      \n",
      "                                                                     'q_i__movie_embedding_reshape\n",
      "                                                                    d[0][0]']                     \n",
      "                                                                                                  \n",
      " reshape (Reshape)           (None, 1)                    0         ['embedding[0][0]']           \n",
      "                                                                                                  \n",
      " reshape_1 (Reshape)         (None, 1)                    0         ['embedding_1[0][0]']         \n",
      "                                                                                                  \n",
      " add (Add)                   (None, 1)                    0         ['dot_2[0][0]',               \n",
      "                                                                     'reshape[0][0]',             \n",
      "                                                                     'reshape_1[0][0]']           \n",
      "                                                                                                  \n",
      "==================================================================================================\n",
      "Total params: 320354 (1.22 MB)\n",
      "Trainable params: 320354 (1.22 MB)\n",
      "Non-trainable params: 0 (0.00 Byte)\n",
      "__________________________________________________________________________________________________\n"
     ]
    }
   ],
   "source": [
    "mf_bias_model.summary()"
   ]
  },
  {
   "cell_type": "code",
   "execution_count": 32,
   "metadata": {},
   "outputs": [
    {
     "name": "stdout",
     "output_type": "stream",
     "text": [
      "Epoch 1/20\n",
      "178/178 [==============================] - 30s 159ms/step - loss: 12.6327 - mse: 12.6327\n",
      "Epoch 2/20\n",
      "178/178 [==============================] - 6s 36ms/step - loss: 9.5238 - mse: 9.5238\n",
      "Epoch 3/20\n",
      "178/178 [==============================] - 3s 18ms/step - loss: 4.0427 - mse: 4.0427\n",
      "Epoch 4/20\n",
      "178/178 [==============================] - 3s 16ms/step - loss: 2.0176 - mse: 2.0176\n",
      "Epoch 5/20\n",
      "178/178 [==============================] - 2s 11ms/step - loss: 1.4289 - mse: 1.4289\n",
      "Epoch 6/20\n",
      "178/178 [==============================] - 2s 10ms/step - loss: 1.1490 - mse: 1.1490\n",
      "Epoch 7/20\n",
      "178/178 [==============================] - 2s 11ms/step - loss: 0.9891 - mse: 0.9891\n",
      "Epoch 8/20\n",
      "178/178 [==============================] - 2s 12ms/step - loss: 0.8864 - mse: 0.8864\n",
      "Epoch 9/20\n",
      "178/178 [==============================] - 2s 9ms/step - loss: 0.8159 - mse: 0.8159\n",
      "Epoch 10/20\n",
      "178/178 [==============================] - 1s 5ms/step - loss: 0.7646 - mse: 0.7646\n",
      "Epoch 11/20\n",
      "178/178 [==============================] - 1s 7ms/step - loss: 0.7263 - mse: 0.7263\n",
      "Epoch 12/20\n",
      "178/178 [==============================] - 1s 7ms/step - loss: 0.6957 - mse: 0.6957\n",
      "Epoch 13/20\n",
      "178/178 [==============================] - 2s 11ms/step - loss: 0.6711 - mse: 0.6711\n",
      "Epoch 14/20\n",
      "178/178 [==============================] - 1s 7ms/step - loss: 0.6503 - mse: 0.6503\n",
      "Epoch 15/20\n",
      "178/178 [==============================] - 1s 8ms/step - loss: 0.6326 - mse: 0.6326\n",
      "Epoch 16/20\n",
      "178/178 [==============================] - 1s 6ms/step - loss: 0.6164 - mse: 0.6164\n",
      "Epoch 17/20\n",
      "178/178 [==============================] - 1s 4ms/step - loss: 0.6016 - mse: 0.6016\n",
      "Epoch 18/20\n",
      "178/178 [==============================] - 1s 4ms/step - loss: 0.5873 - mse: 0.5873\n",
      "Epoch 19/20\n",
      "178/178 [==============================] - 1s 4ms/step - loss: 0.5734 - mse: 0.5734\n",
      "Epoch 20/20\n",
      "178/178 [==============================] - 2s 9ms/step - loss: 0.5597 - mse: 0.5597\n"
     ]
    }
   ],
   "source": [
    "history = mf_bias_model.fit(X_train, y_train, epochs=20, batch_size=512)\n"
   ]
  },
  {
   "cell_type": "code",
   "execution_count": 33,
   "metadata": {},
   "outputs": [
    {
     "name": "stdout",
     "output_type": "stream",
     "text": [
      "316/316 [==============================] - 1s 2ms/step\n",
      " Test RMSE : 1.0136009995770319 \n"
     ]
    }
   ],
   "source": [
    "y_pred = mf_bias_model.predict(X_test)\n",
    "\n",
    "test_rmse = sqrt(mean_squared_error(y_test, y_pred))\n",
    "\n",
    "print(\" Test RMSE : %s \" % test_rmse)"
   ]
  },
  {
   "cell_type": "markdown",
   "metadata": {},
   "source": [
    "You should get a lower RMSE, about 1.0/1.1"
   ]
  },
  {
   "cell_type": "markdown",
   "metadata": {},
   "source": [
    "## Adding L2 regularization"
   ]
  },
  {
   "cell_type": "markdown",
   "metadata": {},
   "source": [
    "For the moment we have omitted the regularization of the embeddings and bias parameters, as described in equation (5) of Koren's paper. We are now going to add them to the model, have a look at https://keras.io/layers/embeddings/ and https://keras.io/regularizers/ to see how to do this with keras. Fill the function below to implement it:"
   ]
  },
  {
   "cell_type": "code",
   "execution_count": 34,
   "metadata": {},
   "outputs": [],
   "source": [
    "from keras import layers\n",
    "from keras import regularizers\n",
    "from keras.regularizers import l2\n",
    "\n",
    "def get_mf_bias_l2_reg_model(nb_users, nb_movies, k, lambda_):\n",
    "    \"\"\"\n",
    "    Build a smatrix factorization model with user and movie biases, and L2 regularization\n",
    "    \n",
    "    Input:\n",
    "        nb_users : int : The number of unique users\n",
    "        nb_movies : int : The number of unique movies\n",
    "        k : int : The size of the embeddings\n",
    "        \n",
    "    Output:\n",
    "        model : keras.models.Model : A keras model that implements matrix factorization with biases\n",
    "            and L2 regularization\n",
    "        \n",
    "    \"\"\"\n",
    "    \n",
    "    \n",
    "    #TOFILL\n",
    "    \n",
    "    dim_embedddings = k\n",
    "    \n",
    "    # User embeddings\n",
    "    u = Input(shape=(1,), dtype='int32', name = 'u__user_id')\n",
    "    p_u = Embedding(nb_users, dim_embedddings, name=\"p_u__user_embedding\",\n",
    "                   embeddings_regularizer=l2(lambda_))(u)\n",
    "    p_u = Reshape((dim_embedddings,), name=\"p_u__user_embedding_reshaped\")(p_u)\n",
    "    \n",
    "    # Movie embeddings\n",
    "    i = Input(shape=(1,), dtype='int32', name = 'i__movie_id')\n",
    "    q_i = Embedding(nb_movies, dim_embedddings, name=\"q_i__movie_embedding\",\n",
    "                   embeddings_regularizer=l2(lambda_))(i)\n",
    "    q_i = Reshape((dim_embedddings,), name=\"q_i__movie_embedding_reshaped\")(q_i)\n",
    "    \n",
    "    # Dot product\n",
    "    d = Dot(axes = 1)([p_u, q_i])\n",
    "    \n",
    "    \n",
    "    #TOFILL\n",
    "    \n",
    "    b_u = Embedding(nb_users, 1, name='b_u__user_bias')(u)\n",
    "    b_u = Reshape((1,))(b_u)\n",
    "    b_i = Embedding(nb_movies, 1, name='b_i__movie_bias')(i)\n",
    "    b_i = Reshape((1,))(b_i)\n",
    "    \n",
    "    r_hat = Add()([d, b_u, b_i])\n",
    "    \n",
    "    model = Model(inputs=[u, i], outputs=r_hat)\n",
    "    model.compile(loss='mse', optimizer='adam', metrics=[\"mse\"])\n",
    "\n",
    "\n",
    "\n",
    "    \n",
    "    return model\n",
    "\n"
   ]
  },
  {
   "cell_type": "code",
   "execution_count": null,
   "metadata": {},
   "outputs": [],
   "source": []
  },
  {
   "cell_type": "code",
   "execution_count": 35,
   "metadata": {},
   "outputs": [],
   "source": [
    "lambda_ = 0.00001\n",
    "mf_bias_reg_model = get_mf_bias_l2_reg_model(nb_users, nb_movies, k, lambda_)"
   ]
  },
  {
   "cell_type": "code",
   "execution_count": 36,
   "metadata": {},
   "outputs": [
    {
     "name": "stdout",
     "output_type": "stream",
     "text": [
      "Model: \"model_3\"\n",
      "__________________________________________________________________________________________________\n",
      " Layer (type)                Output Shape                 Param #   Connected to                  \n",
      "==================================================================================================\n",
      " u__user_id (InputLayer)     [(None, 1)]                  0         []                            \n",
      "                                                                                                  \n",
      " i__movie_id (InputLayer)    [(None, 1)]                  0         []                            \n",
      "                                                                                                  \n",
      " p_u__user_embedding (Embed  (None, 1, 30)                18300     ['u__user_id[0][0]']          \n",
      " ding)                                                                                            \n",
      "                                                                                                  \n",
      " q_i__movie_embedding (Embe  (None, 1, 30)                291720    ['i__movie_id[0][0]']         \n",
      " dding)                                                                                           \n",
      "                                                                                                  \n",
      " p_u__user_embedding_reshap  (None, 30)                   0         ['p_u__user_embedding[0][0]'] \n",
      " ed (Reshape)                                                                                     \n",
      "                                                                                                  \n",
      " q_i__movie_embedding_resha  (None, 30)                   0         ['q_i__movie_embedding[0][0]']\n",
      " ped (Reshape)                                                                                    \n",
      "                                                                                                  \n",
      " b_u__user_bias (Embedding)  (None, 1, 1)                 610       ['u__user_id[0][0]']          \n",
      "                                                                                                  \n",
      " b_i__movie_bias (Embedding  (None, 1, 1)                 9724      ['i__movie_id[0][0]']         \n",
      " )                                                                                                \n",
      "                                                                                                  \n",
      " dot_3 (Dot)                 (None, 1)                    0         ['p_u__user_embedding_reshaped\n",
      "                                                                    [0][0]',                      \n",
      "                                                                     'q_i__movie_embedding_reshape\n",
      "                                                                    d[0][0]']                     \n",
      "                                                                                                  \n",
      " reshape_2 (Reshape)         (None, 1)                    0         ['b_u__user_bias[0][0]']      \n",
      "                                                                                                  \n",
      " reshape_3 (Reshape)         (None, 1)                    0         ['b_i__movie_bias[0][0]']     \n",
      "                                                                                                  \n",
      " add_1 (Add)                 (None, 1)                    0         ['dot_3[0][0]',               \n",
      "                                                                     'reshape_2[0][0]',           \n",
      "                                                                     'reshape_3[0][0]']           \n",
      "                                                                                                  \n",
      "==================================================================================================\n",
      "Total params: 320354 (1.22 MB)\n",
      "Trainable params: 320354 (1.22 MB)\n",
      "Non-trainable params: 0 (0.00 Byte)\n",
      "__________________________________________________________________________________________________\n"
     ]
    }
   ],
   "source": [
    "mf_bias_reg_model.summary()"
   ]
  },
  {
   "cell_type": "code",
   "execution_count": 37,
   "metadata": {},
   "outputs": [
    {
     "name": "stdout",
     "output_type": "stream",
     "text": [
      "Epoch 1/20\n",
      "178/178 [==============================] - 12s 59ms/step - loss: 12.6210 - mse: 12.6195\n",
      "Epoch 2/20\n",
      "178/178 [==============================] - 2s 13ms/step - loss: 9.6096 - mse: 9.6022\n",
      "Epoch 3/20\n",
      "178/178 [==============================] - 3s 15ms/step - loss: 4.2511 - mse: 4.2199\n",
      "Epoch 4/20\n",
      "178/178 [==============================] - 1s 8ms/step - loss: 2.1392 - mse: 2.0845\n",
      "Epoch 5/20\n",
      "178/178 [==============================] - 1s 7ms/step - loss: 1.5327 - mse: 1.4629\n",
      "Epoch 6/20\n",
      "178/178 [==============================] - 1s 7ms/step - loss: 1.2478 - mse: 1.1667\n",
      "Epoch 7/20\n",
      "178/178 [==============================] - 1s 6ms/step - loss: 1.0834 - mse: 0.9934\n",
      "Epoch 8/20\n",
      "178/178 [==============================] - 1s 5ms/step - loss: 0.9779 - mse: 0.8804\n",
      "Epoch 9/20\n",
      "178/178 [==============================] - 1s 6ms/step - loss: 0.9044 - mse: 0.8007\n",
      "Epoch 10/20\n",
      "178/178 [==============================] - 1s 8ms/step - loss: 0.8517 - mse: 0.7428\n",
      "Epoch 11/20\n",
      "178/178 [==============================] - 1s 6ms/step - loss: 0.8116 - mse: 0.6983\n",
      "Epoch 12/20\n",
      "178/178 [==============================] - 1s 6ms/step - loss: 0.7803 - mse: 0.6633\n",
      "Epoch 13/20\n",
      "178/178 [==============================] - 1s 6ms/step - loss: 0.7552 - mse: 0.6350\n",
      "Epoch 14/20\n",
      "178/178 [==============================] - 1s 6ms/step - loss: 0.7342 - mse: 0.6114\n",
      "Epoch 15/20\n",
      "178/178 [==============================] - 1s 5ms/step - loss: 0.7158 - mse: 0.5907\n",
      "Epoch 16/20\n",
      "178/178 [==============================] - 1s 5ms/step - loss: 0.7003 - mse: 0.5734\n",
      "Epoch 17/20\n",
      "178/178 [==============================] - 1s 5ms/step - loss: 0.6857 - mse: 0.5573\n",
      "Epoch 18/20\n",
      "178/178 [==============================] - 1s 4ms/step - loss: 0.6729 - mse: 0.5430\n",
      "Epoch 19/20\n",
      "178/178 [==============================] - 1s 6ms/step - loss: 0.6603 - mse: 0.5293\n",
      "Epoch 20/20\n",
      "178/178 [==============================] - 1s 6ms/step - loss: 0.6487 - mse: 0.5167\n"
     ]
    }
   ],
   "source": [
    "history = mf_bias_reg_model.fit(X_train, y_train, epochs=20, batch_size=512)\n"
   ]
  },
  {
   "cell_type": "code",
   "execution_count": 38,
   "metadata": {},
   "outputs": [
    {
     "name": "stdout",
     "output_type": "stream",
     "text": [
      "316/316 [==============================] - 1s 2ms/step\n",
      " Test RMSE : 1.0162551183332982 \n"
     ]
    }
   ],
   "source": [
    "y_pred = mf_bias_reg_model.predict(X_test)\n",
    "\n",
    "test_rmse = sqrt(mean_squared_error(y_test, y_pred))\n",
    "\n",
    "print(\" Test RMSE : %s \" % test_rmse)"
   ]
  },
  {
   "cell_type": "markdown",
   "metadata": {},
   "source": [
    "You should get a slightly better RMSE, but sometimes regularization is very important for achieving good test performances, in depends on the data."
   ]
  },
  {
   "cell_type": "markdown",
   "metadata": {},
   "source": [
    "## Early Stopping"
   ]
  },
  {
   "cell_type": "markdown",
   "metadata": {},
   "source": [
    "Instead of setting manually the maximum number of epochs, we prefer to use *early stopping*. When training with early stopping, keras keeps a given validation set though the parameter `validation_split`, on which it is going to monitor a performance measure you give it (here the `mse`) at every epoch, and continue optimization while the mse on the validation set keeps going down, and stops it when it goes back up. This mechanism is an easy way to avoid over-fitting, you can read more about it there : https://machinelearningmastery.com/how-to-stop-training-deep-neural-networks-at-the-right-time-using-early-stopping/\n",
    "\n",
    "In general when using early stopping we setup a high number of maximum epochs, that is never reach because the optimization is stopped by early stopping first :"
   ]
  },
  {
   "cell_type": "code",
   "execution_count": 39,
   "metadata": {},
   "outputs": [
    {
     "name": "stdout",
     "output_type": "stream",
     "text": [
      "Epoch 1/500\n",
      "160/160 [==============================] - 12s 64ms/step - loss: 12.6978 - mse: 12.6962 - val_loss: 12.0643 - val_mse: 12.0626\n",
      "Epoch 2/500\n",
      "160/160 [==============================] - 3s 22ms/step - loss: 10.2869 - mse: 10.2814 - val_loss: 7.8745 - val_mse: 7.8616\n",
      "Epoch 3/500\n",
      "160/160 [==============================] - 2s 14ms/step - loss: 5.0885 - mse: 5.0626 - val_loss: 3.3838 - val_mse: 3.3446\n",
      "Epoch 4/500\n",
      "160/160 [==============================] - 2s 10ms/step - loss: 2.4285 - mse: 2.3790 - val_loss: 2.2179 - val_mse: 2.1596\n",
      "Epoch 5/500\n",
      "160/160 [==============================] - 1s 9ms/step - loss: 1.6811 - mse: 1.6161 - val_loss: 1.7841 - val_mse: 1.7129\n",
      "Epoch 6/500\n",
      "160/160 [==============================] - 1s 6ms/step - loss: 1.3473 - mse: 1.2710 - val_loss: 1.5628 - val_mse: 1.4816\n",
      "Epoch 7/500\n",
      "160/160 [==============================] - 1s 7ms/step - loss: 1.1610 - mse: 1.0757 - val_loss: 1.4324 - val_mse: 1.3432\n",
      "Epoch 8/500\n",
      "160/160 [==============================] - 2s 10ms/step - loss: 1.0452 - mse: 0.9526 - val_loss: 1.3515 - val_mse: 1.2556\n",
      "Epoch 9/500\n",
      "160/160 [==============================] - 2s 10ms/step - loss: 0.9671 - mse: 0.8684 - val_loss: 1.2975 - val_mse: 1.1960\n",
      "Epoch 10/500\n",
      "160/160 [==============================] - 1s 7ms/step - loss: 0.9120 - mse: 0.8081 - val_loss: 1.2622 - val_mse: 1.1559\n",
      "Epoch 11/500\n",
      "160/160 [==============================] - 1s 8ms/step - loss: 0.8714 - mse: 0.7631 - val_loss: 1.2365 - val_mse: 1.1262\n",
      "Epoch 12/500\n",
      "160/160 [==============================] - 1s 6ms/step - loss: 0.8405 - mse: 0.7283 - val_loss: 1.2193 - val_mse: 1.1055\n",
      "Epoch 13/500\n",
      "160/160 [==============================] - 2s 10ms/step - loss: 0.8162 - mse: 0.7009 - val_loss: 1.2058 - val_mse: 1.0890\n",
      "Epoch 14/500\n",
      "160/160 [==============================] - 1s 8ms/step - loss: 0.7962 - mse: 0.6780 - val_loss: 1.1956 - val_mse: 1.0762\n",
      "Epoch 15/500\n",
      "160/160 [==============================] - 2s 10ms/step - loss: 0.7796 - mse: 0.6591 - val_loss: 1.1897 - val_mse: 1.0681\n",
      "Epoch 16/500\n",
      "160/160 [==============================] - 1s 6ms/step - loss: 0.7650 - mse: 0.6424 - val_loss: 1.1846 - val_mse: 1.0611\n",
      "Epoch 17/500\n",
      "160/160 [==============================] - 1s 8ms/step - loss: 0.7519 - mse: 0.6276 - val_loss: 1.1801 - val_mse: 1.0550\n",
      "Epoch 18/500\n",
      "160/160 [==============================] - 1s 6ms/step - loss: 0.7400 - mse: 0.6141 - val_loss: 1.1780 - val_mse: 1.0515\n",
      "Epoch 19/500\n",
      "160/160 [==============================] - 1s 7ms/step - loss: 0.7287 - mse: 0.6016 - val_loss: 1.1758 - val_mse: 1.0481\n",
      "Epoch 20/500\n",
      "160/160 [==============================] - 1s 9ms/step - loss: 0.7176 - mse: 0.5894 - val_loss: 1.1739 - val_mse: 1.0452\n",
      "Epoch 21/500\n",
      "160/160 [==============================] - 1s 6ms/step - loss: 0.7062 - mse: 0.5770 - val_loss: 1.1725 - val_mse: 1.0429\n",
      "Epoch 22/500\n",
      "160/160 [==============================] - 1s 7ms/step - loss: 0.6950 - mse: 0.5650 - val_loss: 1.1723 - val_mse: 1.0420\n",
      "Epoch 23/500\n",
      "160/160 [==============================] - 1s 7ms/step - loss: 0.6837 - mse: 0.5530 - val_loss: 1.1706 - val_mse: 1.0396\n",
      "Epoch 24/500\n",
      "160/160 [==============================] - 1s 5ms/step - loss: 0.6720 - mse: 0.5407 - val_loss: 1.1722 - val_mse: 1.0406\n",
      "Epoch 25/500\n",
      "160/160 [==============================] - 1s 5ms/step - loss: 0.6603 - mse: 0.5285 - val_loss: 1.1720 - val_mse: 1.0399\n",
      "Epoch 26/500\n",
      "160/160 [==============================] - 1s 7ms/step - loss: 0.6478 - mse: 0.5155 - val_loss: 1.1729 - val_mse: 1.0403\n",
      "Epoch 27/500\n",
      "160/160 [==============================] - 1s 6ms/step - loss: 0.6353 - mse: 0.5026 - val_loss: 1.1720 - val_mse: 1.0391\n",
      "Epoch 28/500\n",
      "160/160 [==============================] - 1s 7ms/step - loss: 0.6226 - mse: 0.4896 - val_loss: 1.1736 - val_mse: 1.0405\n",
      "Epoch 29/500\n",
      "160/160 [==============================] - 1s 7ms/step - loss: 0.6096 - mse: 0.4762 - val_loss: 1.1742 - val_mse: 1.0407\n",
      "Epoch 30/500\n",
      "160/160 [==============================] - 1s 5ms/step - loss: 0.5968 - mse: 0.4632 - val_loss: 1.1773 - val_mse: 1.0436\n",
      "Epoch 31/500\n",
      "160/160 [==============================] - 1s 5ms/step - loss: 0.5836 - mse: 0.4498 - val_loss: 1.1779 - val_mse: 1.0439\n",
      "Epoch 32/500\n",
      "158/160 [============================>.] - ETA: 0s - loss: 0.5707 - mse: 0.4366Restoring model weights from the end of the best epoch: 27.\n",
      "160/160 [==============================] - 1s 6ms/step - loss: 0.5705 - mse: 0.4364 - val_loss: 1.1800 - val_mse: 1.0459\n",
      "Epoch 32: early stopping\n"
     ]
    }
   ],
   "source": [
    "from keras.callbacks import EarlyStopping\n",
    "\n",
    "mf_bias_reg_model = get_mf_bias_l2_reg_model(nb_users, nb_movies, k, lambda_)\n",
    "\n",
    "early_stopping = EarlyStopping(monitor='val_mse', patience=5, verbose=1, restore_best_weights=True)\n",
    "\n",
    "history = mf_bias_reg_model.fit(X_train, y_train, epochs=500, batch_size=512, validation_split=0.1, callbacks=[early_stopping])"
   ]
  },
  {
   "cell_type": "markdown",
   "metadata": {},
   "source": [
    "As you can see the training stops before 500 epochs, when the validation MSE stops decreasing during 5 consecutive epochs (the patience value = 5). "
   ]
  },
  {
   "cell_type": "markdown",
   "metadata": {},
   "source": [
    "## Grid search embedding size and regularization factor with early stopping"
   ]
  },
  {
   "cell_type": "markdown",
   "metadata": {},
   "source": [
    "So for the moment we didn't grid search our model hyper-parameters, such as `k` and `lambda_`. There exists some scikit-learn wrappers for keras models in order to use scikit grid search functions, unfortunately they only work with single input keras models, which is not our case as we have two inputs: the user and the movie indexes.\n",
    "\n",
    "So let's implement your own grid search function for the two parameters `k` and `lambda_`. With big enough datasets, it is not necessary to do a cross-validation for each hyper-parameter combination, and we can simply split the training set into a sub-training set and a validation set to test our hyper-parameters. It does work because the validation set is big enough to see enough data variations, and with very big datasets, it is anyway not possible anymore to do a full cross-validation as it takes too much time to train. \n",
    "\n",
    "Fill in the `grid_search` function below and use early stopping with a validation split (just like above), and retrieve the validation RMSE (you can get the MSE from the `history` variable that is returned by the `fit` method (and then take the `sqrt` of that)) for all the hyper-parameter combinations from the `param_grid` dictionary of hyper-parameter values. Call the `get_model_function` parameter (yes, you can pass functions as parameters!) to generate each model, and return the hyper-parameters that give the lowest RMSE on the 10% validation set, the RMSE value, and the best corresponding trained model."
   ]
  },
  {
   "cell_type": "code",
   "execution_count": 40,
   "metadata": {
    "tags": []
   },
   "outputs": [
    {
     "data": {
      "text/html": [
       "<div>\n",
       "<style scoped>\n",
       "    .dataframe tbody tr th:only-of-type {\n",
       "        vertical-align: middle;\n",
       "    }\n",
       "\n",
       "    .dataframe tbody tr th {\n",
       "        vertical-align: top;\n",
       "    }\n",
       "\n",
       "    .dataframe thead th {\n",
       "        text-align: right;\n",
       "    }\n",
       "</style>\n",
       "<table border=\"1\" class=\"dataframe\">\n",
       "  <thead>\n",
       "    <tr style=\"text-align: right;\">\n",
       "      <th></th>\n",
       "      <th>userId</th>\n",
       "      <th>movieId</th>\n",
       "      <th>rating</th>\n",
       "      <th>timestamp</th>\n",
       "    </tr>\n",
       "  </thead>\n",
       "  <tbody>\n",
       "    <tr>\n",
       "      <th>6163</th>\n",
       "      <td>41</td>\n",
       "      <td>180</td>\n",
       "      <td>3.0</td>\n",
       "      <td>996257992</td>\n",
       "    </tr>\n",
       "    <tr>\n",
       "      <th>99923</th>\n",
       "      <td>609</td>\n",
       "      <td>1201</td>\n",
       "      <td>4.0</td>\n",
       "      <td>1493844958</td>\n",
       "    </tr>\n",
       "    <tr>\n",
       "      <th>84138</th>\n",
       "      <td>535</td>\n",
       "      <td>599</td>\n",
       "      <td>3.0</td>\n",
       "      <td>832839820</td>\n",
       "    </tr>\n",
       "    <tr>\n",
       "      <th>305</th>\n",
       "      <td>3</td>\n",
       "      <td>295</td>\n",
       "      <td>3.0</td>\n",
       "      <td>964538444</td>\n",
       "    </tr>\n",
       "    <tr>\n",
       "      <th>12408</th>\n",
       "      <td>76</td>\n",
       "      <td>902</td>\n",
       "      <td>3.0</td>\n",
       "      <td>1535107575</td>\n",
       "    </tr>\n",
       "  </tbody>\n",
       "</table>\n",
       "</div>"
      ],
      "text/plain": [
       "       userId  movieId  rating   timestamp\n",
       "6163       41      180     3.0   996257992\n",
       "99923     609     1201     4.0  1493844958\n",
       "84138     535      599     3.0   832839820\n",
       "305         3      295     3.0   964538444\n",
       "12408      76      902     3.0  1535107575"
      ]
     },
     "execution_count": 40,
     "metadata": {},
     "output_type": "execute_result"
    }
   ],
   "source": [
    "from sklearn.model_selection import cross_val_score\n",
    "train.head()"
   ]
  },
  {
   "cell_type": "code",
   "execution_count": 41,
   "metadata": {},
   "outputs": [],
   "source": [
    "import itertools\n",
    "\n",
    "\n",
    "def grid_search(data, param_grid, get_model_function, nb_users, nb_movies, validation_size = 0.1):\n",
    "    \"\"\"\n",
    "    Performs a grid search over the \n",
    "    \n",
    "    Input:\n",
    "        data : DataFrame : The training set to be split between training and validation sets\n",
    "        param_grid : dict : Dictionary containing the values of the hyper-parameters to grid-search\n",
    "        get_model_function : function : A function that returns the keras model to grid-search\n",
    "        nb_users : int : The number of unique users\n",
    "        nb_movies : int : The number of unique movies\n",
    "        validation_size : float : Proportion of the validation set\n",
    "        \n",
    "    Output:\n",
    "        best_params : dict : A dictionary of the best hyper-parameters values\n",
    "        best_score : float : The validation RMSE corresponding to the best\n",
    "        best_model : keras.Model : The model trained with the best hyper-parameters\n",
    "        \n",
    "    \"\"\"\n",
    "    \n",
    "    best_score = np.inf\n",
    "    best_params = {}\n",
    "    best_model = None\n",
    "    \n",
    "    train_data, val_data = train_test_split(data, test_size=validation_size)\n",
    "    \n",
    "    for k, lambda_ in itertools.product(param_grid['k'], param_grid['lambda_']):\n",
    "        print(f\"Training with k={k}, lambda_={lambda_}\")\n",
    "        \n",
    "        model = get_model_function(nb_users, nb_movies, k, lambda_)\n",
    "        early_stopping = EarlyStopping(monitor='val_loss', patience=5, verbose=1, restore_best_weights=True)\n",
    "        \n",
    "        history = model.fit(\n",
    "            [train_data['userId'], train_data['movieId']], \n",
    "            train_data['rating'], \n",
    "            validation_data=([val_data['userId'], val_data['movieId']], val_data['rating']),\n",
    "            epochs=32,  # Adjust as necessary\n",
    "            batch_size=512,\n",
    "            callbacks=[early_stopping],\n",
    "            verbose=0\n",
    "        )\n",
    "        \n",
    "        val_mse = min(history.history['val_loss'])\n",
    "        val_rmse = sqrt(val_mse)\n",
    "        print(f'RMSE: {val_rmse:.3f}')\n",
    "        \n",
    "        if val_rmse < best_score:\n",
    "            best_score = val_rmse\n",
    "            best_params = {'k': k, 'lambda_': lambda_}\n",
    "            best_model = model\n",
    "    \n",
    "    return best_params, best_score, best_model"
   ]
  },
  {
   "cell_type": "code",
   "execution_count": 42,
   "metadata": {
    "scrolled": true
   },
   "outputs": [
    {
     "name": "stdout",
     "output_type": "stream",
     "text": [
      "Training with k=15, lambda_=0.0002\n",
      "RMSE: 1.316\n",
      "Training with k=15, lambda_=5e-05\n",
      "RMSE: 1.200\n",
      "Training with k=15, lambda_=2e-05\n",
      "RMSE: 1.114\n",
      "Training with k=30, lambda_=0.0002\n",
      "RMSE: 1.332\n",
      "Training with k=30, lambda_=5e-05\n",
      "RMSE: 1.229\n",
      "Training with k=30, lambda_=2e-05\n",
      "RMSE: 1.152\n"
     ]
    }
   ],
   "source": [
    "lambdas_ = [0.0002, 0.00005, 0.00002]\n",
    "ks = [15,30]\n",
    "\n",
    "param_grid = dict(k=ks, lambda_=lambdas_)\n",
    "\n",
    "best_params, best_score, best_model = grid_search(train, param_grid, get_mf_bias_l2_reg_model,\n",
    "                                      nb_users, nb_movies, validation_size = 0.1)\n"
   ]
  },
  {
   "cell_type": "code",
   "execution_count": 43,
   "metadata": {},
   "outputs": [
    {
     "name": "stdout",
     "output_type": "stream",
     "text": [
      "Best hyper-parameters : {'k': 15, 'lambda_': 2e-05}\n",
      "Best validation RMSE : 1.1143184715563301\n"
     ]
    }
   ],
   "source": [
    "print('Best hyper-parameters : ' + str(best_params))\n",
    "print('Best validation RMSE : ' + str(best_score))"
   ]
  },
  {
   "cell_type": "code",
   "execution_count": 44,
   "metadata": {},
   "outputs": [
    {
     "name": "stdout",
     "output_type": "stream",
     "text": [
      "316/316 [==============================] - 1s 2ms/step\n",
      "Best model test RMSE : 1.0052991134925662 \n"
     ]
    }
   ],
   "source": [
    "y_pred = best_model.predict(X_test)\n",
    "\n",
    "test_rmse = sqrt(mean_squared_error(y_test, y_pred))\n",
    "\n",
    "print(\"Best model test RMSE : %s \" % test_rmse)"
   ]
  },
  {
   "cell_type": "markdown",
   "metadata": {},
   "source": [
    "## Retrain on all the dataset with the best hyper-parameters"
   ]
  },
  {
   "cell_type": "markdown",
   "metadata": {},
   "source": [
    "WARNING:tensorflow:Early stopping conditioned on metric `val_loss` which is not available. Available metrics are: loss,mseActually other hyper-parameters such as the ones of SGD should also be grid-searched, like the number of epochs or the batch size. But that would be a bit long for this course. \n",
    "\n",
    "Now we want to do the best prediction possible, so retrain below your model on the whole dataset, including the test set, with the best values obtained from your grid search to make new predictions with our optimal parameters :"
   ]
  },
  {
   "cell_type": "code",
   "execution_count": 45,
   "metadata": {
    "scrolled": true
   },
   "outputs": [
    {
     "name": "stdout",
     "output_type": "stream",
     "text": [
      "Epoch 1/500\n",
      "178/178 [==============================] - 13s 63ms/step - loss: 12.6364 - mse: 12.6350 - val_loss: 12.0064 - val_mse: 12.0045\n",
      "Epoch 2/500\n",
      "178/178 [==============================] - 3s 15ms/step - loss: 10.1776 - mse: 10.1688 - val_loss: 8.0480 - val_mse: 8.0268\n",
      "Epoch 3/500\n",
      "178/178 [==============================] - 2s 10ms/step - loss: 5.6143 - mse: 5.5739 - val_loss: 3.9896 - val_mse: 3.9288\n",
      "Epoch 4/500\n",
      "178/178 [==============================] - 2s 9ms/step - loss: 2.9250 - mse: 2.8469 - val_loss: 2.5521 - val_mse: 2.4585\n",
      "Epoch 5/500\n",
      "178/178 [==============================] - 1s 7ms/step - loss: 2.0310 - mse: 1.9257 - val_loss: 2.0374 - val_mse: 1.9215\n",
      "Epoch 6/500\n",
      "178/178 [==============================] - 1s 6ms/step - loss: 1.6372 - mse: 1.5128 - val_loss: 1.7702 - val_mse: 1.6373\n",
      "Epoch 7/500\n",
      "178/178 [==============================] - 1s 8ms/step - loss: 1.4145 - mse: 1.2746 - val_loss: 1.6107 - val_mse: 1.4642\n",
      "Epoch 8/500\n",
      "178/178 [==============================] - 2s 9ms/step - loss: 1.2741 - mse: 1.1217 - val_loss: 1.5076 - val_mse: 1.3495\n",
      "Epoch 9/500\n",
      "178/178 [==============================] - 1s 8ms/step - loss: 1.1796 - mse: 1.0165 - val_loss: 1.4375 - val_mse: 1.2697\n",
      "Epoch 10/500\n",
      "178/178 [==============================] - 1s 5ms/step - loss: 1.1130 - mse: 0.9409 - val_loss: 1.3873 - val_mse: 1.2112\n",
      "Epoch 11/500\n",
      "178/178 [==============================] - 1s 6ms/step - loss: 1.0641 - mse: 0.8844 - val_loss: 1.3505 - val_mse: 1.1672\n",
      "Epoch 12/500\n",
      "178/178 [==============================] - 1s 6ms/step - loss: 1.0276 - mse: 0.8412 - val_loss: 1.3240 - val_mse: 1.1346\n",
      "Epoch 13/500\n",
      "178/178 [==============================] - 1s 7ms/step - loss: 0.9994 - mse: 0.8074 - val_loss: 1.3030 - val_mse: 1.1083\n",
      "Epoch 14/500\n",
      "178/178 [==============================] - 1s 8ms/step - loss: 0.9774 - mse: 0.7804 - val_loss: 1.2873 - val_mse: 1.0882\n",
      "Epoch 15/500\n",
      "178/178 [==============================] - 1s 5ms/step - loss: 0.9599 - mse: 0.7588 - val_loss: 1.2742 - val_mse: 1.0711\n",
      "Epoch 16/500\n",
      "178/178 [==============================] - 1s 5ms/step - loss: 0.9455 - mse: 0.7408 - val_loss: 1.2639 - val_mse: 1.0575\n",
      "Epoch 17/500\n",
      "178/178 [==============================] - 1s 7ms/step - loss: 0.9338 - mse: 0.7260 - val_loss: 1.2555 - val_mse: 1.0465\n",
      "Epoch 18/500\n",
      "178/178 [==============================] - 1s 5ms/step - loss: 0.9235 - mse: 0.7133 - val_loss: 1.2487 - val_mse: 1.0374\n",
      "Epoch 19/500\n",
      "178/178 [==============================] - 1s 6ms/step - loss: 0.9149 - mse: 0.7026 - val_loss: 1.2428 - val_mse: 1.0297\n",
      "Epoch 20/500\n",
      "178/178 [==============================] - 1s 5ms/step - loss: 0.9070 - mse: 0.6931 - val_loss: 1.2375 - val_mse: 1.0229\n",
      "Epoch 21/500\n",
      "178/178 [==============================] - 1s 7ms/step - loss: 0.9001 - mse: 0.6847 - val_loss: 1.2334 - val_mse: 1.0176\n",
      "Epoch 22/500\n",
      "178/178 [==============================] - 1s 6ms/step - loss: 0.8937 - mse: 0.6775 - val_loss: 1.2285 - val_mse: 1.0120\n",
      "Epoch 23/500\n",
      "178/178 [==============================] - 1s 6ms/step - loss: 0.8877 - mse: 0.6708 - val_loss: 1.2247 - val_mse: 1.0074\n",
      "Epoch 24/500\n",
      "178/178 [==============================] - 1s 5ms/step - loss: 0.8822 - mse: 0.6647 - val_loss: 1.2199 - val_mse: 1.0023\n",
      "Epoch 25/500\n",
      "178/178 [==============================] - 1s 6ms/step - loss: 0.8763 - mse: 0.6587 - val_loss: 1.2174 - val_mse: 0.9996\n",
      "Epoch 26/500\n",
      "178/178 [==============================] - 1s 5ms/step - loss: 0.8708 - mse: 0.6530 - val_loss: 1.2125 - val_mse: 0.9947\n",
      "Epoch 27/500\n",
      "178/178 [==============================] - 1s 7ms/step - loss: 0.8652 - mse: 0.6475 - val_loss: 1.2095 - val_mse: 0.9920\n",
      "Epoch 28/500\n",
      "178/178 [==============================] - 1s 5ms/step - loss: 0.8594 - mse: 0.6422 - val_loss: 1.2057 - val_mse: 0.9886\n",
      "Epoch 29/500\n",
      "178/178 [==============================] - 1s 6ms/step - loss: 0.8536 - mse: 0.6368 - val_loss: 1.2021 - val_mse: 0.9855\n",
      "Epoch 30/500\n",
      "178/178 [==============================] - 1s 7ms/step - loss: 0.8478 - mse: 0.6315 - val_loss: 1.1989 - val_mse: 0.9829\n",
      "Epoch 31/500\n",
      "178/178 [==============================] - 1s 5ms/step - loss: 0.8415 - mse: 0.6259 - val_loss: 1.1945 - val_mse: 0.9792\n",
      "Epoch 32/500\n",
      "178/178 [==============================] - 1s 5ms/step - loss: 0.8351 - mse: 0.6204 - val_loss: 1.1927 - val_mse: 0.9783\n",
      "Epoch 33/500\n",
      "178/178 [==============================] - 1s 5ms/step - loss: 0.8284 - mse: 0.6144 - val_loss: 1.1877 - val_mse: 0.9742\n",
      "Epoch 34/500\n",
      "178/178 [==============================] - 1s 7ms/step - loss: 0.8211 - mse: 0.6081 - val_loss: 1.1845 - val_mse: 0.9719\n",
      "Epoch 35/500\n",
      "178/178 [==============================] - 1s 7ms/step - loss: 0.8139 - mse: 0.6018 - val_loss: 1.1804 - val_mse: 0.9687\n",
      "Epoch 36/500\n",
      "178/178 [==============================] - 1s 6ms/step - loss: 0.8063 - mse: 0.5952 - val_loss: 1.1772 - val_mse: 0.9666\n",
      "Epoch 37/500\n",
      "178/178 [==============================] - 1s 5ms/step - loss: 0.7982 - mse: 0.5883 - val_loss: 1.1740 - val_mse: 0.9645\n",
      "Epoch 38/500\n",
      "178/178 [==============================] - 1s 5ms/step - loss: 0.7898 - mse: 0.5810 - val_loss: 1.1707 - val_mse: 0.9624\n",
      "Epoch 39/500\n",
      "178/178 [==============================] - 1s 5ms/step - loss: 0.7811 - mse: 0.5734 - val_loss: 1.1676 - val_mse: 0.9603\n",
      "Epoch 40/500\n",
      "178/178 [==============================] - 1s 5ms/step - loss: 0.7722 - mse: 0.5655 - val_loss: 1.1645 - val_mse: 0.9584\n",
      "Epoch 41/500\n",
      "178/178 [==============================] - 1s 5ms/step - loss: 0.7628 - mse: 0.5573 - val_loss: 1.1601 - val_mse: 0.9550\n",
      "Epoch 42/500\n",
      "178/178 [==============================] - 1s 6ms/step - loss: 0.7536 - mse: 0.5490 - val_loss: 1.1588 - val_mse: 0.9548\n",
      "Epoch 43/500\n",
      "178/178 [==============================] - 1s 5ms/step - loss: 0.7441 - mse: 0.5405 - val_loss: 1.1568 - val_mse: 0.9536\n",
      "Epoch 44/500\n",
      "178/178 [==============================] - 1s 5ms/step - loss: 0.7343 - mse: 0.5317 - val_loss: 1.1550 - val_mse: 0.9529\n",
      "Epoch 45/500\n",
      "178/178 [==============================] - 1s 5ms/step - loss: 0.7247 - mse: 0.5230 - val_loss: 1.1516 - val_mse: 0.9503\n",
      "Epoch 46/500\n",
      "178/178 [==============================] - 1s 5ms/step - loss: 0.7150 - mse: 0.5142 - val_loss: 1.1497 - val_mse: 0.9493\n",
      "Epoch 47/500\n",
      "178/178 [==============================] - 1s 5ms/step - loss: 0.7052 - mse: 0.5053 - val_loss: 1.1473 - val_mse: 0.9477\n",
      "Epoch 48/500\n",
      "178/178 [==============================] - 1s 6ms/step - loss: 0.6956 - mse: 0.4965 - val_loss: 1.1464 - val_mse: 0.9475\n",
      "Epoch 49/500\n",
      "178/178 [==============================] - 1s 5ms/step - loss: 0.6861 - mse: 0.4877 - val_loss: 1.1437 - val_mse: 0.9456\n",
      "Epoch 50/500\n",
      "178/178 [==============================] - 1s 5ms/step - loss: 0.6767 - mse: 0.4790 - val_loss: 1.1436 - val_mse: 0.9462\n",
      "Epoch 51/500\n",
      "178/178 [==============================] - 1s 5ms/step - loss: 0.6674 - mse: 0.4704 - val_loss: 1.1420 - val_mse: 0.9454\n",
      "Epoch 52/500\n",
      "178/178 [==============================] - 1s 5ms/step - loss: 0.6583 - mse: 0.4620 - val_loss: 1.1410 - val_mse: 0.9449\n",
      "Epoch 53/500\n",
      "178/178 [==============================] - 1s 5ms/step - loss: 0.6496 - mse: 0.4539 - val_loss: 1.1389 - val_mse: 0.9434\n",
      "Epoch 54/500\n",
      "178/178 [==============================] - 1s 5ms/step - loss: 0.6409 - mse: 0.4458 - val_loss: 1.1384 - val_mse: 0.9434\n",
      "Epoch 55/500\n",
      "178/178 [==============================] - 1s 5ms/step - loss: 0.6324 - mse: 0.4378 - val_loss: 1.1389 - val_mse: 0.9444\n",
      "Epoch 56/500\n",
      "178/178 [==============================] - 1s 5ms/step - loss: 0.6244 - mse: 0.4304 - val_loss: 1.1380 - val_mse: 0.9442\n",
      "Epoch 57/500\n",
      "178/178 [==============================] - 1s 5ms/step - loss: 0.6164 - mse: 0.4229 - val_loss: 1.1382 - val_mse: 0.9448\n",
      "Epoch 58/500\n",
      "178/178 [==============================] - 1s 5ms/step - loss: 0.6088 - mse: 0.4157 - val_loss: 1.1368 - val_mse: 0.9439\n",
      "Epoch 59/500\n",
      "178/178 [==============================] - 1s 5ms/step - loss: 0.6013 - mse: 0.4088 - val_loss: 1.1355 - val_mse: 0.9431\n",
      "Epoch 60/500\n",
      "178/178 [==============================] - 1s 5ms/step - loss: 0.5941 - mse: 0.4021 - val_loss: 1.1351 - val_mse: 0.9431\n",
      "Epoch 61/500\n",
      "178/178 [==============================] - 1s 5ms/step - loss: 0.5871 - mse: 0.3956 - val_loss: 1.1348 - val_mse: 0.9431\n",
      "Epoch 62/500\n",
      "178/178 [==============================] - 1s 7ms/step - loss: 0.5805 - mse: 0.3892 - val_loss: 1.1349 - val_mse: 0.9438\n",
      "Epoch 63/500\n",
      "178/178 [==============================] - 1s 5ms/step - loss: 0.5738 - mse: 0.3830 - val_loss: 1.1331 - val_mse: 0.9425\n",
      "Epoch 64/500\n",
      "178/178 [==============================] - 1s 5ms/step - loss: 0.5676 - mse: 0.3773 - val_loss: 1.1330 - val_mse: 0.9427\n",
      "Epoch 65/500\n",
      "178/178 [==============================] - 1s 5ms/step - loss: 0.5616 - mse: 0.3716 - val_loss: 1.1324 - val_mse: 0.9427\n",
      "Epoch 66/500\n",
      "178/178 [==============================] - 1s 5ms/step - loss: 0.5555 - mse: 0.3661 - val_loss: 1.1333 - val_mse: 0.9439\n",
      "Epoch 67/500\n",
      "178/178 [==============================] - 1s 6ms/step - loss: 0.5500 - mse: 0.3609 - val_loss: 1.1330 - val_mse: 0.9440\n",
      "Epoch 68/500\n",
      "178/178 [==============================] - 1s 5ms/step - loss: 0.5443 - mse: 0.3557 - val_loss: 1.1331 - val_mse: 0.9446\n",
      "Epoch 69/500\n",
      "178/178 [==============================] - 1s 5ms/step - loss: 0.5391 - mse: 0.3508 - val_loss: 1.1325 - val_mse: 0.9444\n",
      "Epoch 70/500\n",
      "178/178 [==============================] - 1s 5ms/step - loss: 0.5339 - mse: 0.3461 - val_loss: 1.1319 - val_mse: 0.9442\n",
      "Epoch 71/500\n",
      "178/178 [==============================] - 1s 7ms/step - loss: 0.5290 - mse: 0.3417 - val_loss: 1.1331 - val_mse: 0.9458\n",
      "Epoch 72/500\n",
      "178/178 [==============================] - 1s 6ms/step - loss: 0.5242 - mse: 0.3373 - val_loss: 1.1324 - val_mse: 0.9455\n",
      "Epoch 73/500\n",
      "175/178 [============================>.] - ETA: 0s - loss: 0.5195 - mse: 0.3329Restoring model weights from the end of the best epoch: 63.\n",
      "178/178 [==============================] - 1s 5ms/step - loss: 0.5196 - mse: 0.3330 - val_loss: 1.1326 - val_mse: 0.9461\n",
      "Epoch 73: early stopping\n"
     ]
    },
    {
     "data": {
      "text/plain": [
       "<keras.src.callbacks.History at 0x76853c2cdf60>"
      ]
     },
     "execution_count": 45,
     "metadata": {},
     "output_type": "execute_result"
    }
   ],
   "source": [
    "from keras.callbacks import EarlyStopping\n",
    "\n",
    "X = [dataset[\"userId\"].to_numpy(), dataset[\"movieId\"].to_numpy()]\n",
    "y = dataset[\"rating\"].to_numpy()\n",
    "\n",
    "#TOFILL\n",
    "best_model=get_mf_bias_l2_reg_model(nb_users, nb_movies, k =15, lambda_ =0.00002)\n",
    "\n",
    "early_stopping = EarlyStopping(monitor='val_mse', patience=10, verbose=1, restore_best_weights=True)\n",
    "\n",
    "best_model.fit(X, y, epochs=500, batch_size=512, validation_split=0.1, callbacks=[early_stopping])"
   ]
  },
  {
   "cell_type": "markdown",
   "metadata": {},
   "source": [
    "## Recommend the top-5 movies for the 10 first users"
   ]
  },
  {
   "cell_type": "markdown",
   "metadata": {},
   "source": [
    "With your retrained best model with optimal hyper parameters, compute the predictions for all the ratings that are not in the `dataset` for the 10 first users (indexes from 0 to 9). That means all the movies $i$ that these users $u \\in 0,\\ldots,9$ haven't rated, thus all the $u,i$ combinations that are not in the `dataset` dataframe rows.\n",
    "\n",
    "Order these predicted ratings for these users by decreasing order, and print out the 5 first ones, i.e. the ones that have the highest predicted ratings. Use the *movies.csv* file to print the real titles."
   ]
  },
  {
   "cell_type": "code",
   "execution_count": 46,
   "metadata": {
    "tags": []
   },
   "outputs": [
    {
     "name": "stdout",
     "output_type": "stream",
     "text": [
      "316/316 [==============================] - 1s 2ms/step\n"
     ]
    }
   ],
   "source": [
    "y_pred = best_model.predict(X_test)"
   ]
  },
  {
   "cell_type": "code",
   "execution_count": 47,
   "metadata": {
    "tags": []
   },
   "outputs": [
    {
     "data": {
      "text/html": [
       "<div>\n",
       "<style scoped>\n",
       "    .dataframe tbody tr th:only-of-type {\n",
       "        vertical-align: middle;\n",
       "    }\n",
       "\n",
       "    .dataframe tbody tr th {\n",
       "        vertical-align: top;\n",
       "    }\n",
       "\n",
       "    .dataframe thead th {\n",
       "        text-align: right;\n",
       "    }\n",
       "</style>\n",
       "<table border=\"1\" class=\"dataframe\">\n",
       "  <thead>\n",
       "    <tr style=\"text-align: right;\">\n",
       "      <th></th>\n",
       "      <th>userId</th>\n",
       "      <th>movieId</th>\n",
       "      <th>rating</th>\n",
       "      <th>timestamp</th>\n",
       "    </tr>\n",
       "  </thead>\n",
       "  <tbody>\n",
       "    <tr>\n",
       "      <th>6163</th>\n",
       "      <td>41</td>\n",
       "      <td>180</td>\n",
       "      <td>3.0</td>\n",
       "      <td>996257992</td>\n",
       "    </tr>\n",
       "    <tr>\n",
       "      <th>99923</th>\n",
       "      <td>609</td>\n",
       "      <td>1201</td>\n",
       "      <td>4.0</td>\n",
       "      <td>1493844958</td>\n",
       "    </tr>\n",
       "    <tr>\n",
       "      <th>84138</th>\n",
       "      <td>535</td>\n",
       "      <td>599</td>\n",
       "      <td>3.0</td>\n",
       "      <td>832839820</td>\n",
       "    </tr>\n",
       "    <tr>\n",
       "      <th>305</th>\n",
       "      <td>3</td>\n",
       "      <td>295</td>\n",
       "      <td>3.0</td>\n",
       "      <td>964538444</td>\n",
       "    </tr>\n",
       "    <tr>\n",
       "      <th>12408</th>\n",
       "      <td>76</td>\n",
       "      <td>902</td>\n",
       "      <td>3.0</td>\n",
       "      <td>1535107575</td>\n",
       "    </tr>\n",
       "  </tbody>\n",
       "</table>\n",
       "</div>"
      ],
      "text/plain": [
       "       userId  movieId  rating   timestamp\n",
       "6163       41      180     3.0   996257992\n",
       "99923     609     1201     4.0  1493844958\n",
       "84138     535      599     3.0   832839820\n",
       "305         3      295     3.0   964538444\n",
       "12408      76      902     3.0  1535107575"
      ]
     },
     "execution_count": 47,
     "metadata": {},
     "output_type": "execute_result"
    }
   ],
   "source": [
    "dataset.head()"
   ]
  },
  {
   "cell_type": "code",
   "execution_count": 48,
   "metadata": {
    "tags": []
   },
   "outputs": [
    {
     "data": {
      "text/html": [
       "<div>\n",
       "<style scoped>\n",
       "    .dataframe tbody tr th:only-of-type {\n",
       "        vertical-align: middle;\n",
       "    }\n",
       "\n",
       "    .dataframe tbody tr th {\n",
       "        vertical-align: top;\n",
       "    }\n",
       "\n",
       "    .dataframe thead th {\n",
       "        text-align: right;\n",
       "    }\n",
       "</style>\n",
       "<table border=\"1\" class=\"dataframe\">\n",
       "  <thead>\n",
       "    <tr style=\"text-align: right;\">\n",
       "      <th></th>\n",
       "      <th>0</th>\n",
       "      <th>1</th>\n",
       "      <th>2</th>\n",
       "      <th>3</th>\n",
       "      <th>4</th>\n",
       "      <th>5</th>\n",
       "      <th>6</th>\n",
       "      <th>7</th>\n",
       "      <th>8</th>\n",
       "      <th>9</th>\n",
       "      <th>...</th>\n",
       "      <th>10074</th>\n",
       "      <th>10075</th>\n",
       "      <th>10076</th>\n",
       "      <th>10077</th>\n",
       "      <th>10078</th>\n",
       "      <th>10079</th>\n",
       "      <th>10080</th>\n",
       "      <th>10081</th>\n",
       "      <th>10082</th>\n",
       "      <th>10083</th>\n",
       "    </tr>\n",
       "  </thead>\n",
       "  <tbody>\n",
       "    <tr>\n",
       "      <th>0</th>\n",
       "      <td>287</td>\n",
       "      <td>176</td>\n",
       "      <td>418</td>\n",
       "      <td>473</td>\n",
       "      <td>212</td>\n",
       "      <td>372</td>\n",
       "      <td>245</td>\n",
       "      <td>473</td>\n",
       "      <td>31</td>\n",
       "      <td>176</td>\n",
       "      <td>...</td>\n",
       "      <td>117</td>\n",
       "      <td>105</td>\n",
       "      <td>69</td>\n",
       "      <td>209</td>\n",
       "      <td>62</td>\n",
       "      <td>447</td>\n",
       "      <td>482</td>\n",
       "      <td>433</td>\n",
       "      <td>447</td>\n",
       "      <td>387</td>\n",
       "    </tr>\n",
       "    <tr>\n",
       "      <th>1</th>\n",
       "      <td>159</td>\n",
       "      <td>878</td>\n",
       "      <td>2050</td>\n",
       "      <td>2143</td>\n",
       "      <td>422</td>\n",
       "      <td>1004</td>\n",
       "      <td>445</td>\n",
       "      <td>4138</td>\n",
       "      <td>291</td>\n",
       "      <td>457</td>\n",
       "      <td>...</td>\n",
       "      <td>2427</td>\n",
       "      <td>166</td>\n",
       "      <td>2205</td>\n",
       "      <td>1925</td>\n",
       "      <td>902</td>\n",
       "      <td>3115</td>\n",
       "      <td>1579</td>\n",
       "      <td>3182</td>\n",
       "      <td>1277</td>\n",
       "      <td>3444</td>\n",
       "    </tr>\n",
       "  </tbody>\n",
       "</table>\n",
       "<p>2 rows × 10084 columns</p>\n",
       "</div>"
      ],
      "text/plain": [
       "   0      1      2      3      4      5      6      7      8      9      ...  \\\n",
       "0    287    176    418    473    212    372    245    473     31    176  ...   \n",
       "1    159    878   2050   2143    422   1004    445   4138    291    457  ...   \n",
       "\n",
       "   10074  10075  10076  10077  10078  10079  10080  10081  10082  10083  \n",
       "0    117    105     69    209     62    447    482    433    447    387  \n",
       "1   2427    166   2205   1925    902   3115   1579   3182   1277   3444  \n",
       "\n",
       "[2 rows x 10084 columns]"
      ]
     },
     "execution_count": 48,
     "metadata": {},
     "output_type": "execute_result"
    }
   ],
   "source": [
    "pd.DataFrame(X_test)"
   ]
  },
  {
   "cell_type": "code",
   "execution_count": 49,
   "metadata": {
    "tags": []
   },
   "outputs": [
    {
     "data": {
      "text/html": [
       "<div>\n",
       "<style scoped>\n",
       "    .dataframe tbody tr th:only-of-type {\n",
       "        vertical-align: middle;\n",
       "    }\n",
       "\n",
       "    .dataframe tbody tr th {\n",
       "        vertical-align: top;\n",
       "    }\n",
       "\n",
       "    .dataframe thead th {\n",
       "        text-align: right;\n",
       "    }\n",
       "</style>\n",
       "<table border=\"1\" class=\"dataframe\">\n",
       "  <thead>\n",
       "    <tr style=\"text-align: right;\">\n",
       "      <th></th>\n",
       "      <th>0</th>\n",
       "    </tr>\n",
       "  </thead>\n",
       "  <tbody>\n",
       "    <tr>\n",
       "      <th>0</th>\n",
       "      <td>2.855786</td>\n",
       "    </tr>\n",
       "    <tr>\n",
       "      <th>1</th>\n",
       "      <td>4.032229</td>\n",
       "    </tr>\n",
       "    <tr>\n",
       "      <th>2</th>\n",
       "      <td>3.914924</td>\n",
       "    </tr>\n",
       "    <tr>\n",
       "      <th>3</th>\n",
       "      <td>3.474198</td>\n",
       "    </tr>\n",
       "    <tr>\n",
       "      <th>4</th>\n",
       "      <td>3.924266</td>\n",
       "    </tr>\n",
       "    <tr>\n",
       "      <th>...</th>\n",
       "      <td>...</td>\n",
       "    </tr>\n",
       "    <tr>\n",
       "      <th>10079</th>\n",
       "      <td>2.664445</td>\n",
       "    </tr>\n",
       "    <tr>\n",
       "      <th>10080</th>\n",
       "      <td>3.999191</td>\n",
       "    </tr>\n",
       "    <tr>\n",
       "      <th>10081</th>\n",
       "      <td>4.094865</td>\n",
       "    </tr>\n",
       "    <tr>\n",
       "      <th>10082</th>\n",
       "      <td>3.370880</td>\n",
       "    </tr>\n",
       "    <tr>\n",
       "      <th>10083</th>\n",
       "      <td>3.369538</td>\n",
       "    </tr>\n",
       "  </tbody>\n",
       "</table>\n",
       "<p>10084 rows × 1 columns</p>\n",
       "</div>"
      ],
      "text/plain": [
       "              0\n",
       "0      2.855786\n",
       "1      4.032229\n",
       "2      3.914924\n",
       "3      3.474198\n",
       "4      3.924266\n",
       "...         ...\n",
       "10079  2.664445\n",
       "10080  3.999191\n",
       "10081  4.094865\n",
       "10082  3.370880\n",
       "10083  3.369538\n",
       "\n",
       "[10084 rows x 1 columns]"
      ]
     },
     "execution_count": 49,
     "metadata": {},
     "output_type": "execute_result"
    }
   ],
   "source": [
    "pd.DataFrame(y_pred)"
   ]
  },
  {
   "cell_type": "code",
   "execution_count": 50,
   "metadata": {},
   "outputs": [
    {
     "data": {
      "text/plain": [
       "1004.0"
      ]
     },
     "execution_count": 50,
     "metadata": {},
     "output_type": "execute_result"
    }
   ],
   "source": [
    "test.iloc[5]['movieId']"
   ]
  },
  {
   "cell_type": "code",
   "execution_count": 52,
   "metadata": {
    "tags": []
   },
   "outputs": [],
   "source": [
    "# list(p[p['userId']==31]['movieId'])"
   ]
  },
  {
   "cell_type": "code",
   "execution_count": 53,
   "metadata": {
    "tags": []
   },
   "outputs": [],
   "source": [
    "# int(p.iloc[120]['movieId']) in list(p[p['userId']==31]['movieId'])"
   ]
  },
  {
   "cell_type": "code",
   "execution_count": 54,
   "metadata": {
    "tags": []
   },
   "outputs": [
    {
     "data": {
      "text/html": [
       "<div>\n",
       "<style scoped>\n",
       "    .dataframe tbody tr th:only-of-type {\n",
       "        vertical-align: middle;\n",
       "    }\n",
       "\n",
       "    .dataframe tbody tr th {\n",
       "        vertical-align: top;\n",
       "    }\n",
       "\n",
       "    .dataframe thead th {\n",
       "        text-align: right;\n",
       "    }\n",
       "</style>\n",
       "<table border=\"1\" class=\"dataframe\">\n",
       "  <thead>\n",
       "    <tr style=\"text-align: right;\">\n",
       "      <th></th>\n",
       "      <th>userId</th>\n",
       "      <th>movieId</th>\n",
       "      <th>rating</th>\n",
       "      <th>timestamp</th>\n",
       "    </tr>\n",
       "  </thead>\n",
       "  <tbody>\n",
       "    <tr>\n",
       "      <th>6163</th>\n",
       "      <td>41</td>\n",
       "      <td>180</td>\n",
       "      <td>3.0</td>\n",
       "      <td>996257992</td>\n",
       "    </tr>\n",
       "    <tr>\n",
       "      <th>99923</th>\n",
       "      <td>609</td>\n",
       "      <td>1201</td>\n",
       "      <td>4.0</td>\n",
       "      <td>1493844958</td>\n",
       "    </tr>\n",
       "    <tr>\n",
       "      <th>84138</th>\n",
       "      <td>535</td>\n",
       "      <td>599</td>\n",
       "      <td>3.0</td>\n",
       "      <td>832839820</td>\n",
       "    </tr>\n",
       "    <tr>\n",
       "      <th>305</th>\n",
       "      <td>3</td>\n",
       "      <td>295</td>\n",
       "      <td>3.0</td>\n",
       "      <td>964538444</td>\n",
       "    </tr>\n",
       "    <tr>\n",
       "      <th>12408</th>\n",
       "      <td>76</td>\n",
       "      <td>902</td>\n",
       "      <td>3.0</td>\n",
       "      <td>1535107575</td>\n",
       "    </tr>\n",
       "  </tbody>\n",
       "</table>\n",
       "</div>"
      ],
      "text/plain": [
       "       userId  movieId  rating   timestamp\n",
       "6163       41      180     3.0   996257992\n",
       "99923     609     1201     4.0  1493844958\n",
       "84138     535      599     3.0   832839820\n",
       "305         3      295     3.0   964538444\n",
       "12408      76      902     3.0  1535107575"
      ]
     },
     "execution_count": 54,
     "metadata": {},
     "output_type": "execute_result"
    }
   ],
   "source": [
    "dataset.head()"
   ]
  },
  {
   "cell_type": "code",
   "execution_count": 55,
   "metadata": {
    "tags": []
   },
   "outputs": [
    {
     "data": {
      "text/plain": [
       "array([   0,    1,    2, ..., 9721, 9722, 9723])"
      ]
     },
     "execution_count": 55,
     "metadata": {},
     "output_type": "execute_result"
    }
   ],
   "source": [
    "rated_movies = dataset[dataset['userId'] == 1]['movieId'].unique()\n",
    "not_rated = np.setdiff1d(np.arange(nb_movies),rated_movies)\n",
    "not_rated"
   ]
  },
  {
   "cell_type": "code",
   "execution_count": 56,
   "metadata": {
    "tags": []
   },
   "outputs": [
    {
     "data": {
      "text/plain": [
       "array([11, 11, 11, ..., 11, 11, 11])"
      ]
     },
     "execution_count": 56,
     "metadata": {},
     "output_type": "execute_result"
    }
   ],
   "source": [
    "user_array = np.full_like(not_rated, 11)\n",
    "user_array"
   ]
  },
  {
   "cell_type": "code",
   "execution_count": 158,
   "metadata": {
    "tags": []
   },
   "outputs": [
    {
     "data": {
      "text/plain": [
       "array([[4.838863 ],\n",
       "       [4.360146 ],\n",
       "       [4.7274885],\n",
       "       ...,\n",
       "       [1.4590081],\n",
       "       [2.4931328],\n",
       "       [2.4524817]], dtype=float32)"
      ]
     },
     "execution_count": 158,
     "metadata": {},
     "output_type": "execute_result"
    }
   ],
   "source": [
    "predictions = best_model.predict([user_array, not_rated], verbose=0)\n",
    "predictions"
   ]
  },
  {
   "cell_type": "code",
   "execution_count": 166,
   "metadata": {
    "tags": []
   },
   "outputs": [
    {
     "data": {
      "text/plain": [
       "array([[0],\n",
       "       [0],\n",
       "       [0],\n",
       "       ...,\n",
       "       [0],\n",
       "       [0],\n",
       "       [0]])"
      ]
     },
     "execution_count": 166,
     "metadata": {},
     "output_type": "execute_result"
    }
   ],
   "source": [
    "sorted_indices = np.argsort(predictions)[::-1]\n",
    "sorted_indices"
   ]
  },
  {
   "cell_type": "code",
   "execution_count": 176,
   "metadata": {
    "tags": []
   },
   "outputs": [
    {
     "data": {
      "text/plain": [
       "array([3469,  165, 6922])"
      ]
     },
     "execution_count": 176,
     "metadata": {},
     "output_type": "execute_result"
    }
   ],
   "source": [
    "sorted_indices = np.argsort(predictions.flatten())[::-1]  # the order of indices that will sort the array in ascending order\n",
    "sorted_indices[:3]"
   ]
  },
  {
   "cell_type": "code",
   "execution_count": 177,
   "metadata": {
    "tags": []
   },
   "outputs": [
    {
     "data": {
      "text/plain": [
       "array([4.838863 , 4.360146 , 4.7274885, ..., 1.4590081, 2.4931328,\n",
       "       2.4524817], dtype=float32)"
      ]
     },
     "execution_count": 177,
     "metadata": {},
     "output_type": "execute_result"
    }
   ],
   "source": [
    "predictions.flatten()"
   ]
  },
  {
   "cell_type": "code",
   "execution_count": 182,
   "metadata": {
    "tags": []
   },
   "outputs": [
    {
     "data": {
      "text/plain": [
       "[3469, 165, 6922]"
      ]
     },
     "execution_count": 182,
     "metadata": {},
     "output_type": "execute_result"
    }
   ],
   "source": [
    "sorted_indices = [i[0] for i in sorted(enumerate(predictions.flatten().astype(np.float64)), key=lambda x: x[1],reverse=True)]\n",
    "sorted_indices[:3]"
   ]
  },
  {
   "cell_type": "code",
   "execution_count": 59,
   "metadata": {
    "tags": []
   },
   "outputs": [
    {
     "data": {
      "text/plain": [
       "array([6940, 6951, 1395, 3185, 4692])"
      ]
     },
     "execution_count": 59,
     "metadata": {},
     "output_type": "execute_result"
    }
   ],
   "source": [
    "top5_movie_ids = not_rated[sorted_indices][:5]\n",
    "top5_movie_ids"
   ]
  },
  {
   "cell_type": "code",
   "execution_count": 60,
   "metadata": {
    "tags": []
   },
   "outputs": [],
   "source": [
    "top5_movie_titles = name_movie[name_movie['movieId'].isin(top5_movie_ids)]['title']"
   ]
  },
  {
   "cell_type": "code",
   "execution_count": 61,
   "metadata": {
    "tags": []
   },
   "outputs": [
    {
     "data": {
      "text/plain": [
       "1075                   Tin Men (1987)\n",
       "2401    Snow Falling on Cedars (1999)\n",
       "4652       Cat in the Hat, The (2003)\n",
       "Name: title, dtype: object"
      ]
     },
     "execution_count": 61,
     "metadata": {},
     "output_type": "execute_result"
    }
   ],
   "source": [
    "top5_movie_titles"
   ]
  },
  {
   "cell_type": "code",
   "execution_count": 151,
   "metadata": {
    "tags": []
   },
   "outputs": [
    {
     "data": {
      "text/html": [
       "<div>\n",
       "<style scoped>\n",
       "    .dataframe tbody tr th:only-of-type {\n",
       "        vertical-align: middle;\n",
       "    }\n",
       "\n",
       "    .dataframe tbody tr th {\n",
       "        vertical-align: top;\n",
       "    }\n",
       "\n",
       "    .dataframe thead th {\n",
       "        text-align: right;\n",
       "    }\n",
       "</style>\n",
       "<table border=\"1\" class=\"dataframe\">\n",
       "  <thead>\n",
       "    <tr style=\"text-align: right;\">\n",
       "      <th></th>\n",
       "      <th>0</th>\n",
       "      <th>1</th>\n",
       "      <th>2</th>\n",
       "      <th>3</th>\n",
       "      <th>4</th>\n",
       "      <th>5</th>\n",
       "      <th>6</th>\n",
       "      <th>7</th>\n",
       "      <th>8</th>\n",
       "      <th>9</th>\n",
       "      <th>...</th>\n",
       "      <th>9685</th>\n",
       "      <th>9686</th>\n",
       "      <th>9687</th>\n",
       "      <th>9688</th>\n",
       "      <th>9689</th>\n",
       "      <th>9690</th>\n",
       "      <th>9691</th>\n",
       "      <th>9692</th>\n",
       "      <th>9693</th>\n",
       "      <th>9694</th>\n",
       "    </tr>\n",
       "  </thead>\n",
       "  <tbody>\n",
       "    <tr>\n",
       "      <th>0</th>\n",
       "      <td>11</td>\n",
       "      <td>11</td>\n",
       "      <td>11</td>\n",
       "      <td>11</td>\n",
       "      <td>11</td>\n",
       "      <td>11</td>\n",
       "      <td>11</td>\n",
       "      <td>11</td>\n",
       "      <td>11</td>\n",
       "      <td>11</td>\n",
       "      <td>...</td>\n",
       "      <td>11</td>\n",
       "      <td>11</td>\n",
       "      <td>11</td>\n",
       "      <td>11</td>\n",
       "      <td>11</td>\n",
       "      <td>11</td>\n",
       "      <td>11</td>\n",
       "      <td>11</td>\n",
       "      <td>11</td>\n",
       "      <td>11</td>\n",
       "    </tr>\n",
       "    <tr>\n",
       "      <th>1</th>\n",
       "      <td>0</td>\n",
       "      <td>1</td>\n",
       "      <td>2</td>\n",
       "      <td>3</td>\n",
       "      <td>4</td>\n",
       "      <td>5</td>\n",
       "      <td>6</td>\n",
       "      <td>7</td>\n",
       "      <td>8</td>\n",
       "      <td>9</td>\n",
       "      <td>...</td>\n",
       "      <td>9714</td>\n",
       "      <td>9715</td>\n",
       "      <td>9716</td>\n",
       "      <td>9717</td>\n",
       "      <td>9718</td>\n",
       "      <td>9719</td>\n",
       "      <td>9720</td>\n",
       "      <td>9721</td>\n",
       "      <td>9722</td>\n",
       "      <td>9723</td>\n",
       "    </tr>\n",
       "  </tbody>\n",
       "</table>\n",
       "<p>2 rows × 9695 columns</p>\n",
       "</div>"
      ],
      "text/plain": [
       "   0     1     2     3     4     5     6     7     8     9     ...  9685  \\\n",
       "0    11    11    11    11    11    11    11    11    11    11  ...    11   \n",
       "1     0     1     2     3     4     5     6     7     8     9  ...  9714   \n",
       "\n",
       "   9686  9687  9688  9689  9690  9691  9692  9693  9694  \n",
       "0    11    11    11    11    11    11    11    11    11  \n",
       "1  9715  9716  9717  9718  9719  9720  9721  9722  9723  \n",
       "\n",
       "[2 rows x 9695 columns]"
      ]
     },
     "execution_count": 151,
     "metadata": {},
     "output_type": "execute_result"
    }
   ],
   "source": [
    "pd.DataFrame([user_array, not_rated])"
   ]
  },
  {
   "cell_type": "code",
   "execution_count": 62,
   "metadata": {
    "tags": []
   },
   "outputs": [
    {
     "data": {
      "text/plain": [
       "array([5.8799505, 5.8373213, 5.8331013, 5.5907893, 5.5658355],\n",
       "      dtype=float32)"
      ]
     },
     "execution_count": 62,
     "metadata": {},
     "output_type": "execute_result"
    }
   ],
   "source": [
    "top5_ratings = predictions[sorted_indices][:5]\n",
    "top5_ratings"
   ]
  },
  {
   "cell_type": "code",
   "execution_count": 63,
   "metadata": {},
   "outputs": [],
   "source": [
    "def get_top5_for_user(model, user_id, dataset):\n",
    "    \"\"\"\n",
    "    Returns a list of the 5 movies that have the highest ratings among the unrated movies\n",
    "    of user `user_id`, along with a list of their predicted ratings.\n",
    "    \n",
    "    Input :\n",
    "        model : keras.models.Model : A trained matrix factorization model\n",
    "        user_id : int : The user id to use\n",
    "        dataset : DataFrame : The whole dataset, useful to find the movies \n",
    "            the user `user_id` has already rated\n",
    "    \n",
    "    Output :\n",
    "        five_best_movie_ids : list : The five movie ids among unrated movies by user `user_id` \n",
    "            that have the highest predicted ratings, in order\n",
    "        five_best_ratings : list : The corresponding five ratings\n",
    "    \"\"\"\n",
    "    \n",
    "    #TOFILL\n",
    "    \n",
    "    rated_movies = dataset[dataset['userId'] == user_id]['movieId'].unique()\n",
    "    not_rated = np.setdiff1d(np.arange(nb_movies),rated_movies)\n",
    "    user_array = np.full_like(not_rated, user_id)\n",
    "    predictions = best_model.predict([user_array, not_rated], verbose=0).flatten()\n",
    "    sorted_indices = np.argsort(predictions)[::-1]\n",
    "    top5_movie_ids = not_rated[sorted_indices][:5]\n",
    "    top5_movie_titles = movie_name[movie_name.index.isin(top5_movie_ids)][0]\n",
    "    top5_ratings = predictions[sorted_indices][:5]\n",
    "    \n",
    "    return top5_movie_ids, top5_ratings, top5_movie_titles"
   ]
  },
  {
   "cell_type": "code",
   "execution_count": null,
   "metadata": {
    "tags": []
   },
   "outputs": [],
   "source": []
  },
  {
   "cell_type": "code",
   "execution_count": 64,
   "metadata": {
    "scrolled": true
   },
   "outputs": [
    {
     "data": {
      "text/plain": [
       "array([6940, 6951, 1395, 4692, 7399])"
      ]
     },
     "execution_count": 64,
     "metadata": {},
     "output_type": "execute_result"
    }
   ],
   "source": [
    "#TOFILL\n",
    "user_id=1\n",
    "top5_movie_ids, top5_ratings, top5_movie_titles = get_top5_for_user(best_model,user_id=user_id,dataset=dataset)\n",
    "top5_movie_ids"
   ]
  },
  {
   "cell_type": "code",
   "execution_count": 65,
   "metadata": {
    "tags": []
   },
   "outputs": [
    {
     "data": {
      "text/plain": [
       "array([4.7517667, 4.6557884, 4.5483413, 4.4705935, 4.4020143],\n",
       "      dtype=float32)"
      ]
     },
     "execution_count": 65,
     "metadata": {},
     "output_type": "execute_result"
    }
   ],
   "source": [
    "top5_ratings"
   ]
  },
  {
   "cell_type": "code",
   "execution_count": 66,
   "metadata": {
    "tags": []
   },
   "outputs": [
    {
     "data": {
      "text/plain": [
       "1395    Three Billboards Outside Ebbing, Missouri (2017)\n",
       "4692                                    Deathgasm (2015)\n",
       "6940                                      Villain (1971)\n",
       "6951                                   Bossa Nova (2000)\n",
       "7399                                Bad Boy Bubby (1993)\n",
       "Name: 0, dtype: object"
      ]
     },
     "execution_count": 66,
     "metadata": {},
     "output_type": "execute_result"
    }
   ],
   "source": [
    "top5_movie_titles"
   ]
  },
  {
   "cell_type": "markdown",
   "metadata": {},
   "source": [
    "So for the moment we didn't grid search our model hyper-parameters, such as `k` and `lambda_`. There exists some scikit-learn wrappers for keras models in order to use scikit grid search functions, unfortunately they only work with single input keras models, which is not our case as we have two inputs: the user and the movie indexes.\n",
    "\n",
    "So let's implement your own grid search function for the two parameters `k` and `lambda_`. With big enough datasets, it is not necessary to do a cross-validation for each hyper-parameter combination, and we can simply split the training set into a sub-training set and a validation set to test our hyper-parameters. It does work because the validation set is big enough to see enough data variations, and with very big datasets, it is anyway not possible anymore to do a full cross-validation as it takes too much time to train. \n",
    "\n",
    "Fill in the `grid_search` function below and use early stopping with a validation split (just like above), and retrieve the validation RMSE (you can get the MSE from the `history` variable that is returned by the `fit` method (and then take the `sqrt` of that)) for all the hyper-parameter combinations from the `param_grid` dictionary of hyper-parameter values. Call the `get_model_function` parameter (yes, you can pass functions as parameters!) to generate each model, and return the hyper-parameters that give the lowest RMSE on the 10% validation set, the RMSE value, and the best corresponding trained model."
   ]
  },
  {
   "cell_type": "markdown",
   "metadata": {},
   "source": [
    "## Visualize the embeddings"
   ]
  },
  {
   "cell_type": "markdown",
   "metadata": {},
   "source": [
    "Let's now have a look at what is going on in the embedding space of the movies that we learnt. Our brain cannot picture anything beyond 3 dimensions, and we learnt high dimensional embeddings (k=15 or 30), so we are going to project the movies embeddings on a 2D plane, first with PCA, and then with another algorithm made for visualizing high dimensional spaces called t-sne."
   ]
  },
  {
   "cell_type": "markdown",
   "metadata": {},
   "source": [
    "### PCA"
   ]
  },
  {
   "cell_type": "markdown",
   "metadata": {},
   "source": [
    "You have already studied PCA, it is a useful technique for dimensionality reduction, but also simply for visualization. Don't forget to scale your embeddings first. To access the embeddings values of your keras model, have a look at the *get_weights()* function.\n",
    "\n",
    "Compute a PCA on all your movies embeddings, get the 2 first principal components, and do a scatter plot of all the movies on a 2D plane, where each movie is a point defined by the two values of the two first principal components of the PCA from its embedding. Add the titles of the movies to each point of the plot (use plotly to do so it will be clearer), and try to see if you can interpret the axes of the PCA through to different movie genres, like in Figure 3 from the article *Matrix Factorization Techniques for Recommender Systems*."
   ]
  },
  {
   "cell_type": "code",
   "execution_count": 67,
   "metadata": {
    "tags": []
   },
   "outputs": [
    {
     "name": "stdout",
     "output_type": "stream",
     "text": [
      "Model: \"model_11\"\n",
      "__________________________________________________________________________________________________\n",
      " Layer (type)                Output Shape                 Param #   Connected to                  \n",
      "==================================================================================================\n",
      " u__user_id (InputLayer)     [(None, 1)]                  0         []                            \n",
      "                                                                                                  \n",
      " i__movie_id (InputLayer)    [(None, 1)]                  0         []                            \n",
      "                                                                                                  \n",
      " p_u__user_embedding (Embed  (None, 1, 15)                9150      ['u__user_id[0][0]']          \n",
      " ding)                                                                                            \n",
      "                                                                                                  \n",
      " q_i__movie_embedding (Embe  (None, 1, 15)                145860    ['i__movie_id[0][0]']         \n",
      " dding)                                                                                           \n",
      "                                                                                                  \n",
      " p_u__user_embedding_reshap  (None, 15)                   0         ['p_u__user_embedding[0][0]'] \n",
      " ed (Reshape)                                                                                     \n",
      "                                                                                                  \n",
      " q_i__movie_embedding_resha  (None, 15)                   0         ['q_i__movie_embedding[0][0]']\n",
      " ped (Reshape)                                                                                    \n",
      "                                                                                                  \n",
      " b_u__user_bias (Embedding)  (None, 1, 1)                 610       ['u__user_id[0][0]']          \n",
      "                                                                                                  \n",
      " b_i__movie_bias (Embedding  (None, 1, 1)                 9724      ['i__movie_id[0][0]']         \n",
      " )                                                                                                \n",
      "                                                                                                  \n",
      " dot_11 (Dot)                (None, 1)                    0         ['p_u__user_embedding_reshaped\n",
      "                                                                    [0][0]',                      \n",
      "                                                                     'q_i__movie_embedding_reshape\n",
      "                                                                    d[0][0]']                     \n",
      "                                                                                                  \n",
      " reshape_18 (Reshape)        (None, 1)                    0         ['b_u__user_bias[0][0]']      \n",
      "                                                                                                  \n",
      " reshape_19 (Reshape)        (None, 1)                    0         ['b_i__movie_bias[0][0]']     \n",
      "                                                                                                  \n",
      " add_9 (Add)                 (None, 1)                    0         ['dot_11[0][0]',              \n",
      "                                                                     'reshape_18[0][0]',          \n",
      "                                                                     'reshape_19[0][0]']          \n",
      "                                                                                                  \n",
      "==================================================================================================\n",
      "Total params: 165344 (645.88 KB)\n",
      "Trainable params: 165344 (645.88 KB)\n",
      "Non-trainable params: 0 (0.00 Byte)\n",
      "__________________________________________________________________________________________________\n"
     ]
    }
   ],
   "source": [
    "best_model.summary()"
   ]
  },
  {
   "cell_type": "code",
   "execution_count": 68,
   "metadata": {
    "tags": []
   },
   "outputs": [
    {
     "data": {
      "text/plain": [
       "[array([[ 0.8086274 ,  0.68322724,  0.9190244 , ..., -0.93854773,\n",
       "          1.0311639 ,  0.21667899],\n",
       "        [ 0.6840195 ,  0.5676414 ,  0.70881736, ..., -0.6559557 ,\n",
       "          0.5077259 ,  0.6920818 ],\n",
       "        [ 0.5442059 ,  0.20204338,  0.2889312 , ..., -0.6119362 ,\n",
       "          0.87278074,  0.8127542 ],\n",
       "        ...,\n",
       "        [ 0.82912195,  1.024926  ,  1.0005622 , ..., -0.71751654,\n",
       "          2.1649015 ,  1.0922601 ],\n",
       "        [ 0.4619702 ,  0.18851073,  0.36401972, ..., -0.45152953,\n",
       "          0.39662775,  0.4231094 ],\n",
       "        [ 1.123436  ,  0.8869362 , -0.33625862, ..., -1.6380589 ,\n",
       "          0.35335523,  1.0826172 ]], dtype=float32)]"
      ]
     },
     "execution_count": 68,
     "metadata": {},
     "output_type": "execute_result"
    }
   ],
   "source": [
    "best_model.get_layer('p_u__user_embedding').get_weights()"
   ]
  },
  {
   "cell_type": "code",
   "execution_count": 69,
   "metadata": {},
   "outputs": [
    {
     "data": {
      "image/png": "[encoded data removed]",
      "text/plain": [
       "<Figure size 1500x400 with 2 Axes>"
      ]
     },
     "metadata": {},
     "output_type": "display_data"
    }
   ],
   "source": [
    "from sklearn.preprocessing import StandardScaler\n",
    "from sklearn.decomposition import PCA\n",
    "import plotly.express as px\n",
    "\n",
    "#TOFILL\n",
    "fig, ax = plt.subplots(1,2, figsize=(15,4))\n",
    "p_u = best_model.get_layer('p_u__user_embedding').get_weights()[0]\n",
    "q_i = best_model.get_layer('q_i__movie_embedding').get_weights()[0]\n",
    "pca = PCA(2)\n",
    "sns.scatterplot(pd.DataFrame(pca.fit_transform(p_u)),x=pd.DataFrame(pca.fit_transform(p_u))[0],y=pd.DataFrame(pca.fit_transform(p_u))[1],ax=ax[0])\n",
    "ax[0].set_title('P_u after PCA')\n",
    "\n",
    "sns.scatterplot(pd.DataFrame(pca.fit_transform(q_i)),x=pd.DataFrame(pca.fit_transform(q_i))[0],y=pd.DataFrame(pca.fit_transform(q_i))[1],ax=ax[1])\n",
    "ax[1].set_title('Q_i after PCA')\n",
    "plt.show()"
   ]
  },
  {
   "cell_type": "code",
   "execution_count": 70,
   "metadata": {
    "tags": []
   },
   "outputs": [
    {
     "data": {
      "text/plain": [
       "[]"
      ]
     },
     "execution_count": 70,
     "metadata": {},
     "output_type": "execute_result"
    }
   ],
   "source": [
    "best_model.get_layer('p_u__user_embedding_reshaped').get_weights()"
   ]
  },
  {
   "cell_type": "markdown",
   "metadata": {},
   "source": [
    "## t-sne"
   ]
  },
  {
   "cell_type": "markdown",
   "metadata": {},
   "source": [
    "Let's do the same with t-sne, an algorithm specialized for visualizing high dimensional spaces, you can read more about it there : https://en.wikipedia.org/wiki/T-distributed_stochastic_neighbor_embedding"
   ]
  },
  {
   "cell_type": "code",
   "execution_count": 71,
   "metadata": {},
   "outputs": [],
   "source": [
    "from sklearn.manifold import TSNE\n",
    "\n",
    "#TOFILL:\n",
    "tsne = TSNE(2,random_state=42)\n",
    "p_u_tsne = pd.DataFrame(tsne.fit_transform(p_u))\n",
    "q_i_tsne = pd.DataFrame(tsne.fit_transform(q_i))\n",
    "\n",
    "sns.scatterplot(p_u_tsne,x=p_u_tsne[0],y=p_u_tsne[1],ax=ax[0])\n",
    "ax[0].set_title('P_u after TSNE')\n",
    "\n",
    "sns.scatterplot(q_i_tsne,x=q_i_tsne[0],y=q_i_tsne[1],ax=ax[1])\n",
    "ax[1].set_title('Q_i after TSNE')\n",
    "plt.show()"
   ]
  },
  {
   "cell_type": "markdown",
   "metadata": {},
   "source": [
    "T-sne in general tends to preserve local similarities better than PCA. In any case, it's always interesting to try both for visualizing high dimensional data."
   ]
  },
  {
   "cell_type": "code",
   "execution_count": 72,
   "metadata": {},
   "outputs": [
    {
     "data": {
      "image/png": "[encoded data removed]",
      "text/plain": [
       "<Figure size 1500x400 with 2 Axes>"
      ]
     },
     "metadata": {},
     "output_type": "display_data"
    }
   ],
   "source": [
    "fig, ax = plt.subplots(1,2, figsize=(15,4))\n",
    "sns.scatterplot(p_u_tsne,x=p_u_tsne[0],y=p_u_tsne[1],ax=ax[0])\n",
    "ax[0].set_title('P_u after TSNE')\n",
    "\n",
    "sns.scatterplot(q_i_tsne,x=q_i_tsne[0],y=q_i_tsne[1],ax=ax[1])\n",
    "ax[1].set_title('Q_i after TSNE')\n",
    "plt.show()"
   ]
  },
  {
   "cell_type": "markdown",
   "metadata": {},
   "source": [
    "Optionally, you can export your embedding and upload them on https://projector.tensorflow.org/ to visualize the embeddings in 3D. You can also use the movies genres from the *movies.csv* file to make one plot for each movie genre and try to see if some parts of the embedding space are representative of a movie genre."
   ]
  },
  {
   "cell_type": "code",
   "execution_count": 73,
   "metadata": {
    "tags": []
   },
   "outputs": [],
   "source": [
    "pd.DataFrame(best_model.get_layer('p_u__user_embedding').get_weights()[0]).to_csv('../data/P_u.tsv', sep='\\t', index=False)"
   ]
  },
  {
   "cell_type": "markdown",
   "metadata": {},
   "source": [
    "# GOING FURTHER"
   ]
  },
  {
   "cell_type": "markdown",
   "metadata": {},
   "source": [
    "## Recommend movies to yourself"
   ]
  },
  {
   "cell_type": "markdown",
   "metadata": {},
   "source": [
    "Implement a function that ask you to rate 20 movies, then add your own ratings to the dataset, retrain the model, and compute your own top-5 predictions."
   ]
  },
  {
   "cell_type": "code",
   "execution_count": 74,
   "metadata": {
    "tags": []
   },
   "outputs": [
    {
     "data": {
      "text/html": [
       "<div>\n",
       "<style scoped>\n",
       "    .dataframe tbody tr th:only-of-type {\n",
       "        vertical-align: middle;\n",
       "    }\n",
       "\n",
       "    .dataframe tbody tr th {\n",
       "        vertical-align: top;\n",
       "    }\n",
       "\n",
       "    .dataframe thead th {\n",
       "        text-align: right;\n",
       "    }\n",
       "</style>\n",
       "<table border=\"1\" class=\"dataframe\">\n",
       "  <thead>\n",
       "    <tr style=\"text-align: right;\">\n",
       "      <th></th>\n",
       "      <th>movieId</th>\n",
       "      <th>title</th>\n",
       "      <th>genres</th>\n",
       "    </tr>\n",
       "  </thead>\n",
       "  <tbody>\n",
       "    <tr>\n",
       "      <th>9512</th>\n",
       "      <td>171023</td>\n",
       "      <td>The Hero (2017)</td>\n",
       "      <td>Drama</td>\n",
       "    </tr>\n",
       "    <tr>\n",
       "      <th>7593</th>\n",
       "      <td>86377</td>\n",
       "      <td>Louis C.K.: Shameless (2007)</td>\n",
       "      <td>Comedy</td>\n",
       "    </tr>\n",
       "  </tbody>\n",
       "</table>\n",
       "</div>"
      ],
      "text/plain": [
       "      movieId                         title  genres\n",
       "9512   171023               The Hero (2017)   Drama\n",
       "7593    86377  Louis C.K.: Shameless (2007)  Comedy"
      ]
     },
     "execution_count": 74,
     "metadata": {},
     "output_type": "execute_result"
    }
   ],
   "source": [
    "random_movies = name_movie.sample(2)\n",
    "random_movies"
   ]
  },
  {
   "cell_type": "code",
   "execution_count": 75,
   "metadata": {
    "tags": []
   },
   "outputs": [
    {
     "name": "stdin",
     "output_type": "stream",
     "text": [
      "rate : 'The Hero (2017)' 2\n",
      "rate : 'Louis C.K.: Shameless (2007)' 4\n"
     ]
    }
   ],
   "source": [
    "rating = {}\n",
    "for index,row in random_movies.iterrows():\n",
    "    rating = float(input(f\"rate : '{row['title']}'\"))"
   ]
  },
  {
   "cell_type": "code",
   "execution_count": 76,
   "metadata": {
    "tags": []
   },
   "outputs": [
    {
     "data": {
      "text/plain": [
       "4.0"
      ]
     },
     "execution_count": 76,
     "metadata": {},
     "output_type": "execute_result"
    }
   ],
   "source": [
    "rating"
   ]
  },
  {
   "cell_type": "code",
   "execution_count": 77,
   "metadata": {
    "scrolled": true
   },
   "outputs": [
    {
     "name": "stdin",
     "output_type": "stream",
     "text": [
      "Rate 'Wild Tales (2014)' 2\n",
      "Rate 'October Sky (1999)' 3\n",
      "Rate 'Call Northside 777 (1948)' 5\n",
      "Rate 'Batman (1989)' 1\n",
      "Rate 'Mr. Deeds Goes to Town (1936)' 4.5\n",
      "Rate 'Ernest Goes to Camp (1987)' 2.4\n",
      "Rate 'Game 6 (2005)' 5\n",
      "Rate 'Blood Diamond (2006)' 2\n",
      "Rate 'I Am Legend (2007)' 2\n",
      "Rate 'Pickup on South Street (1953)' 3\n",
      "Rate 'Green Lantern (2011)' 5\n",
      "Rate 'Dragon ball Z 04: Lord Slug (1991)' 3\n",
      "Rate 'Open Water (2003)' 2\n",
      "Rate 'Volver (2006)' 1\n",
      "Rate 'Planet of the Apes (1968)' 4\n",
      "Rate 'Beauty Shop (2005)' 4\n",
      "Rate 'The Boss (2016)' 3.4\n",
      "Rate 'Crossroads (2002)' 3.2\n",
      "Rate 'Let the Right One In (Låt den rätte komma in) (2008)' 2\n",
      "Rate 'Faster (2010)' 1\n"
     ]
    }
   ],
   "source": [
    "import random\n",
    "\n",
    "def rate_my_movies(my_user_id, dataset, nb_movies, nb_to_rate, movie_ids_map):\n",
    "    \"\"\"\n",
    "    Returns a dataframe in the same format as the dataset dataframe, with\n",
    "    ratings entered by the user for `nb_to_rate` random movies\n",
    "    \n",
    "    Input :\n",
    "        my_user_id : int : The user_id of the new ratings\n",
    "        dataset : DataFrame : The whole dataset \n",
    "        nb_movies : int : Number of unique movie ids\n",
    "        nb_to_rate : int : Number of movies to rate\n",
    "        movie_ids_map : dict : The mapping of original file userId to a new index starting at 0.\n",
    "    \n",
    "    Output : \n",
    "        my_ratings : DataFrame : A dataframe with the same column as `dataset` containing\n",
    "            the new ratings entered by the user\n",
    "    \"\"\"\n",
    "    #TOFILL\n",
    "    rating= []\n",
    "    random_movies = name_movie.sample(20)\n",
    "    \n",
    "    for index,row in random_movies.iterrows():\n",
    "        rating.append(float(input(f\"Rate '{row['title']}'\")))\n",
    "    \n",
    "    my_rating = {\n",
    "        'userId': np.full(len(random_movies),my_user_id),\n",
    "        'movieId': random_movies['movieId'],\n",
    "        'rating': rating    \n",
    "    }\n",
    "\n",
    "\n",
    "\n",
    "    return my_rating\n",
    "\n",
    "\n",
    "my_user_id = len(user_ids_map)\n",
    "\n",
    "my_ratings = rate_my_movies(my_user_id, dataset, nb_movies, 20, movie_ids_map)"
   ]
  },
  {
   "cell_type": "code",
   "execution_count": 78,
   "metadata": {
    "tags": []
   },
   "outputs": [
    {
     "data": {
      "text/plain": [
       "610"
      ]
     },
     "execution_count": 78,
     "metadata": {},
     "output_type": "execute_result"
    }
   ],
   "source": [
    "my_user_id"
   ]
  },
  {
   "cell_type": "code",
   "execution_count": 79,
   "metadata": {
    "tags": []
   },
   "outputs": [
    {
     "data": {
      "text/html": [
       "<div>\n",
       "<style scoped>\n",
       "    .dataframe tbody tr th:only-of-type {\n",
       "        vertical-align: middle;\n",
       "    }\n",
       "\n",
       "    .dataframe tbody tr th {\n",
       "        vertical-align: top;\n",
       "    }\n",
       "\n",
       "    .dataframe thead th {\n",
       "        text-align: right;\n",
       "    }\n",
       "</style>\n",
       "<table border=\"1\" class=\"dataframe\">\n",
       "  <thead>\n",
       "    <tr style=\"text-align: right;\">\n",
       "      <th></th>\n",
       "      <th>userId</th>\n",
       "      <th>movieId</th>\n",
       "      <th>rating</th>\n",
       "    </tr>\n",
       "  </thead>\n",
       "  <tbody>\n",
       "    <tr>\n",
       "      <th>8575</th>\n",
       "      <td>610</td>\n",
       "      <td>116897</td>\n",
       "      <td>2.0</td>\n",
       "    </tr>\n",
       "    <tr>\n",
       "      <th>1882</th>\n",
       "      <td>610</td>\n",
       "      <td>2501</td>\n",
       "      <td>3.0</td>\n",
       "    </tr>\n",
       "    <tr>\n",
       "      <th>5837</th>\n",
       "      <td>610</td>\n",
       "      <td>32371</td>\n",
       "      <td>5.0</td>\n",
       "    </tr>\n",
       "    <tr>\n",
       "      <th>509</th>\n",
       "      <td>610</td>\n",
       "      <td>592</td>\n",
       "      <td>1.0</td>\n",
       "    </tr>\n",
       "    <tr>\n",
       "      <th>5416</th>\n",
       "      <td>610</td>\n",
       "      <td>25827</td>\n",
       "      <td>4.5</td>\n",
       "    </tr>\n",
       "    <tr>\n",
       "      <th>3060</th>\n",
       "      <td>610</td>\n",
       "      <td>4104</td>\n",
       "      <td>2.4</td>\n",
       "    </tr>\n",
       "    <tr>\n",
       "      <th>6214</th>\n",
       "      <td>610</td>\n",
       "      <td>45648</td>\n",
       "      <td>5.0</td>\n",
       "    </tr>\n",
       "    <tr>\n",
       "      <th>6358</th>\n",
       "      <td>610</td>\n",
       "      <td>49530</td>\n",
       "      <td>2.0</td>\n",
       "    </tr>\n",
       "    <tr>\n",
       "      <th>6630</th>\n",
       "      <td>610</td>\n",
       "      <td>56174</td>\n",
       "      <td>2.0</td>\n",
       "    </tr>\n",
       "    <tr>\n",
       "      <th>4896</th>\n",
       "      <td>610</td>\n",
       "      <td>7335</td>\n",
       "      <td>3.0</td>\n",
       "    </tr>\n",
       "    <tr>\n",
       "      <th>7627</th>\n",
       "      <td>610</td>\n",
       "      <td>87430</td>\n",
       "      <td>5.0</td>\n",
       "    </tr>\n",
       "    <tr>\n",
       "      <th>8342</th>\n",
       "      <td>610</td>\n",
       "      <td>107999</td>\n",
       "      <td>3.0</td>\n",
       "    </tr>\n",
       "    <tr>\n",
       "      <th>5710</th>\n",
       "      <td>610</td>\n",
       "      <td>27822</td>\n",
       "      <td>2.0</td>\n",
       "    </tr>\n",
       "    <tr>\n",
       "      <th>6171</th>\n",
       "      <td>610</td>\n",
       "      <td>44694</td>\n",
       "      <td>1.0</td>\n",
       "    </tr>\n",
       "    <tr>\n",
       "      <th>1905</th>\n",
       "      <td>610</td>\n",
       "      <td>2529</td>\n",
       "      <td>4.0</td>\n",
       "    </tr>\n",
       "    <tr>\n",
       "      <th>5851</th>\n",
       "      <td>610</td>\n",
       "      <td>32589</td>\n",
       "      <td>4.0</td>\n",
       "    </tr>\n",
       "    <tr>\n",
       "      <th>9275</th>\n",
       "      <td>610</td>\n",
       "      <td>157312</td>\n",
       "      <td>3.4</td>\n",
       "    </tr>\n",
       "    <tr>\n",
       "      <th>3701</th>\n",
       "      <td>610</td>\n",
       "      <td>5106</td>\n",
       "      <td>3.2</td>\n",
       "    </tr>\n",
       "    <tr>\n",
       "      <th>6827</th>\n",
       "      <td>610</td>\n",
       "      <td>61240</td>\n",
       "      <td>2.0</td>\n",
       "    </tr>\n",
       "    <tr>\n",
       "      <th>7491</th>\n",
       "      <td>610</td>\n",
       "      <td>82744</td>\n",
       "      <td>1.0</td>\n",
       "    </tr>\n",
       "  </tbody>\n",
       "</table>\n",
       "</div>"
      ],
      "text/plain": [
       "      userId  movieId  rating\n",
       "8575     610   116897     2.0\n",
       "1882     610     2501     3.0\n",
       "5837     610    32371     5.0\n",
       "509      610      592     1.0\n",
       "5416     610    25827     4.5\n",
       "3060     610     4104     2.4\n",
       "6214     610    45648     5.0\n",
       "6358     610    49530     2.0\n",
       "6630     610    56174     2.0\n",
       "4896     610     7335     3.0\n",
       "7627     610    87430     5.0\n",
       "8342     610   107999     3.0\n",
       "5710     610    27822     2.0\n",
       "6171     610    44694     1.0\n",
       "1905     610     2529     4.0\n",
       "5851     610    32589     4.0\n",
       "9275     610   157312     3.4\n",
       "3701     610     5106     3.2\n",
       "6827     610    61240     2.0\n",
       "7491     610    82744     1.0"
      ]
     },
     "execution_count": 79,
     "metadata": {},
     "output_type": "execute_result"
    }
   ],
   "source": [
    "pd.DataFrame(my_ratings)"
   ]
  },
  {
   "cell_type": "code",
   "execution_count": 80,
   "metadata": {},
   "outputs": [],
   "source": [
    "dataset_with_me = pd.concat([dataset.drop('timestamp',axis=1), pd.DataFrame(my_ratings)], axis = 0).sample(frac=1).reset_index(drop=True)\n",
    "\n",
    "X_with_me = [dataset_with_me[\"userId\"].to_numpy(), dataset_with_me[\"movieId\"].to_numpy()]\n",
    "y_with_me = dataset_with_me[\"rating\"].to_numpy()"
   ]
  },
  {
   "cell_type": "code",
   "execution_count": 81,
   "metadata": {
    "tags": []
   },
   "outputs": [
    {
     "data": {
      "text/html": [
       "<div>\n",
       "<style scoped>\n",
       "    .dataframe tbody tr th:only-of-type {\n",
       "        vertical-align: middle;\n",
       "    }\n",
       "\n",
       "    .dataframe tbody tr th {\n",
       "        vertical-align: top;\n",
       "    }\n",
       "\n",
       "    .dataframe thead th {\n",
       "        text-align: right;\n",
       "    }\n",
       "</style>\n",
       "<table border=\"1\" class=\"dataframe\">\n",
       "  <thead>\n",
       "    <tr style=\"text-align: right;\">\n",
       "      <th></th>\n",
       "      <th>userId</th>\n",
       "      <th>movieId</th>\n",
       "      <th>rating</th>\n",
       "    </tr>\n",
       "  </thead>\n",
       "  <tbody>\n",
       "    <tr>\n",
       "      <th>3773</th>\n",
       "      <td>610</td>\n",
       "      <td>157312</td>\n",
       "      <td>3.4</td>\n",
       "    </tr>\n",
       "    <tr>\n",
       "      <th>5904</th>\n",
       "      <td>610</td>\n",
       "      <td>5106</td>\n",
       "      <td>3.2</td>\n",
       "    </tr>\n",
       "    <tr>\n",
       "      <th>9652</th>\n",
       "      <td>610</td>\n",
       "      <td>107999</td>\n",
       "      <td>3.0</td>\n",
       "    </tr>\n",
       "    <tr>\n",
       "      <th>13783</th>\n",
       "      <td>610</td>\n",
       "      <td>7335</td>\n",
       "      <td>3.0</td>\n",
       "    </tr>\n",
       "    <tr>\n",
       "      <th>14230</th>\n",
       "      <td>610</td>\n",
       "      <td>87430</td>\n",
       "      <td>5.0</td>\n",
       "    </tr>\n",
       "    <tr>\n",
       "      <th>14314</th>\n",
       "      <td>610</td>\n",
       "      <td>32371</td>\n",
       "      <td>5.0</td>\n",
       "    </tr>\n",
       "    <tr>\n",
       "      <th>29939</th>\n",
       "      <td>610</td>\n",
       "      <td>61240</td>\n",
       "      <td>2.0</td>\n",
       "    </tr>\n",
       "    <tr>\n",
       "      <th>30103</th>\n",
       "      <td>610</td>\n",
       "      <td>2529</td>\n",
       "      <td>4.0</td>\n",
       "    </tr>\n",
       "    <tr>\n",
       "      <th>35433</th>\n",
       "      <td>610</td>\n",
       "      <td>56174</td>\n",
       "      <td>2.0</td>\n",
       "    </tr>\n",
       "    <tr>\n",
       "      <th>36322</th>\n",
       "      <td>610</td>\n",
       "      <td>45648</td>\n",
       "      <td>5.0</td>\n",
       "    </tr>\n",
       "    <tr>\n",
       "      <th>48090</th>\n",
       "      <td>610</td>\n",
       "      <td>2501</td>\n",
       "      <td>3.0</td>\n",
       "    </tr>\n",
       "    <tr>\n",
       "      <th>50120</th>\n",
       "      <td>610</td>\n",
       "      <td>27822</td>\n",
       "      <td>2.0</td>\n",
       "    </tr>\n",
       "    <tr>\n",
       "      <th>50382</th>\n",
       "      <td>610</td>\n",
       "      <td>25827</td>\n",
       "      <td>4.5</td>\n",
       "    </tr>\n",
       "    <tr>\n",
       "      <th>64324</th>\n",
       "      <td>610</td>\n",
       "      <td>44694</td>\n",
       "      <td>1.0</td>\n",
       "    </tr>\n",
       "    <tr>\n",
       "      <th>74466</th>\n",
       "      <td>610</td>\n",
       "      <td>49530</td>\n",
       "      <td>2.0</td>\n",
       "    </tr>\n",
       "    <tr>\n",
       "      <th>85036</th>\n",
       "      <td>610</td>\n",
       "      <td>116897</td>\n",
       "      <td>2.0</td>\n",
       "    </tr>\n",
       "    <tr>\n",
       "      <th>87741</th>\n",
       "      <td>610</td>\n",
       "      <td>592</td>\n",
       "      <td>1.0</td>\n",
       "    </tr>\n",
       "    <tr>\n",
       "      <th>89628</th>\n",
       "      <td>610</td>\n",
       "      <td>82744</td>\n",
       "      <td>1.0</td>\n",
       "    </tr>\n",
       "    <tr>\n",
       "      <th>90633</th>\n",
       "      <td>610</td>\n",
       "      <td>32589</td>\n",
       "      <td>4.0</td>\n",
       "    </tr>\n",
       "    <tr>\n",
       "      <th>94650</th>\n",
       "      <td>610</td>\n",
       "      <td>4104</td>\n",
       "      <td>2.4</td>\n",
       "    </tr>\n",
       "  </tbody>\n",
       "</table>\n",
       "</div>"
      ],
      "text/plain": [
       "       userId  movieId  rating\n",
       "3773      610   157312     3.4\n",
       "5904      610     5106     3.2\n",
       "9652      610   107999     3.0\n",
       "13783     610     7335     3.0\n",
       "14230     610    87430     5.0\n",
       "14314     610    32371     5.0\n",
       "29939     610    61240     2.0\n",
       "30103     610     2529     4.0\n",
       "35433     610    56174     2.0\n",
       "36322     610    45648     5.0\n",
       "48090     610     2501     3.0\n",
       "50120     610    27822     2.0\n",
       "50382     610    25827     4.5\n",
       "64324     610    44694     1.0\n",
       "74466     610    49530     2.0\n",
       "85036     610   116897     2.0\n",
       "87741     610      592     1.0\n",
       "89628     610    82744     1.0\n",
       "90633     610    32589     4.0\n",
       "94650     610     4104     2.4"
      ]
     },
     "execution_count": 81,
     "metadata": {},
     "output_type": "execute_result"
    }
   ],
   "source": [
    "dataset_with_me[dataset_with_me['userId']==610]"
   ]
  },
  {
   "cell_type": "code",
   "execution_count": 82,
   "metadata": {
    "scrolled": true
   },
   "outputs": [
    {
     "name": "stdout",
     "output_type": "stream",
     "text": [
      "Epoch 1/500\n",
      "178/178 [==============================] - 18s 89ms/step - loss: 12.6530 - mse: 12.6517 - val_loss: 11.9431 - val_mse: 11.9415\n",
      "Epoch 2/500\n",
      "178/178 [==============================] - 3s 15ms/step - loss: 10.4285 - mse: 10.4211 - val_loss: 8.3784 - val_mse: 8.3604\n",
      "Epoch 3/500\n",
      "178/178 [==============================] - 2s 12ms/step - loss: 6.0590 - mse: 6.0230 - val_loss: 4.2332 - val_mse: 4.1775\n",
      "Epoch 4/500\n",
      "178/178 [==============================] - 2s 8ms/step - loss: 3.1107 - mse: 3.0371 - val_loss: 2.6053 - val_mse: 2.5153\n",
      "Epoch 5/500\n",
      "178/178 [==============================] - 1s 8ms/step - loss: 2.0746 - mse: 1.9723 - val_loss: 2.0528 - val_mse: 1.9392\n",
      "Epoch 6/500\n",
      "178/178 [==============================] - 1s 8ms/step - loss: 1.6393 - mse: 1.5166 - val_loss: 1.7758 - val_mse: 1.6447\n",
      "Epoch 7/500\n",
      "178/178 [==============================] - 2s 11ms/step - loss: 1.3962 - mse: 1.2578 - val_loss: 1.6108 - val_mse: 1.4655\n",
      "Epoch 8/500\n",
      "178/178 [==============================] - 1s 8ms/step - loss: 1.2443 - mse: 1.0930 - val_loss: 1.5072 - val_mse: 1.3500\n",
      "Epoch 9/500\n",
      "178/178 [==============================] - 1s 6ms/step - loss: 1.1426 - mse: 0.9804 - val_loss: 1.4378 - val_mse: 1.2708\n",
      "Epoch 10/500\n",
      "178/178 [==============================] - 1s 8ms/step - loss: 1.0711 - mse: 0.8999 - val_loss: 1.3901 - val_mse: 1.2147\n",
      "Epoch 11/500\n",
      "178/178 [==============================] - 2s 9ms/step - loss: 1.0194 - mse: 0.8404 - val_loss: 1.3560 - val_mse: 1.1736\n",
      "Epoch 12/500\n",
      "178/178 [==============================] - 2s 9ms/step - loss: 0.9802 - mse: 0.7947 - val_loss: 1.3320 - val_mse: 1.1437\n",
      "Epoch 13/500\n",
      "178/178 [==============================] - 1s 7ms/step - loss: 0.9499 - mse: 0.7590 - val_loss: 1.3128 - val_mse: 1.1194\n",
      "Epoch 14/500\n",
      "178/178 [==============================] - 1s 8ms/step - loss: 0.9261 - mse: 0.7305 - val_loss: 1.2994 - val_mse: 1.1017\n",
      "Epoch 15/500\n",
      "178/178 [==============================] - 1s 5ms/step - loss: 0.9066 - mse: 0.7070 - val_loss: 1.2881 - val_mse: 1.0868\n",
      "Epoch 16/500\n",
      "178/178 [==============================] - 1s 5ms/step - loss: 0.8904 - mse: 0.6876 - val_loss: 1.2798 - val_mse: 1.0755\n",
      "Epoch 17/500\n",
      "178/178 [==============================] - 1s 6ms/step - loss: 0.8765 - mse: 0.6709 - val_loss: 1.2725 - val_mse: 1.0657\n",
      "Epoch 18/500\n",
      "178/178 [==============================] - 1s 6ms/step - loss: 0.8647 - mse: 0.6567 - val_loss: 1.2658 - val_mse: 1.0568\n",
      "Epoch 19/500\n",
      "178/178 [==============================] - 1s 6ms/step - loss: 0.8545 - mse: 0.6447 - val_loss: 1.2608 - val_mse: 1.0502\n",
      "Epoch 20/500\n",
      "178/178 [==============================] - 1s 6ms/step - loss: 0.8453 - mse: 0.6339 - val_loss: 1.2563 - val_mse: 1.0443\n",
      "Epoch 21/500\n",
      "178/178 [==============================] - 1s 8ms/step - loss: 0.8369 - mse: 0.6244 - val_loss: 1.2537 - val_mse: 1.0407\n",
      "Epoch 22/500\n",
      "178/178 [==============================] - 1s 6ms/step - loss: 0.8294 - mse: 0.6161 - val_loss: 1.2494 - val_mse: 1.0356\n",
      "Epoch 23/500\n",
      "178/178 [==============================] - 1s 7ms/step - loss: 0.8225 - mse: 0.6085 - val_loss: 1.2464 - val_mse: 1.0321\n",
      "Epoch 24/500\n",
      "178/178 [==============================] - 1s 6ms/step - loss: 0.8158 - mse: 0.6013 - val_loss: 1.2429 - val_mse: 1.0283\n",
      "Epoch 25/500\n",
      "178/178 [==============================] - 1s 6ms/step - loss: 0.8096 - mse: 0.5950 - val_loss: 1.2406 - val_mse: 1.0259\n",
      "Epoch 26/500\n",
      "178/178 [==============================] - 1s 6ms/step - loss: 0.8033 - mse: 0.5887 - val_loss: 1.2368 - val_mse: 1.0221\n",
      "Epoch 27/500\n",
      "178/178 [==============================] - 1s 5ms/step - loss: 0.7977 - mse: 0.5832 - val_loss: 1.2344 - val_mse: 1.0201\n",
      "Epoch 28/500\n",
      "178/178 [==============================] - 1s 6ms/step - loss: 0.7920 - mse: 0.5779 - val_loss: 1.2317 - val_mse: 1.0177\n",
      "Epoch 29/500\n",
      "178/178 [==============================] - 1s 5ms/step - loss: 0.7864 - mse: 0.5727 - val_loss: 1.2286 - val_mse: 1.0150\n",
      "Epoch 30/500\n",
      "178/178 [==============================] - 1s 5ms/step - loss: 0.7809 - mse: 0.5677 - val_loss: 1.2258 - val_mse: 1.0127\n",
      "Epoch 31/500\n",
      "178/178 [==============================] - 1s 5ms/step - loss: 0.7753 - mse: 0.5626 - val_loss: 1.2225 - val_mse: 1.0102\n",
      "Epoch 32/500\n",
      "178/178 [==============================] - 1s 5ms/step - loss: 0.7700 - mse: 0.5581 - val_loss: 1.2200 - val_mse: 1.0084\n",
      "Epoch 33/500\n",
      "178/178 [==============================] - 1s 6ms/step - loss: 0.7645 - mse: 0.5533 - val_loss: 1.2173 - val_mse: 1.0064\n",
      "Epoch 34/500\n",
      "178/178 [==============================] - 1s 6ms/step - loss: 0.7587 - mse: 0.5483 - val_loss: 1.2143 - val_mse: 1.0044\n",
      "Epoch 35/500\n",
      "178/178 [==============================] - 1s 6ms/step - loss: 0.7531 - mse: 0.5436 - val_loss: 1.2112 - val_mse: 1.0021\n",
      "Epoch 36/500\n",
      "178/178 [==============================] - 1s 6ms/step - loss: 0.7472 - mse: 0.5385 - val_loss: 1.2076 - val_mse: 0.9993\n",
      "Epoch 37/500\n",
      "178/178 [==============================] - 1s 5ms/step - loss: 0.7415 - mse: 0.5337 - val_loss: 1.2041 - val_mse: 0.9967\n",
      "Epoch 38/500\n",
      "178/178 [==============================] - 1s 5ms/step - loss: 0.7353 - mse: 0.5284 - val_loss: 1.2017 - val_mse: 0.9952\n",
      "Epoch 39/500\n",
      "178/178 [==============================] - 1s 5ms/step - loss: 0.7290 - mse: 0.5231 - val_loss: 1.1988 - val_mse: 0.9933\n",
      "Epoch 40/500\n",
      "178/178 [==============================] - 1s 5ms/step - loss: 0.7227 - mse: 0.5176 - val_loss: 1.1969 - val_mse: 0.9922\n",
      "Epoch 41/500\n",
      "178/178 [==============================] - 1s 5ms/step - loss: 0.7163 - mse: 0.5121 - val_loss: 1.1929 - val_mse: 0.9891\n",
      "Epoch 42/500\n",
      "178/178 [==============================] - 1s 5ms/step - loss: 0.7099 - mse: 0.5065 - val_loss: 1.1895 - val_mse: 0.9866\n",
      "Epoch 43/500\n",
      "178/178 [==============================] - 1s 6ms/step - loss: 0.7030 - mse: 0.5005 - val_loss: 1.1867 - val_mse: 0.9846\n",
      "Epoch 44/500\n",
      "178/178 [==============================] - 1s 5ms/step - loss: 0.6961 - mse: 0.4944 - val_loss: 1.1841 - val_mse: 0.9827\n",
      "Epoch 45/500\n",
      "178/178 [==============================] - 1s 5ms/step - loss: 0.6891 - mse: 0.4883 - val_loss: 1.1820 - val_mse: 0.9814\n",
      "Epoch 46/500\n",
      "178/178 [==============================] - 1s 5ms/step - loss: 0.6820 - mse: 0.4818 - val_loss: 1.1785 - val_mse: 0.9787\n",
      "Epoch 47/500\n",
      "178/178 [==============================] - 1s 6ms/step - loss: 0.6748 - mse: 0.4753 - val_loss: 1.1764 - val_mse: 0.9772\n",
      "Epoch 48/500\n",
      "178/178 [==============================] - 1s 6ms/step - loss: 0.6677 - mse: 0.4690 - val_loss: 1.1735 - val_mse: 0.9750\n",
      "Epoch 49/500\n",
      "178/178 [==============================] - 1s 6ms/step - loss: 0.6603 - mse: 0.4622 - val_loss: 1.1708 - val_mse: 0.9730\n",
      "Epoch 50/500\n",
      "178/178 [==============================] - 1s 7ms/step - loss: 0.6531 - mse: 0.4557 - val_loss: 1.1685 - val_mse: 0.9713\n",
      "Epoch 51/500\n",
      "178/178 [==============================] - 1s 5ms/step - loss: 0.6456 - mse: 0.4488 - val_loss: 1.1667 - val_mse: 0.9700\n",
      "Epoch 52/500\n",
      "178/178 [==============================] - 1s 5ms/step - loss: 0.6383 - mse: 0.4420 - val_loss: 1.1650 - val_mse: 0.9689\n",
      "Epoch 53/500\n",
      "178/178 [==============================] - 1s 6ms/step - loss: 0.6310 - mse: 0.4353 - val_loss: 1.1629 - val_mse: 0.9673\n",
      "Epoch 54/500\n",
      "178/178 [==============================] - 1s 8ms/step - loss: 0.6237 - mse: 0.4285 - val_loss: 1.1613 - val_mse: 0.9663\n",
      "Epoch 55/500\n",
      "178/178 [==============================] - 1s 6ms/step - loss: 0.6166 - mse: 0.4220 - val_loss: 1.1597 - val_mse: 0.9652\n",
      "Epoch 56/500\n",
      "178/178 [==============================] - 1s 5ms/step - loss: 0.6097 - mse: 0.4154 - val_loss: 1.1573 - val_mse: 0.9631\n",
      "Epoch 57/500\n",
      "178/178 [==============================] - 1s 5ms/step - loss: 0.6028 - mse: 0.4090 - val_loss: 1.1557 - val_mse: 0.9621\n",
      "Epoch 58/500\n",
      "178/178 [==============================] - 1s 6ms/step - loss: 0.5960 - mse: 0.4028 - val_loss: 1.1541 - val_mse: 0.9608\n",
      "Epoch 59/500\n",
      "178/178 [==============================] - 1s 5ms/step - loss: 0.5894 - mse: 0.3966 - val_loss: 1.1531 - val_mse: 0.9603\n",
      "Epoch 60/500\n",
      "178/178 [==============================] - 1s 5ms/step - loss: 0.5829 - mse: 0.3904 - val_loss: 1.1524 - val_mse: 0.9600\n",
      "Epoch 61/500\n",
      "178/178 [==============================] - 1s 5ms/step - loss: 0.5764 - mse: 0.3844 - val_loss: 1.1509 - val_mse: 0.9590\n",
      "Epoch 62/500\n",
      "178/178 [==============================] - 1s 5ms/step - loss: 0.5702 - mse: 0.3786 - val_loss: 1.1497 - val_mse: 0.9582\n",
      "Epoch 63/500\n",
      "178/178 [==============================] - 1s 5ms/step - loss: 0.5641 - mse: 0.3730 - val_loss: 1.1498 - val_mse: 0.9586\n",
      "Epoch 64/500\n",
      "178/178 [==============================] - 1s 6ms/step - loss: 0.5582 - mse: 0.3674 - val_loss: 1.1485 - val_mse: 0.9578\n",
      "Epoch 65/500\n",
      "178/178 [==============================] - 1s 5ms/step - loss: 0.5526 - mse: 0.3622 - val_loss: 1.1482 - val_mse: 0.9578\n",
      "Epoch 66/500\n",
      "178/178 [==============================] - 1s 5ms/step - loss: 0.5471 - mse: 0.3570 - val_loss: 1.1472 - val_mse: 0.9573\n",
      "Epoch 67/500\n",
      "178/178 [==============================] - 1s 5ms/step - loss: 0.5417 - mse: 0.3522 - val_loss: 1.1467 - val_mse: 0.9572\n",
      "Epoch 68/500\n",
      "178/178 [==============================] - 1s 6ms/step - loss: 0.5364 - mse: 0.3473 - val_loss: 1.1458 - val_mse: 0.9567\n",
      "Epoch 69/500\n",
      "178/178 [==============================] - 1s 7ms/step - loss: 0.5314 - mse: 0.3426 - val_loss: 1.1453 - val_mse: 0.9566\n",
      "Epoch 70/500\n",
      "178/178 [==============================] - 1s 8ms/step - loss: 0.5264 - mse: 0.3381 - val_loss: 1.1440 - val_mse: 0.9557\n",
      "Epoch 71/500\n",
      "178/178 [==============================] - 1s 5ms/step - loss: 0.5217 - mse: 0.3338 - val_loss: 1.1445 - val_mse: 0.9566\n",
      "Epoch 72/500\n",
      "178/178 [==============================] - 1s 5ms/step - loss: 0.5170 - mse: 0.3295 - val_loss: 1.1444 - val_mse: 0.9569\n",
      "Epoch 73/500\n",
      "178/178 [==============================] - 1s 5ms/step - loss: 0.5127 - mse: 0.3255 - val_loss: 1.1444 - val_mse: 0.9573\n",
      "Epoch 74/500\n",
      "178/178 [==============================] - 1s 5ms/step - loss: 0.5082 - mse: 0.3216 - val_loss: 1.1445 - val_mse: 0.9579\n",
      "Epoch 75/500\n",
      "178/178 [==============================] - 1s 6ms/step - loss: 0.5042 - mse: 0.3180 - val_loss: 1.1442 - val_mse: 0.9580\n",
      "Epoch 76/500\n",
      "178/178 [==============================] - 1s 6ms/step - loss: 0.5002 - mse: 0.3145 - val_loss: 1.1437 - val_mse: 0.9580\n",
      "Epoch 77/500\n",
      "178/178 [==============================] - 1s 5ms/step - loss: 0.4962 - mse: 0.3109 - val_loss: 1.1434 - val_mse: 0.9582\n",
      "Epoch 78/500\n",
      "178/178 [==============================] - 1s 5ms/step - loss: 0.4924 - mse: 0.3076 - val_loss: 1.1431 - val_mse: 0.9583\n",
      "Epoch 79/500\n",
      "178/178 [==============================] - 1s 6ms/step - loss: 0.4887 - mse: 0.3043 - val_loss: 1.1435 - val_mse: 0.9592\n",
      "Epoch 80/500\n",
      "169/178 [===========================>..] - ETA: 0s - loss: 0.4851 - mse: 0.3012Restoring model weights from the end of the best epoch: 70.\n",
      "178/178 [==============================] - 1s 5ms/step - loss: 0.4852 - mse: 0.3014 - val_loss: 1.1422 - val_mse: 0.9584\n",
      "Epoch 80: early stopping\n"
     ]
    },
    {
     "data": {
      "text/plain": [
       "<keras.src.callbacks.History at 0x7684d3fd0610>"
      ]
     },
     "execution_count": 82,
     "metadata": {},
     "output_type": "execute_result"
    }
   ],
   "source": [
    "best_model=get_mf_bias_l2_reg_model(nb_users + 1, nb_movies, k = best_params['k'], lambda_ = best_params['lambda_'])\n",
    "\n",
    "early_stopping = EarlyStopping(monitor='val_mse', patience=10, verbose=1, restore_best_weights=True)\n",
    "\n",
    "best_model.fit(X_with_me, y_with_me, epochs=500, batch_size=512, validation_split=0.1, callbacks=[early_stopping])"
   ]
  },
  {
   "cell_type": "code",
   "execution_count": null,
   "metadata": {
    "tags": []
   },
   "outputs": [],
   "source": []
  },
  {
   "cell_type": "code",
   "execution_count": 84,
   "metadata": {},
   "outputs": [],
   "source": [
    "five_best_movie_ids, five_best_ratings, top5_movie_titles =  get_top5_for_user(best_model, my_user_id, dataset_with_me)\n",
    "# for i in range(5):\n",
    "#     print('\\t' + ml_movie_id_to_title[ inverse_movie_ids_map[ five_best_movie_ids[i] ] ] + \n",
    "#           '; predicted rating : ' + str(five_best_ratings[i]) )\n",
    "# print('')"
   ]
  },
  {
   "cell_type": "code",
   "execution_count": 85,
   "metadata": {},
   "outputs": [
    {
     "data": {
      "text/plain": [
       "array([3066, 2795, 4299, 6428, 2407])"
      ]
     },
     "execution_count": 85,
     "metadata": {},
     "output_type": "execute_result"
    }
   ],
   "source": [
    "five_best_movie_ids"
   ]
  },
  {
   "cell_type": "code",
   "execution_count": 86,
   "metadata": {
    "tags": []
   },
   "outputs": [],
   "source": [
    "movie_title_df = pd.merge(name_movie,pd.DataFrame.from_dict(movie_ids_map,orient='index').reset_index(names='movieId'),on='movieId',how='right')"
   ]
  },
  {
   "cell_type": "code",
   "execution_count": 87,
   "metadata": {
    "tags": []
   },
   "outputs": [
    {
     "data": {
      "text/html": [
       "<div>\n",
       "<style scoped>\n",
       "    .dataframe tbody tr th:only-of-type {\n",
       "        vertical-align: middle;\n",
       "    }\n",
       "\n",
       "    .dataframe tbody tr th {\n",
       "        vertical-align: top;\n",
       "    }\n",
       "\n",
       "    .dataframe thead th {\n",
       "        text-align: right;\n",
       "    }\n",
       "</style>\n",
       "<table border=\"1\" class=\"dataframe\">\n",
       "  <thead>\n",
       "    <tr style=\"text-align: right;\">\n",
       "      <th></th>\n",
       "      <th>title</th>\n",
       "    </tr>\n",
       "    <tr>\n",
       "      <th>rating</th>\n",
       "      <th></th>\n",
       "    </tr>\n",
       "  </thead>\n",
       "  <tbody>\n",
       "    <tr>\n",
       "      <th>3.715925</th>\n",
       "      <td>Hearts of Darkness: A Filmmakers Apocalypse (1...</td>\n",
       "    </tr>\n",
       "    <tr>\n",
       "      <th>3.714883</th>\n",
       "      <td>Neon Genesis Evangelion: The End of Evangelion...</td>\n",
       "    </tr>\n",
       "    <tr>\n",
       "      <th>3.709284</th>\n",
       "      <td>Trial, The (Procès, Le) (1962)</td>\n",
       "    </tr>\n",
       "    <tr>\n",
       "      <th>3.684860</th>\n",
       "      <td>Eddie Murphy Delirious (1983)</td>\n",
       "    </tr>\n",
       "    <tr>\n",
       "      <th>3.667023</th>\n",
       "      <td>Time After Time (1979)</td>\n",
       "    </tr>\n",
       "  </tbody>\n",
       "</table>\n",
       "</div>"
      ],
      "text/plain": [
       "                                                      title\n",
       "rating                                                     \n",
       "3.715925  Hearts of Darkness: A Filmmakers Apocalypse (1...\n",
       "3.714883  Neon Genesis Evangelion: The End of Evangelion...\n",
       "3.709284                     Trial, The (Procès, Le) (1962)\n",
       "3.684860                      Eddie Murphy Delirious (1983)\n",
       "3.667023                             Time After Time (1979)"
      ]
     },
     "execution_count": 87,
     "metadata": {},
     "output_type": "execute_result"
    }
   ],
   "source": [
    "five_best_movie_titles = movie_title_df[movie_title_df[0].isin(five_best_movie_ids)]['title']\n",
    "pd.DataFrame(\n",
    "    data={\n",
    "        'title': five_best_movie_titles,\n",
    "        'rating': five_best_ratings\n",
    "    }\n",
    "            ).set_index('rating')"
   ]
  },
  {
   "cell_type": "code",
   "execution_count": 88,
   "metadata": {
    "tags": []
   },
   "outputs": [
    {
     "data": {
      "text/html": [
       "<div>\n",
       "<style scoped>\n",
       "    .dataframe tbody tr th:only-of-type {\n",
       "        vertical-align: middle;\n",
       "    }\n",
       "\n",
       "    .dataframe tbody tr th {\n",
       "        vertical-align: top;\n",
       "    }\n",
       "\n",
       "    .dataframe thead th {\n",
       "        text-align: right;\n",
       "    }\n",
       "</style>\n",
       "<table border=\"1\" class=\"dataframe\">\n",
       "  <thead>\n",
       "    <tr style=\"text-align: right;\">\n",
       "      <th></th>\n",
       "      <th>title</th>\n",
       "    </tr>\n",
       "    <tr>\n",
       "      <th>rating</th>\n",
       "      <th></th>\n",
       "    </tr>\n",
       "  </thead>\n",
       "  <tbody>\n",
       "    <tr>\n",
       "      <th>4.751767</th>\n",
       "      <td>6940</td>\n",
       "    </tr>\n",
       "    <tr>\n",
       "      <th>4.655788</th>\n",
       "      <td>6951</td>\n",
       "    </tr>\n",
       "    <tr>\n",
       "      <th>4.548341</th>\n",
       "      <td>1395</td>\n",
       "    </tr>\n",
       "    <tr>\n",
       "      <th>4.470593</th>\n",
       "      <td>4692</td>\n",
       "    </tr>\n",
       "    <tr>\n",
       "      <th>4.402014</th>\n",
       "      <td>7399</td>\n",
       "    </tr>\n",
       "  </tbody>\n",
       "</table>\n",
       "</div>"
      ],
      "text/plain": [
       "          title\n",
       "rating         \n",
       "4.751767   6940\n",
       "4.655788   6951\n",
       "4.548341   1395\n",
       "4.470593   4692\n",
       "4.402014   7399"
      ]
     },
     "execution_count": 88,
     "metadata": {},
     "output_type": "execute_result"
    }
   ],
   "source": [
    "top5_movie_titles = movie_title_df[movie_title_df[0].isin(top5_movie_ids)]['title']\n",
    "pd.DataFrame(\n",
    "    data={\n",
    "        'title': top5_movie_ids,\n",
    "        'rating': top5_ratings\n",
    "    }\n",
    "            ).set_index('rating')"
   ]
  },
  {
   "cell_type": "markdown",
   "metadata": {},
   "source": [
    "## Reuse the movie embeddings to predict the movies genre with multi-label classification"
   ]
  },
  {
   "cell_type": "markdown",
   "metadata": {},
   "source": [
    "Beyond the goal of predicting missing rating, the matrix factorization techniques also produces vectorial representation of movies and users: their embeddings, what we just visualized for the movies. With a big enough dataset, these embeddings actually are good abstract representations of the movies and of the users, and can be reused as features for other tasks, such as classification.\n",
    "\n",
    "In the *movies.csv*, there is a column that gives the genres of each movie. Let's try to predict the genres of the movies from the embeddings we learnt. As you can see, each movie can have more than one genre, so in classification terms, more than one class. We can achieve that with *multilabel classification*. You can read more about it there: https://scikit-learn.org/stable/modules/multiclass.html\n",
    "\n",
    "Load the movies genre, encode them as binary classes and use the classes imported below to train a multilabel classifier that uses the movie embeddings as features, and the movie genres as classes. Use the *OneVsRestClassifier* with a simple *LinearSVC* without any hyper-parameter tuning. Finally print the test accuracy, F1, precision and recall for each class, as well as the number of time each class appears in the dataset."
   ]
  },
  {
   "cell_type": "code",
   "execution_count": 89,
   "metadata": {
    "tags": []
   },
   "outputs": [
    {
     "data": {
      "text/html": [
       "<div>\n",
       "<style scoped>\n",
       "    .dataframe tbody tr th:only-of-type {\n",
       "        vertical-align: middle;\n",
       "    }\n",
       "\n",
       "    .dataframe tbody tr th {\n",
       "        vertical-align: top;\n",
       "    }\n",
       "\n",
       "    .dataframe thead th {\n",
       "        text-align: right;\n",
       "    }\n",
       "</style>\n",
       "<table border=\"1\" class=\"dataframe\">\n",
       "  <thead>\n",
       "    <tr style=\"text-align: right;\">\n",
       "      <th></th>\n",
       "      <th>(no genres listed)</th>\n",
       "      <th>Action</th>\n",
       "      <th>Adventure</th>\n",
       "      <th>Animation</th>\n",
       "      <th>Children</th>\n",
       "      <th>Comedy</th>\n",
       "      <th>Crime</th>\n",
       "      <th>Documentary</th>\n",
       "      <th>Drama</th>\n",
       "      <th>Fantasy</th>\n",
       "      <th>Film-Noir</th>\n",
       "      <th>Horror</th>\n",
       "      <th>IMAX</th>\n",
       "      <th>Musical</th>\n",
       "      <th>Mystery</th>\n",
       "      <th>Romance</th>\n",
       "      <th>Sci-Fi</th>\n",
       "      <th>Thriller</th>\n",
       "      <th>War</th>\n",
       "      <th>Western</th>\n",
       "    </tr>\n",
       "  </thead>\n",
       "  <tbody>\n",
       "    <tr>\n",
       "      <th>0</th>\n",
       "      <td>0</td>\n",
       "      <td>0</td>\n",
       "      <td>1</td>\n",
       "      <td>1</td>\n",
       "      <td>1</td>\n",
       "      <td>1</td>\n",
       "      <td>0</td>\n",
       "      <td>0</td>\n",
       "      <td>0</td>\n",
       "      <td>1</td>\n",
       "      <td>0</td>\n",
       "      <td>0</td>\n",
       "      <td>0</td>\n",
       "      <td>0</td>\n",
       "      <td>0</td>\n",
       "      <td>0</td>\n",
       "      <td>0</td>\n",
       "      <td>0</td>\n",
       "      <td>0</td>\n",
       "      <td>0</td>\n",
       "    </tr>\n",
       "    <tr>\n",
       "      <th>1</th>\n",
       "      <td>0</td>\n",
       "      <td>0</td>\n",
       "      <td>0</td>\n",
       "      <td>0</td>\n",
       "      <td>0</td>\n",
       "      <td>1</td>\n",
       "      <td>0</td>\n",
       "      <td>0</td>\n",
       "      <td>0</td>\n",
       "      <td>0</td>\n",
       "      <td>0</td>\n",
       "      <td>0</td>\n",
       "      <td>0</td>\n",
       "      <td>0</td>\n",
       "      <td>0</td>\n",
       "      <td>1</td>\n",
       "      <td>0</td>\n",
       "      <td>0</td>\n",
       "      <td>0</td>\n",
       "      <td>0</td>\n",
       "    </tr>\n",
       "    <tr>\n",
       "      <th>2</th>\n",
       "      <td>0</td>\n",
       "      <td>1</td>\n",
       "      <td>0</td>\n",
       "      <td>0</td>\n",
       "      <td>0</td>\n",
       "      <td>0</td>\n",
       "      <td>1</td>\n",
       "      <td>0</td>\n",
       "      <td>0</td>\n",
       "      <td>0</td>\n",
       "      <td>0</td>\n",
       "      <td>0</td>\n",
       "      <td>0</td>\n",
       "      <td>0</td>\n",
       "      <td>0</td>\n",
       "      <td>0</td>\n",
       "      <td>0</td>\n",
       "      <td>1</td>\n",
       "      <td>0</td>\n",
       "      <td>0</td>\n",
       "    </tr>\n",
       "    <tr>\n",
       "      <th>3</th>\n",
       "      <td>0</td>\n",
       "      <td>0</td>\n",
       "      <td>0</td>\n",
       "      <td>0</td>\n",
       "      <td>0</td>\n",
       "      <td>0</td>\n",
       "      <td>0</td>\n",
       "      <td>0</td>\n",
       "      <td>0</td>\n",
       "      <td>0</td>\n",
       "      <td>0</td>\n",
       "      <td>0</td>\n",
       "      <td>0</td>\n",
       "      <td>0</td>\n",
       "      <td>1</td>\n",
       "      <td>0</td>\n",
       "      <td>0</td>\n",
       "      <td>1</td>\n",
       "      <td>0</td>\n",
       "      <td>0</td>\n",
       "    </tr>\n",
       "    <tr>\n",
       "      <th>4</th>\n",
       "      <td>0</td>\n",
       "      <td>0</td>\n",
       "      <td>0</td>\n",
       "      <td>0</td>\n",
       "      <td>0</td>\n",
       "      <td>0</td>\n",
       "      <td>1</td>\n",
       "      <td>0</td>\n",
       "      <td>0</td>\n",
       "      <td>0</td>\n",
       "      <td>0</td>\n",
       "      <td>0</td>\n",
       "      <td>0</td>\n",
       "      <td>0</td>\n",
       "      <td>1</td>\n",
       "      <td>0</td>\n",
       "      <td>0</td>\n",
       "      <td>1</td>\n",
       "      <td>0</td>\n",
       "      <td>0</td>\n",
       "    </tr>\n",
       "  </tbody>\n",
       "</table>\n",
       "</div>"
      ],
      "text/plain": [
       "   (no genres listed)  Action  Adventure  Animation  Children  Comedy  Crime  \\\n",
       "0                   0       0          1          1         1       1      0   \n",
       "1                   0       0          0          0         0       1      0   \n",
       "2                   0       1          0          0         0       0      1   \n",
       "3                   0       0          0          0         0       0      0   \n",
       "4                   0       0          0          0         0       0      1   \n",
       "\n",
       "   Documentary  Drama  Fantasy  Film-Noir  Horror  IMAX  Musical  Mystery  \\\n",
       "0            0      0        1          0       0     0        0        0   \n",
       "1            0      0        0          0       0     0        0        0   \n",
       "2            0      0        0          0       0     0        0        0   \n",
       "3            0      0        0          0       0     0        0        1   \n",
       "4            0      0        0          0       0     0        0        1   \n",
       "\n",
       "   Romance  Sci-Fi  Thriller  War  Western  \n",
       "0        0       0         0    0        0  \n",
       "1        1       0         0    0        0  \n",
       "2        0       0         1    0        0  \n",
       "3        0       0         1    0        0  \n",
       "4        0       0         1    0        0  "
      ]
     },
     "execution_count": 89,
     "metadata": {},
     "output_type": "execute_result"
    }
   ],
   "source": [
    "movie_title_df['genres'].str.get_dummies(sep='|').head()"
   ]
  },
  {
   "cell_type": "code",
   "execution_count": 90,
   "metadata": {
    "tags": []
   },
   "outputs": [
    {
     "data": {
      "text/plain": [
       "Index(['(no genres listed)', 'Action', 'Adventure', 'Animation', 'Children',\n",
       "       'Comedy', 'Crime', 'Documentary', 'Drama', 'Fantasy', 'Film-Noir',\n",
       "       'Horror', 'IMAX', 'Musical', 'Mystery', 'Romance', 'Sci-Fi', 'Thriller',\n",
       "       'War', 'Western'],\n",
       "      dtype='object')"
      ]
     },
     "execution_count": 90,
     "metadata": {},
     "output_type": "execute_result"
    }
   ],
   "source": [
    "movie_title_df['genres'].str.get_dummies(sep='|').columns"
   ]
  },
  {
   "cell_type": "code",
   "execution_count": 91,
   "metadata": {
    "tags": []
   },
   "outputs": [
    {
     "data": {
      "text/html": [
       "<div>\n",
       "<style scoped>\n",
       "    .dataframe tbody tr th:only-of-type {\n",
       "        vertical-align: middle;\n",
       "    }\n",
       "\n",
       "    .dataframe tbody tr th {\n",
       "        vertical-align: top;\n",
       "    }\n",
       "\n",
       "    .dataframe thead th {\n",
       "        text-align: right;\n",
       "    }\n",
       "</style>\n",
       "<table border=\"1\" class=\"dataframe\">\n",
       "  <thead>\n",
       "    <tr style=\"text-align: right;\">\n",
       "      <th></th>\n",
       "      <th>movieId</th>\n",
       "      <th>title</th>\n",
       "      <th>genres</th>\n",
       "      <th>0</th>\n",
       "    </tr>\n",
       "  </thead>\n",
       "  <tbody>\n",
       "    <tr>\n",
       "      <th>0</th>\n",
       "      <td>1</td>\n",
       "      <td>Toy Story (1995)</td>\n",
       "      <td>Adventure|Animation|Children|Comedy|Fantasy</td>\n",
       "      <td>0</td>\n",
       "    </tr>\n",
       "    <tr>\n",
       "      <th>1</th>\n",
       "      <td>3</td>\n",
       "      <td>Grumpier Old Men (1995)</td>\n",
       "      <td>Comedy|Romance</td>\n",
       "      <td>1</td>\n",
       "    </tr>\n",
       "    <tr>\n",
       "      <th>2</th>\n",
       "      <td>6</td>\n",
       "      <td>Heat (1995)</td>\n",
       "      <td>Action|Crime|Thriller</td>\n",
       "      <td>2</td>\n",
       "    </tr>\n",
       "    <tr>\n",
       "      <th>3</th>\n",
       "      <td>47</td>\n",
       "      <td>Seven (a.k.a. Se7en) (1995)</td>\n",
       "      <td>Mystery|Thriller</td>\n",
       "      <td>3</td>\n",
       "    </tr>\n",
       "    <tr>\n",
       "      <th>4</th>\n",
       "      <td>50</td>\n",
       "      <td>Usual Suspects, The (1995)</td>\n",
       "      <td>Crime|Mystery|Thriller</td>\n",
       "      <td>4</td>\n",
       "    </tr>\n",
       "    <tr>\n",
       "      <th>...</th>\n",
       "      <td>...</td>\n",
       "      <td>...</td>\n",
       "      <td>...</td>\n",
       "      <td>...</td>\n",
       "    </tr>\n",
       "    <tr>\n",
       "      <th>9719</th>\n",
       "      <td>160341</td>\n",
       "      <td>Bloodmoon (1997)</td>\n",
       "      <td>Action|Thriller</td>\n",
       "      <td>9719</td>\n",
       "    </tr>\n",
       "    <tr>\n",
       "      <th>9720</th>\n",
       "      <td>160527</td>\n",
       "      <td>Sympathy for the Underdog (1971)</td>\n",
       "      <td>Action|Crime|Drama</td>\n",
       "      <td>9720</td>\n",
       "    </tr>\n",
       "    <tr>\n",
       "      <th>9721</th>\n",
       "      <td>160836</td>\n",
       "      <td>Hazard (2005)</td>\n",
       "      <td>Action|Drama|Thriller</td>\n",
       "      <td>9721</td>\n",
       "    </tr>\n",
       "    <tr>\n",
       "      <th>9722</th>\n",
       "      <td>163937</td>\n",
       "      <td>Blair Witch (2016)</td>\n",
       "      <td>Horror|Thriller</td>\n",
       "      <td>9722</td>\n",
       "    </tr>\n",
       "    <tr>\n",
       "      <th>9723</th>\n",
       "      <td>163981</td>\n",
       "      <td>31 (2016)</td>\n",
       "      <td>Horror</td>\n",
       "      <td>9723</td>\n",
       "    </tr>\n",
       "  </tbody>\n",
       "</table>\n",
       "<p>9724 rows × 4 columns</p>\n",
       "</div>"
      ],
      "text/plain": [
       "      movieId                             title  \\\n",
       "0           1                  Toy Story (1995)   \n",
       "1           3           Grumpier Old Men (1995)   \n",
       "2           6                       Heat (1995)   \n",
       "3          47       Seven (a.k.a. Se7en) (1995)   \n",
       "4          50        Usual Suspects, The (1995)   \n",
       "...       ...                               ...   \n",
       "9719   160341                  Bloodmoon (1997)   \n",
       "9720   160527  Sympathy for the Underdog (1971)   \n",
       "9721   160836                     Hazard (2005)   \n",
       "9722   163937                Blair Witch (2016)   \n",
       "9723   163981                         31 (2016)   \n",
       "\n",
       "                                           genres     0  \n",
       "0     Adventure|Animation|Children|Comedy|Fantasy     0  \n",
       "1                                  Comedy|Romance     1  \n",
       "2                           Action|Crime|Thriller     2  \n",
       "3                                Mystery|Thriller     3  \n",
       "4                          Crime|Mystery|Thriller     4  \n",
       "...                                           ...   ...  \n",
       "9719                              Action|Thriller  9719  \n",
       "9720                           Action|Crime|Drama  9720  \n",
       "9721                        Action|Drama|Thriller  9721  \n",
       "9722                              Horror|Thriller  9722  \n",
       "9723                                       Horror  9723  \n",
       "\n",
       "[9724 rows x 4 columns]"
      ]
     },
     "execution_count": 91,
     "metadata": {},
     "output_type": "execute_result"
    }
   ],
   "source": [
    "movie_title_df"
   ]
  },
  {
   "cell_type": "code",
   "execution_count": 92,
   "metadata": {},
   "outputs": [
    {
     "data": {
      "text/plain": [
       "(9724, 22)"
      ]
     },
     "execution_count": 92,
     "metadata": {},
     "output_type": "execute_result"
    }
   ],
   "source": [
    "from sklearn.preprocessing import MultiLabelBinarizer\n",
    "from sklearn.model_selection import train_test_split\n",
    "from sklearn.multiclass import OneVsRestClassifier\n",
    "from sklearn.svm import LinearSVC\n",
    "from sklearn.metrics import accuracy_score, f1_score, precision_score, recall_score\n",
    "\n",
    "#TOFILL\n",
    "name_movie_dummy = pd.concat([movie_title_df[['movieId','title']],movie_title_df['genres'].str.get_dummies(sep='|')],axis=1)\n",
    "name_movie_dummy.shape"
   ]
  },
  {
   "cell_type": "code",
   "execution_count": 93,
   "metadata": {
    "tags": []
   },
   "outputs": [
    {
     "data": {
      "text/html": [
       "<div>\n",
       "<style scoped>\n",
       "    .dataframe tbody tr th:only-of-type {\n",
       "        vertical-align: middle;\n",
       "    }\n",
       "\n",
       "    .dataframe tbody tr th {\n",
       "        vertical-align: top;\n",
       "    }\n",
       "\n",
       "    .dataframe thead th {\n",
       "        text-align: right;\n",
       "    }\n",
       "</style>\n",
       "<table border=\"1\" class=\"dataframe\">\n",
       "  <thead>\n",
       "    <tr style=\"text-align: right;\">\n",
       "      <th></th>\n",
       "      <th>movieId</th>\n",
       "      <th>title</th>\n",
       "      <th>(no genres listed)</th>\n",
       "      <th>Action</th>\n",
       "      <th>Adventure</th>\n",
       "      <th>Animation</th>\n",
       "      <th>Children</th>\n",
       "      <th>Comedy</th>\n",
       "      <th>Crime</th>\n",
       "      <th>Documentary</th>\n",
       "      <th>...</th>\n",
       "      <th>Film-Noir</th>\n",
       "      <th>Horror</th>\n",
       "      <th>IMAX</th>\n",
       "      <th>Musical</th>\n",
       "      <th>Mystery</th>\n",
       "      <th>Romance</th>\n",
       "      <th>Sci-Fi</th>\n",
       "      <th>Thriller</th>\n",
       "      <th>War</th>\n",
       "      <th>Western</th>\n",
       "    </tr>\n",
       "  </thead>\n",
       "  <tbody>\n",
       "    <tr>\n",
       "      <th>0</th>\n",
       "      <td>1</td>\n",
       "      <td>Toy Story (1995)</td>\n",
       "      <td>0</td>\n",
       "      <td>0</td>\n",
       "      <td>1</td>\n",
       "      <td>1</td>\n",
       "      <td>1</td>\n",
       "      <td>1</td>\n",
       "      <td>0</td>\n",
       "      <td>0</td>\n",
       "      <td>...</td>\n",
       "      <td>0</td>\n",
       "      <td>0</td>\n",
       "      <td>0</td>\n",
       "      <td>0</td>\n",
       "      <td>0</td>\n",
       "      <td>0</td>\n",
       "      <td>0</td>\n",
       "      <td>0</td>\n",
       "      <td>0</td>\n",
       "      <td>0</td>\n",
       "    </tr>\n",
       "    <tr>\n",
       "      <th>1</th>\n",
       "      <td>3</td>\n",
       "      <td>Grumpier Old Men (1995)</td>\n",
       "      <td>0</td>\n",
       "      <td>0</td>\n",
       "      <td>0</td>\n",
       "      <td>0</td>\n",
       "      <td>0</td>\n",
       "      <td>1</td>\n",
       "      <td>0</td>\n",
       "      <td>0</td>\n",
       "      <td>...</td>\n",
       "      <td>0</td>\n",
       "      <td>0</td>\n",
       "      <td>0</td>\n",
       "      <td>0</td>\n",
       "      <td>0</td>\n",
       "      <td>1</td>\n",
       "      <td>0</td>\n",
       "      <td>0</td>\n",
       "      <td>0</td>\n",
       "      <td>0</td>\n",
       "    </tr>\n",
       "    <tr>\n",
       "      <th>2</th>\n",
       "      <td>6</td>\n",
       "      <td>Heat (1995)</td>\n",
       "      <td>0</td>\n",
       "      <td>1</td>\n",
       "      <td>0</td>\n",
       "      <td>0</td>\n",
       "      <td>0</td>\n",
       "      <td>0</td>\n",
       "      <td>1</td>\n",
       "      <td>0</td>\n",
       "      <td>...</td>\n",
       "      <td>0</td>\n",
       "      <td>0</td>\n",
       "      <td>0</td>\n",
       "      <td>0</td>\n",
       "      <td>0</td>\n",
       "      <td>0</td>\n",
       "      <td>0</td>\n",
       "      <td>1</td>\n",
       "      <td>0</td>\n",
       "      <td>0</td>\n",
       "    </tr>\n",
       "    <tr>\n",
       "      <th>3</th>\n",
       "      <td>47</td>\n",
       "      <td>Seven (a.k.a. Se7en) (1995)</td>\n",
       "      <td>0</td>\n",
       "      <td>0</td>\n",
       "      <td>0</td>\n",
       "      <td>0</td>\n",
       "      <td>0</td>\n",
       "      <td>0</td>\n",
       "      <td>0</td>\n",
       "      <td>0</td>\n",
       "      <td>...</td>\n",
       "      <td>0</td>\n",
       "      <td>0</td>\n",
       "      <td>0</td>\n",
       "      <td>0</td>\n",
       "      <td>1</td>\n",
       "      <td>0</td>\n",
       "      <td>0</td>\n",
       "      <td>1</td>\n",
       "      <td>0</td>\n",
       "      <td>0</td>\n",
       "    </tr>\n",
       "    <tr>\n",
       "      <th>4</th>\n",
       "      <td>50</td>\n",
       "      <td>Usual Suspects, The (1995)</td>\n",
       "      <td>0</td>\n",
       "      <td>0</td>\n",
       "      <td>0</td>\n",
       "      <td>0</td>\n",
       "      <td>0</td>\n",
       "      <td>0</td>\n",
       "      <td>1</td>\n",
       "      <td>0</td>\n",
       "      <td>...</td>\n",
       "      <td>0</td>\n",
       "      <td>0</td>\n",
       "      <td>0</td>\n",
       "      <td>0</td>\n",
       "      <td>1</td>\n",
       "      <td>0</td>\n",
       "      <td>0</td>\n",
       "      <td>1</td>\n",
       "      <td>0</td>\n",
       "      <td>0</td>\n",
       "    </tr>\n",
       "  </tbody>\n",
       "</table>\n",
       "<p>5 rows × 22 columns</p>\n",
       "</div>"
      ],
      "text/plain": [
       "   movieId                        title  (no genres listed)  Action  \\\n",
       "0        1             Toy Story (1995)                   0       0   \n",
       "1        3      Grumpier Old Men (1995)                   0       0   \n",
       "2        6                  Heat (1995)                   0       1   \n",
       "3       47  Seven (a.k.a. Se7en) (1995)                   0       0   \n",
       "4       50   Usual Suspects, The (1995)                   0       0   \n",
       "\n",
       "   Adventure  Animation  Children  Comedy  Crime  Documentary  ...  Film-Noir  \\\n",
       "0          1          1         1       1      0            0  ...          0   \n",
       "1          0          0         0       1      0            0  ...          0   \n",
       "2          0          0         0       0      1            0  ...          0   \n",
       "3          0          0         0       0      0            0  ...          0   \n",
       "4          0          0         0       0      1            0  ...          0   \n",
       "\n",
       "   Horror  IMAX  Musical  Mystery  Romance  Sci-Fi  Thriller  War  Western  \n",
       "0       0     0        0        0        0       0         0    0        0  \n",
       "1       0     0        0        0        1       0         0    0        0  \n",
       "2       0     0        0        0        0       0         1    0        0  \n",
       "3       0     0        0        1        0       0         1    0        0  \n",
       "4       0     0        0        1        0       0         1    0        0  \n",
       "\n",
       "[5 rows x 22 columns]"
      ]
     },
     "execution_count": 93,
     "metadata": {},
     "output_type": "execute_result"
    }
   ],
   "source": [
    "movie_title_df['genres_list'] = movie_title_df['genres'].str.split('|')\n",
    "\n",
    "mlb = MultiLabelBinarizer()\n",
    "df_mlb = pd.DataFrame(mlb.fit_transform(movie_title_df['genres_list']),columns=mlb.classes_)\n",
    "name_movie_mlb = pd.concat([movie_title_df[['movieId','title']],df_mlb],axis=1)\n",
    "name_movie_mlb.head()"
   ]
  },
  {
   "cell_type": "code",
   "execution_count": 94,
   "metadata": {
    "tags": []
   },
   "outputs": [
    {
     "data": {
      "text/plain": [
       "(9724, 15)"
      ]
     },
     "execution_count": 94,
     "metadata": {},
     "output_type": "execute_result"
    }
   ],
   "source": [
    "embed_movies = pd.DataFrame(q_i)\n",
    "embed_movies.shape"
   ]
  },
  {
   "cell_type": "code",
   "execution_count": 95,
   "metadata": {
    "tags": []
   },
   "outputs": [],
   "source": [
    "X_train, X_test, y_train, y_test = train_test_split(embed_movies, df_mlb, test_size=0.2, random_state=42)"
   ]
  },
  {
   "cell_type": "code",
   "execution_count": 96,
   "metadata": {
    "tags": []
   },
   "outputs": [
    {
     "data": {
      "text/html": [
       "<style>#sk-container-id-1 {\n",
       "  /* Definition of color scheme common for light and dark mode */\n",
       "  --sklearn-color-text: black;\n",
       "  --sklearn-color-line: gray;\n",
       "  /* Definition of color scheme for unfitted estimators */\n",
       "  --sklearn-color-unfitted-level-0: #fff5e6;\n",
       "  --sklearn-color-unfitted-level-1: #f6e4d2;\n",
       "  --sklearn-color-unfitted-level-2: #ffe0b3;\n",
       "  --sklearn-color-unfitted-level-3: chocolate;\n",
       "  /* Definition of color scheme for fitted estimators */\n",
       "  --sklearn-color-fitted-level-0: #f0f8ff;\n",
       "  --sklearn-color-fitted-level-1: #d4ebff;\n",
       "  --sklearn-color-fitted-level-2: #b3dbfd;\n",
       "  --sklearn-color-fitted-level-3: cornflowerblue;\n",
       "\n",
       "  /* Specific color for light theme */\n",
       "  --sklearn-color-text-on-default-background: var(--sg-text-color, var(--theme-code-foreground, var(--jp-content-font-color1, black)));\n",
       "  --sklearn-color-background: var(--sg-background-color, var(--theme-background, var(--jp-layout-color0, white)));\n",
       "  --sklearn-color-border-box: var(--sg-text-color, var(--theme-code-foreground, var(--jp-content-font-color1, black)));\n",
       "  --sklearn-color-icon: #696969;\n",
       "\n",
       "  @media (prefers-color-scheme: dark) {\n",
       "    /* Redefinition of color scheme for dark theme */\n",
       "    --sklearn-color-text-on-default-background: var(--sg-text-color, var(--theme-code-foreground, var(--jp-content-font-color1, white)));\n",
       "    --sklearn-color-background: var(--sg-background-color, var(--theme-background, var(--jp-layout-color0, #111)));\n",
       "    --sklearn-color-border-box: var(--sg-text-color, var(--theme-code-foreground, var(--jp-content-font-color1, white)));\n",
       "    --sklearn-color-icon: #878787;\n",
       "  }\n",
       "}\n",
       "\n",
       "#sk-container-id-1 {\n",
       "  color: var(--sklearn-color-text);\n",
       "}\n",
       "\n",
       "#sk-container-id-1 pre {\n",
       "  padding: 0;\n",
       "}\n",
       "\n",
       "#sk-container-id-1 input.sk-hidden--visually {\n",
       "  border: 0;\n",
       "  clip: rect(1px 1px 1px 1px);\n",
       "  clip: rect(1px, 1px, 1px, 1px);\n",
       "  height: 1px;\n",
       "  margin: -1px;\n",
       "  overflow: hidden;\n",
       "  padding: 0;\n",
       "  position: absolute;\n",
       "  width: 1px;\n",
       "}\n",
       "\n",
       "#sk-container-id-1 div.sk-dashed-wrapped {\n",
       "  border: 1px dashed var(--sklearn-color-line);\n",
       "  margin: 0 0.4em 0.5em 0.4em;\n",
       "  box-sizing: border-box;\n",
       "  padding-bottom: 0.4em;\n",
       "  background-color: var(--sklearn-color-background);\n",
       "}\n",
       "\n",
       "#sk-container-id-1 div.sk-container {\n",
       "  /* jupyter's `normalize.less` sets `[hidden] { display: none; }`\n",
       "     but bootstrap.min.css set `[hidden] { display: none !important; }`\n",
       "     so we also need the `!important` here to be able to override the\n",
       "     default hidden behavior on the sphinx rendered scikit-learn.org.\n",
       "     See: https://github.com/scikit-learn/scikit-learn/issues/21755 */\n",
       "  display: inline-block !important;\n",
       "  position: relative;\n",
       "}\n",
       "\n",
       "#sk-container-id-1 div.sk-text-repr-fallback {\n",
       "  display: none;\n",
       "}\n",
       "\n",
       "div.sk-parallel-item,\n",
       "div.sk-serial,\n",
       "div.sk-item {\n",
       "  /* draw centered vertical line to link estimators */\n",
       "  background-image: linear-gradient(var(--sklearn-color-text-on-default-background), var(--sklearn-color-text-on-default-background));\n",
       "  background-size: 2px 100%;\n",
       "  background-repeat: no-repeat;\n",
       "  background-position: center center;\n",
       "}\n",
       "\n",
       "/* Parallel-specific style estimator block */\n",
       "\n",
       "#sk-container-id-1 div.sk-parallel-item::after {\n",
       "  content: \"\";\n",
       "  width: 100%;\n",
       "  border-bottom: 2px solid var(--sklearn-color-text-on-default-background);\n",
       "  flex-grow: 1;\n",
       "}\n",
       "\n",
       "#sk-container-id-1 div.sk-parallel {\n",
       "  display: flex;\n",
       "  align-items: stretch;\n",
       "  justify-content: center;\n",
       "  background-color: var(--sklearn-color-background);\n",
       "  position: relative;\n",
       "}\n",
       "\n",
       "#sk-container-id-1 div.sk-parallel-item {\n",
       "  display: flex;\n",
       "  flex-direction: column;\n",
       "}\n",
       "\n",
       "#sk-container-id-1 div.sk-parallel-item:first-child::after {\n",
       "  align-self: flex-end;\n",
       "  width: 50%;\n",
       "}\n",
       "\n",
       "#sk-container-id-1 div.sk-parallel-item:last-child::after {\n",
       "  align-self: flex-start;\n",
       "  width: 50%;\n",
       "}\n",
       "\n",
       "#sk-container-id-1 div.sk-parallel-item:only-child::after {\n",
       "  width: 0;\n",
       "}\n",
       "\n",
       "/* Serial-specific style estimator block */\n",
       "\n",
       "#sk-container-id-1 div.sk-serial {\n",
       "  display: flex;\n",
       "  flex-direction: column;\n",
       "  align-items: center;\n",
       "  background-color: var(--sklearn-color-background);\n",
       "  padding-right: 1em;\n",
       "  padding-left: 1em;\n",
       "}\n",
       "\n",
       "\n",
       "/* Toggleable style: style used for estimator/Pipeline/ColumnTransformer box that is\n",
       "clickable and can be expanded/collapsed.\n",
       "- Pipeline and ColumnTransformer use this feature and define the default style\n",
       "- Estimators will overwrite some part of the style using the `sk-estimator` class\n",
       "*/\n",
       "\n",
       "/* Pipeline and ColumnTransformer style (default) */\n",
       "\n",
       "#sk-container-id-1 div.sk-toggleable {\n",
       "  /* Default theme specific background. It is overwritten whether we have a\n",
       "  specific estimator or a Pipeline/ColumnTransformer */\n",
       "  background-color: var(--sklearn-color-background);\n",
       "}\n",
       "\n",
       "/* Toggleable label */\n",
       "#sk-container-id-1 label.sk-toggleable__label {\n",
       "  cursor: pointer;\n",
       "  display: block;\n",
       "  width: 100%;\n",
       "  margin-bottom: 0;\n",
       "  padding: 0.5em;\n",
       "  box-sizing: border-box;\n",
       "  text-align: center;\n",
       "}\n",
       "\n",
       "#sk-container-id-1 label.sk-toggleable__label-arrow:before {\n",
       "  /* Arrow on the left of the label */\n",
       "  content: \"▸\";\n",
       "  float: left;\n",
       "  margin-right: 0.25em;\n",
       "  color: var(--sklearn-color-icon);\n",
       "}\n",
       "\n",
       "#sk-container-id-1 label.sk-toggleable__label-arrow:hover:before {\n",
       "  color: var(--sklearn-color-text);\n",
       "}\n",
       "\n",
       "/* Toggleable content - dropdown */\n",
       "\n",
       "#sk-container-id-1 div.sk-toggleable__content {\n",
       "  max-height: 0;\n",
       "  max-width: 0;\n",
       "  overflow: hidden;\n",
       "  text-align: left;\n",
       "  /* unfitted */\n",
       "  background-color: var(--sklearn-color-unfitted-level-0);\n",
       "}\n",
       "\n",
       "#sk-container-id-1 div.sk-toggleable__content.fitted {\n",
       "  /* fitted */\n",
       "  background-color: var(--sklearn-color-fitted-level-0);\n",
       "}\n",
       "\n",
       "#sk-container-id-1 div.sk-toggleable__content pre {\n",
       "  margin: 0.2em;\n",
       "  border-radius: 0.25em;\n",
       "  color: var(--sklearn-color-text);\n",
       "  /* unfitted */\n",
       "  background-color: var(--sklearn-color-unfitted-level-0);\n",
       "}\n",
       "\n",
       "#sk-container-id-1 div.sk-toggleable__content.fitted pre {\n",
       "  /* unfitted */\n",
       "  background-color: var(--sklearn-color-fitted-level-0);\n",
       "}\n",
       "\n",
       "#sk-container-id-1 input.sk-toggleable__control:checked~div.sk-toggleable__content {\n",
       "  /* Expand drop-down */\n",
       "  max-height: 200px;\n",
       "  max-width: 100%;\n",
       "  overflow: auto;\n",
       "}\n",
       "\n",
       "#sk-container-id-1 input.sk-toggleable__control:checked~label.sk-toggleable__label-arrow:before {\n",
       "  content: \"▾\";\n",
       "}\n",
       "\n",
       "/* Pipeline/ColumnTransformer-specific style */\n",
       "\n",
       "#sk-container-id-1 div.sk-label input.sk-toggleable__control:checked~label.sk-toggleable__label {\n",
       "  color: var(--sklearn-color-text);\n",
       "  background-color: var(--sklearn-color-unfitted-level-2);\n",
       "}\n",
       "\n",
       "#sk-container-id-1 div.sk-label.fitted input.sk-toggleable__control:checked~label.sk-toggleable__label {\n",
       "  background-color: var(--sklearn-color-fitted-level-2);\n",
       "}\n",
       "\n",
       "/* Estimator-specific style */\n",
       "\n",
       "/* Colorize estimator box */\n",
       "#sk-container-id-1 div.sk-estimator input.sk-toggleable__control:checked~label.sk-toggleable__label {\n",
       "  /* unfitted */\n",
       "  background-color: var(--sklearn-color-unfitted-level-2);\n",
       "}\n",
       "\n",
       "#sk-container-id-1 div.sk-estimator.fitted input.sk-toggleable__control:checked~label.sk-toggleable__label {\n",
       "  /* fitted */\n",
       "  background-color: var(--sklearn-color-fitted-level-2);\n",
       "}\n",
       "\n",
       "#sk-container-id-1 div.sk-label label.sk-toggleable__label,\n",
       "#sk-container-id-1 div.sk-label label {\n",
       "  /* The background is the default theme color */\n",
       "  color: var(--sklearn-color-text-on-default-background);\n",
       "}\n",
       "\n",
       "/* On hover, darken the color of the background */\n",
       "#sk-container-id-1 div.sk-label:hover label.sk-toggleable__label {\n",
       "  color: var(--sklearn-color-text);\n",
       "  background-color: var(--sklearn-color-unfitted-level-2);\n",
       "}\n",
       "\n",
       "/* Label box, darken color on hover, fitted */\n",
       "#sk-container-id-1 div.sk-label.fitted:hover label.sk-toggleable__label.fitted {\n",
       "  color: var(--sklearn-color-text);\n",
       "  background-color: var(--sklearn-color-fitted-level-2);\n",
       "}\n",
       "\n",
       "/* Estimator label */\n",
       "\n",
       "#sk-container-id-1 div.sk-label label {\n",
       "  font-family: monospace;\n",
       "  font-weight: bold;\n",
       "  display: inline-block;\n",
       "  line-height: 1.2em;\n",
       "}\n",
       "\n",
       "#sk-container-id-1 div.sk-label-container {\n",
       "  text-align: center;\n",
       "}\n",
       "\n",
       "/* Estimator-specific */\n",
       "#sk-container-id-1 div.sk-estimator {\n",
       "  font-family: monospace;\n",
       "  border: 1px dotted var(--sklearn-color-border-box);\n",
       "  border-radius: 0.25em;\n",
       "  box-sizing: border-box;\n",
       "  margin-bottom: 0.5em;\n",
       "  /* unfitted */\n",
       "  background-color: var(--sklearn-color-unfitted-level-0);\n",
       "}\n",
       "\n",
       "#sk-container-id-1 div.sk-estimator.fitted {\n",
       "  /* fitted */\n",
       "  background-color: var(--sklearn-color-fitted-level-0);\n",
       "}\n",
       "\n",
       "/* on hover */\n",
       "#sk-container-id-1 div.sk-estimator:hover {\n",
       "  /* unfitted */\n",
       "  background-color: var(--sklearn-color-unfitted-level-2);\n",
       "}\n",
       "\n",
       "#sk-container-id-1 div.sk-estimator.fitted:hover {\n",
       "  /* fitted */\n",
       "  background-color: var(--sklearn-color-fitted-level-2);\n",
       "}\n",
       "\n",
       "/* Specification for estimator info (e.g. \"i\" and \"?\") */\n",
       "\n",
       "/* Common style for \"i\" and \"?\" */\n",
       "\n",
       ".sk-estimator-doc-link,\n",
       "a:link.sk-estimator-doc-link,\n",
       "a:visited.sk-estimator-doc-link {\n",
       "  float: right;\n",
       "  font-size: smaller;\n",
       "  line-height: 1em;\n",
       "  font-family: monospace;\n",
       "  background-color: var(--sklearn-color-background);\n",
       "  border-radius: 1em;\n",
       "  height: 1em;\n",
       "  width: 1em;\n",
       "  text-decoration: none !important;\n",
       "  margin-left: 1ex;\n",
       "  /* unfitted */\n",
       "  border: var(--sklearn-color-unfitted-level-1) 1pt solid;\n",
       "  color: var(--sklearn-color-unfitted-level-1);\n",
       "}\n",
       "\n",
       ".sk-estimator-doc-link.fitted,\n",
       "a:link.sk-estimator-doc-link.fitted,\n",
       "a:visited.sk-estimator-doc-link.fitted {\n",
       "  /* fitted */\n",
       "  border: var(--sklearn-color-fitted-level-1) 1pt solid;\n",
       "  color: var(--sklearn-color-fitted-level-1);\n",
       "}\n",
       "\n",
       "/* On hover */\n",
       "div.sk-estimator:hover .sk-estimator-doc-link:hover,\n",
       ".sk-estimator-doc-link:hover,\n",
       "div.sk-label-container:hover .sk-estimator-doc-link:hover,\n",
       ".sk-estimator-doc-link:hover {\n",
       "  /* unfitted */\n",
       "  background-color: var(--sklearn-color-unfitted-level-3);\n",
       "  color: var(--sklearn-color-background);\n",
       "  text-decoration: none;\n",
       "}\n",
       "\n",
       "div.sk-estimator.fitted:hover .sk-estimator-doc-link.fitted:hover,\n",
       ".sk-estimator-doc-link.fitted:hover,\n",
       "div.sk-label-container:hover .sk-estimator-doc-link.fitted:hover,\n",
       ".sk-estimator-doc-link.fitted:hover {\n",
       "  /* fitted */\n",
       "  background-color: var(--sklearn-color-fitted-level-3);\n",
       "  color: var(--sklearn-color-background);\n",
       "  text-decoration: none;\n",
       "}\n",
       "\n",
       "/* Span, style for the box shown on hovering the info icon */\n",
       ".sk-estimator-doc-link span {\n",
       "  display: none;\n",
       "  z-index: 9999;\n",
       "  position: relative;\n",
       "  font-weight: normal;\n",
       "  right: .2ex;\n",
       "  padding: .5ex;\n",
       "  margin: .5ex;\n",
       "  width: min-content;\n",
       "  min-width: 20ex;\n",
       "  max-width: 50ex;\n",
       "  color: var(--sklearn-color-text);\n",
       "  box-shadow: 2pt 2pt 4pt #999;\n",
       "  /* unfitted */\n",
       "  background: var(--sklearn-color-unfitted-level-0);\n",
       "  border: .5pt solid var(--sklearn-color-unfitted-level-3);\n",
       "}\n",
       "\n",
       ".sk-estimator-doc-link.fitted span {\n",
       "  /* fitted */\n",
       "  background: var(--sklearn-color-fitted-level-0);\n",
       "  border: var(--sklearn-color-fitted-level-3);\n",
       "}\n",
       "\n",
       ".sk-estimator-doc-link:hover span {\n",
       "  display: block;\n",
       "}\n",
       "\n",
       "/* \"?\"-specific style due to the `<a>` HTML tag */\n",
       "\n",
       "#sk-container-id-1 a.estimator_doc_link {\n",
       "  float: right;\n",
       "  font-size: 1rem;\n",
       "  line-height: 1em;\n",
       "  font-family: monospace;\n",
       "  background-color: var(--sklearn-color-background);\n",
       "  border-radius: 1rem;\n",
       "  height: 1rem;\n",
       "  width: 1rem;\n",
       "  text-decoration: none;\n",
       "  /* unfitted */\n",
       "  color: var(--sklearn-color-unfitted-level-1);\n",
       "  border: var(--sklearn-color-unfitted-level-1) 1pt solid;\n",
       "}\n",
       "\n",
       "#sk-container-id-1 a.estimator_doc_link.fitted {\n",
       "  /* fitted */\n",
       "  border: var(--sklearn-color-fitted-level-1) 1pt solid;\n",
       "  color: var(--sklearn-color-fitted-level-1);\n",
       "}\n",
       "\n",
       "/* On hover */\n",
       "#sk-container-id-1 a.estimator_doc_link:hover {\n",
       "  /* unfitted */\n",
       "  background-color: var(--sklearn-color-unfitted-level-3);\n",
       "  color: var(--sklearn-color-background);\n",
       "  text-decoration: none;\n",
       "}\n",
       "\n",
       "#sk-container-id-1 a.estimator_doc_link.fitted:hover {\n",
       "  /* fitted */\n",
       "  background-color: var(--sklearn-color-fitted-level-3);\n",
       "}\n",
       "</style><div id=\"sk-container-id-1\" class=\"sk-top-container\"><div class=\"sk-text-repr-fallback\"><pre>OneVsRestClassifier(estimator=LinearSVC())</pre><b>In a Jupyter environment, please rerun this cell to show the HTML representation or trust the notebook. <br />On GitHub, the HTML representation is unable to render, please try loading this page with nbviewer.org.</b></div><div class=\"sk-container\" hidden><div class=\"sk-item sk-dashed-wrapped\"><div class=\"sk-label-container\"><div class=\"sk-label fitted sk-toggleable\"><input class=\"sk-toggleable__control sk-hidden--visually\" id=\"sk-estimator-id-1\" type=\"checkbox\" ><label for=\"sk-estimator-id-1\" class=\"sk-toggleable__label fitted sk-toggleable__label-arrow fitted\">&nbsp;&nbsp;OneVsRestClassifier<a class=\"sk-estimator-doc-link fitted\" rel=\"noreferrer\" target=\"_blank\" href=\"https://scikit-learn.org/1.5/modules/generated/sklearn.multiclass.OneVsRestClassifier.html\">?<span>Documentation for OneVsRestClassifier</span></a><span class=\"sk-estimator-doc-link fitted\">i<span>Fitted</span></span></label><div class=\"sk-toggleable__content fitted\"><pre>OneVsRestClassifier(estimator=LinearSVC())</pre></div> </div></div><div class=\"sk-parallel\"><div class=\"sk-parallel-item\"><div class=\"sk-item\"><div class=\"sk-label-container\"><div class=\"sk-label fitted sk-toggleable\"><input class=\"sk-toggleable__control sk-hidden--visually\" id=\"sk-estimator-id-2\" type=\"checkbox\" ><label for=\"sk-estimator-id-2\" class=\"sk-toggleable__label fitted sk-toggleable__label-arrow fitted\">estimator: LinearSVC</label><div class=\"sk-toggleable__content fitted\"><pre>LinearSVC()</pre></div> </div></div><div class=\"sk-serial\"><div class=\"sk-item\"><div class=\"sk-estimator fitted sk-toggleable\"><input class=\"sk-toggleable__control sk-hidden--visually\" id=\"sk-estimator-id-3\" type=\"checkbox\" ><label for=\"sk-estimator-id-3\" class=\"sk-toggleable__label fitted sk-toggleable__label-arrow fitted\">&nbsp;LinearSVC<a class=\"sk-estimator-doc-link fitted\" rel=\"noreferrer\" target=\"_blank\" href=\"https://scikit-learn.org/1.5/modules/generated/sklearn.svm.LinearSVC.html\">?<span>Documentation for LinearSVC</span></a></label><div class=\"sk-toggleable__content fitted\"><pre>LinearSVC()</pre></div> </div></div></div></div></div></div></div></div></div>"
      ],
      "text/plain": [
       "OneVsRestClassifier(estimator=LinearSVC())"
      ]
     },
     "execution_count": 96,
     "metadata": {},
     "output_type": "execute_result"
    }
   ],
   "source": [
    "svc = LinearSVC()\n",
    "clf = OneVsRestClassifier(svc,)\n",
    "clf.fit(X_train, y_train)"
   ]
  },
  {
   "cell_type": "code",
   "execution_count": 97,
   "metadata": {
    "tags": []
   },
   "outputs": [],
   "source": [
    "y_pred = clf.predict(X_test)"
   ]
  },
  {
   "cell_type": "code",
   "execution_count": 98,
   "metadata": {
    "tags": []
   },
   "outputs": [
    {
     "name": "stdout",
     "output_type": "stream",
     "text": [
      "Accuracy: 0.051\n",
      "F1: 0.168\n",
      "Prescison: 0.098\n",
      "Recall: 0.583\n"
     ]
    }
   ],
   "source": [
    "print(f\"Accuracy: {accuracy_score(y_pred,y_test):.3f}\")\n",
    "print(f\"F1: {f1_score(y_pred,y_test,average='micro'):.3f}\")\n",
    "print(f\"Prescison: {precision_score(y_pred,y_test,average='micro'):.3f}\")\n",
    "print(f\"Recall: {recall_score(y_pred,y_test,average='micro'):.3f}\")"
   ]
  },
  {
   "cell_type": "markdown",
   "metadata": {},
   "source": [
    "On rare classes, you should get a very high accuracy, with a very low F1. Indeed these classes are really imbalanced : there are a few positives, hence the classifier is largely biased toward the negatives, and rarely predict a positive for these classes. This is why accuracy is generally a bad measure with imbalanced dataset : the high number of true negatives makes the accuracy number high, while our model is actually barely capable of predicting true positives.\n",
    "\n",
    "Let's compare our classifier performance with a *DummyClassifier*, the dummy classifier takes the ratio $r = \\frac{nb\\_positives}{nb\\_positives + nb\\_negatives}$ as the probability to predict a positive, and then do it randomly."
   ]
  },
  {
   "cell_type": "code",
   "execution_count": 99,
   "metadata": {
    "scrolled": true
   },
   "outputs": [],
   "source": [
    "from sklearn.dummy import DummyClassifier\n",
    "\n",
    "#TOFILL\n",
    "dummy_clf = DummyClassifier(strategy=\"stratified\")\n",
    "dummy_clf.fit(X_train, y_train)\n",
    "y_pred = dummy_clf.predict(X_test)"
   ]
  },
  {
   "cell_type": "code",
   "execution_count": 100,
   "metadata": {
    "tags": []
   },
   "outputs": [
    {
     "name": "stdout",
     "output_type": "stream",
     "text": [
      "Accuracy: 0.011\n",
      "F1: 0.234\n",
      "Prescison: 0.237\n",
      "Recall: 0.231\n"
     ]
    }
   ],
   "source": [
    "print(f\"Accuracy: {accuracy_score(y_pred,y_test):.3f}\")\n",
    "print(f\"F1: {f1_score(y_pred,y_test,average='micro'):.3f}\")\n",
    "print(f\"Prescison: {precision_score(y_pred,y_test,average='micro'):.3f}\")\n",
    "print(f\"Recall: {recall_score(y_pred,y_test,average='micro'):.3f}\")"
   ]
  },
  {
   "cell_type": "markdown",
   "metadata": {},
   "source": [
    "As you can see, simply respecting the class balance, even at random, produces better F1 on most classes. One way to compensate for class imbalance is to tell the classifier to weight more the true samples at training time, accordingly with the ratio $r$ between true and false samples. With scikit-learn SVM implementation, you can use the argument *class_weight* for setting the weight of the positive and negative samples at training time. See : https://scikit-learn.org/stable/auto_examples/svm/plot_separating_hyperplane_unbalanced.html\n",
    "\n",
    "But if you just want to set the class weights accordingly with the ratio between positives and negatives, you can just set *class_weight = ‘balanced’*. Test it with the LinearSVC classifier:"
   ]
  },
  {
   "cell_type": "code",
   "execution_count": 101,
   "metadata": {
    "scrolled": true
   },
   "outputs": [
    {
     "name": "stdout",
     "output_type": "stream",
     "text": [
      "Accuracy: 0.000\n",
      "F1: 0.251\n",
      "Prescison: 0.553\n",
      "Recall: 0.162\n"
     ]
    }
   ],
   "source": [
    "#TOFILL\n",
    "svc = LinearSVC(class_weight='balanced')\n",
    "clf = OneVsRestClassifier(svc)\n",
    "clf.fit(X_train, y_train)\n",
    "y_pred = clf.predict(X_test)\n",
    "print(f\"Accuracy: {accuracy_score(y_pred,y_test):.3f}\")\n",
    "print(f\"F1: {f1_score(y_pred,y_test,average='micro'):.3f}\")\n",
    "print(f\"Prescison: {precision_score(y_pred,y_test,average='micro'):.3f}\")\n",
    "print(f\"Recall: {recall_score(y_pred,y_test,average='micro'):.3f}\")"
   ]
  },
  {
   "cell_type": "markdown",
   "metadata": {},
   "source": [
    "F1 is now much better than with the dummy classifier, however is is still not very convincing. This is quite normal given the size of the dataset we are using, which is pretty small to get really meaningful embeddings. But with bigger datasets, reusing embeddings as features for auxiliary tasks such as classification is actually a very effective way of doing so when there is no other informations about the items we try to classify. Here the items are the movies, the dataset doesn't provide more information about them, but one could imagine fetching from internet textual descriptions of the movies and use them as features alongside the embeddings to improve the classification results."
   ]
  },
  {
   "cell_type": "markdown",
   "metadata": {},
   "source": [
    "## Try out the different SGD algorithms"
   ]
  },
  {
   "cell_type": "markdown",
   "metadata": {},
   "source": [
    "In all the notebook we used the 'adam' `optimizer` to train our model, which is a variation of SGD. Keras proposes different variations of SGD: https://keras.io/optimizers/ . This article gif images gives an intuitive view of their different behavior : https://medium.com/@ramrajchandradevan/the-evolution-of-gradient-descend-optimization-algorithm-4106a6702d39\n",
    "\n",
    "Try a few ones with our model and see how the training and testing loss evolves."
   ]
  },
  {
   "cell_type": "code",
   "execution_count": 102,
   "metadata": {},
   "outputs": [],
   "source": [
    "#TOFILL\n",
    "from keras.optimizers import SGD\n",
    "\n",
    "def model_diff_opt(nb_users, nb_movies, k, lambda_, optimizer):\n",
    "    \n",
    "    dim_embedddings = k\n",
    "    \n",
    "    # User embeddings\n",
    "    u = Input(shape=(1,), dtype='int32', name = 'u__user_id')\n",
    "    p_u = Embedding(nb_users, dim_embedddings, name=\"p_u__user_embedding\",\n",
    "                   embeddings_regularizer=l2(lambda_))(u)\n",
    "    p_u = Reshape((dim_embedddings,), name=\"p_u__user_embedding_reshaped\")(p_u)\n",
    "    \n",
    "    # Movie embeddings\n",
    "    i = Input(shape=(1,), dtype='int32', name = 'i__movie_id')\n",
    "    q_i = Embedding(nb_movies, dim_embedddings, name=\"q_i__movie_embedding\",\n",
    "                   embeddings_regularizer=l2(lambda_))(i)\n",
    "    q_i = Reshape((dim_embedddings,), name=\"q_i__movie_embedding_reshaped\")(q_i)\n",
    "    \n",
    "    # Dot product\n",
    "    d = Dot(axes = 1)([p_u, q_i])\n",
    "    \n",
    "    \n",
    "    #TOFILL\n",
    "    \n",
    "    b_u = Embedding(nb_users, 1, name='b_u__user_bias')(u)\n",
    "    b_u = Reshape((1,))(b_u)\n",
    "    b_i = Embedding(nb_movies, 1, name='b_i__movie_bias')(i)\n",
    "    b_i = Reshape((1,))(b_i)\n",
    "    \n",
    "    r_hat = Add()([d, b_u, b_i])\n",
    "    \n",
    "    model = Model(inputs=[u, i], outputs=r_hat)\n",
    "    model.compile(loss='mse', optimizer=optimizer, metrics=[\"mse\"])\n",
    "\n",
    "\n",
    "\n",
    "    \n",
    "    return model"
   ]
  },
  {
   "cell_type": "code",
   "execution_count": 103,
   "metadata": {
    "tags": []
   },
   "outputs": [],
   "source": [
    "X_train = [train[\"userId\"].to_numpy(), train[\"movieId\"].to_numpy()]\n",
    "y_train = train[\"rating\"].to_numpy()\n",
    "\n",
    "X_test = [test[\"userId\"].to_numpy(), test[\"movieId\"].to_numpy()]\n",
    "y_test = test[\"rating\"].to_numpy()"
   ]
  },
  {
   "cell_type": "code",
   "execution_count": 104,
   "metadata": {
    "collapsed": true,
    "jupyter": {
     "outputs_hidden": true
    },
    "tags": []
   },
   "outputs": [
    {
     "name": "stdout",
     "output_type": "stream",
     "text": [
      "Epoch 1/500\n",
      "160/160 [==============================] - 12s 70ms/step - loss: 8.0586 - mse: 8.0560 - val_loss: 4.3453 - val_mse: 4.3427\n",
      "Epoch 2/500\n",
      "160/160 [==============================] - 2s 13ms/step - loss: 3.1345 - mse: 3.1320 - val_loss: 2.5078 - val_mse: 2.5052\n",
      "Epoch 3/500\n",
      "160/160 [==============================] - 2s 13ms/step - loss: 2.0746 - mse: 2.0720 - val_loss: 1.9091 - val_mse: 1.9065\n",
      "Epoch 4/500\n",
      "160/160 [==============================] - 1s 6ms/step - loss: 1.6579 - mse: 1.6554 - val_loss: 1.6170 - val_mse: 1.6144\n",
      "Epoch 5/500\n",
      "160/160 [==============================] - 1s 9ms/step - loss: 1.4351 - mse: 1.4326 - val_loss: 1.4435 - val_mse: 1.4410\n",
      "Epoch 6/500\n",
      "160/160 [==============================] - 1s 6ms/step - loss: 1.2938 - mse: 1.2913 - val_loss: 1.3258 - val_mse: 1.3233\n",
      "Epoch 7/500\n",
      "160/160 [==============================] - 1s 6ms/step - loss: 1.1952 - mse: 1.1927 - val_loss: 1.2393 - val_mse: 1.2368\n",
      "Epoch 8/500\n",
      "160/160 [==============================] - 1s 8ms/step - loss: 1.1217 - mse: 1.1192 - val_loss: 1.1737 - val_mse: 1.1712\n",
      "Epoch 9/500\n",
      "160/160 [==============================] - 1s 7ms/step - loss: 1.0645 - mse: 1.0621 - val_loss: 1.1206 - val_mse: 1.1182\n",
      "Epoch 10/500\n",
      "160/160 [==============================] - 1s 5ms/step - loss: 1.0184 - mse: 1.0159 - val_loss: 1.0774 - val_mse: 1.0750\n",
      "Epoch 11/500\n",
      "160/160 [==============================] - 1s 5ms/step - loss: 0.9805 - mse: 0.9781 - val_loss: 1.0413 - val_mse: 1.0388\n",
      "Epoch 12/500\n",
      "160/160 [==============================] - 1s 5ms/step - loss: 0.9486 - mse: 0.9462 - val_loss: 1.0108 - val_mse: 1.0084\n",
      "Epoch 13/500\n",
      "160/160 [==============================] - 1s 5ms/step - loss: 0.9216 - mse: 0.9191 - val_loss: 0.9852 - val_mse: 0.9827\n",
      "Epoch 14/500\n",
      "160/160 [==============================] - 1s 6ms/step - loss: 0.8982 - mse: 0.8958 - val_loss: 0.9612 - val_mse: 0.9588\n",
      "Epoch 15/500\n",
      "160/160 [==============================] - 1s 4ms/step - loss: 0.8780 - mse: 0.8755 - val_loss: 0.9422 - val_mse: 0.9397\n",
      "Epoch 16/500\n",
      "160/160 [==============================] - 1s 7ms/step - loss: 0.8602 - mse: 0.8578 - val_loss: 0.9246 - val_mse: 0.9221\n",
      "Epoch 17/500\n",
      "160/160 [==============================] - 1s 6ms/step - loss: 0.8446 - mse: 0.8422 - val_loss: 0.9086 - val_mse: 0.9062\n",
      "Epoch 18/500\n",
      "160/160 [==============================] - 1s 4ms/step - loss: 0.8306 - mse: 0.8281 - val_loss: 0.8954 - val_mse: 0.8929\n",
      "Epoch 19/500\n",
      "160/160 [==============================] - 1s 4ms/step - loss: 0.8179 - mse: 0.8154 - val_loss: 0.8828 - val_mse: 0.8803\n",
      "Epoch 20/500\n",
      "160/160 [==============================] - 1s 7ms/step - loss: 0.8066 - mse: 0.8041 - val_loss: 0.8719 - val_mse: 0.8694\n",
      "Epoch 21/500\n",
      "160/160 [==============================] - 1s 5ms/step - loss: 0.7962 - mse: 0.7937 - val_loss: 0.8622 - val_mse: 0.8597\n",
      "Epoch 22/500\n",
      "160/160 [==============================] - 1s 5ms/step - loss: 0.7869 - mse: 0.7844 - val_loss: 0.8527 - val_mse: 0.8502\n",
      "Epoch 23/500\n",
      "160/160 [==============================] - 1s 4ms/step - loss: 0.7782 - mse: 0.7757 - val_loss: 0.8447 - val_mse: 0.8421\n",
      "Epoch 24/500\n",
      "160/160 [==============================] - 1s 4ms/step - loss: 0.7704 - mse: 0.7678 - val_loss: 0.8374 - val_mse: 0.8348\n",
      "Epoch 25/500\n",
      "160/160 [==============================] - 1s 4ms/step - loss: 0.7628 - mse: 0.7603 - val_loss: 0.8303 - val_mse: 0.8277\n",
      "Epoch 26/500\n",
      "160/160 [==============================] - 1s 5ms/step - loss: 0.7561 - mse: 0.7535 - val_loss: 0.8240 - val_mse: 0.8214\n",
      "Epoch 27/500\n",
      "160/160 [==============================] - 1s 4ms/step - loss: 0.7494 - mse: 0.7468 - val_loss: 0.8187 - val_mse: 0.8161\n",
      "Epoch 28/500\n",
      "160/160 [==============================] - 1s 6ms/step - loss: 0.7433 - mse: 0.7406 - val_loss: 0.8133 - val_mse: 0.8106\n",
      "Epoch 29/500\n",
      "160/160 [==============================] - 1s 5ms/step - loss: 0.7375 - mse: 0.7347 - val_loss: 0.8086 - val_mse: 0.8058\n",
      "Epoch 30/500\n",
      "160/160 [==============================] - 1s 6ms/step - loss: 0.7321 - mse: 0.7293 - val_loss: 0.8044 - val_mse: 0.8015\n",
      "Epoch 31/500\n",
      "160/160 [==============================] - 1s 7ms/step - loss: 0.7267 - mse: 0.7238 - val_loss: 0.7996 - val_mse: 0.7967\n",
      "Epoch 32/500\n",
      "160/160 [==============================] - 1s 5ms/step - loss: 0.7214 - mse: 0.7185 - val_loss: 0.7960 - val_mse: 0.7930\n",
      "Epoch 33/500\n",
      "160/160 [==============================] - 1s 5ms/step - loss: 0.7165 - mse: 0.7135 - val_loss: 0.7924 - val_mse: 0.7893\n",
      "Epoch 34/500\n",
      "160/160 [==============================] - 1s 4ms/step - loss: 0.7114 - mse: 0.7083 - val_loss: 0.7891 - val_mse: 0.7859\n",
      "Epoch 35/500\n",
      "160/160 [==============================] - 1s 6ms/step - loss: 0.7064 - mse: 0.7031 - val_loss: 0.7862 - val_mse: 0.7829\n",
      "Epoch 36/500\n",
      "160/160 [==============================] - 1s 4ms/step - loss: 0.7015 - mse: 0.6981 - val_loss: 0.7828 - val_mse: 0.7793\n",
      "Epoch 37/500\n",
      "160/160 [==============================] - 1s 6ms/step - loss: 0.6965 - mse: 0.6930 - val_loss: 0.7805 - val_mse: 0.7768\n",
      "Epoch 38/500\n",
      "160/160 [==============================] - 1s 6ms/step - loss: 0.6915 - mse: 0.6878 - val_loss: 0.7779 - val_mse: 0.7741\n",
      "Epoch 39/500\n",
      "160/160 [==============================] - 1s 5ms/step - loss: 0.6864 - mse: 0.6826 - val_loss: 0.7754 - val_mse: 0.7714\n",
      "Epoch 40/500\n",
      "160/160 [==============================] - 1s 5ms/step - loss: 0.6812 - mse: 0.6771 - val_loss: 0.7734 - val_mse: 0.7692\n",
      "Epoch 41/500\n",
      "160/160 [==============================] - 1s 4ms/step - loss: 0.6759 - mse: 0.6716 - val_loss: 0.7706 - val_mse: 0.7662\n",
      "Epoch 42/500\n",
      "160/160 [==============================] - 1s 5ms/step - loss: 0.6706 - mse: 0.6661 - val_loss: 0.7691 - val_mse: 0.7644\n",
      "Epoch 43/500\n",
      "160/160 [==============================] - 1s 5ms/step - loss: 0.6649 - mse: 0.6601 - val_loss: 0.7672 - val_mse: 0.7622\n",
      "Epoch 44/500\n",
      "160/160 [==============================] - 1s 5ms/step - loss: 0.6592 - mse: 0.6540 - val_loss: 0.7656 - val_mse: 0.7603\n",
      "Epoch 45/500\n",
      "160/160 [==============================] - 1s 6ms/step - loss: 0.6533 - mse: 0.6478 - val_loss: 0.7639 - val_mse: 0.7583\n",
      "Epoch 46/500\n",
      "160/160 [==============================] - 1s 5ms/step - loss: 0.6474 - mse: 0.6416 - val_loss: 0.7622 - val_mse: 0.7562\n",
      "Epoch 47/500\n",
      "160/160 [==============================] - 1s 4ms/step - loss: 0.6413 - mse: 0.6351 - val_loss: 0.7611 - val_mse: 0.7548\n",
      "Epoch 48/500\n",
      "160/160 [==============================] - 1s 5ms/step - loss: 0.6350 - mse: 0.6284 - val_loss: 0.7599 - val_mse: 0.7532\n",
      "Epoch 49/500\n",
      "160/160 [==============================] - 1s 5ms/step - loss: 0.6287 - mse: 0.6217 - val_loss: 0.7587 - val_mse: 0.7515\n",
      "Epoch 50/500\n",
      "160/160 [==============================] - 1s 4ms/step - loss: 0.6223 - mse: 0.6148 - val_loss: 0.7576 - val_mse: 0.7499\n",
      "Epoch 51/500\n",
      "160/160 [==============================] - 1s 5ms/step - loss: 0.6157 - mse: 0.6078 - val_loss: 0.7567 - val_mse: 0.7485\n",
      "Epoch 52/500\n",
      "160/160 [==============================] - 1s 5ms/step - loss: 0.6092 - mse: 0.6008 - val_loss: 0.7561 - val_mse: 0.7474\n",
      "Epoch 53/500\n",
      "160/160 [==============================] - 1s 5ms/step - loss: 0.6026 - mse: 0.5937 - val_loss: 0.7554 - val_mse: 0.7461\n",
      "Epoch 54/500\n",
      "160/160 [==============================] - 1s 5ms/step - loss: 0.5961 - mse: 0.5865 - val_loss: 0.7548 - val_mse: 0.7450\n",
      "Epoch 55/500\n",
      "160/160 [==============================] - 1s 5ms/step - loss: 0.5894 - mse: 0.5793 - val_loss: 0.7546 - val_mse: 0.7443\n",
      "Epoch 56/500\n",
      "160/160 [==============================] - 1s 5ms/step - loss: 0.5829 - mse: 0.5722 - val_loss: 0.7543 - val_mse: 0.7433\n",
      "Epoch 57/500\n",
      "160/160 [==============================] - 1s 5ms/step - loss: 0.5763 - mse: 0.5650 - val_loss: 0.7543 - val_mse: 0.7427\n",
      "Epoch 58/500\n",
      "160/160 [==============================] - 1s 5ms/step - loss: 0.5697 - mse: 0.5578 - val_loss: 0.7543 - val_mse: 0.7420\n",
      "Epoch 59/500\n",
      "160/160 [==============================] - 1s 5ms/step - loss: 0.5633 - mse: 0.5508 - val_loss: 0.7544 - val_mse: 0.7415\n",
      "Epoch 60/500\n",
      "160/160 [==============================] - 1s 5ms/step - loss: 0.5569 - mse: 0.5437 - val_loss: 0.7548 - val_mse: 0.7412\n",
      "Epoch 61/500\n",
      "160/160 [==============================] - 1s 4ms/step - loss: 0.5507 - mse: 0.5368 - val_loss: 0.7554 - val_mse: 0.7412\n",
      "Epoch 62/500\n",
      "160/160 [==============================] - 1s 5ms/step - loss: 0.5445 - mse: 0.5299 - val_loss: 0.7558 - val_mse: 0.7409\n",
      "Epoch 63/500\n",
      "160/160 [==============================] - 1s 4ms/step - loss: 0.5384 - mse: 0.5231 - val_loss: 0.7563 - val_mse: 0.7407\n",
      "Epoch 64/500\n",
      "160/160 [==============================] - 1s 4ms/step - loss: 0.5324 - mse: 0.5165 - val_loss: 0.7570 - val_mse: 0.7407\n",
      "Epoch 65/500\n",
      "160/160 [==============================] - 1s 5ms/step - loss: 0.5265 - mse: 0.5098 - val_loss: 0.7577 - val_mse: 0.7407\n",
      "Epoch 66/500\n",
      "160/160 [==============================] - 1s 4ms/step - loss: 0.5208 - mse: 0.5035 - val_loss: 0.7589 - val_mse: 0.7412\n",
      "Epoch 67/500\n",
      "160/160 [==============================] - 1s 4ms/step - loss: 0.5152 - mse: 0.4971 - val_loss: 0.7600 - val_mse: 0.7415\n",
      "Epoch 68/500\n",
      "160/160 [==============================] - 1s 5ms/step - loss: 0.5098 - mse: 0.4910 - val_loss: 0.7612 - val_mse: 0.7421\n",
      "Epoch 69/500\n",
      "160/160 [==============================] - 1s 5ms/step - loss: 0.5045 - mse: 0.4850 - val_loss: 0.7624 - val_mse: 0.7425\n",
      "Epoch 70/500\n",
      "160/160 [==============================] - 1s 5ms/step - loss: 0.4993 - mse: 0.4791 - val_loss: 0.7637 - val_mse: 0.7431\n"
     ]
    },
    {
     "data": {
      "text/plain": [
       "<keras.src.callbacks.History at 0x7684e8553010>"
      ]
     },
     "execution_count": 104,
     "metadata": {},
     "output_type": "execute_result"
    }
   ],
   "source": [
    "model_SGD = model_diff_opt(nb_users, nb_movies, k=15, lambda_=0.00002, optimizer = SGD(learning_rate=0.02, momentum=0.97))\n",
    "\n",
    "early_stopping = EarlyStopping(monitor='val_mse', patience=7, verbose=0, restore_best_weights=True)\n",
    "model_SGD.fit(X_train, y_train, epochs=500, batch_size=512, validation_split=0.1, callbacks=[early_stopping])"
   ]
  },
  {
   "cell_type": "code",
   "execution_count": 105,
   "metadata": {
    "tags": []
   },
   "outputs": [
    {
     "name": "stdout",
     "output_type": "stream",
     "text": [
      "316/316 [==============================] - 1s 2ms/step\n",
      " Test RMSE : 0.8668156481202587 \n"
     ]
    }
   ],
   "source": [
    "y_pred_SGD = model_SGD.predict(X_test)\n",
    "\n",
    "test_rmse_SGD = sqrt(mean_squared_error(y_test, y_pred_SGD))\n",
    "\n",
    "print(\" Test RMSE : %s \" % test_rmse_SGD)"
   ]
  },
  {
   "cell_type": "code",
   "execution_count": 106,
   "metadata": {
    "collapsed": true,
    "jupyter": {
     "outputs_hidden": true
    },
    "tags": []
   },
   "outputs": [
    {
     "name": "stdout",
     "output_type": "stream",
     "text": [
      "Epoch 1/500\n",
      "160/160 [==============================] - 15s 86ms/step - loss: 9.0687 - mse: 9.0565 - val_loss: 4.2539 - val_mse: 4.2154\n",
      "Epoch 2/500\n",
      "160/160 [==============================] - 2s 15ms/step - loss: 2.4760 - mse: 2.4099 - val_loss: 1.7962 - val_mse: 1.7107\n",
      "Epoch 3/500\n",
      "160/160 [==============================] - 3s 16ms/step - loss: 1.3807 - mse: 1.2836 - val_loss: 1.3253 - val_mse: 1.2190\n",
      "Epoch 4/500\n",
      "160/160 [==============================] - 2s 10ms/step - loss: 1.1036 - mse: 0.9917 - val_loss: 1.1609 - val_mse: 1.0450\n",
      "Epoch 5/500\n",
      "160/160 [==============================] - 1s 9ms/step - loss: 0.9917 - mse: 0.8731 - val_loss: 1.0840 - val_mse: 0.9634\n",
      "Epoch 6/500\n",
      "160/160 [==============================] - 1s 6ms/step - loss: 0.9306 - mse: 0.8090 - val_loss: 1.0346 - val_mse: 0.9126\n",
      "Epoch 7/500\n",
      "160/160 [==============================] - 2s 9ms/step - loss: 0.8887 - mse: 0.7666 - val_loss: 1.0048 - val_mse: 0.8830\n",
      "Epoch 8/500\n",
      "160/160 [==============================] - 1s 7ms/step - loss: 0.8532 - mse: 0.7314 - val_loss: 0.9820 - val_mse: 0.8607\n",
      "Epoch 9/500\n",
      "160/160 [==============================] - 1s 7ms/step - loss: 0.8205 - mse: 0.6995 - val_loss: 0.9671 - val_mse: 0.8465\n",
      "Epoch 10/500\n",
      "160/160 [==============================] - 1s 7ms/step - loss: 0.7880 - mse: 0.6678 - val_loss: 0.9549 - val_mse: 0.8354\n",
      "Epoch 11/500\n",
      "160/160 [==============================] - 1s 9ms/step - loss: 0.7564 - mse: 0.6370 - val_loss: 0.9427 - val_mse: 0.8241\n",
      "Epoch 12/500\n",
      "160/160 [==============================] - 1s 6ms/step - loss: 0.7263 - mse: 0.6078 - val_loss: 0.9345 - val_mse: 0.8166\n",
      "Epoch 13/500\n",
      "160/160 [==============================] - 1s 7ms/step - loss: 0.6966 - mse: 0.5787 - val_loss: 0.9257 - val_mse: 0.8081\n",
      "Epoch 14/500\n",
      "160/160 [==============================] - 1s 6ms/step - loss: 0.6672 - mse: 0.5497 - val_loss: 0.9225 - val_mse: 0.8054\n",
      "Epoch 15/500\n",
      "160/160 [==============================] - 1s 6ms/step - loss: 0.6400 - mse: 0.5229 - val_loss: 0.9161 - val_mse: 0.7991\n",
      "Epoch 16/500\n",
      "160/160 [==============================] - 1s 8ms/step - loss: 0.6143 - mse: 0.4972 - val_loss: 0.9168 - val_mse: 0.8000\n",
      "Epoch 17/500\n",
      "160/160 [==============================] - 1s 6ms/step - loss: 0.5917 - mse: 0.4752 - val_loss: 0.9157 - val_mse: 0.7994\n",
      "Epoch 18/500\n",
      "160/160 [==============================] - 1s 5ms/step - loss: 0.5707 - mse: 0.4545 - val_loss: 0.9211 - val_mse: 0.8053\n",
      "Epoch 19/500\n",
      "160/160 [==============================] - 1s 8ms/step - loss: 0.5513 - mse: 0.4356 - val_loss: 0.9221 - val_mse: 0.8069\n",
      "Epoch 20/500\n",
      "160/160 [==============================] - 1s 7ms/step - loss: 0.5347 - mse: 0.4195 - val_loss: 0.9241 - val_mse: 0.8093\n",
      "Epoch 21/500\n",
      "160/160 [==============================] - 1s 6ms/step - loss: 0.5187 - mse: 0.4042 - val_loss: 0.9266 - val_mse: 0.8123\n",
      "Epoch 22/500\n",
      "160/160 [==============================] - 1s 6ms/step - loss: 0.5048 - mse: 0.3908 - val_loss: 0.9288 - val_mse: 0.8155\n"
     ]
    },
    {
     "data": {
      "text/plain": [
       "<keras.src.callbacks.History at 0x7684e2181210>"
      ]
     },
     "execution_count": 106,
     "metadata": {},
     "output_type": "execute_result"
    }
   ],
   "source": [
    "from keras.optimizers import RMSprop\n",
    "\n",
    "model_RMSprop = model_diff_opt(nb_users, nb_movies, k=15, lambda_=0.00002, optimizer = RMSprop(learning_rate=0.005))\n",
    "\n",
    "early_stopping = EarlyStopping(monitor='val_mse', patience=7, verbose=0, restore_best_weights=True)\n",
    "model_RMSprop.fit(X_train, y_train, epochs=500, batch_size=512, validation_split=0.1, callbacks=[early_stopping])"
   ]
  },
  {
   "cell_type": "code",
   "execution_count": 107,
   "metadata": {
    "tags": []
   },
   "outputs": [
    {
     "name": "stdout",
     "output_type": "stream",
     "text": [
      "316/316 [==============================] - 1s 2ms/step\n",
      " Test RMSE : 0.9020353024309907 \n"
     ]
    }
   ],
   "source": [
    "y_pred_RMSprop = model_RMSprop.predict(X_test)\n",
    "\n",
    "test_rmse_RMSprop = sqrt(mean_squared_error(y_test, y_pred_RMSprop))\n",
    "\n",
    "print(\" Test RMSE : %s \" % test_rmse_RMSprop)"
   ]
  },
  {
   "cell_type": "code",
   "execution_count": 108,
   "metadata": {
    "collapsed": true,
    "jupyter": {
     "outputs_hidden": true
    },
    "tags": []
   },
   "outputs": [
    {
     "name": "stdout",
     "output_type": "stream",
     "text": [
      "Epoch 1/500\n",
      "160/160 [==============================] - 20s 111ms/step - loss: 9.7120 - mse: 9.7120 - val_loss: 7.4480 - val_mse: 7.4480\n",
      "Epoch 2/500\n",
      "160/160 [==============================] - 3s 20ms/step - loss: 6.0975 - mse: 6.0975 - val_loss: 5.1554 - val_mse: 5.1554\n",
      "Epoch 3/500\n",
      "160/160 [==============================] - 2s 11ms/step - loss: 4.3875 - mse: 4.3875 - val_loss: 3.9047 - val_mse: 3.9047\n",
      "Epoch 4/500\n",
      "160/160 [==============================] - 2s 14ms/step - loss: 3.4027 - mse: 3.4027 - val_loss: 3.1434 - val_mse: 3.1434\n",
      "Epoch 5/500\n",
      "160/160 [==============================] - 2s 14ms/step - loss: 2.7840 - mse: 2.7840 - val_loss: 2.6473 - val_mse: 2.6473\n",
      "Epoch 6/500\n",
      "160/160 [==============================] - 1s 8ms/step - loss: 2.3717 - mse: 2.3717 - val_loss: 2.3075 - val_mse: 2.3075\n",
      "Epoch 7/500\n",
      "160/160 [==============================] - 1s 8ms/step - loss: 2.0841 - mse: 2.0841 - val_loss: 2.0645 - val_mse: 2.0645\n",
      "Epoch 8/500\n",
      "160/160 [==============================] - 2s 9ms/step - loss: 1.8756 - mse: 1.8756 - val_loss: 1.8845 - val_mse: 1.8845\n",
      "Epoch 9/500\n",
      "160/160 [==============================] - 2s 11ms/step - loss: 1.7191 - mse: 1.7191 - val_loss: 1.7469 - val_mse: 1.7469\n",
      "Epoch 10/500\n",
      "160/160 [==============================] - 2s 14ms/step - loss: 1.5983 - mse: 1.5983 - val_loss: 1.6388 - val_mse: 1.6388\n",
      "Epoch 11/500\n",
      "160/160 [==============================] - 1s 5ms/step - loss: 1.5025 - mse: 1.5025 - val_loss: 1.5519 - val_mse: 1.5519\n",
      "Epoch 12/500\n",
      "160/160 [==============================] - 1s 6ms/step - loss: 1.4248 - mse: 1.4248 - val_loss: 1.4804 - val_mse: 1.4804\n",
      "Epoch 13/500\n",
      "160/160 [==============================] - 2s 10ms/step - loss: 1.3606 - mse: 1.3606 - val_loss: 1.4206 - val_mse: 1.4206\n",
      "Epoch 14/500\n",
      "160/160 [==============================] - 2s 9ms/step - loss: 1.3065 - mse: 1.3065 - val_loss: 1.3697 - val_mse: 1.3697\n",
      "Epoch 15/500\n",
      "160/160 [==============================] - 1s 6ms/step - loss: 1.2603 - mse: 1.2603 - val_loss: 1.3259 - val_mse: 1.3259\n",
      "Epoch 16/500\n",
      "160/160 [==============================] - 1s 9ms/step - loss: 1.2204 - mse: 1.2204 - val_loss: 1.2876 - val_mse: 1.2876\n",
      "Epoch 17/500\n",
      "160/160 [==============================] - 1s 8ms/step - loss: 1.1854 - mse: 1.1854 - val_loss: 1.2539 - val_mse: 1.2539\n",
      "Epoch 18/500\n",
      "160/160 [==============================] - 1s 8ms/step - loss: 1.1545 - mse: 1.1545 - val_loss: 1.2239 - val_mse: 1.2239\n",
      "Epoch 19/500\n",
      "160/160 [==============================] - 1s 6ms/step - loss: 1.1269 - mse: 1.1269 - val_loss: 1.1970 - val_mse: 1.1970\n",
      "Epoch 20/500\n",
      "160/160 [==============================] - 1s 8ms/step - loss: 1.1021 - mse: 1.1021 - val_loss: 1.1727 - val_mse: 1.1727\n",
      "Epoch 21/500\n",
      "160/160 [==============================] - 1s 5ms/step - loss: 1.0797 - mse: 1.0797 - val_loss: 1.1507 - val_mse: 1.1507\n",
      "Epoch 22/500\n",
      "160/160 [==============================] - 2s 10ms/step - loss: 1.0593 - mse: 1.0593 - val_loss: 1.1305 - val_mse: 1.1305\n",
      "Epoch 23/500\n",
      "160/160 [==============================] - 2s 9ms/step - loss: 1.0406 - mse: 1.0406 - val_loss: 1.1120 - val_mse: 1.1120\n",
      "Epoch 24/500\n",
      "160/160 [==============================] - 1s 8ms/step - loss: 1.0235 - mse: 1.0235 - val_loss: 1.0950 - val_mse: 1.0950\n",
      "Epoch 25/500\n",
      "160/160 [==============================] - 1s 8ms/step - loss: 1.0077 - mse: 1.0077 - val_loss: 1.0792 - val_mse: 1.0792\n",
      "Epoch 26/500\n",
      "160/160 [==============================] - 1s 6ms/step - loss: 0.9930 - mse: 0.9930 - val_loss: 1.0646 - val_mse: 1.0646\n",
      "Epoch 27/500\n",
      "160/160 [==============================] - 1s 6ms/step - loss: 0.9794 - mse: 0.9794 - val_loss: 1.0510 - val_mse: 1.0510\n",
      "Epoch 28/500\n",
      "160/160 [==============================] - 1s 6ms/step - loss: 0.9667 - mse: 0.9667 - val_loss: 1.0383 - val_mse: 1.0383\n",
      "Epoch 29/500\n",
      "160/160 [==============================] - 1s 6ms/step - loss: 0.9548 - mse: 0.9548 - val_loss: 1.0264 - val_mse: 1.0264\n",
      "Epoch 30/500\n",
      "160/160 [==============================] - 1s 5ms/step - loss: 0.9437 - mse: 0.9437 - val_loss: 1.0152 - val_mse: 1.0152\n",
      "Epoch 31/500\n",
      "160/160 [==============================] - 1s 6ms/step - loss: 0.9332 - mse: 0.9332 - val_loss: 1.0047 - val_mse: 1.0047\n",
      "Epoch 32/500\n",
      "160/160 [==============================] - 1s 5ms/step - loss: 0.9234 - mse: 0.9234 - val_loss: 0.9949 - val_mse: 0.9949\n",
      "Epoch 33/500\n",
      "160/160 [==============================] - 1s 5ms/step - loss: 0.9142 - mse: 0.9142 - val_loss: 0.9855 - val_mse: 0.9855\n",
      "Epoch 34/500\n",
      "160/160 [==============================] - 1s 6ms/step - loss: 0.9054 - mse: 0.9054 - val_loss: 0.9767 - val_mse: 0.9767\n",
      "Epoch 35/500\n",
      "160/160 [==============================] - 1s 7ms/step - loss: 0.8971 - mse: 0.8971 - val_loss: 0.9684 - val_mse: 0.9684\n",
      "Epoch 36/500\n",
      "160/160 [==============================] - 1s 5ms/step - loss: 0.8893 - mse: 0.8893 - val_loss: 0.9604 - val_mse: 0.9604\n",
      "Epoch 37/500\n",
      "160/160 [==============================] - 1s 5ms/step - loss: 0.8818 - mse: 0.8818 - val_loss: 0.9529 - val_mse: 0.9529\n",
      "Epoch 38/500\n",
      "160/160 [==============================] - 1s 5ms/step - loss: 0.8748 - mse: 0.8748 - val_loss: 0.9458 - val_mse: 0.9458\n",
      "Epoch 39/500\n",
      "160/160 [==============================] - 1s 5ms/step - loss: 0.8680 - mse: 0.8680 - val_loss: 0.9390 - val_mse: 0.9390\n",
      "Epoch 40/500\n",
      "160/160 [==============================] - 1s 6ms/step - loss: 0.8616 - mse: 0.8616 - val_loss: 0.9325 - val_mse: 0.9325\n",
      "Epoch 41/500\n",
      "160/160 [==============================] - 1s 5ms/step - loss: 0.8555 - mse: 0.8555 - val_loss: 0.9264 - val_mse: 0.9264\n",
      "Epoch 42/500\n",
      "160/160 [==============================] - 1s 6ms/step - loss: 0.8497 - mse: 0.8497 - val_loss: 0.9205 - val_mse: 0.9205\n",
      "Epoch 43/500\n",
      "160/160 [==============================] - 1s 5ms/step - loss: 0.8441 - mse: 0.8441 - val_loss: 0.9148 - val_mse: 0.9148\n",
      "Epoch 44/500\n",
      "160/160 [==============================] - 1s 8ms/step - loss: 0.8388 - mse: 0.8388 - val_loss: 0.9095 - val_mse: 0.9095\n",
      "Epoch 45/500\n",
      "160/160 [==============================] - 1s 6ms/step - loss: 0.8337 - mse: 0.8337 - val_loss: 0.9044 - val_mse: 0.9044\n",
      "Epoch 46/500\n",
      "160/160 [==============================] - 1s 5ms/step - loss: 0.8288 - mse: 0.8288 - val_loss: 0.8994 - val_mse: 0.8994\n",
      "Epoch 47/500\n",
      "160/160 [==============================] - 1s 5ms/step - loss: 0.8241 - mse: 0.8241 - val_loss: 0.8947 - val_mse: 0.8947\n",
      "Epoch 48/500\n",
      "160/160 [==============================] - 1s 5ms/step - loss: 0.8196 - mse: 0.8196 - val_loss: 0.8902 - val_mse: 0.8902\n",
      "Epoch 49/500\n",
      "160/160 [==============================] - 1s 5ms/step - loss: 0.8153 - mse: 0.8153 - val_loss: 0.8859 - val_mse: 0.8859\n",
      "Epoch 50/500\n",
      "160/160 [==============================] - 1s 6ms/step - loss: 0.8111 - mse: 0.8111 - val_loss: 0.8817 - val_mse: 0.8817\n",
      "Epoch 51/500\n",
      "160/160 [==============================] - 1s 6ms/step - loss: 0.8071 - mse: 0.8071 - val_loss: 0.8777 - val_mse: 0.8777\n",
      "Epoch 52/500\n",
      "160/160 [==============================] - 1s 5ms/step - loss: 0.8033 - mse: 0.8033 - val_loss: 0.8738 - val_mse: 0.8738\n",
      "Epoch 53/500\n",
      "160/160 [==============================] - 1s 8ms/step - loss: 0.7996 - mse: 0.7996 - val_loss: 0.8701 - val_mse: 0.8701\n",
      "Epoch 54/500\n",
      "160/160 [==============================] - 1s 6ms/step - loss: 0.7960 - mse: 0.7960 - val_loss: 0.8666 - val_mse: 0.8666\n",
      "Epoch 55/500\n",
      "160/160 [==============================] - 1s 6ms/step - loss: 0.7926 - mse: 0.7926 - val_loss: 0.8631 - val_mse: 0.8631\n",
      "Epoch 56/500\n",
      "160/160 [==============================] - 1s 5ms/step - loss: 0.7892 - mse: 0.7892 - val_loss: 0.8598 - val_mse: 0.8598\n",
      "Epoch 57/500\n",
      "160/160 [==============================] - 1s 7ms/step - loss: 0.7860 - mse: 0.7860 - val_loss: 0.8566 - val_mse: 0.8566\n",
      "Epoch 58/500\n",
      "160/160 [==============================] - 1s 5ms/step - loss: 0.7829 - mse: 0.7829 - val_loss: 0.8536 - val_mse: 0.8536\n",
      "Epoch 59/500\n",
      "160/160 [==============================] - 1s 6ms/step - loss: 0.7799 - mse: 0.7799 - val_loss: 0.8506 - val_mse: 0.8506\n",
      "Epoch 60/500\n",
      "160/160 [==============================] - 1s 6ms/step - loss: 0.7770 - mse: 0.7770 - val_loss: 0.8477 - val_mse: 0.8477\n",
      "Epoch 61/500\n",
      "160/160 [==============================] - 1s 5ms/step - loss: 0.7743 - mse: 0.7743 - val_loss: 0.8450 - val_mse: 0.8450\n",
      "Epoch 62/500\n",
      "160/160 [==============================] - 1s 5ms/step - loss: 0.7716 - mse: 0.7716 - val_loss: 0.8423 - val_mse: 0.8423\n",
      "Epoch 63/500\n",
      "160/160 [==============================] - 1s 5ms/step - loss: 0.7689 - mse: 0.7689 - val_loss: 0.8397 - val_mse: 0.8397\n",
      "Epoch 64/500\n",
      "160/160 [==============================] - 1s 5ms/step - loss: 0.7664 - mse: 0.7664 - val_loss: 0.8373 - val_mse: 0.8373\n",
      "Epoch 65/500\n",
      "160/160 [==============================] - 1s 6ms/step - loss: 0.7639 - mse: 0.7639 - val_loss: 0.8349 - val_mse: 0.8349\n",
      "Epoch 66/500\n",
      "160/160 [==============================] - 1s 5ms/step - loss: 0.7615 - mse: 0.7615 - val_loss: 0.8325 - val_mse: 0.8325\n",
      "Epoch 67/500\n",
      "160/160 [==============================] - 1s 5ms/step - loss: 0.7592 - mse: 0.7592 - val_loss: 0.8303 - val_mse: 0.8303\n",
      "Epoch 68/500\n",
      "160/160 [==============================] - 1s 5ms/step - loss: 0.7570 - mse: 0.7570 - val_loss: 0.8281 - val_mse: 0.8281\n",
      "Epoch 69/500\n",
      "160/160 [==============================] - 1s 5ms/step - loss: 0.7548 - mse: 0.7548 - val_loss: 0.8260 - val_mse: 0.8260\n",
      "Epoch 70/500\n",
      "160/160 [==============================] - 1s 6ms/step - loss: 0.7527 - mse: 0.7527 - val_loss: 0.8240 - val_mse: 0.8240\n",
      "Epoch 71/500\n",
      "160/160 [==============================] - 1s 5ms/step - loss: 0.7506 - mse: 0.7506 - val_loss: 0.8220 - val_mse: 0.8220\n",
      "Epoch 72/500\n",
      "160/160 [==============================] - 1s 5ms/step - loss: 0.7486 - mse: 0.7486 - val_loss: 0.8201 - val_mse: 0.8201\n",
      "Epoch 73/500\n",
      "160/160 [==============================] - 1s 5ms/step - loss: 0.7467 - mse: 0.7467 - val_loss: 0.8182 - val_mse: 0.8182\n",
      "Epoch 74/500\n",
      "160/160 [==============================] - 1s 5ms/step - loss: 0.7448 - mse: 0.7448 - val_loss: 0.8164 - val_mse: 0.8164\n",
      "Epoch 75/500\n",
      "160/160 [==============================] - 1s 7ms/step - loss: 0.7429 - mse: 0.7429 - val_loss: 0.8147 - val_mse: 0.8147\n",
      "Epoch 76/500\n",
      "160/160 [==============================] - 1s 5ms/step - loss: 0.7411 - mse: 0.7411 - val_loss: 0.8130 - val_mse: 0.8130\n",
      "Epoch 77/500\n",
      "160/160 [==============================] - 1s 5ms/step - loss: 0.7394 - mse: 0.7394 - val_loss: 0.8114 - val_mse: 0.8114\n",
      "Epoch 78/500\n",
      "160/160 [==============================] - 1s 5ms/step - loss: 0.7377 - mse: 0.7377 - val_loss: 0.8098 - val_mse: 0.8098\n",
      "Epoch 79/500\n",
      "160/160 [==============================] - 1s 6ms/step - loss: 0.7360 - mse: 0.7360 - val_loss: 0.8082 - val_mse: 0.8082\n",
      "Epoch 80/500\n",
      "160/160 [==============================] - 1s 5ms/step - loss: 0.7344 - mse: 0.7344 - val_loss: 0.8067 - val_mse: 0.8067\n",
      "Epoch 81/500\n",
      "160/160 [==============================] - 1s 5ms/step - loss: 0.7329 - mse: 0.7329 - val_loss: 0.8053 - val_mse: 0.8053\n",
      "Epoch 82/500\n",
      "160/160 [==============================] - 1s 5ms/step - loss: 0.7313 - mse: 0.7313 - val_loss: 0.8039 - val_mse: 0.8039\n",
      "Epoch 83/500\n",
      "160/160 [==============================] - 1s 5ms/step - loss: 0.7298 - mse: 0.7298 - val_loss: 0.8025 - val_mse: 0.8025\n",
      "Epoch 84/500\n",
      "160/160 [==============================] - 1s 5ms/step - loss: 0.7284 - mse: 0.7284 - val_loss: 0.8011 - val_mse: 0.8011\n",
      "Epoch 85/500\n",
      "160/160 [==============================] - 1s 5ms/step - loss: 0.7270 - mse: 0.7270 - val_loss: 0.7998 - val_mse: 0.7998\n",
      "Epoch 86/500\n",
      "160/160 [==============================] - 1s 5ms/step - loss: 0.7256 - mse: 0.7256 - val_loss: 0.7985 - val_mse: 0.7985\n",
      "Epoch 87/500\n",
      "160/160 [==============================] - 1s 5ms/step - loss: 0.7242 - mse: 0.7242 - val_loss: 0.7973 - val_mse: 0.7973\n",
      "Epoch 88/500\n",
      "160/160 [==============================] - 1s 5ms/step - loss: 0.7229 - mse: 0.7229 - val_loss: 0.7961 - val_mse: 0.7961\n",
      "Epoch 89/500\n",
      "160/160 [==============================] - 1s 5ms/step - loss: 0.7216 - mse: 0.7216 - val_loss: 0.7949 - val_mse: 0.7949\n",
      "Epoch 90/500\n",
      "160/160 [==============================] - 1s 5ms/step - loss: 0.7204 - mse: 0.7204 - val_loss: 0.7938 - val_mse: 0.7938\n",
      "Epoch 91/500\n",
      "160/160 [==============================] - 1s 5ms/step - loss: 0.7191 - mse: 0.7191 - val_loss: 0.7927 - val_mse: 0.7927\n",
      "Epoch 92/500\n",
      "160/160 [==============================] - 1s 5ms/step - loss: 0.7179 - mse: 0.7179 - val_loss: 0.7916 - val_mse: 0.7916\n",
      "Epoch 93/500\n",
      "160/160 [==============================] - 1s 5ms/step - loss: 0.7167 - mse: 0.7167 - val_loss: 0.7906 - val_mse: 0.7906\n",
      "Epoch 94/500\n",
      "160/160 [==============================] - 1s 5ms/step - loss: 0.7156 - mse: 0.7156 - val_loss: 0.7896 - val_mse: 0.7896\n",
      "Epoch 95/500\n",
      "160/160 [==============================] - 1s 5ms/step - loss: 0.7145 - mse: 0.7145 - val_loss: 0.7886 - val_mse: 0.7886\n",
      "Epoch 96/500\n",
      "160/160 [==============================] - 1s 5ms/step - loss: 0.7134 - mse: 0.7134 - val_loss: 0.7876 - val_mse: 0.7876\n",
      "Epoch 97/500\n",
      "160/160 [==============================] - 1s 5ms/step - loss: 0.7123 - mse: 0.7123 - val_loss: 0.7867 - val_mse: 0.7867\n",
      "Epoch 98/500\n",
      "160/160 [==============================] - 1s 5ms/step - loss: 0.7112 - mse: 0.7112 - val_loss: 0.7858 - val_mse: 0.7858\n",
      "Epoch 99/500\n",
      "160/160 [==============================] - 1s 5ms/step - loss: 0.7102 - mse: 0.7102 - val_loss: 0.7849 - val_mse: 0.7849\n",
      "Epoch 100/500\n",
      "160/160 [==============================] - 1s 5ms/step - loss: 0.7092 - mse: 0.7092 - val_loss: 0.7840 - val_mse: 0.7840\n",
      "Epoch 101/500\n",
      "160/160 [==============================] - 1s 5ms/step - loss: 0.7082 - mse: 0.7082 - val_loss: 0.7832 - val_mse: 0.7832\n",
      "Epoch 102/500\n",
      "160/160 [==============================] - 1s 5ms/step - loss: 0.7072 - mse: 0.7072 - val_loss: 0.7823 - val_mse: 0.7823\n",
      "Epoch 103/500\n",
      "160/160 [==============================] - 1s 5ms/step - loss: 0.7063 - mse: 0.7063 - val_loss: 0.7815 - val_mse: 0.7815\n",
      "Epoch 104/500\n",
      "160/160 [==============================] - 1s 5ms/step - loss: 0.7053 - mse: 0.7053 - val_loss: 0.7807 - val_mse: 0.7807\n",
      "Epoch 105/500\n",
      "160/160 [==============================] - 1s 5ms/step - loss: 0.7044 - mse: 0.7044 - val_loss: 0.7800 - val_mse: 0.7800\n",
      "Epoch 106/500\n",
      "160/160 [==============================] - 1s 5ms/step - loss: 0.7035 - mse: 0.7035 - val_loss: 0.7792 - val_mse: 0.7792\n",
      "Epoch 107/500\n",
      "160/160 [==============================] - 1s 5ms/step - loss: 0.7026 - mse: 0.7026 - val_loss: 0.7785 - val_mse: 0.7785\n",
      "Epoch 108/500\n",
      "160/160 [==============================] - 1s 5ms/step - loss: 0.7018 - mse: 0.7018 - val_loss: 0.7777 - val_mse: 0.7777\n",
      "Epoch 109/500\n",
      "160/160 [==============================] - 1s 5ms/step - loss: 0.7009 - mse: 0.7009 - val_loss: 0.7771 - val_mse: 0.7771\n",
      "Epoch 110/500\n",
      "160/160 [==============================] - 1s 5ms/step - loss: 0.7001 - mse: 0.7001 - val_loss: 0.7764 - val_mse: 0.7764\n",
      "Epoch 111/500\n",
      "160/160 [==============================] - 1s 5ms/step - loss: 0.6993 - mse: 0.6993 - val_loss: 0.7757 - val_mse: 0.7757\n",
      "Epoch 112/500\n",
      "160/160 [==============================] - 1s 5ms/step - loss: 0.6985 - mse: 0.6985 - val_loss: 0.7751 - val_mse: 0.7751\n",
      "Epoch 113/500\n",
      "160/160 [==============================] - 1s 5ms/step - loss: 0.6977 - mse: 0.6977 - val_loss: 0.7744 - val_mse: 0.7744\n",
      "Epoch 114/500\n",
      "160/160 [==============================] - 1s 5ms/step - loss: 0.6969 - mse: 0.6969 - val_loss: 0.7738 - val_mse: 0.7738\n",
      "Epoch 115/500\n",
      "160/160 [==============================] - 1s 6ms/step - loss: 0.6961 - mse: 0.6961 - val_loss: 0.7732 - val_mse: 0.7732\n",
      "Epoch 116/500\n",
      "160/160 [==============================] - 1s 5ms/step - loss: 0.6954 - mse: 0.6954 - val_loss: 0.7726 - val_mse: 0.7726\n",
      "Epoch 117/500\n",
      "160/160 [==============================] - 1s 5ms/step - loss: 0.6947 - mse: 0.6947 - val_loss: 0.7721 - val_mse: 0.7721\n",
      "Epoch 118/500\n",
      "160/160 [==============================] - 1s 5ms/step - loss: 0.6939 - mse: 0.6939 - val_loss: 0.7715 - val_mse: 0.7715\n",
      "Epoch 119/500\n",
      "160/160 [==============================] - 1s 5ms/step - loss: 0.6932 - mse: 0.6932 - val_loss: 0.7710 - val_mse: 0.7710\n",
      "Epoch 120/500\n",
      "160/160 [==============================] - 1s 5ms/step - loss: 0.6925 - mse: 0.6925 - val_loss: 0.7704 - val_mse: 0.7704\n",
      "Epoch 121/500\n",
      "160/160 [==============================] - 1s 5ms/step - loss: 0.6919 - mse: 0.6919 - val_loss: 0.7699 - val_mse: 0.7699\n",
      "Epoch 122/500\n",
      "160/160 [==============================] - 1s 5ms/step - loss: 0.6912 - mse: 0.6912 - val_loss: 0.7694 - val_mse: 0.7694\n",
      "Epoch 123/500\n",
      "160/160 [==============================] - 1s 5ms/step - loss: 0.6905 - mse: 0.6905 - val_loss: 0.7689 - val_mse: 0.7689\n",
      "Epoch 124/500\n",
      "160/160 [==============================] - 1s 5ms/step - loss: 0.6899 - mse: 0.6899 - val_loss: 0.7684 - val_mse: 0.7684\n",
      "Epoch 125/500\n",
      "160/160 [==============================] - 1s 6ms/step - loss: 0.6892 - mse: 0.6892 - val_loss: 0.7679 - val_mse: 0.7679\n",
      "Epoch 126/500\n",
      "160/160 [==============================] - 1s 5ms/step - loss: 0.6886 - mse: 0.6886 - val_loss: 0.7675 - val_mse: 0.7675\n",
      "Epoch 127/500\n",
      "160/160 [==============================] - 1s 5ms/step - loss: 0.6880 - mse: 0.6880 - val_loss: 0.7670 - val_mse: 0.7670\n",
      "Epoch 128/500\n",
      "160/160 [==============================] - 1s 5ms/step - loss: 0.6874 - mse: 0.6874 - val_loss: 0.7666 - val_mse: 0.7666\n",
      "Epoch 129/500\n",
      "160/160 [==============================] - 1s 5ms/step - loss: 0.6868 - mse: 0.6868 - val_loss: 0.7661 - val_mse: 0.7661\n",
      "Epoch 130/500\n",
      "160/160 [==============================] - 1s 5ms/step - loss: 0.6862 - mse: 0.6862 - val_loss: 0.7657 - val_mse: 0.7657\n",
      "Epoch 131/500\n",
      "160/160 [==============================] - 1s 5ms/step - loss: 0.6856 - mse: 0.6856 - val_loss: 0.7653 - val_mse: 0.7653\n",
      "Epoch 132/500\n",
      "160/160 [==============================] - 1s 5ms/step - loss: 0.6850 - mse: 0.6850 - val_loss: 0.7649 - val_mse: 0.7649\n",
      "Epoch 133/500\n",
      "160/160 [==============================] - 1s 5ms/step - loss: 0.6844 - mse: 0.6844 - val_loss: 0.7645 - val_mse: 0.7645\n",
      "Epoch 134/500\n",
      "160/160 [==============================] - 1s 5ms/step - loss: 0.6839 - mse: 0.6839 - val_loss: 0.7641 - val_mse: 0.7641\n",
      "Epoch 135/500\n",
      "160/160 [==============================] - 1s 5ms/step - loss: 0.6833 - mse: 0.6833 - val_loss: 0.7637 - val_mse: 0.7637\n",
      "Epoch 136/500\n",
      "160/160 [==============================] - 1s 5ms/step - loss: 0.6828 - mse: 0.6828 - val_loss: 0.7634 - val_mse: 0.7633\n",
      "Epoch 137/500\n",
      "160/160 [==============================] - 1s 5ms/step - loss: 0.6822 - mse: 0.6822 - val_loss: 0.7630 - val_mse: 0.7630\n",
      "Epoch 138/500\n",
      "160/160 [==============================] - 1s 5ms/step - loss: 0.6817 - mse: 0.6817 - val_loss: 0.7626 - val_mse: 0.7626\n",
      "Epoch 139/500\n",
      "160/160 [==============================] - 1s 5ms/step - loss: 0.6812 - mse: 0.6812 - val_loss: 0.7623 - val_mse: 0.7623\n",
      "Epoch 140/500\n",
      "160/160 [==============================] - 1s 5ms/step - loss: 0.6807 - mse: 0.6807 - val_loss: 0.7619 - val_mse: 0.7619\n",
      "Epoch 141/500\n",
      "160/160 [==============================] - 1s 5ms/step - loss: 0.6802 - mse: 0.6801 - val_loss: 0.7616 - val_mse: 0.7616\n",
      "Epoch 142/500\n",
      "160/160 [==============================] - 1s 5ms/step - loss: 0.6796 - mse: 0.6796 - val_loss: 0.7613 - val_mse: 0.7612\n",
      "Epoch 143/500\n",
      "160/160 [==============================] - 1s 5ms/step - loss: 0.6791 - mse: 0.6791 - val_loss: 0.7609 - val_mse: 0.7609\n",
      "Epoch 144/500\n",
      "160/160 [==============================] - 1s 5ms/step - loss: 0.6787 - mse: 0.6786 - val_loss: 0.7606 - val_mse: 0.7606\n",
      "Epoch 145/500\n",
      "160/160 [==============================] - 1s 5ms/step - loss: 0.6782 - mse: 0.6781 - val_loss: 0.7603 - val_mse: 0.7603\n",
      "Epoch 146/500\n",
      "160/160 [==============================] - 1s 5ms/step - loss: 0.6777 - mse: 0.6777 - val_loss: 0.7600 - val_mse: 0.7600\n",
      "Epoch 147/500\n",
      "160/160 [==============================] - 1s 5ms/step - loss: 0.6772 - mse: 0.6772 - val_loss: 0.7597 - val_mse: 0.7597\n",
      "Epoch 148/500\n",
      "160/160 [==============================] - 1s 5ms/step - loss: 0.6767 - mse: 0.6767 - val_loss: 0.7594 - val_mse: 0.7594\n",
      "Epoch 149/500\n",
      "160/160 [==============================] - 1s 8ms/step - loss: 0.6762 - mse: 0.6762 - val_loss: 0.7591 - val_mse: 0.7591\n",
      "Epoch 150/500\n",
      "160/160 [==============================] - 1s 6ms/step - loss: 0.6758 - mse: 0.6758 - val_loss: 0.7588 - val_mse: 0.7588\n",
      "Epoch 151/500\n",
      "160/160 [==============================] - 1s 5ms/step - loss: 0.6753 - mse: 0.6753 - val_loss: 0.7585 - val_mse: 0.7585\n",
      "Epoch 152/500\n",
      "160/160 [==============================] - 1s 5ms/step - loss: 0.6749 - mse: 0.6748 - val_loss: 0.7583 - val_mse: 0.7583\n",
      "Epoch 153/500\n",
      "160/160 [==============================] - 1s 5ms/step - loss: 0.6744 - mse: 0.6744 - val_loss: 0.7580 - val_mse: 0.7580\n",
      "Epoch 154/500\n",
      "160/160 [==============================] - 1s 5ms/step - loss: 0.6739 - mse: 0.6739 - val_loss: 0.7578 - val_mse: 0.7577\n",
      "Epoch 155/500\n",
      "160/160 [==============================] - 1s 5ms/step - loss: 0.6735 - mse: 0.6735 - val_loss: 0.7575 - val_mse: 0.7575\n",
      "Epoch 156/500\n",
      "160/160 [==============================] - 1s 5ms/step - loss: 0.6730 - mse: 0.6730 - val_loss: 0.7572 - val_mse: 0.7572\n",
      "Epoch 157/500\n",
      "160/160 [==============================] - 1s 5ms/step - loss: 0.6726 - mse: 0.6726 - val_loss: 0.7570 - val_mse: 0.7570\n",
      "Epoch 158/500\n",
      "160/160 [==============================] - 1s 5ms/step - loss: 0.6722 - mse: 0.6721 - val_loss: 0.7567 - val_mse: 0.7567\n",
      "Epoch 159/500\n",
      "160/160 [==============================] - 1s 5ms/step - loss: 0.6717 - mse: 0.6717 - val_loss: 0.7565 - val_mse: 0.7565\n",
      "Epoch 160/500\n",
      "160/160 [==============================] - 1s 5ms/step - loss: 0.6713 - mse: 0.6712 - val_loss: 0.7563 - val_mse: 0.7562\n",
      "Epoch 161/500\n",
      "160/160 [==============================] - 1s 5ms/step - loss: 0.6708 - mse: 0.6708 - val_loss: 0.7561 - val_mse: 0.7560\n",
      "Epoch 162/500\n",
      "160/160 [==============================] - 1s 6ms/step - loss: 0.6704 - mse: 0.6703 - val_loss: 0.7559 - val_mse: 0.7558\n",
      "Epoch 163/500\n",
      "160/160 [==============================] - 1s 5ms/step - loss: 0.6699 - mse: 0.6699 - val_loss: 0.7556 - val_mse: 0.7556\n",
      "Epoch 164/500\n",
      "160/160 [==============================] - 1s 5ms/step - loss: 0.6695 - mse: 0.6694 - val_loss: 0.7554 - val_mse: 0.7554\n",
      "Epoch 165/500\n",
      "160/160 [==============================] - 1s 5ms/step - loss: 0.6690 - mse: 0.6690 - val_loss: 0.7552 - val_mse: 0.7551\n",
      "Epoch 166/500\n",
      "160/160 [==============================] - 1s 5ms/step - loss: 0.6686 - mse: 0.6685 - val_loss: 0.7550 - val_mse: 0.7549\n",
      "Epoch 167/500\n",
      "160/160 [==============================] - 1s 5ms/step - loss: 0.6681 - mse: 0.6681 - val_loss: 0.7548 - val_mse: 0.7547\n",
      "Epoch 168/500\n",
      "160/160 [==============================] - 1s 5ms/step - loss: 0.6677 - mse: 0.6676 - val_loss: 0.7546 - val_mse: 0.7545\n",
      "Epoch 169/500\n",
      "160/160 [==============================] - 1s 5ms/step - loss: 0.6672 - mse: 0.6671 - val_loss: 0.7544 - val_mse: 0.7543\n",
      "Epoch 170/500\n",
      "160/160 [==============================] - 1s 5ms/step - loss: 0.6668 - mse: 0.6667 - val_loss: 0.7542 - val_mse: 0.7541\n",
      "Epoch 171/500\n",
      "160/160 [==============================] - 1s 5ms/step - loss: 0.6663 - mse: 0.6662 - val_loss: 0.7540 - val_mse: 0.7539\n",
      "Epoch 172/500\n",
      "160/160 [==============================] - 1s 5ms/step - loss: 0.6658 - mse: 0.6657 - val_loss: 0.7538 - val_mse: 0.7537\n",
      "Epoch 173/500\n",
      "160/160 [==============================] - 1s 5ms/step - loss: 0.6654 - mse: 0.6652 - val_loss: 0.7536 - val_mse: 0.7534\n",
      "Epoch 174/500\n",
      "160/160 [==============================] - 1s 5ms/step - loss: 0.6649 - mse: 0.6648 - val_loss: 0.7534 - val_mse: 0.7532\n",
      "Epoch 175/500\n",
      "160/160 [==============================] - 1s 5ms/step - loss: 0.6644 - mse: 0.6643 - val_loss: 0.7532 - val_mse: 0.7530\n",
      "Epoch 176/500\n",
      "160/160 [==============================] - 1s 5ms/step - loss: 0.6639 - mse: 0.6637 - val_loss: 0.7530 - val_mse: 0.7528\n",
      "Epoch 177/500\n",
      "160/160 [==============================] - 1s 5ms/step - loss: 0.6634 - mse: 0.6632 - val_loss: 0.7528 - val_mse: 0.7526\n",
      "Epoch 178/500\n",
      "160/160 [==============================] - 1s 5ms/step - loss: 0.6629 - mse: 0.6627 - val_loss: 0.7526 - val_mse: 0.7524\n",
      "Epoch 179/500\n",
      "160/160 [==============================] - 1s 5ms/step - loss: 0.6623 - mse: 0.6622 - val_loss: 0.7524 - val_mse: 0.7522\n",
      "Epoch 180/500\n",
      "160/160 [==============================] - 1s 7ms/step - loss: 0.6618 - mse: 0.6616 - val_loss: 0.7522 - val_mse: 0.7520\n",
      "Epoch 181/500\n",
      "160/160 [==============================] - 1s 5ms/step - loss: 0.6612 - mse: 0.6610 - val_loss: 0.7521 - val_mse: 0.7518\n",
      "Epoch 182/500\n",
      "160/160 [==============================] - 1s 5ms/step - loss: 0.6607 - mse: 0.6604 - val_loss: 0.7519 - val_mse: 0.7517\n",
      "Epoch 183/500\n",
      "160/160 [==============================] - 1s 6ms/step - loss: 0.6601 - mse: 0.6598 - val_loss: 0.7517 - val_mse: 0.7514\n",
      "Epoch 184/500\n",
      "160/160 [==============================] - 1s 5ms/step - loss: 0.6595 - mse: 0.6592 - val_loss: 0.7515 - val_mse: 0.7512\n",
      "Epoch 185/500\n",
      "160/160 [==============================] - 1s 5ms/step - loss: 0.6589 - mse: 0.6586 - val_loss: 0.7513 - val_mse: 0.7511\n",
      "Epoch 186/500\n",
      "160/160 [==============================] - 1s 5ms/step - loss: 0.6583 - mse: 0.6580 - val_loss: 0.7512 - val_mse: 0.7509\n",
      "Epoch 187/500\n",
      "160/160 [==============================] - 1s 5ms/step - loss: 0.6576 - mse: 0.6573 - val_loss: 0.7510 - val_mse: 0.7506\n",
      "Epoch 188/500\n",
      "160/160 [==============================] - 1s 5ms/step - loss: 0.6569 - mse: 0.6566 - val_loss: 0.7508 - val_mse: 0.7505\n",
      "Epoch 189/500\n",
      "160/160 [==============================] - 1s 5ms/step - loss: 0.6562 - mse: 0.6559 - val_loss: 0.7506 - val_mse: 0.7502\n",
      "Epoch 190/500\n",
      "160/160 [==============================] - 1s 5ms/step - loss: 0.6555 - mse: 0.6552 - val_loss: 0.7504 - val_mse: 0.7500\n",
      "Epoch 191/500\n",
      "160/160 [==============================] - 1s 5ms/step - loss: 0.6548 - mse: 0.6544 - val_loss: 0.7503 - val_mse: 0.7498\n",
      "Epoch 192/500\n",
      "160/160 [==============================] - 1s 5ms/step - loss: 0.6541 - mse: 0.6536 - val_loss: 0.7501 - val_mse: 0.7496\n",
      "Epoch 193/500\n",
      "160/160 [==============================] - 1s 5ms/step - loss: 0.6533 - mse: 0.6528 - val_loss: 0.7499 - val_mse: 0.7494\n",
      "Epoch 194/500\n",
      "160/160 [==============================] - 1s 5ms/step - loss: 0.6525 - mse: 0.6520 - val_loss: 0.7497 - val_mse: 0.7492\n",
      "Epoch 195/500\n",
      "160/160 [==============================] - 1s 5ms/step - loss: 0.6516 - mse: 0.6511 - val_loss: 0.7495 - val_mse: 0.7490\n",
      "Epoch 196/500\n",
      "160/160 [==============================] - 1s 5ms/step - loss: 0.6508 - mse: 0.6502 - val_loss: 0.7493 - val_mse: 0.7488\n",
      "Epoch 197/500\n",
      "160/160 [==============================] - 1s 5ms/step - loss: 0.6499 - mse: 0.6493 - val_loss: 0.7492 - val_mse: 0.7485\n",
      "Epoch 198/500\n",
      "160/160 [==============================] - 1s 5ms/step - loss: 0.6490 - mse: 0.6484 - val_loss: 0.7490 - val_mse: 0.7483\n",
      "Epoch 199/500\n",
      "160/160 [==============================] - 1s 5ms/step - loss: 0.6481 - mse: 0.6474 - val_loss: 0.7488 - val_mse: 0.7481\n",
      "Epoch 200/500\n",
      "160/160 [==============================] - 1s 5ms/step - loss: 0.6471 - mse: 0.6464 - val_loss: 0.7486 - val_mse: 0.7479\n",
      "Epoch 201/500\n",
      "160/160 [==============================] - 1s 5ms/step - loss: 0.6461 - mse: 0.6454 - val_loss: 0.7484 - val_mse: 0.7476\n",
      "Epoch 202/500\n",
      "160/160 [==============================] - 1s 5ms/step - loss: 0.6451 - mse: 0.6443 - val_loss: 0.7482 - val_mse: 0.7474\n",
      "Epoch 203/500\n",
      "160/160 [==============================] - 1s 5ms/step - loss: 0.6441 - mse: 0.6432 - val_loss: 0.7481 - val_mse: 0.7471\n",
      "Epoch 204/500\n",
      "160/160 [==============================] - 1s 5ms/step - loss: 0.6430 - mse: 0.6421 - val_loss: 0.7479 - val_mse: 0.7469\n",
      "Epoch 205/500\n",
      "160/160 [==============================] - 1s 5ms/step - loss: 0.6420 - mse: 0.6409 - val_loss: 0.7477 - val_mse: 0.7467\n",
      "Epoch 206/500\n",
      "160/160 [==============================] - 1s 5ms/step - loss: 0.6409 - mse: 0.6398 - val_loss: 0.7476 - val_mse: 0.7465\n",
      "Epoch 207/500\n",
      "160/160 [==============================] - 1s 5ms/step - loss: 0.6397 - mse: 0.6386 - val_loss: 0.7474 - val_mse: 0.7462\n",
      "Epoch 208/500\n",
      "160/160 [==============================] - 1s 5ms/step - loss: 0.6386 - mse: 0.6374 - val_loss: 0.7472 - val_mse: 0.7460\n",
      "Epoch 209/500\n",
      "160/160 [==============================] - 1s 5ms/step - loss: 0.6374 - mse: 0.6361 - val_loss: 0.7470 - val_mse: 0.7457\n",
      "Epoch 210/500\n",
      "160/160 [==============================] - 1s 5ms/step - loss: 0.6362 - mse: 0.6348 - val_loss: 0.7469 - val_mse: 0.7455\n",
      "Epoch 211/500\n",
      "160/160 [==============================] - 1s 5ms/step - loss: 0.6350 - mse: 0.6336 - val_loss: 0.7467 - val_mse: 0.7453\n",
      "Epoch 212/500\n",
      "160/160 [==============================] - 1s 5ms/step - loss: 0.6337 - mse: 0.6322 - val_loss: 0.7466 - val_mse: 0.7451\n",
      "Epoch 213/500\n",
      "160/160 [==============================] - 1s 5ms/step - loss: 0.6325 - mse: 0.6309 - val_loss: 0.7465 - val_mse: 0.7448\n",
      "Epoch 214/500\n",
      "160/160 [==============================] - 1s 5ms/step - loss: 0.6312 - mse: 0.6295 - val_loss: 0.7463 - val_mse: 0.7446\n",
      "Epoch 215/500\n",
      "160/160 [==============================] - 1s 5ms/step - loss: 0.6299 - mse: 0.6282 - val_loss: 0.7462 - val_mse: 0.7444\n",
      "Epoch 216/500\n",
      "160/160 [==============================] - 1s 5ms/step - loss: 0.6286 - mse: 0.6268 - val_loss: 0.7461 - val_mse: 0.7442\n",
      "Epoch 217/500\n",
      "160/160 [==============================] - 1s 5ms/step - loss: 0.6273 - mse: 0.6253 - val_loss: 0.7460 - val_mse: 0.7440\n",
      "Epoch 218/500\n",
      "160/160 [==============================] - 1s 5ms/step - loss: 0.6259 - mse: 0.6239 - val_loss: 0.7459 - val_mse: 0.7438\n",
      "Epoch 219/500\n",
      "160/160 [==============================] - 1s 5ms/step - loss: 0.6246 - mse: 0.6225 - val_loss: 0.7458 - val_mse: 0.7436\n",
      "Epoch 220/500\n",
      "160/160 [==============================] - 1s 5ms/step - loss: 0.6232 - mse: 0.6210 - val_loss: 0.7457 - val_mse: 0.7434\n",
      "Epoch 221/500\n",
      "160/160 [==============================] - 1s 5ms/step - loss: 0.6218 - mse: 0.6195 - val_loss: 0.7456 - val_mse: 0.7432\n",
      "Epoch 222/500\n",
      "160/160 [==============================] - 1s 6ms/step - loss: 0.6204 - mse: 0.6180 - val_loss: 0.7455 - val_mse: 0.7430\n",
      "Epoch 223/500\n",
      "160/160 [==============================] - 1s 5ms/step - loss: 0.6190 - mse: 0.6165 - val_loss: 0.7454 - val_mse: 0.7429\n",
      "Epoch 224/500\n",
      "160/160 [==============================] - 1s 5ms/step - loss: 0.6176 - mse: 0.6150 - val_loss: 0.7454 - val_mse: 0.7427\n",
      "Epoch 225/500\n",
      "160/160 [==============================] - 1s 5ms/step - loss: 0.6162 - mse: 0.6135 - val_loss: 0.7453 - val_mse: 0.7425\n",
      "Epoch 226/500\n",
      "160/160 [==============================] - 1s 5ms/step - loss: 0.6147 - mse: 0.6119 - val_loss: 0.7452 - val_mse: 0.7423\n",
      "Epoch 227/500\n",
      "160/160 [==============================] - 1s 5ms/step - loss: 0.6133 - mse: 0.6103 - val_loss: 0.7452 - val_mse: 0.7422\n",
      "Epoch 228/500\n",
      "160/160 [==============================] - 1s 5ms/step - loss: 0.6118 - mse: 0.6088 - val_loss: 0.7451 - val_mse: 0.7420\n",
      "Epoch 229/500\n",
      "160/160 [==============================] - 1s 5ms/step - loss: 0.6103 - mse: 0.6072 - val_loss: 0.7451 - val_mse: 0.7419\n",
      "Epoch 230/500\n",
      "160/160 [==============================] - 1s 5ms/step - loss: 0.6089 - mse: 0.6056 - val_loss: 0.7450 - val_mse: 0.7417\n",
      "Epoch 231/500\n",
      "160/160 [==============================] - 1s 5ms/step - loss: 0.6074 - mse: 0.6040 - val_loss: 0.7450 - val_mse: 0.7415\n",
      "Epoch 232/500\n",
      "160/160 [==============================] - 1s 5ms/step - loss: 0.6059 - mse: 0.6024 - val_loss: 0.7450 - val_mse: 0.7414\n",
      "Epoch 233/500\n",
      "160/160 [==============================] - 1s 5ms/step - loss: 0.6044 - mse: 0.6008 - val_loss: 0.7450 - val_mse: 0.7412\n",
      "Epoch 234/500\n",
      "160/160 [==============================] - 1s 5ms/step - loss: 0.6029 - mse: 0.5991 - val_loss: 0.7450 - val_mse: 0.7411\n",
      "Epoch 235/500\n",
      "160/160 [==============================] - 1s 5ms/step - loss: 0.6014 - mse: 0.5975 - val_loss: 0.7449 - val_mse: 0.7409\n",
      "Epoch 236/500\n",
      "160/160 [==============================] - 1s 5ms/step - loss: 0.5999 - mse: 0.5958 - val_loss: 0.7449 - val_mse: 0.7408\n",
      "Epoch 237/500\n",
      "160/160 [==============================] - 1s 5ms/step - loss: 0.5984 - mse: 0.5942 - val_loss: 0.7449 - val_mse: 0.7406\n",
      "Epoch 238/500\n",
      "160/160 [==============================] - 1s 5ms/step - loss: 0.5968 - mse: 0.5925 - val_loss: 0.7449 - val_mse: 0.7405\n",
      "Epoch 239/500\n",
      "160/160 [==============================] - 1s 5ms/step - loss: 0.5953 - mse: 0.5909 - val_loss: 0.7449 - val_mse: 0.7403\n",
      "Epoch 240/500\n",
      "160/160 [==============================] - 1s 5ms/step - loss: 0.5938 - mse: 0.5892 - val_loss: 0.7448 - val_mse: 0.7402\n",
      "Epoch 241/500\n",
      "160/160 [==============================] - 1s 5ms/step - loss: 0.5923 - mse: 0.5875 - val_loss: 0.7448 - val_mse: 0.7400\n",
      "Epoch 242/500\n",
      "160/160 [==============================] - 1s 5ms/step - loss: 0.5907 - mse: 0.5858 - val_loss: 0.7448 - val_mse: 0.7399\n",
      "Epoch 243/500\n",
      "160/160 [==============================] - 1s 5ms/step - loss: 0.5892 - mse: 0.5842 - val_loss: 0.7448 - val_mse: 0.7397\n",
      "Epoch 244/500\n",
      "160/160 [==============================] - 1s 5ms/step - loss: 0.5877 - mse: 0.5825 - val_loss: 0.7448 - val_mse: 0.7395\n",
      "Epoch 245/500\n",
      "160/160 [==============================] - 1s 5ms/step - loss: 0.5861 - mse: 0.5808 - val_loss: 0.7448 - val_mse: 0.7394\n",
      "Epoch 246/500\n",
      "160/160 [==============================] - 1s 5ms/step - loss: 0.5846 - mse: 0.5791 - val_loss: 0.7447 - val_mse: 0.7392\n",
      "Epoch 247/500\n",
      "160/160 [==============================] - 1s 5ms/step - loss: 0.5830 - mse: 0.5774 - val_loss: 0.7447 - val_mse: 0.7390\n",
      "Epoch 248/500\n",
      "160/160 [==============================] - 1s 5ms/step - loss: 0.5815 - mse: 0.5758 - val_loss: 0.7447 - val_mse: 0.7389\n",
      "Epoch 249/500\n",
      "160/160 [==============================] - 1s 5ms/step - loss: 0.5800 - mse: 0.5741 - val_loss: 0.7447 - val_mse: 0.7387\n",
      "Epoch 250/500\n",
      "160/160 [==============================] - 1s 5ms/step - loss: 0.5784 - mse: 0.5724 - val_loss: 0.7447 - val_mse: 0.7385\n",
      "Epoch 251/500\n",
      "160/160 [==============================] - 1s 5ms/step - loss: 0.5769 - mse: 0.5707 - val_loss: 0.7447 - val_mse: 0.7384\n",
      "Epoch 252/500\n",
      "160/160 [==============================] - 1s 5ms/step - loss: 0.5754 - mse: 0.5690 - val_loss: 0.7447 - val_mse: 0.7382\n",
      "Epoch 253/500\n",
      "160/160 [==============================] - 1s 5ms/step - loss: 0.5738 - mse: 0.5673 - val_loss: 0.7446 - val_mse: 0.7380\n",
      "Epoch 254/500\n",
      "160/160 [==============================] - 1s 5ms/step - loss: 0.5723 - mse: 0.5656 - val_loss: 0.7446 - val_mse: 0.7378\n",
      "Epoch 255/500\n",
      "160/160 [==============================] - 1s 5ms/step - loss: 0.5708 - mse: 0.5639 - val_loss: 0.7446 - val_mse: 0.7377\n",
      "Epoch 256/500\n",
      "160/160 [==============================] - 1s 5ms/step - loss: 0.5692 - mse: 0.5622 - val_loss: 0.7446 - val_mse: 0.7375\n",
      "Epoch 257/500\n",
      "160/160 [==============================] - 1s 5ms/step - loss: 0.5677 - mse: 0.5605 - val_loss: 0.7446 - val_mse: 0.7373\n",
      "Epoch 258/500\n",
      "160/160 [==============================] - 1s 5ms/step - loss: 0.5662 - mse: 0.5588 - val_loss: 0.7446 - val_mse: 0.7372\n",
      "Epoch 259/500\n",
      "160/160 [==============================] - 1s 5ms/step - loss: 0.5646 - mse: 0.5571 - val_loss: 0.7446 - val_mse: 0.7370\n",
      "Epoch 260/500\n",
      "160/160 [==============================] - 1s 5ms/step - loss: 0.5631 - mse: 0.5554 - val_loss: 0.7446 - val_mse: 0.7369\n",
      "Epoch 261/500\n",
      "160/160 [==============================] - 1s 6ms/step - loss: 0.5616 - mse: 0.5537 - val_loss: 0.7447 - val_mse: 0.7367\n",
      "Epoch 262/500\n",
      "160/160 [==============================] - 1s 5ms/step - loss: 0.5600 - mse: 0.5520 - val_loss: 0.7447 - val_mse: 0.7365\n",
      "Epoch 263/500\n",
      "160/160 [==============================] - 1s 5ms/step - loss: 0.5585 - mse: 0.5503 - val_loss: 0.7447 - val_mse: 0.7364\n",
      "Epoch 264/500\n",
      "160/160 [==============================] - 1s 5ms/step - loss: 0.5569 - mse: 0.5486 - val_loss: 0.7447 - val_mse: 0.7362\n",
      "Epoch 265/500\n",
      "160/160 [==============================] - 1s 5ms/step - loss: 0.5554 - mse: 0.5469 - val_loss: 0.7447 - val_mse: 0.7361\n",
      "Epoch 266/500\n",
      "160/160 [==============================] - 1s 5ms/step - loss: 0.5539 - mse: 0.5451 - val_loss: 0.7447 - val_mse: 0.7359\n",
      "Epoch 267/500\n",
      "160/160 [==============================] - 1s 5ms/step - loss: 0.5523 - mse: 0.5434 - val_loss: 0.7448 - val_mse: 0.7358\n",
      "Epoch 268/500\n",
      "160/160 [==============================] - 1s 5ms/step - loss: 0.5508 - mse: 0.5417 - val_loss: 0.7448 - val_mse: 0.7357\n",
      "Epoch 269/500\n",
      "160/160 [==============================] - 1s 5ms/step - loss: 0.5493 - mse: 0.5400 - val_loss: 0.7449 - val_mse: 0.7355\n",
      "Epoch 270/500\n",
      "160/160 [==============================] - 1s 5ms/step - loss: 0.5477 - mse: 0.5383 - val_loss: 0.7449 - val_mse: 0.7354\n",
      "Epoch 271/500\n",
      "160/160 [==============================] - 1s 5ms/step - loss: 0.5462 - mse: 0.5366 - val_loss: 0.7450 - val_mse: 0.7353\n",
      "Epoch 272/500\n",
      "160/160 [==============================] - 1s 5ms/step - loss: 0.5446 - mse: 0.5348 - val_loss: 0.7451 - val_mse: 0.7352\n",
      "Epoch 273/500\n",
      "160/160 [==============================] - 1s 6ms/step - loss: 0.5431 - mse: 0.5331 - val_loss: 0.7451 - val_mse: 0.7351\n",
      "Epoch 274/500\n",
      "160/160 [==============================] - 1s 5ms/step - loss: 0.5415 - mse: 0.5314 - val_loss: 0.7452 - val_mse: 0.7350\n",
      "Epoch 275/500\n",
      "160/160 [==============================] - 1s 5ms/step - loss: 0.5400 - mse: 0.5297 - val_loss: 0.7453 - val_mse: 0.7348\n",
      "Epoch 276/500\n",
      "160/160 [==============================] - 1s 6ms/step - loss: 0.5385 - mse: 0.5279 - val_loss: 0.7454 - val_mse: 0.7348\n",
      "Epoch 277/500\n",
      "160/160 [==============================] - 1s 5ms/step - loss: 0.5369 - mse: 0.5262 - val_loss: 0.7455 - val_mse: 0.7347\n",
      "Epoch 278/500\n",
      "160/160 [==============================] - 1s 5ms/step - loss: 0.5354 - mse: 0.5245 - val_loss: 0.7456 - val_mse: 0.7346\n",
      "Epoch 279/500\n",
      "160/160 [==============================] - 1s 5ms/step - loss: 0.5338 - mse: 0.5227 - val_loss: 0.7457 - val_mse: 0.7345\n",
      "Epoch 280/500\n",
      "160/160 [==============================] - 1s 5ms/step - loss: 0.5323 - mse: 0.5210 - val_loss: 0.7459 - val_mse: 0.7345\n",
      "Epoch 281/500\n",
      "160/160 [==============================] - 1s 5ms/step - loss: 0.5308 - mse: 0.5193 - val_loss: 0.7460 - val_mse: 0.7344\n",
      "Epoch 282/500\n",
      "160/160 [==============================] - 1s 5ms/step - loss: 0.5292 - mse: 0.5175 - val_loss: 0.7461 - val_mse: 0.7344\n",
      "Epoch 283/500\n",
      "160/160 [==============================] - 1s 5ms/step - loss: 0.5277 - mse: 0.5158 - val_loss: 0.7463 - val_mse: 0.7343\n",
      "Epoch 284/500\n",
      "160/160 [==============================] - 1s 5ms/step - loss: 0.5261 - mse: 0.5141 - val_loss: 0.7464 - val_mse: 0.7343\n",
      "Epoch 285/500\n",
      "160/160 [==============================] - 1s 5ms/step - loss: 0.5246 - mse: 0.5123 - val_loss: 0.7466 - val_mse: 0.7342\n",
      "Epoch 286/500\n",
      "160/160 [==============================] - 1s 5ms/step - loss: 0.5231 - mse: 0.5106 - val_loss: 0.7468 - val_mse: 0.7342\n",
      "Epoch 287/500\n",
      "160/160 [==============================] - 1s 5ms/step - loss: 0.5215 - mse: 0.5089 - val_loss: 0.7469 - val_mse: 0.7342\n",
      "Epoch 288/500\n",
      "160/160 [==============================] - 1s 5ms/step - loss: 0.5200 - mse: 0.5072 - val_loss: 0.7471 - val_mse: 0.7342\n",
      "Epoch 289/500\n",
      "160/160 [==============================] - 1s 5ms/step - loss: 0.5185 - mse: 0.5054 - val_loss: 0.7473 - val_mse: 0.7342\n",
      "Epoch 290/500\n",
      "160/160 [==============================] - 1s 5ms/step - loss: 0.5170 - mse: 0.5037 - val_loss: 0.7475 - val_mse: 0.7342\n",
      "Epoch 291/500\n",
      "160/160 [==============================] - 1s 5ms/step - loss: 0.5154 - mse: 0.5020 - val_loss: 0.7478 - val_mse: 0.7342\n",
      "Epoch 292/500\n",
      "160/160 [==============================] - 1s 5ms/step - loss: 0.5139 - mse: 0.5003 - val_loss: 0.7480 - val_mse: 0.7342\n",
      "Epoch 293/500\n",
      "160/160 [==============================] - 1s 5ms/step - loss: 0.5124 - mse: 0.4985 - val_loss: 0.7482 - val_mse: 0.7343\n",
      "Epoch 294/500\n",
      "160/160 [==============================] - 1s 5ms/step - loss: 0.5109 - mse: 0.4968 - val_loss: 0.7485 - val_mse: 0.7343\n",
      "Epoch 295/500\n",
      "160/160 [==============================] - 1s 5ms/step - loss: 0.5094 - mse: 0.4951 - val_loss: 0.7487 - val_mse: 0.7343\n",
      "Epoch 296/500\n",
      "160/160 [==============================] - 1s 5ms/step - loss: 0.5079 - mse: 0.4934 - val_loss: 0.7490 - val_mse: 0.7344\n"
     ]
    },
    {
     "data": {
      "text/plain": [
       "<keras.src.callbacks.History at 0x7685314c6fb0>"
      ]
     },
     "execution_count": 108,
     "metadata": {},
     "output_type": "execute_result"
    }
   ],
   "source": [
    "from keras.optimizers import Ftrl\n",
    "\n",
    "model_Ftrl = model_diff_opt(nb_users, nb_movies, k=15, lambda_=0.00002, optimizer = Ftrl(learning_rate=0.1))\n",
    "model_Ftrl.fit(X_train, y_train, epochs=500, batch_size=512, validation_split=0.1, callbacks=[early_stopping])"
   ]
  },
  {
   "cell_type": "code",
   "execution_count": 110,
   "metadata": {
    "tags": []
   },
   "outputs": [
    {
     "name": "stdout",
     "output_type": "stream",
     "text": [
      "316/316 [==============================] - 1s 2ms/step\n",
      " Test RMSE : 0.8640355686222309 \n"
     ]
    }
   ],
   "source": [
    "y_pred_Ftrl = model_Ftrl.predict(X_test)\n",
    "\n",
    "test_rmse_Ftrl = sqrt(mean_squared_error(y_test, y_pred_Ftrl))\n",
    "\n",
    "print(\" Test RMSE : %s \" % test_rmse_Ftrl)"
   ]
  },
  {
   "cell_type": "code",
   "execution_count": 115,
   "metadata": {
    "collapsed": true,
    "jupyter": {
     "outputs_hidden": true
    },
    "tags": []
   },
   "outputs": [
    {
     "name": "stdout",
     "output_type": "stream",
     "text": [
      "Epoch 1/500\n",
      "160/160 [==============================] - 9s 48ms/step - loss: 13.2520 - mse: 13.2499 - val_loss: 13.2287 - val_mse: 13.2268\n",
      "Epoch 2/500\n",
      "160/160 [==============================] - 2s 10ms/step - loss: 13.0135 - mse: 13.0115 - val_loss: 12.9955 - val_mse: 12.9932\n",
      "Epoch 3/500\n",
      "160/160 [==============================] - 2s 10ms/step - loss: 12.7545 - mse: 12.7516 - val_loss: 12.7342 - val_mse: 12.7306\n",
      "Epoch 4/500\n",
      "160/160 [==============================] - 1s 8ms/step - loss: 12.4627 - mse: 12.4582 - val_loss: 12.4354 - val_mse: 12.4297\n",
      "Epoch 5/500\n",
      "160/160 [==============================] - 1s 8ms/step - loss: 12.1328 - mse: 12.1257 - val_loss: 12.0966 - val_mse: 12.0879\n",
      "Epoch 6/500\n",
      "160/160 [==============================] - 1s 6ms/step - loss: 11.7634 - mse: 11.7528 - val_loss: 11.7180 - val_mse: 11.7053\n",
      "Epoch 7/500\n",
      "160/160 [==============================] - 1s 7ms/step - loss: 11.3552 - mse: 11.3401 - val_loss: 11.3017 - val_mse: 11.2841\n",
      "Epoch 8/500\n",
      "160/160 [==============================] - 1s 6ms/step - loss: 10.9106 - mse: 10.8900 - val_loss: 10.8499 - val_mse: 10.8262\n",
      "Epoch 9/500\n",
      "160/160 [==============================] - 1s 7ms/step - loss: 10.4311 - mse: 10.4040 - val_loss: 10.3660 - val_mse: 10.3353\n",
      "Epoch 10/500\n",
      "160/160 [==============================] - 1s 6ms/step - loss: 9.9213 - mse: 9.8866 - val_loss: 9.8533 - val_mse: 9.8145\n",
      "Epoch 11/500\n",
      "160/160 [==============================] - 1s 7ms/step - loss: 9.3842 - mse: 9.3409 - val_loss: 9.3158 - val_mse: 9.2678\n",
      "Epoch 12/500\n",
      "160/160 [==============================] - 1s 8ms/step - loss: 8.8240 - mse: 8.7710 - val_loss: 8.7571 - val_mse: 8.6989\n",
      "Epoch 13/500\n",
      "160/160 [==============================] - 1s 6ms/step - loss: 8.2445 - mse: 8.1808 - val_loss: 8.1828 - val_mse: 8.1132\n",
      "Epoch 14/500\n",
      "160/160 [==============================] - 1s 5ms/step - loss: 7.6522 - mse: 7.5766 - val_loss: 7.5973 - val_mse: 7.5155\n",
      "Epoch 15/500\n",
      "160/160 [==============================] - 1s 5ms/step - loss: 7.0509 - mse: 6.9625 - val_loss: 7.0060 - val_mse: 6.9109\n",
      "Epoch 16/500\n",
      "160/160 [==============================] - 1s 5ms/step - loss: 6.4463 - mse: 6.3443 - val_loss: 6.4152 - val_mse: 6.3059\n",
      "Epoch 17/500\n",
      "160/160 [==============================] - 1s 5ms/step - loss: 5.8452 - mse: 5.7286 - val_loss: 5.8291 - val_mse: 5.7047\n",
      "Epoch 18/500\n",
      "160/160 [==============================] - 1s 6ms/step - loss: 5.2528 - mse: 5.1208 - val_loss: 5.2554 - val_mse: 5.1153\n",
      "Epoch 19/500\n",
      "160/160 [==============================] - 1s 5ms/step - loss: 4.6760 - mse: 4.5280 - val_loss: 4.7006 - val_mse: 4.5441\n",
      "Epoch 20/500\n",
      "160/160 [==============================] - 1s 6ms/step - loss: 4.1226 - mse: 3.9580 - val_loss: 4.1703 - val_mse: 3.9970\n",
      "Epoch 21/500\n",
      "160/160 [==============================] - 1s 5ms/step - loss: 3.5965 - mse: 3.4148 - val_loss: 3.6738 - val_mse: 3.4834\n",
      "Epoch 22/500\n",
      "160/160 [==============================] - 1s 7ms/step - loss: 3.1084 - mse: 2.9096 - val_loss: 3.2147 - val_mse: 3.0071\n",
      "Epoch 23/500\n",
      "160/160 [==============================] - 1s 5ms/step - loss: 2.6622 - mse: 2.4463 - val_loss: 2.8013 - val_mse: 2.5768\n",
      "Epoch 24/500\n",
      "160/160 [==============================] - 1s 5ms/step - loss: 2.2658 - mse: 2.0333 - val_loss: 2.4419 - val_mse: 2.2011\n",
      "Epoch 25/500\n",
      "160/160 [==============================] - 1s 6ms/step - loss: 1.9257 - mse: 1.6775 - val_loss: 2.1394 - val_mse: 1.8835\n",
      "Epoch 26/500\n",
      "160/160 [==============================] - 1s 6ms/step - loss: 1.6443 - mse: 1.3819 - val_loss: 1.8975 - val_mse: 1.6284\n",
      "Epoch 27/500\n",
      "160/160 [==============================] - 1s 5ms/step - loss: 1.4219 - mse: 1.1474 - val_loss: 1.7161 - val_mse: 1.4363\n",
      "Epoch 28/500\n",
      "160/160 [==============================] - 1s 6ms/step - loss: 1.2570 - mse: 0.9733 - val_loss: 1.5867 - val_mse: 1.2993\n",
      "Epoch 29/500\n",
      "160/160 [==============================] - 1s 5ms/step - loss: 1.1429 - mse: 0.8532 - val_loss: 1.5029 - val_mse: 1.2111\n",
      "Epoch 30/500\n",
      "160/160 [==============================] - 1s 5ms/step - loss: 1.0673 - mse: 0.7749 - val_loss: 1.4515 - val_mse: 1.1587\n",
      "Epoch 31/500\n",
      "160/160 [==============================] - 1s 5ms/step - loss: 1.0207 - mse: 0.7287 - val_loss: 1.4194 - val_mse: 1.1282\n",
      "Epoch 32/500\n",
      "160/160 [==============================] - 1s 5ms/step - loss: 0.9918 - mse: 0.7026 - val_loss: 1.4021 - val_mse: 1.1148\n",
      "Epoch 33/500\n",
      "160/160 [==============================] - 1s 5ms/step - loss: 0.9729 - mse: 0.6879 - val_loss: 1.3855 - val_mse: 1.1027\n",
      "Epoch 34/500\n",
      "160/160 [==============================] - 1s 5ms/step - loss: 0.9580 - mse: 0.6779 - val_loss: 1.3730 - val_mse: 1.0953\n",
      "Epoch 35/500\n",
      "160/160 [==============================] - 1s 5ms/step - loss: 0.9454 - mse: 0.6704 - val_loss: 1.3597 - val_mse: 1.0873\n",
      "Epoch 36/500\n",
      "160/160 [==============================] - 1s 5ms/step - loss: 0.9332 - mse: 0.6636 - val_loss: 1.3480 - val_mse: 1.0810\n",
      "Epoch 37/500\n",
      "160/160 [==============================] - 1s 5ms/step - loss: 0.9221 - mse: 0.6579 - val_loss: 1.3378 - val_mse: 1.0762\n",
      "Epoch 38/500\n",
      "160/160 [==============================] - 1s 5ms/step - loss: 0.9114 - mse: 0.6527 - val_loss: 1.3278 - val_mse: 1.0718\n",
      "Epoch 39/500\n",
      "160/160 [==============================] - 1s 5ms/step - loss: 0.9014 - mse: 0.6482 - val_loss: 1.3174 - val_mse: 1.0668\n",
      "Epoch 40/500\n",
      "160/160 [==============================] - 1s 5ms/step - loss: 0.8918 - mse: 0.6439 - val_loss: 1.3089 - val_mse: 1.0635\n",
      "Epoch 41/500\n",
      "160/160 [==============================] - 1s 6ms/step - loss: 0.8828 - mse: 0.6400 - val_loss: 1.2999 - val_mse: 1.0594\n",
      "Epoch 42/500\n",
      "160/160 [==============================] - 1s 7ms/step - loss: 0.8737 - mse: 0.6359 - val_loss: 1.2926 - val_mse: 1.0571\n",
      "Epoch 43/500\n",
      "160/160 [==============================] - 1s 5ms/step - loss: 0.8651 - mse: 0.6319 - val_loss: 1.2848 - val_mse: 1.0537\n",
      "Epoch 44/500\n",
      "160/160 [==============================] - 1s 6ms/step - loss: 0.8565 - mse: 0.6277 - val_loss: 1.2761 - val_mse: 1.0493\n",
      "Epoch 45/500\n",
      "160/160 [==============================] - 1s 5ms/step - loss: 0.8482 - mse: 0.6236 - val_loss: 1.2690 - val_mse: 1.0464\n",
      "Epoch 46/500\n",
      "160/160 [==============================] - 1s 5ms/step - loss: 0.8399 - mse: 0.6193 - val_loss: 1.2630 - val_mse: 1.0442\n",
      "Epoch 47/500\n",
      "160/160 [==============================] - 1s 5ms/step - loss: 0.8319 - mse: 0.6151 - val_loss: 1.2551 - val_mse: 1.0399\n",
      "Epoch 48/500\n",
      "160/160 [==============================] - 1s 5ms/step - loss: 0.8238 - mse: 0.6106 - val_loss: 1.2493 - val_mse: 1.0377\n",
      "Epoch 49/500\n",
      "160/160 [==============================] - 1s 5ms/step - loss: 0.8158 - mse: 0.6058 - val_loss: 1.2438 - val_mse: 1.0353\n",
      "Epoch 50/500\n",
      "160/160 [==============================] - 1s 5ms/step - loss: 0.8078 - mse: 0.6010 - val_loss: 1.2386 - val_mse: 1.0333\n",
      "Epoch 51/500\n",
      "160/160 [==============================] - 1s 5ms/step - loss: 0.7998 - mse: 0.5960 - val_loss: 1.2328 - val_mse: 1.0303\n",
      "Epoch 52/500\n",
      "160/160 [==============================] - 1s 5ms/step - loss: 0.7914 - mse: 0.5904 - val_loss: 1.2268 - val_mse: 1.0269\n",
      "Epoch 53/500\n",
      "160/160 [==============================] - 1s 7ms/step - loss: 0.7832 - mse: 0.5847 - val_loss: 1.2222 - val_mse: 1.0248\n",
      "Epoch 54/500\n",
      "160/160 [==============================] - 1s 5ms/step - loss: 0.7750 - mse: 0.5787 - val_loss: 1.2166 - val_mse: 1.0215\n",
      "Epoch 55/500\n",
      "160/160 [==============================] - 1s 5ms/step - loss: 0.7667 - mse: 0.5728 - val_loss: 1.2123 - val_mse: 1.0194\n",
      "Epoch 56/500\n",
      "160/160 [==============================] - 1s 5ms/step - loss: 0.7584 - mse: 0.5666 - val_loss: 1.2083 - val_mse: 1.0175\n",
      "Epoch 57/500\n",
      "160/160 [==============================] - 1s 5ms/step - loss: 0.7496 - mse: 0.5598 - val_loss: 1.2044 - val_mse: 1.0153\n",
      "Epoch 58/500\n",
      "160/160 [==============================] - 1s 6ms/step - loss: 0.7412 - mse: 0.5531 - val_loss: 1.1995 - val_mse: 1.0122\n",
      "Epoch 59/500\n",
      "160/160 [==============================] - 1s 5ms/step - loss: 0.7326 - mse: 0.5462 - val_loss: 1.1956 - val_mse: 1.0099\n",
      "Epoch 60/500\n",
      "160/160 [==============================] - 1s 5ms/step - loss: 0.7237 - mse: 0.5388 - val_loss: 1.1930 - val_mse: 1.0087\n",
      "Epoch 61/500\n",
      "160/160 [==============================] - 1s 5ms/step - loss: 0.7149 - mse: 0.5314 - val_loss: 1.1900 - val_mse: 1.0070\n",
      "Epoch 62/500\n",
      "160/160 [==============================] - 1s 5ms/step - loss: 0.7061 - mse: 0.5238 - val_loss: 1.1864 - val_mse: 1.0047\n",
      "Epoch 63/500\n",
      "160/160 [==============================] - 1s 5ms/step - loss: 0.6971 - mse: 0.5161 - val_loss: 1.1825 - val_mse: 1.0019\n",
      "Epoch 64/500\n",
      "160/160 [==============================] - 1s 5ms/step - loss: 0.6881 - mse: 0.5082 - val_loss: 1.1802 - val_mse: 1.0008\n",
      "Epoch 65/500\n",
      "160/160 [==============================] - 1s 5ms/step - loss: 0.6793 - mse: 0.5003 - val_loss: 1.1780 - val_mse: 0.9994\n",
      "Epoch 66/500\n",
      "160/160 [==============================] - 1s 5ms/step - loss: 0.6702 - mse: 0.4922 - val_loss: 1.1752 - val_mse: 0.9976\n",
      "Epoch 67/500\n",
      "160/160 [==============================] - 1s 5ms/step - loss: 0.6611 - mse: 0.4839 - val_loss: 1.1735 - val_mse: 0.9965\n",
      "Epoch 68/500\n",
      "160/160 [==============================] - 1s 6ms/step - loss: 0.6520 - mse: 0.4756 - val_loss: 1.1706 - val_mse: 0.9944\n",
      "Epoch 69/500\n",
      "160/160 [==============================] - 1s 5ms/step - loss: 0.6432 - mse: 0.4674 - val_loss: 1.1698 - val_mse: 0.9943\n",
      "Epoch 70/500\n",
      "160/160 [==============================] - 1s 5ms/step - loss: 0.6344 - mse: 0.4592 - val_loss: 1.1686 - val_mse: 0.9937\n",
      "Epoch 71/500\n",
      "160/160 [==============================] - 1s 5ms/step - loss: 0.6254 - mse: 0.4508 - val_loss: 1.1655 - val_mse: 0.9911\n",
      "Epoch 72/500\n",
      "160/160 [==============================] - 1s 5ms/step - loss: 0.6168 - mse: 0.4427 - val_loss: 1.1645 - val_mse: 0.9907\n",
      "Epoch 73/500\n",
      "160/160 [==============================] - 1s 5ms/step - loss: 0.6079 - mse: 0.4344 - val_loss: 1.1634 - val_mse: 0.9900\n",
      "Epoch 74/500\n",
      "160/160 [==============================] - 1s 5ms/step - loss: 0.5997 - mse: 0.4265 - val_loss: 1.1628 - val_mse: 0.9897\n",
      "Epoch 75/500\n",
      "160/160 [==============================] - 1s 5ms/step - loss: 0.5913 - mse: 0.4185 - val_loss: 1.1616 - val_mse: 0.9890\n",
      "Epoch 76/500\n",
      "160/160 [==============================] - 1s 5ms/step - loss: 0.5832 - mse: 0.4109 - val_loss: 1.1606 - val_mse: 0.9883\n",
      "Epoch 77/500\n",
      "160/160 [==============================] - 1s 5ms/step - loss: 0.5751 - mse: 0.4032 - val_loss: 1.1606 - val_mse: 0.9887\n",
      "Epoch 78/500\n",
      "160/160 [==============================] - 1s 5ms/step - loss: 0.5673 - mse: 0.3957 - val_loss: 1.1593 - val_mse: 0.9877\n",
      "Epoch 79/500\n",
      "160/160 [==============================] - 1s 5ms/step - loss: 0.5598 - mse: 0.3884 - val_loss: 1.1611 - val_mse: 0.9898\n",
      "Epoch 80/500\n",
      "160/160 [==============================] - 1s 6ms/step - loss: 0.5524 - mse: 0.3813 - val_loss: 1.1602 - val_mse: 0.9893\n",
      "Epoch 81/500\n",
      "160/160 [==============================] - 1s 5ms/step - loss: 0.5452 - mse: 0.3745 - val_loss: 1.1599 - val_mse: 0.9893\n",
      "Epoch 82/500\n",
      "160/160 [==============================] - 1s 5ms/step - loss: 0.5379 - mse: 0.3675 - val_loss: 1.1583 - val_mse: 0.9880\n",
      "Epoch 83/500\n",
      "160/160 [==============================] - 1s 5ms/step - loss: 0.5312 - mse: 0.3611 - val_loss: 1.1594 - val_mse: 0.9894\n",
      "Epoch 84/500\n",
      "160/160 [==============================] - 1s 5ms/step - loss: 0.5245 - mse: 0.3547 - val_loss: 1.1612 - val_mse: 0.9915\n",
      "Epoch 85/500\n",
      "160/160 [==============================] - 1s 5ms/step - loss: 0.5182 - mse: 0.3487 - val_loss: 1.1600 - val_mse: 0.9905\n"
     ]
    },
    {
     "data": {
      "text/plain": [
       "<keras.src.callbacks.History at 0x7684c618fca0>"
      ]
     },
     "execution_count": 115,
     "metadata": {},
     "output_type": "execute_result"
    }
   ],
   "source": [
    "from keras.optimizers import Lion\n",
    "\n",
    "model_Lion = model_diff_opt(nb_users, nb_movies, k=15, lambda_=0.00002, optimizer = Lion(learning_rate=0.0001))\n",
    "model_Lion.fit(X_train, y_train, epochs=500, batch_size=512, validation_split=0.1, callbacks=[early_stopping])"
   ]
  },
  {
   "cell_type": "code",
   "execution_count": 116,
   "metadata": {
    "tags": []
   },
   "outputs": [
    {
     "name": "stdout",
     "output_type": "stream",
     "text": [
      "316/316 [==============================] - 1s 2ms/step\n",
      " Test RMSE : 0.9961272848051129 \n"
     ]
    }
   ],
   "source": [
    "y_pred_Lion = model_Lion.predict(X_test)\n",
    "\n",
    "test_rmse_Lion = sqrt(mean_squared_error(y_test, y_pred_Lion))\n",
    "\n",
    "print(\" Test RMSE : %s \" % test_rmse_Lion)"
   ]
  },
  {
   "cell_type": "markdown",
   "metadata": {
    "tags": []
   },
   "source": [
    "## Add the global bias $\\mu$  parameter to the model"
   ]
  },
  {
   "cell_type": "code",
   "execution_count": 140,
   "metadata": {
    "tags": []
   },
   "outputs": [
    {
     "data": {
      "text/plain": [
       "3.501556983616962"
      ]
     },
     "execution_count": 140,
     "metadata": {},
     "output_type": "execute_result"
    }
   ],
   "source": [
    "global_bias = dataset.rating.sum()/len(dataset)\n",
    "global_bias"
   ]
  },
  {
   "cell_type": "code",
   "execution_count": 145,
   "metadata": {
    "tags": []
   },
   "outputs": [],
   "source": [
    "from keras import backend as K\n",
    "from keras.layers import Lambda\n",
    "\n",
    "def model_diff_opt_global_bias(nb_users, nb_movies, k, lambda_, optimizer, global_bias):\n",
    "    \n",
    "    dim_embedddings = k\n",
    "    \n",
    "    # User embeddings\n",
    "    u = Input(shape=(1,), dtype='int32', name = 'u__user_id')\n",
    "    p_u = Embedding(nb_users, dim_embedddings, name=\"p_u__user_embedding\",\n",
    "                   embeddings_regularizer=l2(lambda_))(u)\n",
    "    p_u = Reshape((dim_embedddings,), name=\"p_u__user_embedding_reshaped\")(p_u)\n",
    "    \n",
    "    # Movie embeddings\n",
    "    i = Input(shape=(1,), dtype='int32', name = 'i__movie_id')\n",
    "    q_i = Embedding(nb_movies, dim_embedddings, name=\"q_i__movie_embedding\",\n",
    "                   embeddings_regularizer=l2(lambda_))(i)\n",
    "    q_i = Reshape((dim_embedddings,), name=\"q_i__movie_embedding_reshaped\")(q_i)\n",
    "    \n",
    "    # Dot product\n",
    "    d = Dot(axes = 1)([p_u, q_i])\n",
    "\n",
    "    \n",
    "    b_u = Embedding(nb_users, 1, name='b_u__user_bias')(u)\n",
    "    b_u = Reshape((1,))(b_u)\n",
    "    b_i = Embedding(nb_movies, 1, name='b_i__movie_bias')(i)\n",
    "    b_i = Reshape((1,))(b_i)\n",
    "    \n",
    "    global_bias = K.constant(global_bias, name='global_bias')\n",
    "    global_bias = Reshape((1,))(K.expand_dims(global_bias, axis=0))\n",
    "    \n",
    "    r_hat = Add()([d, b_u, b_i])\n",
    "    r_hat = Add()([r_hat, global_bias])\n",
    "    \n",
    "    model = Model(inputs=[u, i], outputs=r_hat)\n",
    "    model.compile(loss='mse', optimizer=optimizer, metrics=[\"mse\"])\n",
    "\n",
    "\n",
    "\n",
    "    \n",
    "    return model"
   ]
  },
  {
   "cell_type": "markdown",
   "metadata": {},
   "source": [
    "Remember we didn't added the global bias $\\mu$ to our model yet (Equations (4-5) from Koren's paper). Use your best google skills to find a way to add an embedding layer that does that.\n",
    "\n",
    "Hint : Use a constant `Input` layer."
   ]
  },
  {
   "cell_type": "code",
   "execution_count": 146,
   "metadata": {
    "collapsed": true,
    "jupyter": {
     "outputs_hidden": true
    },
    "tags": []
   },
   "outputs": [
    {
     "name": "stdout",
     "output_type": "stream",
     "text": [
      "Epoch 1/500\n",
      "160/160 [==============================] - 10s 57ms/step - loss: 1.0105 - mse: 1.0105 - val_loss: 0.9554 - val_mse: 0.9554\n",
      "Epoch 2/500\n",
      "160/160 [==============================] - 2s 12ms/step - loss: 0.9331 - mse: 0.9331 - val_loss: 0.9100 - val_mse: 0.9100\n",
      "Epoch 3/500\n",
      "160/160 [==============================] - 2s 14ms/step - loss: 0.8944 - mse: 0.8944 - val_loss: 0.8827 - val_mse: 0.8827\n",
      "Epoch 4/500\n",
      "160/160 [==============================] - 1s 7ms/step - loss: 0.8693 - mse: 0.8693 - val_loss: 0.8642 - val_mse: 0.8642\n",
      "Epoch 5/500\n",
      "160/160 [==============================] - 2s 11ms/step - loss: 0.8512 - mse: 0.8512 - val_loss: 0.8505 - val_mse: 0.8505\n",
      "Epoch 6/500\n",
      "160/160 [==============================] - 1s 8ms/step - loss: 0.8372 - mse: 0.8372 - val_loss: 0.8397 - val_mse: 0.8397\n",
      "Epoch 7/500\n",
      "160/160 [==============================] - 1s 8ms/step - loss: 0.8259 - mse: 0.8259 - val_loss: 0.8310 - val_mse: 0.8310\n",
      "Epoch 8/500\n",
      "160/160 [==============================] - 1s 5ms/step - loss: 0.8166 - mse: 0.8166 - val_loss: 0.8237 - val_mse: 0.8237\n",
      "Epoch 9/500\n",
      "160/160 [==============================] - 1s 7ms/step - loss: 0.8086 - mse: 0.8086 - val_loss: 0.8175 - val_mse: 0.8175\n",
      "Epoch 10/500\n",
      "160/160 [==============================] - 1s 6ms/step - loss: 0.8016 - mse: 0.8016 - val_loss: 0.8122 - val_mse: 0.8122\n",
      "Epoch 11/500\n",
      "160/160 [==============================] - 1s 6ms/step - loss: 0.7954 - mse: 0.7954 - val_loss: 0.8076 - val_mse: 0.8076\n",
      "Epoch 12/500\n",
      "160/160 [==============================] - 1s 7ms/step - loss: 0.7899 - mse: 0.7899 - val_loss: 0.8034 - val_mse: 0.8034\n",
      "Epoch 13/500\n",
      "160/160 [==============================] - 1s 6ms/step - loss: 0.7849 - mse: 0.7849 - val_loss: 0.7998 - val_mse: 0.7998\n",
      "Epoch 14/500\n",
      "160/160 [==============================] - 1s 7ms/step - loss: 0.7803 - mse: 0.7803 - val_loss: 0.7965 - val_mse: 0.7965\n",
      "Epoch 15/500\n",
      "160/160 [==============================] - 1s 6ms/step - loss: 0.7761 - mse: 0.7761 - val_loss: 0.7936 - val_mse: 0.7936\n",
      "Epoch 16/500\n",
      "160/160 [==============================] - 1s 5ms/step - loss: 0.7722 - mse: 0.7722 - val_loss: 0.7908 - val_mse: 0.7908\n",
      "Epoch 17/500\n",
      "160/160 [==============================] - 1s 5ms/step - loss: 0.7686 - mse: 0.7686 - val_loss: 0.7882 - val_mse: 0.7882\n",
      "Epoch 18/500\n",
      "160/160 [==============================] - 1s 6ms/step - loss: 0.7652 - mse: 0.7652 - val_loss: 0.7859 - val_mse: 0.7859\n",
      "Epoch 19/500\n",
      "160/160 [==============================] - 1s 6ms/step - loss: 0.7621 - mse: 0.7621 - val_loss: 0.7838 - val_mse: 0.7838\n",
      "Epoch 20/500\n",
      "160/160 [==============================] - 1s 5ms/step - loss: 0.7591 - mse: 0.7591 - val_loss: 0.7818 - val_mse: 0.7818\n",
      "Epoch 21/500\n",
      "160/160 [==============================] - 1s 5ms/step - loss: 0.7563 - mse: 0.7563 - val_loss: 0.7799 - val_mse: 0.7799\n",
      "Epoch 22/500\n",
      "160/160 [==============================] - 1s 6ms/step - loss: 0.7537 - mse: 0.7537 - val_loss: 0.7782 - val_mse: 0.7782\n",
      "Epoch 23/500\n",
      "160/160 [==============================] - 1s 5ms/step - loss: 0.7511 - mse: 0.7511 - val_loss: 0.7765 - val_mse: 0.7765\n",
      "Epoch 24/500\n",
      "160/160 [==============================] - 1s 6ms/step - loss: 0.7487 - mse: 0.7487 - val_loss: 0.7750 - val_mse: 0.7750\n",
      "Epoch 25/500\n",
      "160/160 [==============================] - 1s 6ms/step - loss: 0.7465 - mse: 0.7465 - val_loss: 0.7736 - val_mse: 0.7736\n",
      "Epoch 26/500\n",
      "160/160 [==============================] - 1s 6ms/step - loss: 0.7443 - mse: 0.7443 - val_loss: 0.7722 - val_mse: 0.7722\n",
      "Epoch 27/500\n",
      "160/160 [==============================] - 1s 6ms/step - loss: 0.7422 - mse: 0.7422 - val_loss: 0.7709 - val_mse: 0.7709\n",
      "Epoch 28/500\n",
      "160/160 [==============================] - 1s 6ms/step - loss: 0.7402 - mse: 0.7402 - val_loss: 0.7696 - val_mse: 0.7696\n",
      "Epoch 29/500\n",
      "160/160 [==============================] - 1s 6ms/step - loss: 0.7383 - mse: 0.7383 - val_loss: 0.7684 - val_mse: 0.7684\n",
      "Epoch 30/500\n",
      "160/160 [==============================] - 1s 5ms/step - loss: 0.7364 - mse: 0.7364 - val_loss: 0.7674 - val_mse: 0.7674\n",
      "Epoch 31/500\n",
      "160/160 [==============================] - 1s 6ms/step - loss: 0.7347 - mse: 0.7347 - val_loss: 0.7663 - val_mse: 0.7663\n",
      "Epoch 32/500\n",
      "160/160 [==============================] - 1s 6ms/step - loss: 0.7330 - mse: 0.7330 - val_loss: 0.7653 - val_mse: 0.7653\n",
      "Epoch 33/500\n",
      "160/160 [==============================] - 1s 5ms/step - loss: 0.7313 - mse: 0.7313 - val_loss: 0.7644 - val_mse: 0.7644\n",
      "Epoch 34/500\n",
      "160/160 [==============================] - 1s 6ms/step - loss: 0.7297 - mse: 0.7297 - val_loss: 0.7635 - val_mse: 0.7635\n",
      "Epoch 35/500\n",
      "160/160 [==============================] - 1s 5ms/step - loss: 0.7282 - mse: 0.7282 - val_loss: 0.7626 - val_mse: 0.7626\n",
      "Epoch 36/500\n",
      "160/160 [==============================] - 1s 5ms/step - loss: 0.7267 - mse: 0.7267 - val_loss: 0.7618 - val_mse: 0.7618\n",
      "Epoch 37/500\n",
      "160/160 [==============================] - 1s 5ms/step - loss: 0.7253 - mse: 0.7253 - val_loss: 0.7611 - val_mse: 0.7611\n",
      "Epoch 38/500\n",
      "160/160 [==============================] - 1s 6ms/step - loss: 0.7239 - mse: 0.7239 - val_loss: 0.7603 - val_mse: 0.7603\n",
      "Epoch 39/500\n",
      "160/160 [==============================] - 1s 5ms/step - loss: 0.7226 - mse: 0.7226 - val_loss: 0.7595 - val_mse: 0.7595\n",
      "Epoch 40/500\n",
      "160/160 [==============================] - 1s 5ms/step - loss: 0.7213 - mse: 0.7213 - val_loss: 0.7588 - val_mse: 0.7588\n",
      "Epoch 41/500\n",
      "160/160 [==============================] - 1s 5ms/step - loss: 0.7200 - mse: 0.7200 - val_loss: 0.7582 - val_mse: 0.7582\n",
      "Epoch 42/500\n",
      "160/160 [==============================] - 1s 5ms/step - loss: 0.7187 - mse: 0.7187 - val_loss: 0.7576 - val_mse: 0.7576\n",
      "Epoch 43/500\n",
      "160/160 [==============================] - 1s 5ms/step - loss: 0.7175 - mse: 0.7175 - val_loss: 0.7569 - val_mse: 0.7569\n",
      "Epoch 44/500\n",
      "160/160 [==============================] - 1s 5ms/step - loss: 0.7164 - mse: 0.7164 - val_loss: 0.7563 - val_mse: 0.7563\n",
      "Epoch 45/500\n",
      "160/160 [==============================] - 1s 5ms/step - loss: 0.7152 - mse: 0.7152 - val_loss: 0.7558 - val_mse: 0.7558\n",
      "Epoch 46/500\n",
      "160/160 [==============================] - 1s 5ms/step - loss: 0.7141 - mse: 0.7141 - val_loss: 0.7552 - val_mse: 0.7552\n",
      "Epoch 47/500\n",
      "160/160 [==============================] - 1s 5ms/step - loss: 0.7131 - mse: 0.7131 - val_loss: 0.7546 - val_mse: 0.7546\n",
      "Epoch 48/500\n",
      "160/160 [==============================] - 1s 5ms/step - loss: 0.7120 - mse: 0.7120 - val_loss: 0.7541 - val_mse: 0.7541\n",
      "Epoch 49/500\n",
      "160/160 [==============================] - 1s 5ms/step - loss: 0.7110 - mse: 0.7110 - val_loss: 0.7536 - val_mse: 0.7536\n",
      "Epoch 50/500\n",
      "160/160 [==============================] - 1s 5ms/step - loss: 0.7100 - mse: 0.7100 - val_loss: 0.7532 - val_mse: 0.7532\n",
      "Epoch 51/500\n",
      "160/160 [==============================] - 1s 5ms/step - loss: 0.7090 - mse: 0.7090 - val_loss: 0.7527 - val_mse: 0.7527\n",
      "Epoch 52/500\n",
      "160/160 [==============================] - 1s 5ms/step - loss: 0.7081 - mse: 0.7081 - val_loss: 0.7522 - val_mse: 0.7522\n",
      "Epoch 53/500\n",
      "160/160 [==============================] - 1s 5ms/step - loss: 0.7071 - mse: 0.7071 - val_loss: 0.7518 - val_mse: 0.7518\n",
      "Epoch 54/500\n",
      "160/160 [==============================] - 1s 5ms/step - loss: 0.7062 - mse: 0.7062 - val_loss: 0.7513 - val_mse: 0.7513\n",
      "Epoch 55/500\n",
      "160/160 [==============================] - 1s 6ms/step - loss: 0.7053 - mse: 0.7053 - val_loss: 0.7509 - val_mse: 0.7509\n",
      "Epoch 56/500\n",
      "160/160 [==============================] - 1s 5ms/step - loss: 0.7044 - mse: 0.7044 - val_loss: 0.7505 - val_mse: 0.7505\n",
      "Epoch 57/500\n",
      "160/160 [==============================] - 1s 5ms/step - loss: 0.7036 - mse: 0.7036 - val_loss: 0.7502 - val_mse: 0.7502\n",
      "Epoch 58/500\n",
      "160/160 [==============================] - 1s 4ms/step - loss: 0.7028 - mse: 0.7028 - val_loss: 0.7498 - val_mse: 0.7498\n",
      "Epoch 59/500\n",
      "160/160 [==============================] - 1s 6ms/step - loss: 0.7019 - mse: 0.7019 - val_loss: 0.7494 - val_mse: 0.7494\n",
      "Epoch 60/500\n",
      "160/160 [==============================] - 1s 5ms/step - loss: 0.7011 - mse: 0.7011 - val_loss: 0.7491 - val_mse: 0.7491\n",
      "Epoch 61/500\n",
      "160/160 [==============================] - 1s 5ms/step - loss: 0.7003 - mse: 0.7003 - val_loss: 0.7487 - val_mse: 0.7487\n",
      "Epoch 62/500\n",
      "160/160 [==============================] - 1s 5ms/step - loss: 0.6996 - mse: 0.6996 - val_loss: 0.7484 - val_mse: 0.7484\n",
      "Epoch 63/500\n",
      "160/160 [==============================] - 1s 4ms/step - loss: 0.6988 - mse: 0.6988 - val_loss: 0.7481 - val_mse: 0.7481\n",
      "Epoch 64/500\n",
      "160/160 [==============================] - 1s 5ms/step - loss: 0.6981 - mse: 0.6981 - val_loss: 0.7478 - val_mse: 0.7478\n",
      "Epoch 65/500\n",
      "160/160 [==============================] - 1s 6ms/step - loss: 0.6973 - mse: 0.6973 - val_loss: 0.7475 - val_mse: 0.7475\n",
      "Epoch 66/500\n",
      "160/160 [==============================] - 1s 5ms/step - loss: 0.6966 - mse: 0.6966 - val_loss: 0.7472 - val_mse: 0.7472\n",
      "Epoch 67/500\n",
      "160/160 [==============================] - 1s 5ms/step - loss: 0.6959 - mse: 0.6959 - val_loss: 0.7469 - val_mse: 0.7469\n",
      "Epoch 68/500\n",
      "160/160 [==============================] - 1s 4ms/step - loss: 0.6952 - mse: 0.6952 - val_loss: 0.7467 - val_mse: 0.7467\n",
      "Epoch 69/500\n",
      "160/160 [==============================] - 1s 5ms/step - loss: 0.6946 - mse: 0.6946 - val_loss: 0.7463 - val_mse: 0.7463\n",
      "Epoch 70/500\n",
      "160/160 [==============================] - 1s 4ms/step - loss: 0.6939 - mse: 0.6939 - val_loss: 0.7461 - val_mse: 0.7461\n",
      "Epoch 71/500\n",
      "160/160 [==============================] - 1s 5ms/step - loss: 0.6932 - mse: 0.6932 - val_loss: 0.7458 - val_mse: 0.7458\n",
      "Epoch 72/500\n",
      "160/160 [==============================] - 1s 5ms/step - loss: 0.6926 - mse: 0.6926 - val_loss: 0.7455 - val_mse: 0.7455\n",
      "Epoch 73/500\n",
      "160/160 [==============================] - 1s 5ms/step - loss: 0.6920 - mse: 0.6920 - val_loss: 0.7453 - val_mse: 0.7453\n",
      "Epoch 74/500\n",
      "160/160 [==============================] - 1s 6ms/step - loss: 0.6913 - mse: 0.6913 - val_loss: 0.7450 - val_mse: 0.7450\n",
      "Epoch 75/500\n",
      "160/160 [==============================] - 1s 5ms/step - loss: 0.6907 - mse: 0.6907 - val_loss: 0.7448 - val_mse: 0.7448\n",
      "Epoch 76/500\n",
      "160/160 [==============================] - 1s 6ms/step - loss: 0.6901 - mse: 0.6901 - val_loss: 0.7446 - val_mse: 0.7446\n",
      "Epoch 77/500\n",
      "160/160 [==============================] - 1s 5ms/step - loss: 0.6895 - mse: 0.6895 - val_loss: 0.7444 - val_mse: 0.7444\n",
      "Epoch 78/500\n",
      "160/160 [==============================] - 1s 5ms/step - loss: 0.6890 - mse: 0.6890 - val_loss: 0.7442 - val_mse: 0.7442\n",
      "Epoch 79/500\n",
      "160/160 [==============================] - 1s 4ms/step - loss: 0.6884 - mse: 0.6884 - val_loss: 0.7440 - val_mse: 0.7440\n",
      "Epoch 80/500\n",
      "160/160 [==============================] - 1s 4ms/step - loss: 0.6878 - mse: 0.6878 - val_loss: 0.7438 - val_mse: 0.7438\n",
      "Epoch 81/500\n",
      "160/160 [==============================] - 1s 4ms/step - loss: 0.6873 - mse: 0.6873 - val_loss: 0.7436 - val_mse: 0.7436\n",
      "Epoch 82/500\n",
      "160/160 [==============================] - 1s 5ms/step - loss: 0.6867 - mse: 0.6867 - val_loss: 0.7434 - val_mse: 0.7434\n",
      "Epoch 83/500\n",
      "160/160 [==============================] - 1s 5ms/step - loss: 0.6862 - mse: 0.6862 - val_loss: 0.7431 - val_mse: 0.7431\n",
      "Epoch 84/500\n",
      "160/160 [==============================] - 1s 5ms/step - loss: 0.6857 - mse: 0.6857 - val_loss: 0.7429 - val_mse: 0.7429\n",
      "Epoch 85/500\n",
      "160/160 [==============================] - 1s 5ms/step - loss: 0.6851 - mse: 0.6851 - val_loss: 0.7428 - val_mse: 0.7428\n",
      "Epoch 86/500\n",
      "160/160 [==============================] - 1s 6ms/step - loss: 0.6846 - mse: 0.6846 - val_loss: 0.7426 - val_mse: 0.7426\n",
      "Epoch 87/500\n",
      "160/160 [==============================] - 1s 5ms/step - loss: 0.6841 - mse: 0.6841 - val_loss: 0.7424 - val_mse: 0.7424\n",
      "Epoch 88/500\n",
      "160/160 [==============================] - 1s 5ms/step - loss: 0.6836 - mse: 0.6836 - val_loss: 0.7423 - val_mse: 0.7423\n",
      "Epoch 89/500\n",
      "160/160 [==============================] - 1s 6ms/step - loss: 0.6831 - mse: 0.6831 - val_loss: 0.7421 - val_mse: 0.7421\n",
      "Epoch 90/500\n",
      "160/160 [==============================] - 1s 4ms/step - loss: 0.6826 - mse: 0.6826 - val_loss: 0.7420 - val_mse: 0.7420\n",
      "Epoch 91/500\n",
      "160/160 [==============================] - 1s 5ms/step - loss: 0.6821 - mse: 0.6821 - val_loss: 0.7418 - val_mse: 0.7418\n",
      "Epoch 92/500\n",
      "160/160 [==============================] - 1s 5ms/step - loss: 0.6817 - mse: 0.6817 - val_loss: 0.7417 - val_mse: 0.7417\n",
      "Epoch 93/500\n",
      "160/160 [==============================] - 1s 5ms/step - loss: 0.6812 - mse: 0.6812 - val_loss: 0.7415 - val_mse: 0.7415\n",
      "Epoch 94/500\n",
      "160/160 [==============================] - 1s 5ms/step - loss: 0.6807 - mse: 0.6807 - val_loss: 0.7413 - val_mse: 0.7413\n",
      "Epoch 95/500\n",
      "160/160 [==============================] - 1s 5ms/step - loss: 0.6803 - mse: 0.6803 - val_loss: 0.7412 - val_mse: 0.7412\n",
      "Epoch 96/500\n",
      "160/160 [==============================] - 1s 5ms/step - loss: 0.6798 - mse: 0.6798 - val_loss: 0.7411 - val_mse: 0.7411\n",
      "Epoch 97/500\n",
      "160/160 [==============================] - 1s 4ms/step - loss: 0.6794 - mse: 0.6794 - val_loss: 0.7409 - val_mse: 0.7409\n",
      "Epoch 98/500\n",
      "160/160 [==============================] - 1s 5ms/step - loss: 0.6789 - mse: 0.6789 - val_loss: 0.7408 - val_mse: 0.7408\n",
      "Epoch 99/500\n",
      "160/160 [==============================] - 1s 6ms/step - loss: 0.6785 - mse: 0.6785 - val_loss: 0.7407 - val_mse: 0.7407\n",
      "Epoch 100/500\n",
      "160/160 [==============================] - 1s 5ms/step - loss: 0.6781 - mse: 0.6781 - val_loss: 0.7406 - val_mse: 0.7406\n",
      "Epoch 101/500\n",
      "160/160 [==============================] - 1s 5ms/step - loss: 0.6777 - mse: 0.6777 - val_loss: 0.7405 - val_mse: 0.7405\n",
      "Epoch 102/500\n",
      "160/160 [==============================] - 1s 5ms/step - loss: 0.6772 - mse: 0.6772 - val_loss: 0.7403 - val_mse: 0.7403\n",
      "Epoch 103/500\n",
      "160/160 [==============================] - 1s 5ms/step - loss: 0.6768 - mse: 0.6768 - val_loss: 0.7402 - val_mse: 0.7402\n",
      "Epoch 104/500\n",
      "160/160 [==============================] - 1s 5ms/step - loss: 0.6764 - mse: 0.6764 - val_loss: 0.7401 - val_mse: 0.7401\n",
      "Epoch 105/500\n",
      "160/160 [==============================] - 1s 7ms/step - loss: 0.6760 - mse: 0.6760 - val_loss: 0.7400 - val_mse: 0.7400\n",
      "Epoch 106/500\n",
      "160/160 [==============================] - 1s 5ms/step - loss: 0.6756 - mse: 0.6756 - val_loss: 0.7399 - val_mse: 0.7399\n",
      "Epoch 107/500\n",
      "160/160 [==============================] - 1s 5ms/step - loss: 0.6752 - mse: 0.6752 - val_loss: 0.7398 - val_mse: 0.7398\n",
      "Epoch 108/500\n",
      "160/160 [==============================] - 1s 5ms/step - loss: 0.6748 - mse: 0.6748 - val_loss: 0.7397 - val_mse: 0.7397\n",
      "Epoch 109/500\n",
      "160/160 [==============================] - 1s 7ms/step - loss: 0.6745 - mse: 0.6745 - val_loss: 0.7396 - val_mse: 0.7396\n",
      "Epoch 110/500\n",
      "160/160 [==============================] - 1s 5ms/step - loss: 0.6741 - mse: 0.6741 - val_loss: 0.7395 - val_mse: 0.7395\n",
      "Epoch 111/500\n",
      "160/160 [==============================] - 1s 5ms/step - loss: 0.6737 - mse: 0.6737 - val_loss: 0.7394 - val_mse: 0.7394\n",
      "Epoch 112/500\n",
      "160/160 [==============================] - 1s 5ms/step - loss: 0.6733 - mse: 0.6733 - val_loss: 0.7393 - val_mse: 0.7393\n",
      "Epoch 113/500\n",
      "160/160 [==============================] - 1s 4ms/step - loss: 0.6730 - mse: 0.6730 - val_loss: 0.7393 - val_mse: 0.7393\n",
      "Epoch 114/500\n",
      "160/160 [==============================] - 1s 5ms/step - loss: 0.6726 - mse: 0.6726 - val_loss: 0.7392 - val_mse: 0.7392\n",
      "Epoch 115/500\n",
      "160/160 [==============================] - 1s 5ms/step - loss: 0.6722 - mse: 0.6722 - val_loss: 0.7391 - val_mse: 0.7391\n",
      "Epoch 116/500\n",
      "160/160 [==============================] - 1s 5ms/step - loss: 0.6719 - mse: 0.6719 - val_loss: 0.7390 - val_mse: 0.7390\n",
      "Epoch 117/500\n",
      "160/160 [==============================] - 1s 5ms/step - loss: 0.6715 - mse: 0.6715 - val_loss: 0.7389 - val_mse: 0.7389\n",
      "Epoch 118/500\n",
      "160/160 [==============================] - 1s 5ms/step - loss: 0.6712 - mse: 0.6712 - val_loss: 0.7389 - val_mse: 0.7389\n",
      "Epoch 119/500\n",
      "160/160 [==============================] - 1s 5ms/step - loss: 0.6708 - mse: 0.6708 - val_loss: 0.7388 - val_mse: 0.7388\n",
      "Epoch 120/500\n",
      "160/160 [==============================] - 1s 5ms/step - loss: 0.6705 - mse: 0.6705 - val_loss: 0.7387 - val_mse: 0.7387\n",
      "Epoch 121/500\n",
      "160/160 [==============================] - 1s 5ms/step - loss: 0.6702 - mse: 0.6702 - val_loss: 0.7386 - val_mse: 0.7386\n",
      "Epoch 122/500\n",
      "160/160 [==============================] - 1s 5ms/step - loss: 0.6698 - mse: 0.6698 - val_loss: 0.7385 - val_mse: 0.7385\n",
      "Epoch 123/500\n",
      "160/160 [==============================] - 1s 5ms/step - loss: 0.6695 - mse: 0.6695 - val_loss: 0.7385 - val_mse: 0.7385\n",
      "Epoch 124/500\n",
      "160/160 [==============================] - 1s 5ms/step - loss: 0.6692 - mse: 0.6692 - val_loss: 0.7384 - val_mse: 0.7384\n",
      "Epoch 125/500\n",
      "160/160 [==============================] - 1s 5ms/step - loss: 0.6688 - mse: 0.6688 - val_loss: 0.7384 - val_mse: 0.7384\n",
      "Epoch 126/500\n",
      "160/160 [==============================] - 1s 5ms/step - loss: 0.6685 - mse: 0.6685 - val_loss: 0.7383 - val_mse: 0.7383\n",
      "Epoch 127/500\n",
      "160/160 [==============================] - 1s 5ms/step - loss: 0.6682 - mse: 0.6682 - val_loss: 0.7382 - val_mse: 0.7382\n",
      "Epoch 128/500\n",
      "160/160 [==============================] - 1s 5ms/step - loss: 0.6679 - mse: 0.6679 - val_loss: 0.7381 - val_mse: 0.7381\n",
      "Epoch 129/500\n",
      "160/160 [==============================] - 1s 5ms/step - loss: 0.6676 - mse: 0.6676 - val_loss: 0.7381 - val_mse: 0.7381\n",
      "Epoch 130/500\n",
      "160/160 [==============================] - 1s 5ms/step - loss: 0.6673 - mse: 0.6673 - val_loss: 0.7380 - val_mse: 0.7380\n",
      "Epoch 131/500\n",
      "160/160 [==============================] - 1s 5ms/step - loss: 0.6670 - mse: 0.6670 - val_loss: 0.7380 - val_mse: 0.7380\n",
      "Epoch 132/500\n",
      "160/160 [==============================] - 1s 5ms/step - loss: 0.6667 - mse: 0.6667 - val_loss: 0.7379 - val_mse: 0.7379\n",
      "Epoch 133/500\n",
      "160/160 [==============================] - 1s 5ms/step - loss: 0.6664 - mse: 0.6664 - val_loss: 0.7379 - val_mse: 0.7379\n",
      "Epoch 134/500\n",
      "160/160 [==============================] - 1s 5ms/step - loss: 0.6661 - mse: 0.6661 - val_loss: 0.7378 - val_mse: 0.7378\n",
      "Epoch 135/500\n",
      "160/160 [==============================] - 1s 5ms/step - loss: 0.6658 - mse: 0.6658 - val_loss: 0.7378 - val_mse: 0.7378\n",
      "Epoch 136/500\n",
      "160/160 [==============================] - 1s 5ms/step - loss: 0.6655 - mse: 0.6655 - val_loss: 0.7377 - val_mse: 0.7377\n",
      "Epoch 137/500\n",
      "160/160 [==============================] - 1s 5ms/step - loss: 0.6652 - mse: 0.6652 - val_loss: 0.7377 - val_mse: 0.7377\n",
      "Epoch 138/500\n",
      "160/160 [==============================] - 1s 5ms/step - loss: 0.6649 - mse: 0.6649 - val_loss: 0.7376 - val_mse: 0.7376\n",
      "Epoch 139/500\n",
      "160/160 [==============================] - 1s 5ms/step - loss: 0.6646 - mse: 0.6646 - val_loss: 0.7376 - val_mse: 0.7376\n",
      "Epoch 140/500\n",
      "160/160 [==============================] - 1s 5ms/step - loss: 0.6643 - mse: 0.6643 - val_loss: 0.7375 - val_mse: 0.7375\n",
      "Epoch 141/500\n",
      "160/160 [==============================] - 1s 6ms/step - loss: 0.6641 - mse: 0.6641 - val_loss: 0.7375 - val_mse: 0.7375\n",
      "Epoch 142/500\n",
      "160/160 [==============================] - 1s 5ms/step - loss: 0.6638 - mse: 0.6638 - val_loss: 0.7374 - val_mse: 0.7374\n",
      "Epoch 143/500\n",
      "160/160 [==============================] - 1s 5ms/step - loss: 0.6635 - mse: 0.6635 - val_loss: 0.7374 - val_mse: 0.7374\n",
      "Epoch 144/500\n",
      "160/160 [==============================] - 1s 5ms/step - loss: 0.6633 - mse: 0.6632 - val_loss: 0.7373 - val_mse: 0.7373\n",
      "Epoch 145/500\n",
      "160/160 [==============================] - 1s 5ms/step - loss: 0.6630 - mse: 0.6630 - val_loss: 0.7373 - val_mse: 0.7373\n",
      "Epoch 146/500\n",
      "160/160 [==============================] - 1s 5ms/step - loss: 0.6627 - mse: 0.6627 - val_loss: 0.7372 - val_mse: 0.7372\n",
      "Epoch 147/500\n",
      "160/160 [==============================] - 1s 5ms/step - loss: 0.6624 - mse: 0.6624 - val_loss: 0.7372 - val_mse: 0.7372\n",
      "Epoch 148/500\n",
      "160/160 [==============================] - 1s 5ms/step - loss: 0.6622 - mse: 0.6622 - val_loss: 0.7371 - val_mse: 0.7371\n",
      "Epoch 149/500\n",
      "160/160 [==============================] - 1s 5ms/step - loss: 0.6619 - mse: 0.6619 - val_loss: 0.7371 - val_mse: 0.7371\n",
      "Epoch 150/500\n",
      "160/160 [==============================] - 1s 5ms/step - loss: 0.6617 - mse: 0.6616 - val_loss: 0.7371 - val_mse: 0.7371\n",
      "Epoch 151/500\n",
      "160/160 [==============================] - 1s 5ms/step - loss: 0.6614 - mse: 0.6614 - val_loss: 0.7370 - val_mse: 0.7370\n",
      "Epoch 152/500\n",
      "160/160 [==============================] - 1s 5ms/step - loss: 0.6611 - mse: 0.6611 - val_loss: 0.7370 - val_mse: 0.7370\n",
      "Epoch 153/500\n",
      "160/160 [==============================] - 1s 5ms/step - loss: 0.6609 - mse: 0.6609 - val_loss: 0.7370 - val_mse: 0.7370\n",
      "Epoch 154/500\n",
      "160/160 [==============================] - 1s 5ms/step - loss: 0.6606 - mse: 0.6606 - val_loss: 0.7370 - val_mse: 0.7370\n",
      "Epoch 155/500\n",
      "160/160 [==============================] - 1s 5ms/step - loss: 0.6604 - mse: 0.6604 - val_loss: 0.7369 - val_mse: 0.7369\n",
      "Epoch 156/500\n",
      "160/160 [==============================] - 1s 4ms/step - loss: 0.6601 - mse: 0.6601 - val_loss: 0.7369 - val_mse: 0.7369\n",
      "Epoch 157/500\n",
      "160/160 [==============================] - 1s 5ms/step - loss: 0.6599 - mse: 0.6599 - val_loss: 0.7369 - val_mse: 0.7369\n",
      "Epoch 158/500\n",
      "160/160 [==============================] - 1s 5ms/step - loss: 0.6596 - mse: 0.6596 - val_loss: 0.7368 - val_mse: 0.7368\n",
      "Epoch 159/500\n",
      "160/160 [==============================] - 1s 5ms/step - loss: 0.6594 - mse: 0.6594 - val_loss: 0.7368 - val_mse: 0.7368\n",
      "Epoch 160/500\n",
      "160/160 [==============================] - 1s 5ms/step - loss: 0.6591 - mse: 0.6591 - val_loss: 0.7368 - val_mse: 0.7368\n",
      "Epoch 161/500\n",
      "160/160 [==============================] - 1s 5ms/step - loss: 0.6589 - mse: 0.6589 - val_loss: 0.7367 - val_mse: 0.7367\n",
      "Epoch 162/500\n",
      "160/160 [==============================] - 1s 5ms/step - loss: 0.6586 - mse: 0.6586 - val_loss: 0.7367 - val_mse: 0.7367\n",
      "Epoch 163/500\n",
      "160/160 [==============================] - 1s 5ms/step - loss: 0.6584 - mse: 0.6584 - val_loss: 0.7367 - val_mse: 0.7366\n",
      "Epoch 164/500\n",
      "160/160 [==============================] - 1s 5ms/step - loss: 0.6582 - mse: 0.6581 - val_loss: 0.7366 - val_mse: 0.7366\n",
      "Epoch 165/500\n",
      "160/160 [==============================] - 1s 5ms/step - loss: 0.6579 - mse: 0.6579 - val_loss: 0.7366 - val_mse: 0.7366\n",
      "Epoch 166/500\n",
      "160/160 [==============================] - 1s 5ms/step - loss: 0.6577 - mse: 0.6577 - val_loss: 0.7366 - val_mse: 0.7366\n",
      "Epoch 167/500\n",
      "160/160 [==============================] - 1s 5ms/step - loss: 0.6574 - mse: 0.6574 - val_loss: 0.7366 - val_mse: 0.7366\n",
      "Epoch 168/500\n",
      "160/160 [==============================] - 1s 4ms/step - loss: 0.6572 - mse: 0.6572 - val_loss: 0.7365 - val_mse: 0.7365\n",
      "Epoch 169/500\n",
      "160/160 [==============================] - 1s 5ms/step - loss: 0.6569 - mse: 0.6569 - val_loss: 0.7365 - val_mse: 0.7365\n",
      "Epoch 170/500\n",
      "160/160 [==============================] - 1s 5ms/step - loss: 0.6567 - mse: 0.6567 - val_loss: 0.7365 - val_mse: 0.7365\n",
      "Epoch 171/500\n",
      "160/160 [==============================] - 1s 5ms/step - loss: 0.6565 - mse: 0.6564 - val_loss: 0.7365 - val_mse: 0.7365\n",
      "Epoch 172/500\n",
      "160/160 [==============================] - 1s 5ms/step - loss: 0.6562 - mse: 0.6562 - val_loss: 0.7365 - val_mse: 0.7364\n",
      "Epoch 173/500\n",
      "160/160 [==============================] - 1s 5ms/step - loss: 0.6560 - mse: 0.6559 - val_loss: 0.7365 - val_mse: 0.7364\n",
      "Epoch 174/500\n",
      "160/160 [==============================] - 1s 5ms/step - loss: 0.6557 - mse: 0.6557 - val_loss: 0.7364 - val_mse: 0.7364\n",
      "Epoch 175/500\n",
      "160/160 [==============================] - 1s 5ms/step - loss: 0.6555 - mse: 0.6555 - val_loss: 0.7364 - val_mse: 0.7364\n",
      "Epoch 176/500\n",
      "160/160 [==============================] - 1s 5ms/step - loss: 0.6552 - mse: 0.6552 - val_loss: 0.7364 - val_mse: 0.7363\n",
      "Epoch 177/500\n",
      "160/160 [==============================] - 1s 5ms/step - loss: 0.6550 - mse: 0.6549 - val_loss: 0.7363 - val_mse: 0.7363\n",
      "Epoch 178/500\n",
      "160/160 [==============================] - 1s 5ms/step - loss: 0.6547 - mse: 0.6547 - val_loss: 0.7363 - val_mse: 0.7363\n",
      "Epoch 179/500\n",
      "160/160 [==============================] - 1s 5ms/step - loss: 0.6545 - mse: 0.6544 - val_loss: 0.7363 - val_mse: 0.7362\n",
      "Epoch 180/500\n",
      "160/160 [==============================] - 1s 5ms/step - loss: 0.6542 - mse: 0.6542 - val_loss: 0.7362 - val_mse: 0.7362\n",
      "Epoch 181/500\n",
      "160/160 [==============================] - 1s 5ms/step - loss: 0.6540 - mse: 0.6539 - val_loss: 0.7362 - val_mse: 0.7362\n",
      "Epoch 182/500\n",
      "160/160 [==============================] - 1s 5ms/step - loss: 0.6537 - mse: 0.6536 - val_loss: 0.7362 - val_mse: 0.7362\n",
      "Epoch 183/500\n",
      "160/160 [==============================] - 1s 5ms/step - loss: 0.6534 - mse: 0.6534 - val_loss: 0.7362 - val_mse: 0.7361\n",
      "Epoch 184/500\n",
      "160/160 [==============================] - 1s 5ms/step - loss: 0.6531 - mse: 0.6531 - val_loss: 0.7361 - val_mse: 0.7361\n",
      "Epoch 185/500\n",
      "160/160 [==============================] - 1s 5ms/step - loss: 0.6529 - mse: 0.6528 - val_loss: 0.7361 - val_mse: 0.7360\n",
      "Epoch 186/500\n",
      "160/160 [==============================] - 1s 6ms/step - loss: 0.6526 - mse: 0.6525 - val_loss: 0.7361 - val_mse: 0.7360\n",
      "Epoch 187/500\n",
      "160/160 [==============================] - 1s 5ms/step - loss: 0.6523 - mse: 0.6522 - val_loss: 0.7360 - val_mse: 0.7360\n",
      "Epoch 188/500\n",
      "160/160 [==============================] - 1s 5ms/step - loss: 0.6520 - mse: 0.6519 - val_loss: 0.7360 - val_mse: 0.7359\n",
      "Epoch 189/500\n",
      "160/160 [==============================] - 1s 5ms/step - loss: 0.6517 - mse: 0.6516 - val_loss: 0.7360 - val_mse: 0.7359\n",
      "Epoch 190/500\n",
      "160/160 [==============================] - 1s 5ms/step - loss: 0.6514 - mse: 0.6513 - val_loss: 0.7359 - val_mse: 0.7358\n",
      "Epoch 191/500\n",
      "160/160 [==============================] - 1s 5ms/step - loss: 0.6511 - mse: 0.6510 - val_loss: 0.7359 - val_mse: 0.7358\n",
      "Epoch 192/500\n",
      "160/160 [==============================] - 1s 5ms/step - loss: 0.6508 - mse: 0.6507 - val_loss: 0.7358 - val_mse: 0.7357\n",
      "Epoch 193/500\n",
      "160/160 [==============================] - 1s 5ms/step - loss: 0.6504 - mse: 0.6503 - val_loss: 0.7358 - val_mse: 0.7357\n",
      "Epoch 194/500\n",
      "160/160 [==============================] - 1s 5ms/step - loss: 0.6501 - mse: 0.6500 - val_loss: 0.7358 - val_mse: 0.7356\n",
      "Epoch 195/500\n",
      "160/160 [==============================] - 1s 5ms/step - loss: 0.6497 - mse: 0.6496 - val_loss: 0.7357 - val_mse: 0.7356\n",
      "Epoch 196/500\n",
      "160/160 [==============================] - 1s 5ms/step - loss: 0.6494 - mse: 0.6493 - val_loss: 0.7357 - val_mse: 0.7355\n",
      "Epoch 197/500\n",
      "160/160 [==============================] - 1s 5ms/step - loss: 0.6490 - mse: 0.6489 - val_loss: 0.7356 - val_mse: 0.7355\n",
      "Epoch 198/500\n",
      "160/160 [==============================] - 1s 5ms/step - loss: 0.6486 - mse: 0.6485 - val_loss: 0.7355 - val_mse: 0.7354\n",
      "Epoch 199/500\n",
      "160/160 [==============================] - 1s 5ms/step - loss: 0.6482 - mse: 0.6481 - val_loss: 0.7355 - val_mse: 0.7353\n",
      "Epoch 200/500\n",
      "160/160 [==============================] - 1s 5ms/step - loss: 0.6478 - mse: 0.6476 - val_loss: 0.7355 - val_mse: 0.7353\n",
      "Epoch 201/500\n",
      "160/160 [==============================] - 1s 6ms/step - loss: 0.6474 - mse: 0.6472 - val_loss: 0.7354 - val_mse: 0.7352\n",
      "Epoch 202/500\n",
      "160/160 [==============================] - 1s 5ms/step - loss: 0.6469 - mse: 0.6467 - val_loss: 0.7353 - val_mse: 0.7351\n",
      "Epoch 203/500\n",
      "160/160 [==============================] - 1s 5ms/step - loss: 0.6465 - mse: 0.6463 - val_loss: 0.7352 - val_mse: 0.7350\n",
      "Epoch 204/500\n",
      "160/160 [==============================] - 1s 6ms/step - loss: 0.6460 - mse: 0.6458 - val_loss: 0.7352 - val_mse: 0.7349\n",
      "Epoch 205/500\n",
      "160/160 [==============================] - 1s 5ms/step - loss: 0.6455 - mse: 0.6453 - val_loss: 0.7351 - val_mse: 0.7348\n",
      "Epoch 206/500\n",
      "160/160 [==============================] - 1s 5ms/step - loss: 0.6450 - mse: 0.6447 - val_loss: 0.7350 - val_mse: 0.7347\n",
      "Epoch 207/500\n",
      "160/160 [==============================] - 1s 5ms/step - loss: 0.6445 - mse: 0.6442 - val_loss: 0.7349 - val_mse: 0.7346\n",
      "Epoch 208/500\n",
      "160/160 [==============================] - 1s 5ms/step - loss: 0.6439 - mse: 0.6436 - val_loss: 0.7348 - val_mse: 0.7345\n",
      "Epoch 209/500\n",
      "160/160 [==============================] - 1s 5ms/step - loss: 0.6433 - mse: 0.6430 - val_loss: 0.7348 - val_mse: 0.7344\n",
      "Epoch 210/500\n",
      "160/160 [==============================] - 1s 5ms/step - loss: 0.6428 - mse: 0.6424 - val_loss: 0.7346 - val_mse: 0.7343\n",
      "Epoch 211/500\n",
      "160/160 [==============================] - 1s 5ms/step - loss: 0.6421 - mse: 0.6417 - val_loss: 0.7346 - val_mse: 0.7341\n",
      "Epoch 212/500\n",
      "160/160 [==============================] - 1s 5ms/step - loss: 0.6415 - mse: 0.6411 - val_loss: 0.7344 - val_mse: 0.7340\n",
      "Epoch 213/500\n",
      "160/160 [==============================] - 1s 4ms/step - loss: 0.6409 - mse: 0.6404 - val_loss: 0.7343 - val_mse: 0.7339\n",
      "Epoch 214/500\n",
      "160/160 [==============================] - 1s 5ms/step - loss: 0.6402 - mse: 0.6397 - val_loss: 0.7343 - val_mse: 0.7338\n",
      "Epoch 215/500\n",
      "160/160 [==============================] - 1s 5ms/step - loss: 0.6395 - mse: 0.6390 - val_loss: 0.7341 - val_mse: 0.7336\n",
      "Epoch 216/500\n",
      "160/160 [==============================] - 1s 5ms/step - loss: 0.6388 - mse: 0.6382 - val_loss: 0.7340 - val_mse: 0.7335\n",
      "Epoch 217/500\n",
      "160/160 [==============================] - 1s 4ms/step - loss: 0.6380 - mse: 0.6375 - val_loss: 0.7339 - val_mse: 0.7333\n",
      "Epoch 218/500\n",
      "160/160 [==============================] - 1s 5ms/step - loss: 0.6373 - mse: 0.6367 - val_loss: 0.7338 - val_mse: 0.7332\n",
      "Epoch 219/500\n",
      "160/160 [==============================] - 1s 5ms/step - loss: 0.6365 - mse: 0.6359 - val_loss: 0.7337 - val_mse: 0.7330\n",
      "Epoch 220/500\n",
      "160/160 [==============================] - 1s 5ms/step - loss: 0.6357 - mse: 0.6350 - val_loss: 0.7336 - val_mse: 0.7329\n",
      "Epoch 221/500\n",
      "160/160 [==============================] - 1s 5ms/step - loss: 0.6349 - mse: 0.6342 - val_loss: 0.7335 - val_mse: 0.7327\n",
      "Epoch 222/500\n",
      "160/160 [==============================] - 1s 5ms/step - loss: 0.6341 - mse: 0.6333 - val_loss: 0.7334 - val_mse: 0.7326\n",
      "Epoch 223/500\n",
      "160/160 [==============================] - 1s 6ms/step - loss: 0.6333 - mse: 0.6324 - val_loss: 0.7333 - val_mse: 0.7325\n",
      "Epoch 224/500\n",
      "160/160 [==============================] - 1s 5ms/step - loss: 0.6324 - mse: 0.6315 - val_loss: 0.7333 - val_mse: 0.7323\n",
      "Epoch 225/500\n",
      "160/160 [==============================] - 1s 5ms/step - loss: 0.6316 - mse: 0.6306 - val_loss: 0.7332 - val_mse: 0.7322\n",
      "Epoch 226/500\n",
      "160/160 [==============================] - 1s 5ms/step - loss: 0.6307 - mse: 0.6297 - val_loss: 0.7331 - val_mse: 0.7321\n",
      "Epoch 227/500\n",
      "160/160 [==============================] - 1s 5ms/step - loss: 0.6299 - mse: 0.6288 - val_loss: 0.7330 - val_mse: 0.7319\n",
      "Epoch 228/500\n",
      "160/160 [==============================] - 1s 5ms/step - loss: 0.6290 - mse: 0.6279 - val_loss: 0.7330 - val_mse: 0.7318\n",
      "Epoch 229/500\n",
      "160/160 [==============================] - 1s 5ms/step - loss: 0.6281 - mse: 0.6269 - val_loss: 0.7329 - val_mse: 0.7317\n",
      "Epoch 230/500\n",
      "160/160 [==============================] - 1s 6ms/step - loss: 0.6272 - mse: 0.6260 - val_loss: 0.7329 - val_mse: 0.7316\n",
      "Epoch 231/500\n",
      "160/160 [==============================] - 1s 5ms/step - loss: 0.6264 - mse: 0.6251 - val_loss: 0.7329 - val_mse: 0.7316\n",
      "Epoch 232/500\n",
      "160/160 [==============================] - 1s 5ms/step - loss: 0.6255 - mse: 0.6241 - val_loss: 0.7329 - val_mse: 0.7315\n",
      "Epoch 233/500\n",
      "160/160 [==============================] - 1s 5ms/step - loss: 0.6246 - mse: 0.6232 - val_loss: 0.7329 - val_mse: 0.7314\n",
      "Epoch 234/500\n",
      "160/160 [==============================] - 1s 6ms/step - loss: 0.6237 - mse: 0.6222 - val_loss: 0.7329 - val_mse: 0.7314\n",
      "Epoch 235/500\n",
      "160/160 [==============================] - 1s 4ms/step - loss: 0.6229 - mse: 0.6213 - val_loss: 0.7329 - val_mse: 0.7313\n",
      "Epoch 236/500\n",
      "160/160 [==============================] - 1s 5ms/step - loss: 0.6220 - mse: 0.6204 - val_loss: 0.7329 - val_mse: 0.7313\n",
      "Epoch 237/500\n",
      "160/160 [==============================] - 1s 5ms/step - loss: 0.6211 - mse: 0.6194 - val_loss: 0.7329 - val_mse: 0.7312\n",
      "Epoch 238/500\n",
      "160/160 [==============================] - 1s 6ms/step - loss: 0.6203 - mse: 0.6185 - val_loss: 0.7329 - val_mse: 0.7312\n",
      "Epoch 239/500\n",
      "160/160 [==============================] - 1s 5ms/step - loss: 0.6194 - mse: 0.6176 - val_loss: 0.7330 - val_mse: 0.7311\n",
      "Epoch 240/500\n",
      "160/160 [==============================] - 1s 5ms/step - loss: 0.6186 - mse: 0.6167 - val_loss: 0.7331 - val_mse: 0.7311\n",
      "Epoch 241/500\n",
      "160/160 [==============================] - 1s 5ms/step - loss: 0.6177 - mse: 0.6158 - val_loss: 0.7331 - val_mse: 0.7312\n",
      "Epoch 242/500\n",
      "160/160 [==============================] - 1s 4ms/step - loss: 0.6169 - mse: 0.6149 - val_loss: 0.7332 - val_mse: 0.7312\n",
      "Epoch 243/500\n",
      "160/160 [==============================] - 1s 4ms/step - loss: 0.6161 - mse: 0.6140 - val_loss: 0.7333 - val_mse: 0.7312\n",
      "Epoch 244/500\n",
      "160/160 [==============================] - 1s 4ms/step - loss: 0.6152 - mse: 0.6131 - val_loss: 0.7334 - val_mse: 0.7312\n",
      "Epoch 245/500\n",
      "160/160 [==============================] - 1s 5ms/step - loss: 0.6144 - mse: 0.6122 - val_loss: 0.7336 - val_mse: 0.7313\n",
      "Epoch 246/500\n",
      "160/160 [==============================] - 1s 5ms/step - loss: 0.6136 - mse: 0.6113 - val_loss: 0.7337 - val_mse: 0.7313\n",
      "Epoch 247/500\n",
      "160/160 [==============================] - 1s 5ms/step - loss: 0.6128 - mse: 0.6104 - val_loss: 0.7338 - val_mse: 0.7314\n"
     ]
    },
    {
     "data": {
      "text/plain": [
       "<keras.src.callbacks.History at 0x7684e91318a0>"
      ]
     },
     "execution_count": 146,
     "metadata": {},
     "output_type": "execute_result"
    }
   ],
   "source": [
    "model_Ftrl = model_diff_opt_global_bias(nb_users, nb_movies, k=15, lambda_=0.00002, optimizer = Ftrl(learning_rate=0.1),global_bias=global_bias)\n",
    "model_Ftrl.fit(X_train, y_train, epochs=500, batch_size=512, validation_split=0.1, callbacks=[early_stopping])"
   ]
  },
  {
   "cell_type": "code",
   "execution_count": 149,
   "metadata": {},
   "outputs": [
    {
     "name": "stdout",
     "output_type": "stream",
     "text": [
      "316/316 [==============================] - 1s 2ms/step\n",
      " Test RMSE : 0.8625400520645071 \n"
     ]
    }
   ],
   "source": [
    "y_pred_Ftrl = model_Ftrl.predict(X_test)\n",
    "\n",
    "test_rmse_Ftrl = sqrt(mean_squared_error(y_test, y_pred_Ftrl))\n",
    "\n",
    "print(\" Test RMSE : %s \" % test_rmse_Ftrl)"
   ]
  },
  {
   "cell_type": "code",
   "execution_count": null,
   "metadata": {},
   "outputs": [],
   "source": []
  },
  {
   "cell_type": "markdown",
   "metadata": {},
   "source": [
    "## Implement your own Stochastic Gradient Descent for Matrix Factorization with numpy instead of Keras (very optional)"
   ]
  },
  {
   "cell_type": "markdown",
   "metadata": {},
   "source": [
    "Now you know everything to implement your own matrix factorization SGD model, all with numpy arrays. Start without the biases again, and without mini-batches. The gradient update equations are described in page 4 of Koren's paper. Let's initialize your $p$ and $q$ embeddings with a gaussian sampling. Print the RMSE at the beginning of each epoch, and finally compute the RMSE of your model on the test set."
   ]
  },
  {
   "cell_type": "code",
   "execution_count": null,
   "metadata": {},
   "outputs": [],
   "source": [
    "from numpy.random import normal\n",
    "\n",
    "P = normal(size = (nb_users,k))\n",
    "Q = normal(size = (nb_movies,k))\n",
    "\n",
    "gamma = 0.1\n",
    "lambda_ = 0.00001\n",
    "epochs = 10\n",
    "\n",
    "for e in range(epochs):\n",
    "    for j in range(train.shape[0]):\n",
    "        u = train['userId'].iloc[j]\n",
    "        i = train['movieId'].iloc[j]\n",
    "        r_ui = train['rating'].iloc[j]\n",
    "        \n",
    "        #TOFILL\n"
   ]
  },
  {
   "cell_type": "code",
   "execution_count": null,
   "metadata": {},
   "outputs": [],
   "source": []
  },
  {
   "cell_type": "code",
   "execution_count": null,
   "metadata": {},
   "outputs": [],
   "source": []
  }
 ],
 "metadata": {
  "kernelspec": {
   "display_name": "Python 3 (ipykernel)",
   "language": "python",
   "name": "python3"
  },
  "language_info": {
   "codemirror_mode": {
    "name": "ipython",
    "version": 3
   },
   "file_extension": ".py",
   "mimetype": "text/x-python",
   "name": "python",
   "nbconvert_exporter": "python",
   "pygments_lexer": "ipython3",
   "version": "3.10.0"
  }
 },
 "nbformat": 4,
 "nbformat_minor": 4
}
