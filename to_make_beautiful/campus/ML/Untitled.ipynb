{
 "cells": [
  {
   "cell_type": "code",
   "execution_count": 3,
   "id": "75b4b0bf-b1a1-45a8-a228-5e9442cd6f23",
   "metadata": {
    "tags": []
   },
   "outputs": [],
   "source": [
    "from sklearn.base import BaseEstimator, TransformerMixin\n",
    "import pandas as pd\n",
    "\n",
    "class DataFrameCleaner(BaseEstimator, TransformerMixin):\n",
    "    def __init__(self, fill_value=0):\n",
    "        \"\"\"\n",
    "        Initialize the DataFrameCleaner.\n",
    "\n",
    "        :param fill_value: Value to fill missing data with (default is 0)\n",
    "        \"\"\"\n",
    "        self.fill_value = fill_value\n",
    "\n",
    "    def fit(self, X, y=None):\n",
    "        \"\"\"\n",
    "        Fit method. Required for compatibility but does not learn anything.\n",
    "\n",
    "        :param X: DataFrame to fit\n",
    "        :param y: Target variable (ignored)\n",
    "        :return: self\n",
    "        \"\"\"\n",
    "        return self\n",
    "\n",
    "    def transform(self, X):\n",
    "        \"\"\"\n",
    "        Transform method to clean the DataFrame.\n",
    "\n",
    "        :param X: DataFrame to transform\n",
    "        :return: Transformed DataFrame\n",
    "        \"\"\"\n",
    "        # Make a copy of the DataFrame to avoid modifying the original\n",
    "        X_clean = X.copy()\n",
    "\n",
    "        # Fill missing values\n",
    "        X_clean.fillna(self.fill_value, inplace=True)\n",
    "\n",
    "        return X_clean"
   ]
  },
  {
   "cell_type": "code",
   "execution_count": 4,
   "id": "40a235e3-0bc2-457e-866d-7d4003e5a6a2",
   "metadata": {
    "tags": []
   },
   "outputs": [
    {
     "name": "stdout",
     "output_type": "stream",
     "text": [
      "Data after pipeline processing:\n",
      "[[-0.50709255 -1.52127766 -0.15249857]\n",
      " [ 0.16903085 -0.16903085 -0.76249285]\n",
      " [-1.18321596  0.50709255 -0.76249285]\n",
      " [ 1.52127766  1.18321596  1.67748427]]\n"
     ]
    }
   ],
   "source": [
    "from sklearn.pipeline import Pipeline\n",
    "from sklearn.preprocessing import StandardScaler\n",
    "import pandas as pd\n",
    "\n",
    "# Sample data\n",
    "data = {\n",
    "    'A': [1, 2, None, 4],\n",
    "    'B': [None, 2, 3, 4],\n",
    "    'C': [1, None, None, 4]\n",
    "}\n",
    "df = pd.DataFrame(data)\n",
    "\n",
    "# Define the pipeline\n",
    "pipeline = Pipeline(steps=[\n",
    "    ('cleaning', DataFrameCleaner(fill_value=0)),  # Custom cleaning step\n",
    "    ('scaling', StandardScaler())  # Example of additional preprocessing step\n",
    "])\n",
    "\n",
    "# Fit and transform the data using the pipeline\n",
    "cleaned_data = pipeline.fit_transform(df)\n",
    "print(\"Data after pipeline processing:\")\n",
    "print(cleaned_data)"
   ]
  },
  {
   "cell_type": "code",
   "execution_count": null,
   "id": "6d6b6dfe-ce96-4924-9310-fa6961b27672",
   "metadata": {},
   "outputs": [],
   "source": []
  }
 ],
 "metadata": {
  "kernelspec": {
   "display_name": "Python 3 (ipykernel)",
   "language": "python",
   "name": "python3"
  },
  "language_info": {
   "codemirror_mode": {
    "name": "ipython",
    "version": 3
   },
   "file_extension": ".py",
   "mimetype": "text/x-python",
   "name": "python",
   "nbconvert_exporter": "python",
   "pygments_lexer": "ipython3",
   "version": "3.11.9"
  }
 },
 "nbformat": 4,
 "nbformat_minor": 5
}
