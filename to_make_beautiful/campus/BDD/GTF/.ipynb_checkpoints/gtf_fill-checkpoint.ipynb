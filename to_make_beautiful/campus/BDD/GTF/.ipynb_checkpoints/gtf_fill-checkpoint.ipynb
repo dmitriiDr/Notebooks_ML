{
 "cells": [
  {
   "cell_type": "code",
   "execution_count": 1,
   "id": "b04eac09-319e-4181-b929-17f278a1cf39",
   "metadata": {
    "tags": []
   },
   "outputs": [],
   "source": [
    "import pandas as pd\n",
    "import sqlite3"
   ]
  },
  {
   "cell_type": "code",
   "execution_count": 2,
   "id": "9c73a166-fed9-4de5-90ed-fcea72d2ab6b",
   "metadata": {},
   "outputs": [],
   "source": [
    "path = '/home/dmitrii.druzhbin@Digital-Grenoble.local/Documents/BDD/GTF/SEM-GTFS'"
   ]
  },
  {
   "cell_type": "code",
   "execution_count": 3,
   "id": "f22f408a-0fa9-4ae3-b950-5427d491478b",
   "metadata": {
    "tags": []
   },
   "outputs": [],
   "source": [
    "stops = pd.read_csv('/home/dmitrii.druzhbin@Digital-Grenoble.local/Documents/BDD/GTF/SEM-GTFS/stops.txt',sep=',')"
   ]
  },
  {
   "cell_type": "code",
   "execution_count": 4,
   "id": "bf642327-e856-4f89-9a22-ce915e54d38e",
   "metadata": {
    "tags": []
   },
   "outputs": [
    {
     "data": {
      "text/html": [
       "<div>\n",
       "<style scoped>\n",
       "    .dataframe tbody tr th:only-of-type {\n",
       "        vertical-align: middle;\n",
       "    }\n",
       "\n",
       "    .dataframe tbody tr th {\n",
       "        vertical-align: top;\n",
       "    }\n",
       "\n",
       "    .dataframe thead th {\n",
       "        text-align: right;\n",
       "    }\n",
       "</style>\n",
       "<table border=\"1\" class=\"dataframe\">\n",
       "  <thead>\n",
       "    <tr style=\"text-align: right;\">\n",
       "      <th></th>\n",
       "      <th>stop_id</th>\n",
       "      <th>stop_code</th>\n",
       "      <th>stop_name</th>\n",
       "      <th>stop_lat</th>\n",
       "      <th>stop_lon</th>\n",
       "      <th>zone_id</th>\n",
       "      <th>location_type</th>\n",
       "      <th>parent_station</th>\n",
       "      <th>wheelchair_boarding</th>\n",
       "    </tr>\n",
       "  </thead>\n",
       "  <tbody>\n",
       "    <tr>\n",
       "      <th>0</th>\n",
       "      <td>100</td>\n",
       "      <td>100</td>\n",
       "      <td>Saint-Martin-le-Vinoux, La Gomma</td>\n",
       "      <td>45.21528</td>\n",
       "      <td>5.71941</td>\n",
       "      <td>NaN</td>\n",
       "      <td>NaN</td>\n",
       "      <td>LAGOMMA</td>\n",
       "      <td>1</td>\n",
       "    </tr>\n",
       "    <tr>\n",
       "      <th>1</th>\n",
       "      <td>1000</td>\n",
       "      <td>1000</td>\n",
       "      <td>Miribel-Lanchâtre, Bayanne</td>\n",
       "      <td>44.97996</td>\n",
       "      <td>5.62235</td>\n",
       "      <td>NaN</td>\n",
       "      <td>NaN</td>\n",
       "      <td>BAYANNE</td>\n",
       "      <td>2</td>\n",
       "    </tr>\n",
       "    <tr>\n",
       "      <th>2</th>\n",
       "      <td>1001</td>\n",
       "      <td>1001</td>\n",
       "      <td>Miribel-Lanchâtre, Miribel</td>\n",
       "      <td>44.97470</td>\n",
       "      <td>5.62087</td>\n",
       "      <td>NaN</td>\n",
       "      <td>NaN</td>\n",
       "      <td>MIRIBEL</td>\n",
       "      <td>2</td>\n",
       "    </tr>\n",
       "    <tr>\n",
       "      <th>3</th>\n",
       "      <td>1002</td>\n",
       "      <td>1002</td>\n",
       "      <td>Miribel-Lanchâtre, Miribel</td>\n",
       "      <td>44.97466</td>\n",
       "      <td>5.62100</td>\n",
       "      <td>NaN</td>\n",
       "      <td>NaN</td>\n",
       "      <td>MIRIBEL</td>\n",
       "      <td>2</td>\n",
       "    </tr>\n",
       "    <tr>\n",
       "      <th>4</th>\n",
       "      <td>101</td>\n",
       "      <td>101</td>\n",
       "      <td>Eybens, La Châtelière</td>\n",
       "      <td>45.16219</td>\n",
       "      <td>5.74912</td>\n",
       "      <td>NaN</td>\n",
       "      <td>NaN</td>\n",
       "      <td>CHATELIE</td>\n",
       "      <td>1</td>\n",
       "    </tr>\n",
       "  </tbody>\n",
       "</table>\n",
       "</div>"
      ],
      "text/plain": [
       "  stop_id stop_code                         stop_name  stop_lat  stop_lon  \\\n",
       "0     100       100  Saint-Martin-le-Vinoux, La Gomma  45.21528   5.71941   \n",
       "1    1000      1000        Miribel-Lanchâtre, Bayanne  44.97996   5.62235   \n",
       "2    1001      1001        Miribel-Lanchâtre, Miribel  44.97470   5.62087   \n",
       "3    1002      1002        Miribel-Lanchâtre, Miribel  44.97466   5.62100   \n",
       "4     101       101             Eybens, La Châtelière  45.16219   5.74912   \n",
       "\n",
       "   zone_id  location_type parent_station  wheelchair_boarding  \n",
       "0      NaN            NaN        LAGOMMA                    1  \n",
       "1      NaN            NaN        BAYANNE                    2  \n",
       "2      NaN            NaN        MIRIBEL                    2  \n",
       "3      NaN            NaN        MIRIBEL                    2  \n",
       "4      NaN            NaN       CHATELIE                    1  "
      ]
     },
     "execution_count": 4,
     "metadata": {},
     "output_type": "execute_result"
    }
   ],
   "source": [
    "stops.head()"
   ]
  },
  {
   "cell_type": "code",
   "execution_count": 18,
   "id": "f0fed096-1717-4b6e-9b01-609c0121785e",
   "metadata": {
    "tags": []
   },
   "outputs": [],
   "source": [
    "# conn = sqlite3.connect('GTF.db')"
   ]
  },
  {
   "cell_type": "code",
   "execution_count": 6,
   "id": "b926379b-6dd6-4731-9dbd-70d40cc62e06",
   "metadata": {
    "tags": []
   },
   "outputs": [],
   "source": [
    "# stops.to_sql('Stops', conn, if_exists='replace', index=False)"
   ]
  },
  {
   "cell_type": "code",
   "execution_count": 5,
   "id": "c01c4f2f-55b1-422a-8727-ea09b9a4ac59",
   "metadata": {
    "tags": []
   },
   "outputs": [],
   "source": [
    "db = sqlite3.connect('/home/dmitrii.druzhbin@Digital-Grenoble.local/Documents/BDD/GTF/GTF.db')"
   ]
  },
  {
   "cell_type": "code",
   "execution_count": 6,
   "id": "7cdd978a-53f9-4bf0-b791-efd9e08758d7",
   "metadata": {
    "tags": []
   },
   "outputs": [],
   "source": [
    "cursor = db.cursor()"
   ]
  },
  {
   "cell_type": "code",
   "execution_count": 7,
   "id": "fa3493b5-99fe-4d0d-b53f-3944ca5df46a",
   "metadata": {
    "tags": []
   },
   "outputs": [
    {
     "data": {
      "text/html": [
       "<div>\n",
       "<style scoped>\n",
       "    .dataframe tbody tr th:only-of-type {\n",
       "        vertical-align: middle;\n",
       "    }\n",
       "\n",
       "    .dataframe tbody tr th {\n",
       "        vertical-align: top;\n",
       "    }\n",
       "\n",
       "    .dataframe thead th {\n",
       "        text-align: right;\n",
       "    }\n",
       "</style>\n",
       "<table border=\"1\" class=\"dataframe\">\n",
       "  <thead>\n",
       "    <tr style=\"text-align: right;\">\n",
       "      <th></th>\n",
       "    </tr>\n",
       "  </thead>\n",
       "  <tbody>\n",
       "  </tbody>\n",
       "</table>\n",
       "</div>"
      ],
      "text/plain": [
       "Empty DataFrame\n",
       "Columns: []\n",
       "Index: []"
      ]
     },
     "execution_count": 7,
     "metadata": {},
     "output_type": "execute_result"
    }
   ],
   "source": [
    "query = \"\"\"\n",
    "SELECT *\n",
    "FROM Stops\n",
    "\"\"\"\n",
    "pd.DataFrame(cursor.execute(query)).head()"
   ]
  },
  {
   "cell_type": "code",
   "execution_count": 8,
   "id": "c0f6f68d-d7b0-43b4-98d9-8932c136d78a",
   "metadata": {
    "tags": []
   },
   "outputs": [],
   "source": [
    "query = \"\"\"\n",
    "INSERT or REPLACE INTO Stops (stopID, stopName, stopLat, stopLon)\n",
    "VALUES (?, ?, ?, ?);\n",
    "\"\"\""
   ]
  },
  {
   "cell_type": "code",
   "execution_count": 66,
   "id": "80fae65f-54d2-44e3-adf0-09438bb4ca76",
   "metadata": {
    "tags": []
   },
   "outputs": [],
   "source": [
    "def insert(database):\n",
    "    for index,row in database.iterrows():\n",
    "        cursor.execute(query, (row['stop_id'], row['stop_name'], row['stop_lat'], row['stop_lon']))\n",
    "    db.commit()"
   ]
  },
  {
   "cell_type": "code",
   "execution_count": 89,
   "id": "681a31fe-3eca-4f11-ba51-eda859bc70ee",
   "metadata": {
    "tags": []
   },
   "outputs": [],
   "source": [
    "def inser_query(database):\n",
    "    que = list()\n",
    "    for index,row in database.iterrows():\n",
    "        que.append(f\"INSERT or REPLACE INTO Stops (stopID, stopName, stopLat, stopLon) VALUES ({str(row['stop_id'])}, {[row['stop_name']]}, {row['stop_lat']}, {row['stop_lon']});\")\n",
    "    que = ', '.join(que).replace(';,', ';\\n').replace(\"'\",\"''\").replace(\"\\'\\'\",'').replace(\"[\",'\"').replace(\"]\",'\"').replace('\"\"','\"')\n",
    "    return que    "
   ]
  },
  {
   "cell_type": "code",
   "execution_count": 74,
   "id": "8b3cb7a8-b07b-4e1f-9b64-00e34fa08669",
   "metadata": {},
   "outputs": [
    {
     "ename": "TypeError",
     "evalue": "execute() argument 1 must be str, not list",
     "output_type": "error",
     "traceback": [
      "\u001b[0;31m---------------------------------------------------------------------------\u001b[0m",
      "\u001b[0;31mTypeError\u001b[0m                                 Traceback (most recent call last)",
      "Cell \u001b[0;32mIn[74], line 1\u001b[0m\n\u001b[0;32m----> 1\u001b[0m \u001b[43minsert\u001b[49m\u001b[43m(\u001b[49m\u001b[43mstops\u001b[49m\u001b[43m)\u001b[49m\n",
      "Cell \u001b[0;32mIn[66], line 3\u001b[0m, in \u001b[0;36minsert\u001b[0;34m(database)\u001b[0m\n\u001b[1;32m      1\u001b[0m \u001b[38;5;28;01mdef\u001b[39;00m \u001b[38;5;21minsert\u001b[39m(database):\n\u001b[1;32m      2\u001b[0m     \u001b[38;5;28;01mfor\u001b[39;00m index,row \u001b[38;5;129;01min\u001b[39;00m database\u001b[38;5;241m.\u001b[39miterrows():\n\u001b[0;32m----> 3\u001b[0m         \u001b[43mcursor\u001b[49m\u001b[38;5;241;43m.\u001b[39;49m\u001b[43mexecute\u001b[49m\u001b[43m(\u001b[49m\u001b[43mquery\u001b[49m\u001b[43m,\u001b[49m\u001b[43m \u001b[49m\u001b[43m(\u001b[49m\u001b[43mrow\u001b[49m\u001b[43m[\u001b[49m\u001b[38;5;124;43m'\u001b[39;49m\u001b[38;5;124;43mstop_id\u001b[39;49m\u001b[38;5;124;43m'\u001b[39;49m\u001b[43m]\u001b[49m\u001b[43m,\u001b[49m\u001b[43m \u001b[49m\u001b[43mrow\u001b[49m\u001b[43m[\u001b[49m\u001b[38;5;124;43m'\u001b[39;49m\u001b[38;5;124;43mstop_name\u001b[39;49m\u001b[38;5;124;43m'\u001b[39;49m\u001b[43m]\u001b[49m\u001b[43m,\u001b[49m\u001b[43m \u001b[49m\u001b[43mrow\u001b[49m\u001b[43m[\u001b[49m\u001b[38;5;124;43m'\u001b[39;49m\u001b[38;5;124;43mstop_lat\u001b[39;49m\u001b[38;5;124;43m'\u001b[39;49m\u001b[43m]\u001b[49m\u001b[43m,\u001b[49m\u001b[43m \u001b[49m\u001b[43mrow\u001b[49m\u001b[43m[\u001b[49m\u001b[38;5;124;43m'\u001b[39;49m\u001b[38;5;124;43mstop_lon\u001b[39;49m\u001b[38;5;124;43m'\u001b[39;49m\u001b[43m]\u001b[49m\u001b[43m)\u001b[49m\u001b[43m)\u001b[49m\n\u001b[1;32m      4\u001b[0m     db\u001b[38;5;241m.\u001b[39mcommit()\n",
      "\u001b[0;31mTypeError\u001b[0m: execute() argument 1 must be str, not list"
     ]
    }
   ],
   "source": [
    "insert(stops)"
   ]
  },
  {
   "cell_type": "code",
   "execution_count": 11,
   "id": "65e8776c-9e29-4ae3-a685-045ad521f6c5",
   "metadata": {
    "tags": []
   },
   "outputs": [
    {
     "data": {
      "text/html": [
       "<div>\n",
       "<style scoped>\n",
       "    .dataframe tbody tr th:only-of-type {\n",
       "        vertical-align: middle;\n",
       "    }\n",
       "\n",
       "    .dataframe tbody tr th {\n",
       "        vertical-align: top;\n",
       "    }\n",
       "\n",
       "    .dataframe thead th {\n",
       "        text-align: right;\n",
       "    }\n",
       "</style>\n",
       "<table border=\"1\" class=\"dataframe\">\n",
       "  <thead>\n",
       "    <tr style=\"text-align: right;\">\n",
       "      <th></th>\n",
       "      <th>0</th>\n",
       "      <th>1</th>\n",
       "      <th>2</th>\n",
       "      <th>3</th>\n",
       "    </tr>\n",
       "  </thead>\n",
       "  <tbody>\n",
       "    <tr>\n",
       "      <th>0</th>\n",
       "      <td>100</td>\n",
       "      <td>Saint-Martin-le-Vinoux, La Gomma</td>\n",
       "      <td>45.21528</td>\n",
       "      <td>5.71941</td>\n",
       "    </tr>\n",
       "    <tr>\n",
       "      <th>1</th>\n",
       "      <td>1000</td>\n",
       "      <td>Miribel-Lanchâtre, Bayanne</td>\n",
       "      <td>44.97996</td>\n",
       "      <td>5.62235</td>\n",
       "    </tr>\n",
       "    <tr>\n",
       "      <th>2</th>\n",
       "      <td>1001</td>\n",
       "      <td>Miribel-Lanchâtre, Miribel</td>\n",
       "      <td>44.97470</td>\n",
       "      <td>5.62087</td>\n",
       "    </tr>\n",
       "    <tr>\n",
       "      <th>3</th>\n",
       "      <td>1002</td>\n",
       "      <td>Miribel-Lanchâtre, Miribel</td>\n",
       "      <td>44.97466</td>\n",
       "      <td>5.62100</td>\n",
       "    </tr>\n",
       "    <tr>\n",
       "      <th>4</th>\n",
       "      <td>101</td>\n",
       "      <td>Eybens, La Châtelière</td>\n",
       "      <td>45.16219</td>\n",
       "      <td>5.74912</td>\n",
       "    </tr>\n",
       "  </tbody>\n",
       "</table>\n",
       "</div>"
      ],
      "text/plain": [
       "      0                                 1         2        3\n",
       "0   100  Saint-Martin-le-Vinoux, La Gomma  45.21528  5.71941\n",
       "1  1000        Miribel-Lanchâtre, Bayanne  44.97996  5.62235\n",
       "2  1001        Miribel-Lanchâtre, Miribel  44.97470  5.62087\n",
       "3  1002        Miribel-Lanchâtre, Miribel  44.97466  5.62100\n",
       "4   101             Eybens, La Châtelière  45.16219  5.74912"
      ]
     },
     "execution_count": 11,
     "metadata": {},
     "output_type": "execute_result"
    }
   ],
   "source": [
    "query = \"\"\"\n",
    "SELECT *\n",
    "FROM Stops\n",
    "\"\"\"\n",
    "pd.DataFrame(cursor.execute(query)).head()"
   ]
  },
  {
   "cell_type": "code",
   "execution_count": 12,
   "id": "981320f1-5697-445e-9845-5f86e1b3020b",
   "metadata": {
    "tags": []
   },
   "outputs": [
    {
     "data": {
      "text/plain": [
       "{'stop_id': '1000',\n",
       " 'stop_code': '1000',\n",
       " 'stop_name': 'Miribel-Lanchâtre, Bayanne',\n",
       " 'stop_lat': 44.97996,\n",
       " 'stop_lon': 5.62235,\n",
       " 'zone_id': nan,\n",
       " 'location_type': nan,\n",
       " 'parent_station': 'BAYANNE',\n",
       " 'wheelchair_boarding': 2}"
      ]
     },
     "execution_count": 12,
     "metadata": {},
     "output_type": "execute_result"
    }
   ],
   "source": [
    "stops.iloc[1].to_dict()"
   ]
  },
  {
   "cell_type": "code",
   "execution_count": 21,
   "id": "c385a263-2618-4cad-bb96-d864621989e3",
   "metadata": {
    "tags": []
   },
   "outputs": [],
   "source": [
    "agency = pd.read_csv('/home/dmitrii.druzhbin@Digital-Grenoble.local/Documents/BDD/GTF/SEM-GTFS/agency.txt',sep=',')"
   ]
  },
  {
   "cell_type": "code",
   "execution_count": 22,
   "id": "1891e053-7ce6-4fc1-b415-dc756ae04d98",
   "metadata": {
    "tags": []
   },
   "outputs": [
    {
     "data": {
      "text/html": [
       "<div>\n",
       "<style scoped>\n",
       "    .dataframe tbody tr th:only-of-type {\n",
       "        vertical-align: middle;\n",
       "    }\n",
       "\n",
       "    .dataframe tbody tr th {\n",
       "        vertical-align: top;\n",
       "    }\n",
       "\n",
       "    .dataframe thead th {\n",
       "        text-align: right;\n",
       "    }\n",
       "</style>\n",
       "<table border=\"1\" class=\"dataframe\">\n",
       "  <thead>\n",
       "    <tr style=\"text-align: right;\">\n",
       "      <th></th>\n",
       "      <th>agency_id</th>\n",
       "      <th>agency_name</th>\n",
       "      <th>agency_url</th>\n",
       "      <th>agency_timezone</th>\n",
       "      <th>agency_lang</th>\n",
       "      <th>agency_phone</th>\n",
       "    </tr>\n",
       "  </thead>\n",
       "  <tbody>\n",
       "    <tr>\n",
       "      <th>0</th>\n",
       "      <td>SEM</td>\n",
       "      <td>Mobilités M - Tag</td>\n",
       "      <td>https://www.mobilites-m.fr/</td>\n",
       "      <td>Europe/Paris</td>\n",
       "      <td>FR</td>\n",
       "      <td>438703870</td>\n",
       "    </tr>\n",
       "  </tbody>\n",
       "</table>\n",
       "</div>"
      ],
      "text/plain": [
       "  agency_id        agency_name                   agency_url agency_timezone  \\\n",
       "0       SEM  Mobilités M - Tag  https://www.mobilites-m.fr/    Europe/Paris   \n",
       "\n",
       "  agency_lang  agency_phone  \n",
       "0          FR     438703870  "
      ]
     },
     "execution_count": 22,
     "metadata": {},
     "output_type": "execute_result"
    }
   ],
   "source": [
    "agency.head()"
   ]
  },
  {
   "cell_type": "code",
   "execution_count": 23,
   "id": "b3be2a64-3919-4159-86a3-ec79dcbbb097",
   "metadata": {
    "tags": []
   },
   "outputs": [],
   "source": [
    "agency = agency.drop(['agency_lang','agency_phone'],axis=1)\n",
    "agency.columns = ['agencyID','agencyName','agencyUrl','agencyTimeZone']"
   ]
  },
  {
   "cell_type": "code",
   "execution_count": 24,
   "id": "4141d933-5d0b-418f-ad27-4ad9dc169381",
   "metadata": {
    "tags": []
   },
   "outputs": [
    {
     "data": {
      "text/plain": [
       "1"
      ]
     },
     "execution_count": 24,
     "metadata": {},
     "output_type": "execute_result"
    }
   ],
   "source": [
    "agency.to_sql('Agency', db, if_exists='append', index=False)"
   ]
  },
  {
   "cell_type": "code",
   "execution_count": 90,
   "id": "b2da2f50-9a73-4034-8912-c74300732e02",
   "metadata": {
    "tags": []
   },
   "outputs": [],
   "source": [
    "sql_file = inser_query(stops)"
   ]
  },
  {
   "cell_type": "code",
   "execution_count": null,
   "id": "544b9546-94e4-4bc9-a9ac-0c0041be139d",
   "metadata": {
    "tags": []
   },
   "outputs": [],
   "source": []
  },
  {
   "cell_type": "code",
   "execution_count": 91,
   "id": "9f8b2486-cd65-449f-8118-1cf1ade4e6ee",
   "metadata": {
    "tags": []
   },
   "outputs": [],
   "source": [
    "with open('sql_test.sql','w') as file:\n",
    "    file.write(sql_file)"
   ]
  },
  {
   "cell_type": "code",
   "execution_count": null,
   "id": "0a503599-61c8-41cd-916f-c84824247460",
   "metadata": {},
   "outputs": [],
   "source": []
  }
 ],
 "metadata": {
  "kernelspec": {
   "display_name": "Python 3 (ipykernel)",
   "language": "python",
   "name": "python3"
  },
  "language_info": {
   "codemirror_mode": {
    "name": "ipython",
    "version": 3
   },
   "file_extension": ".py",
   "mimetype": "text/x-python",
   "name": "python",
   "nbconvert_exporter": "python",
   "pygments_lexer": "ipython3",
   "version": "3.11.9"
  }
 },
 "nbformat": 4,
 "nbformat_minor": 5
}
