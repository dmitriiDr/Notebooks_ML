{
 "cells": [
  {
   "attachments": {},
   "cell_type": "markdown",
   "id": "e2dd3c2c",
   "metadata": {},
   "source": [
    "# Time series prediction (Part 2 - 1.5 day)"
   ]
  },
  {
   "attachments": {},
   "cell_type": "markdown",
   "id": "399da4c9",
   "metadata": {},
   "source": [
    "**NB objectives**\n",
    "- [ ] Get to use few prediction models\n",
    "- [ ] Understand what CV is for"
   ]
  },
  {
   "attachments": {},
   "cell_type": "markdown",
   "id": "3445fd01",
   "metadata": {},
   "source": [
    "**Required librairies**\n",
    "- [ ] matplotlib\n",
    "- [ ] numpy\n",
    "- [ ] pandas\n",
    "- [ ] seaborn\n",
    "- [ ] pmdarima"
   ]
  },
  {
   "attachments": {},
   "cell_type": "markdown",
   "id": "757cfb53",
   "metadata": {},
   "source": [
    "## Prediction models"
   ]
  },
  {
   "cell_type": "markdown",
   "id": "0333ad40",
   "metadata": {},
   "source": [
    "ARIMA est un modèle statistique pour les séries temporelles, tout comme la régression linéaire est un modèle utilisé en machine learning. Il fonctionne bien pour des ensembles de données simples qui suivent des contraintes spécifiques et lorsque vous n'avez pas suffisamment de données pour entraîner un modèle de deep learning. Découvrons la prédiction sur séries temporelles et certains concepts mathématiques avec ARIMA. "
   ]
  },
  {
   "cell_type": "markdown",
   "id": "45c3239b",
   "metadata": {},
   "source": [
    "Tout au long de ce cahier, consultez et revenez régulièrement la documentation du package pdmarima. Elle contient beaucoup d'informations utiles.\n",
    "Reference: http://alkaline-ml.com/pmdarima/#"
   ]
  },
  {
   "attachments": {},
   "cell_type": "markdown",
   "id": "2b1b7050",
   "metadata": {},
   "source": [
    "### ARIMA (in French)"
   ]
  },
  {
   "attachments": {},
   "cell_type": "markdown",
   "id": "3d83b6f2",
   "metadata": {},
   "source": [
    "#### La théorie"
   ]
  },
  {
   "attachments": {},
   "cell_type": "markdown",
   "id": "6b68a73e",
   "metadata": {},
   "source": [
    "Le modèle ARMA (AutoRegressive Moving Average, ou autorégressif et moyenne mobile en français), est un modèle adapté aux prédictions sur toute série temporelle dont la valeur $Y$ à l'instant $t$ peut s'expliquer par les valeurs précédentes et les perturbations (bruits) précédentes.\n",
    "\n",
    "Avant de préciser ce qu'est un jeu de donnée suivant le modèle ARIMA, précisons un jeu de donnée suivant les conditions :  \n",
    "\n",
    "##### **Autoregressif** :\n",
    "\n",
    "le modèle peut prédire $Y$ à l'instant $t$, notée $Y_t$, à partir des valeurs précédentes de $Y$ selon un modèle de regression linéaire, c'est à dire $Y_{t-1}, Y_{t-2}, ..., Y_0$. On note $p$ le nombre de composantes utilisées pour prédire $Y_t$, avec\n",
    "\n",
    "> $Y_t = \\sum_{i=1}^p \\varphi_i\\,Y_{t-i} + \\varepsilon_t + c$, avec $\\varepsilon_t$ une perturbation, et c une constante.\n",
    "\n",
    "En résumé, cela signifie que la dernière valeur dépend des valeurs précédentes, que la valeur d'aujourd'hui dépend des valeurs d'hier.\n",
    "\n",
    "##### **Moyenne mobile**:\n",
    "\n",
    "Le modèle peut prédire la valeur $Y_t$ à partir de ses erreurs précédentes entre ses prédictions et les données réelles. Pour un modèle avec une moyenne mobile d'ordre $q$, on peut exprimer $Y_t$ de la façon suivante :\n",
    "\n",
    "> $Y_t = \\mu + \\varepsilon_t + \\sum_{1}^{q}\\theta_q\\varepsilon_{t-q}$, avec $\\mu$ une constante.\n",
    "\n",
    "**ATTENTION** rien à voir avec la moyenne mobile habituelle d'un signal temporel, comme `pd.rolling()`.\n",
    "\n",
    "En résumé, cela signifie que le modèle essaie de coller au mieux les données du passé, mais peut faire des erreurs de variance. C'est à dire que le modèle est bon en moyenne au cours du temps, mais le signal présente du bruit autour de cette moyenne \"mobile\". Le modèle incorpore alors cette \"variation\" dans sa prédiction pour être plus juste."
   ]
  },
  {
   "cell_type": "markdown",
   "id": "bd6744a4",
   "metadata": {},
   "source": [
    "##### **Intégré** :\n",
    "\n",
    "Un modèle ARMA est adapté à des jeux de données stationnaires, c'est à dire avec une moyenne et un écart type fixe au cours du temps. Il est rare que l'on observe de telles données. De nombreux jeux de données de séries temporelles présentent des tendances sur la moyenne ou encore des saisonnalités. Pour cela, il convient de stationnariser dans un premier temps le problème. On parle **d'intégration**. Un modèle **ARIMA** est dit :\n",
    "\n",
    "L'intégration signifie que l'on peut corriger le jeu de donnée en réalisant le modèle sur $Y'_t = Y_t - Y_{t-1}$ pour une correction d'ordre 1 (d=1) ou encore $Y''_t = Y_t - Y_{t-1} - Y_{t-2}$ pour une correction d'ordre 2 (d=2), etc...  On note $d$ l'ordre de *correction par intégration* permet de supprimer les tendances polynomiales d'ordre $d$, avec:\n",
    "    \n",
    "> $Ycorr_t = Y_t - \\sum_{1}^{d} Y_{t-d}$\n",
    "\n",
    "Les modèles ARIMA sont souvent notés : ARIMA(p, d, q), soit **ARIMA(2, 1, 1)** signifie :\n",
    "- un modèle autoregressif d'ordre 2,\n",
    "- sur des données intégrées 1 fois,\n",
    "- et avec une moyenne mobile d'ordre 1."
   ]
  },
  {
   "cell_type": "markdown",
   "id": "415a1703",
   "metadata": {},
   "source": [
    "#### En définitive:\n",
    "\n",
    "Tout modèle ARIMA est optimisé sur la base de ces trois hypothèses: *AR*, *MA* et *I*, c'est à dire qu'il est autoregressif, respecte les conditions de la moyenne mobile, et peut être stationnaire par intégration.\n",
    "\n",
    "Le modèle est souvent optimisé à l'aide de la méthode des moindres carrées.\n",
    "\n",
    "Vous n'avez rien compris ? Tant pis ! Pratiquons pour rendre les choses plus évidentes.  \n",
    "Si vous êtes mathématicien, aidez vos camarades et l'animateur. "
   ]
  },
  {
   "attachments": {},
   "cell_type": "markdown",
   "id": "cda334a9",
   "metadata": {},
   "source": [
    "### Bit of practice"
   ]
  },
  {
   "attachments": {},
   "cell_type": "markdown",
   "id": "9d4ff4ec",
   "metadata": {},
   "source": [
    "#### Discover and prepare data"
   ]
  },
  {
   "cell_type": "markdown",
   "id": "dc5c9aee",
   "metadata": {},
   "source": [
    "1. load the data then reply and plot it.\n",
    "2. Is this time serie stationary or not?\n",
    "3. What is its tendancy?\n",
    "4. What about heteroskedasticity?\n",
    "\n",
    "Reply below your figures."
   ]
  },
  {
   "cell_type": "code",
   "execution_count": 2,
   "id": "990bddc9",
   "metadata": {},
   "outputs": [],
   "source": [
    "#Import required packages (to be implemented if required)\n",
    "from pandas import date_range\n",
    "from pmdarima.datasets import load_airpassengers"
   ]
  },
  {
   "cell_type": "code",
   "execution_count": 3,
   "id": "ffefd831",
   "metadata": {},
   "outputs": [],
   "source": [
    "START_DATE = '1949-01-01'\n",
    "airline = load_airpassengers(as_series=True)\n",
    "\n",
    "#there's no datetimeindex from the bundled dataset. So let's add one.\n",
    "airline.index= date_range(START_DATE, periods=len(airline), freq='MS')"
   ]
  },
  {
   "cell_type": "markdown",
   "id": "63c78ae1",
   "metadata": {},
   "source": [
    "`reply here`"
   ]
  },
  {
   "cell_type": "markdown",
   "id": "24afbc48",
   "metadata": {},
   "source": [
    "#### Stationarity and integration (*d*) of the data"
   ]
  },
  {
   "cell_type": "markdown",
   "id": "c2e94177",
   "metadata": {},
   "source": [
    "Do not forget, ARIMA works only with stationary data. If a signal is not stationary, particulary if it has not a stable mean, you could integrate it.\n",
    "\n",
    "Remind that to integrate a signal mean to look at the difference $Y'_t = Y_t - Y_{t-1}$ and not $Y_t$ anymore.\n",
    "\n",
    "1. look at the signal $Y_t - Y_{t-1}$\n",
    "1. What about the stationarity?\n",
    "1. Propose a process to prove visually or statistically that the signal is or not stationary.\n",
    "4. What about the variance and how to deal with it with? What is the mathematical function that can do the job?\n",
    "5. What is the proper value for *d* to build the ARIMA model?\n",
    "\n",
    "Reply below your figures"
   ]
  },
  {
   "cell_type": "code",
   "execution_count": null,
   "id": "3c152906",
   "metadata": {},
   "outputs": [],
   "source": [
    "# your code for the figure"
   ]
  },
  {
   "cell_type": "markdown",
   "id": "1a488c08",
   "metadata": {},
   "source": [
    "`reply here`"
   ]
  },
  {
   "attachments": {},
   "cell_type": "markdown",
   "id": "b32bd9b9",
   "metadata": {},
   "source": [
    "#### Train/Test split challenges"
   ]
  },
  {
   "cell_type": "markdown",
   "id": "62529285",
   "metadata": {},
   "source": [
    "Same as one classical machine learning problem, you should put yourself in the position where you are the most closed to the production context. That means you should create a dataset without touching it. So, realize a train / test split."
   ]
  },
  {
   "cell_type": "markdown",
   "id": "eb96546a",
   "metadata": {},
   "source": [
    "The way we split the data for time series is different than the non TS data.\n",
    "\n",
    "1. Explain how you have to do the train/test split for TS.\n",
    "2. Explain why a complete random split is a nosense for TS.\n",
    "3. write the code to apply the proper train/test TS split."
   ]
  },
  {
   "cell_type": "code",
   "execution_count": 2,
   "id": "0583e727",
   "metadata": {},
   "outputs": [],
   "source": [
    "def ts_train_test_split(data, split_date):\n",
    "    # your code here\n",
    "    return train, test"
   ]
  },
  {
   "cell_type": "code",
   "execution_count": null,
   "id": "6ea7d76e",
   "metadata": {},
   "outputs": [],
   "source": [
    "# Hold back the last twelve months as a TEST set\n",
    "# train, test = ts_train_test_split(airline / airline.index.days_in_month, '1959-01-01')"
   ]
  },
  {
   "cell_type": "code",
   "execution_count": null,
   "id": "a394f8de",
   "metadata": {},
   "outputs": [],
   "source": [
    "# Plot train and test sets"
   ]
  },
  {
   "cell_type": "markdown",
   "id": "bf93af3b",
   "metadata": {},
   "source": [
    "#### Déterminer P et Q"
   ]
  },
  {
   "attachments": {},
   "cell_type": "markdown",
   "id": "ba96c5de",
   "metadata": {},
   "source": [
    "Afin de valider les paramètres $p$ (*AR*) et $q$ (*MA*) du modèle ARIMA, on peut calculer l'auto-corrélation des données temporelles.\n",
    "- Pour déterminer $p$ nous utiliserons l'autocorrelation des données par une donnée passée avec un décalage temporel (appelé *lag* en anglais). On utilisera pour cela la PACF (*Partial Auto Correlation Function*). La fonction PACF cherche à déterminer la correlation entre les données $Y_t$ et $Y_{t-i}$. La valeur de $p$ est déterminée par $PACF_i \\approx 0$  \n",
    "- pour déterminer $q$, on utilisera l'ACF (*Auto Correlation Function*). La fonction ACF calcule la correlation entre la série temporelle et elle-même avec un décalage temporel. Soit calculer la correlation de $Y_(t, t-1, ...)$ avec $Y_(t-i, t-i-1, ...)$.\n",
    "\n",
    "\n",
    "To validate the parameters $p$ (AR) and $q$ (MA) of the ARIMA model, one can compute the autocorrelation of the time series data.\n",
    "- To determine $p$, we will use the autocorrelation of the data against a lagged version of itself. For this purpose, we will use the PACF (Partial Auto Correlation Function). The PACF seeks to determine the correlation between the data $Y_t$ and $Y_{t-i}$. The value of $p$ is determined by $PACF_i \\approx 0$.\n",
    "- To determine $q$, we will use the ACF (Auto Correlation Function). The ACF calculates the correlation between the time series and itself at a lagged time. This means calculating the correlation of $Y_{(t, t-1, ...)}$ with $Y_{(t-i, t-i-1, ...)}$."
   ]
  },
  {
   "cell_type": "markdown",
   "id": "eccd9bb2",
   "metadata": {},
   "source": [
    "Answer the questions:\n",
    "1. Look at the documentation of pdmarima for acf and pacf.\n",
    "2. Can you explain what you observe on this data? What means the value? If there is kind of periodicity, what does it means? Reply below your figures.\n",
    "3. Create a figure with the ACF and the PACF for the data with explaination. Do it with Paint or something else to do it fast.\n",
    "4. From your observation, what should be the parameter P, I and Q of the ARIMA model? Reply below your figures."
   ]
  },
  {
   "cell_type": "code",
   "execution_count": null,
   "id": "dbec6749",
   "metadata": {},
   "outputs": [],
   "source": [
    "# ACF & PACF plots\n",
    "from pmdarima.utils import acf, pacf\n",
    "import matplotlib.pyplot as plt\n",
    "import numpy as np\n",
    "\n",
    "your_stationary_data = # your data\n",
    "n_sample = len(your_stationary_data)\n",
    "lag_acf = acf(your_stationary_data, nlags=25)\n",
    "lag_pacf = pacf(your_stationary_data, nlags=25)\n",
    "\n",
    "pct_95 = 1.96/np.sqrt(n_sample)\n",
    "\n",
    "plt.figure(figsize=(15, 3))\n",
    "# Plot ACF:\n",
    "plt.subplot(121)\n",
    "plt.stem(lag_acf)\n",
    "plt.axhline(y=0, linestyle='--', color='gray')\n",
    "plt.axhline(y=-pct_95, linestyle='--', color='gray')\n",
    "plt.axhline(y=pct_95, linestyle='--', color='gray')\n",
    "# plt.axvline(x=q, color='black', linestyle='--', label=f'q={q}')\n",
    "# plt.legend()\n",
    "plt.title('Autocorrelation Function')            \n",
    "\n",
    "# Plot PACF\n",
    "plt.subplot(122)\n",
    "plt.stem(lag_pacf)\n",
    "plt.axhline(y=0, linestyle='--', color='gray')\n",
    "plt.axhline(y=-pct_95, linestyle='--', color='gray') # represent 95 % of a gaussian data\n",
    "plt.axhline(y=pct_95, linestyle='--', color='gray') # represente 95 % of a gaussian data\n",
    "# plt.axvline(x=p, color='black', linestyle='--', label=f'p={p}')\n",
    "plt.title('Partial Autocorrelation Function')\n",
    "# plt.legend()\n",
    "plt.show()"
   ]
  },
  {
   "cell_type": "markdown",
   "id": "03c7bfef",
   "metadata": {},
   "source": [
    "`reply here`"
   ]
  },
  {
   "cell_type": "markdown",
   "id": "5c6388f8",
   "metadata": {},
   "source": [
    "## Your first ARIMA model"
   ]
  },
  {
   "cell_type": "markdown",
   "id": "3035eac5",
   "metadata": {},
   "source": [
    "### Train and evaluate your model"
   ]
  },
  {
   "cell_type": "markdown",
   "id": "36376167",
   "metadata": {},
   "source": [
    "1. Create your ARIMA model with pdmarima framework.\n",
    "1. Train your model with proper treatment.\n",
    "1. Create a plot with the original data and the prediction for test. Share your observation.\n",
    "1. Evaluate your model with the good metric. Justify your choice!"
   ]
  },
  {
   "cell_type": "code",
   "execution_count": null,
   "id": "66707ccd",
   "metadata": {},
   "outputs": [],
   "source": [
    "# your code here"
   ]
  },
  {
   "attachments": {},
   "cell_type": "markdown",
   "id": "48152ef6",
   "metadata": {},
   "source": [
    "**Observations / Conclusion**:  \n",
    "`write here`"
   ]
  },
  {
   "attachments": {},
   "cell_type": "markdown",
   "id": "74d0380e",
   "metadata": {},
   "source": [
    "### Cross-validation with ARIMA"
   ]
  },
  {
   "cell_type": "markdown",
   "id": "eeae4c86",
   "metadata": {},
   "source": [
    "1. Use the documentation of pdmarima to realize the CV and get the CV score.\n",
    "2. What are the hyperparameters? What are their impacts?"
   ]
  },
  {
   "cell_type": "code",
   "execution_count": null,
   "id": "cf02cde1",
   "metadata": {},
   "outputs": [],
   "source": [
    "# your code here"
   ]
  },
  {
   "cell_type": "markdown",
   "id": "ae583127",
   "metadata": {},
   "source": [
    "**Observations / Conclusion**:  \n",
    "`write here`"
   ]
  }
 ],
 "metadata": {
  "kernelspec": {
   "display_name": "campus",
   "language": "python",
   "name": "python3"
  },
  "language_info": {
   "codemirror_mode": {
    "name": "ipython",
    "version": 3
   },
   "file_extension": ".py",
   "mimetype": "text/x-python",
   "name": "python",
   "nbconvert_exporter": "python",
   "pygments_lexer": "ipython3",
   "version": "3.11.5"
  },
  "toc": {
   "base_numbering": 1,
   "nav_menu": {},
   "number_sections": true,
   "sideBar": true,
   "skip_h1_title": false,
   "title_cell": "Table of Contents",
   "title_sidebar": "Contents",
   "toc_cell": false,
   "toc_position": {},
   "toc_section_display": true,
   "toc_window_display": false
  }
 },
 "nbformat": 4,
 "nbformat_minor": 5
}
