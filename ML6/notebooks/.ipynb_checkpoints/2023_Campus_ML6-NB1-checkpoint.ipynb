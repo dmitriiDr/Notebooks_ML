{
 "cells": [
  {
   "cell_type": "markdown",
   "id": "e2dd3c2c",
   "metadata": {},
   "source": [
    "# Time series prediction (Part 1 - 0.5 day)"
   ]
  },
  {
   "cell_type": "markdown",
   "id": "399da4c9",
   "metadata": {},
   "source": [
    "**NB objective**\n",
    "- [ ] Get to know the theory behind time series\n",
    "- [ ] Discover main time series analysis challenges"
   ]
  },
  {
   "cell_type": "markdown",
   "id": "3445fd01",
   "metadata": {},
   "source": [
    "**Required librairies**\n",
    "- [ ] matplotlib\n",
    "- [ ] numpy"
   ]
  },
  {
   "cell_type": "markdown",
   "id": "651f1513",
   "metadata": {},
   "source": [
    "## How to deal with Time series ?"
   ]
  },
  {
   "cell_type": "markdown",
   "id": "fb876e11",
   "metadata": {},
   "source": [
    "To be brief, when dealing with time series, few checks are required and for your greatest pleasure... a bit of theory helps... \n",
    "😁\n",
    "\n",
    "DO NOT USE CHATGPT. Struggling is part of the learning process."
   ]
  },
  {
   "cell_type": "markdown",
   "id": "c517d49e",
   "metadata": {},
   "source": [
    "### Theory"
   ]
  },
  {
   "cell_type": "markdown",
   "id": "ab73b180",
   "metadata": {},
   "source": [
    "The time series (TS) come with some concept such as tendancy, seasonality, stationarity, autoregressivity, etc...  We'll see below these concepts, their definitions."
   ]
  },
  {
   "cell_type": "markdown",
   "id": "da6020aa",
   "metadata": {},
   "source": [
    "#### Tendancy and seasonality"
   ]
  },
  {
   "cell_type": "markdown",
   "id": "9d6746f0",
   "metadata": {},
   "source": [
    "1. Give the definition of tendancy, seasonality and residue.\n",
    "2. Create one or multiple figures with matplotlib to explain these concepts. Be creative and pay attention to the color and the legend to be clear."
   ]
  },
  {
   "cell_type": "markdown",
   "id": "60c53ebe",
   "metadata": {},
   "source": [
    "`Write your definitions here`"
   ]
  },
  {
   "cell_type": "code",
   "execution_count": null,
   "id": "e71e3243",
   "metadata": {},
   "outputs": [],
   "source": [
    "# code to display the matplotlib figure(s)."
   ]
  },
  {
   "cell_type": "markdown",
   "id": "23b0c8b4",
   "metadata": {},
   "source": [
    "The TS come with additive or multiplicative decomposition.  \n",
    "Explain what it is?  \n",
    "Also, what kind of mathematical operator can transform a multiplicative decomposition into an additive one ?"
   ]
  },
  {
   "cell_type": "markdown",
   "id": "c4eee657",
   "metadata": {},
   "source": [
    "`Reply here`"
   ]
  },
  {
   "cell_type": "markdown",
   "id": "46a429d5",
   "metadata": {},
   "source": [
    "#### Autocorrelation partial or not"
   ]
  },
  {
   "cell_type": "markdown",
   "id": "23ba17a9",
   "metadata": {},
   "source": [
    "The auto-correlation is an important concept to evaluate the auto-regressive aspect of one signal.  \n",
    "1. Give the definition of the autocorrelation : $ p(h) = corr(Y_t, Y_t-_h) $.  \n",
    "2. Explain how to calculate the autocorrelation? Create a function well documented with an example with one very autocorrelated signal and one another not."
   ]
  },
  {
   "cell_type": "markdown",
   "id": "8c390099",
   "metadata": {},
   "source": [
    "`Write your definition there`"
   ]
  },
  {
   "cell_type": "code",
   "execution_count": null,
   "id": "0079aa2c",
   "metadata": {},
   "outputs": [],
   "source": [
    "# write your code for evaluate auto-correlation"
   ]
  },
  {
   "cell_type": "markdown",
   "id": "747f774a",
   "metadata": {},
   "source": [
    "#### Stationarity"
   ]
  },
  {
   "cell_type": "markdown",
   "id": "0674eb46",
   "metadata": {},
   "source": [
    "1. what is the definition of the stationarity for a temporal signal?\n",
    "2. What are the statistical measures that help you to evaluate if a signal is stationary?"
   ]
  },
  {
   "cell_type": "markdown",
   "id": "0f685f39",
   "metadata": {},
   "source": [
    "`write the definition here`"
   ]
  },
  {
   "cell_type": "markdown",
   "id": "3e3f0563",
   "metadata": {},
   "source": [
    "#### Heteroskedasticity"
   ]
  },
  {
   "cell_type": "markdown",
   "id": "c32d03ff",
   "metadata": {},
   "source": [
    "The concept of heteroskedasticity is not only related to time series. It could be related to any type of data regarding one dimension. However, this concept is important in TS.\n",
    "\n",
    "1. Explain what is heteroskedasticity and its opposite.\n",
    "2. Create a figure that explain what is heteroskedasticity."
   ]
  },
  {
   "cell_type": "markdown",
   "id": "fbc3bbcd",
   "metadata": {},
   "source": [
    "`write your answer here`"
   ]
  },
  {
   "cell_type": "code",
   "execution_count": null,
   "id": "0c076376",
   "metadata": {},
   "outputs": [],
   "source": [
    "# your code here"
   ]
  },
  {
   "cell_type": "markdown",
   "id": "691358db",
   "metadata": {},
   "source": [
    "## Time series and machine learning methodology"
   ]
  },
  {
   "cell_type": "markdown",
   "id": "6ec54334",
   "metadata": {},
   "source": [
    "The TS are not tabular or common data. The data is structured regarding the time dimension. One item is not just a random one we can put before or after one another. So some rules applied to common data must change, particularly how to train and evaluate data."
   ]
  },
  {
   "cell_type": "markdown",
   "id": "c7c5b106",
   "metadata": {},
   "source": [
    "#### Train test split for TS"
   ]
  },
  {
   "cell_type": "markdown",
   "id": "7b2aa6d0",
   "metadata": {},
   "source": [
    "1. Explanation of the train test split for TS:  \n",
    "`reply here`"
   ]
  },
  {
   "cell_type": "markdown",
   "id": "a0170682",
   "metadata": {},
   "source": [
    "2. Explanation and how to do the Cross-Validation (CV) for TS:  \n",
    "`reply here with word`\n",
    "\n",
    "`create a picture that explain CV for TS and show it there`"
   ]
  },
  {
   "cell_type": "markdown",
   "id": "626ab406",
   "metadata": {},
   "source": [
    "# Your first `naive` time serie model"
   ]
  },
  {
   "cell_type": "markdown",
   "id": "c9f53c41",
   "metadata": {},
   "source": [
    "The theory is finished.\n",
    "\n",
    "Now, we need a baseline (as always!) to know if our more complex models are any use! We explore two here:\n",
    "* seasonal naive - a model which just takes the same period from the previous season. ( in this case the same month last year)\n",
    "* naive - just carry forward the last value in the series\n",
    "\n",
    "Given the strong seasonal component that was confirmed, visually by the seasonal decomposition or statistically, it may be a good idea to use a **seasonal naive** forecasting method.  This is part of the *carry forward previous values* family of *naive* forecasting methods.  \n",
    "In general, if we have data with period $k$ are at time $t$ and we are predicting time $Y_{t+1}$ then we simply carry forward the value from $Y_{t+1-k}$. In other words we have yearly data so we just take the value from the same month last year."
   ]
  },
  {
   "cell_type": "markdown",
   "id": "c6069473",
   "metadata": {},
   "source": [
    "## Load the data"
   ]
  },
  {
   "cell_type": "code",
   "execution_count": 3,
   "id": "a813d8a8",
   "metadata": {},
   "outputs": [],
   "source": [
    "# Import required packages (to be implemented if required)\n",
    "from pandas import date_range\n",
    "from pmdarima.datasets import load_airpassengers\n",
    "\n",
    "START_DATE = \"1949-01-01\"\n",
    "airline = load_airpassengers(as_series=True)\n",
    "\n",
    "# there's no datetimeindex from the bundled dataset. So let's add one.\n",
    "airline.index = date_range(START_DATE, periods=len(airline), freq=\"MS\")"
   ]
  },
  {
   "cell_type": "markdown",
   "id": "dd467edd",
   "metadata": {},
   "source": [
    "## Look at the data and determine seasonality"
   ]
  },
  {
   "cell_type": "markdown",
   "id": "7bfc08e9",
   "metadata": {},
   "source": [
    "To get the seasonality you can use the function `decompose` and `decomposed_plot` from `pmdarima`. Plot with different lag and observe the results. When you get a periodic signal for seasonality without seasonality for trend and random (=residue), you can conclude you have a seasonal signal and its length of seasonality."
   ]
  },
  {
   "cell_type": "code",
   "execution_count": 4,
   "id": "946b7d7d",
   "metadata": {},
   "outputs": [],
   "source": [
    "# your code here"
   ]
  },
  {
   "cell_type": "markdown",
   "id": "6087a357",
   "metadata": {},
   "source": [
    "`your observation and conclusion here`"
   ]
  },
  {
   "cell_type": "markdown",
   "id": "710bda57",
   "metadata": {},
   "source": [
    "## Train / Test split the data."
   ]
  },
  {
   "cell_type": "markdown",
   "id": "4e65b2a3",
   "metadata": {},
   "source": [
    "What is the best way to train / test split time series ? Let's create a function to do it."
   ]
  },
  {
   "cell_type": "code",
   "execution_count": 5,
   "id": "d92c7f68",
   "metadata": {},
   "outputs": [],
   "source": [
    "def ts_train_test_split(data, split_date):\n",
    "    # your code here\n",
    "    return train, test"
   ]
  },
  {
   "cell_type": "code",
   "execution_count": null,
   "id": "511539c4",
   "metadata": {},
   "outputs": [],
   "source": [
    "split_date = # your date to split\n",
    "data = # the data your want to split. Is raw airline data the best?\n",
    "ts_train_test_split(data, split_date)"
   ]
  },
  {
   "cell_type": "markdown",
   "id": "5801232d",
   "metadata": {},
   "source": [
    "## Build your naive model"
   ]
  },
  {
   "cell_type": "markdown",
   "id": "949df4bc",
   "metadata": {},
   "source": [
    "look at the documentation:\n",
    "- for naive model: [click here](https://nixtlaverse.nixtla.io/statsforecast/src/core/models.html#naive)\n",
    "- for seasonal naive model: [click here](https://nixtlaverse.nixtla.io/statsforecast/src/core/models.html#seasonalnaive-2)\n",
    "\n",
    "**Note**: statsforecast present a lot of interesting model and tool. But we won't see them in this module."
   ]
  },
  {
   "cell_type": "code",
   "execution_count": 3,
   "id": "acec0ac0",
   "metadata": {},
   "outputs": [],
   "source": [
    "from statsforecast.models import Naive, SeasonalNaive\n",
    "\n",
    "HORIZON =  # number of step you want to plan to make forecasts\n",
    "SEASON_LENGTH = # the period of seasonality\n"
   ]
  },
  {
   "cell_type": "code",
   "execution_count": null,
   "id": "9cfb9559",
   "metadata": {},
   "outputs": [],
   "source": [
    "# you code here"
   ]
  },
  {
   "cell_type": "markdown",
   "id": "b3727b7c",
   "metadata": {},
   "source": [
    "## Look and evaluate your model"
   ]
  },
  {
   "cell_type": "markdown",
   "id": "b475774b",
   "metadata": {},
   "source": [
    "1. Plot your prediction and compare it to the ground truth.\n",
    "2. Calculate the metrics to evaluate with RMSE, MAE and MAPE.\n",
    "    - use sklearn.metrics or code yourself the metrics (it's easy)"
   ]
  },
  {
   "cell_type": "code",
   "execution_count": 5,
   "id": "247f63a7",
   "metadata": {},
   "outputs": [],
   "source": [
    "# your code here"
   ]
  },
  {
   "cell_type": "markdown",
   "id": "f61a9d28",
   "metadata": {},
   "source": [
    "Nice! You get your **baseline**. Now go to the second notebook NB2.1 to discover ARIMA models. "
   ]
  }
 ],
 "metadata": {
  "kernelspec": {
   "display_name": "campus",
   "language": "python",
   "name": "python3"
  },
  "language_info": {
   "codemirror_mode": {
    "name": "ipython",
    "version": 3
   },
   "file_extension": ".py",
   "mimetype": "text/x-python",
   "name": "python",
   "nbconvert_exporter": "python",
   "pygments_lexer": "ipython3",
   "version": "3.11.5"
  },
  "toc": {
   "base_numbering": 1,
   "nav_menu": {},
   "number_sections": true,
   "sideBar": true,
   "skip_h1_title": false,
   "title_cell": "Table of Contents",
   "title_sidebar": "Contents",
   "toc_cell": false,
   "toc_position": {},
   "toc_section_display": true,
   "toc_window_display": false
  }
 },
 "nbformat": 4,
 "nbformat_minor": 5
}
